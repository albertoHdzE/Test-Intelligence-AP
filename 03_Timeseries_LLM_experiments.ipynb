{
 "cells": [
  {
   "cell_type": "code",
   "execution_count": 1,
   "metadata": {},
   "outputs": [
    {
     "name": "stderr",
     "output_type": "stream",
     "text": [
      "/Users/beto/Documents/Projects/medLLM/venv/lib/python3.10/site-packages/transformers/utils/generic.py:311: FutureWarning: `torch.utils._pytree._register_pytree_node` is deprecated. Please use `torch.utils._pytree.register_pytree_node` instead.\n",
      "  torch.utils._pytree._register_pytree_node(\n",
      "INFO:root:Setting d_model to 1024\n",
      "INFO:root:Initializing pre-trained transformer from google/flan-t5-large.\n",
      "INFO:root:Enabling gradient checkpointing.\n",
      "/Users/beto/Documents/Projects/medLLM/venv/lib/python3.10/site-packages/huggingface_hub/hub_mixin.py:364: FutureWarning: You are using `torch.load` with `weights_only=False` (the current default value), which uses the default pickle module implicitly. It is possible to construct malicious pickle data which will execute arbitrary code during unpickling (See https://github.com/pytorch/pytorch/blob/main/SECURITY.md#untrusted-models for more details). In a future release, the default value for `weights_only` will be flipped to `True`. This limits the functions that could be executed during unpickling. Arbitrary objects will no longer be allowed to be loaded via this mode unless they are explicitly allowlisted by the user via `torch.serialization.add_safe_globals`. We recommend you start setting `weights_only=True` for any use case where you don't have full control of the loaded file. Please open an issue on GitHub for any issues related to this experimental feature.\n",
      "  state_dict = torch.load(model_file, map_location=torch.device(map_location))\n"
     ]
    },
    {
     "name": "stdout",
     "output_type": "stream",
     "text": [
      "MOMENTPipeline(\n",
      "  (normalizer): RevIN()\n",
      "  (tokenizer): Patching()\n",
      "  (patch_embedding): PatchEmbedding(\n",
      "    (value_embedding): Linear(in_features=8, out_features=1024, bias=False)\n",
      "    (position_embedding): PositionalEmbedding()\n",
      "    (dropout): Dropout(p=0.1, inplace=False)\n",
      "  )\n",
      "  (encoder): T5Stack(\n",
      "    (embed_tokens): Embedding(32128, 1024)\n",
      "    (block): ModuleList(\n",
      "      (0): T5Block(\n",
      "        (layer): ModuleList(\n",
      "          (0): T5LayerSelfAttention(\n",
      "            (SelfAttention): T5Attention(\n",
      "              (q): Linear(in_features=1024, out_features=1024, bias=False)\n",
      "              (k): Linear(in_features=1024, out_features=1024, bias=False)\n",
      "              (v): Linear(in_features=1024, out_features=1024, bias=False)\n",
      "              (o): Linear(in_features=1024, out_features=1024, bias=False)\n",
      "              (relative_attention_bias): Embedding(32, 16)\n",
      "            )\n",
      "            (layer_norm): T5LayerNorm()\n",
      "            (dropout): Dropout(p=0.1, inplace=False)\n",
      "          )\n",
      "          (1): T5LayerFF(\n",
      "            (DenseReluDense): T5DenseGatedActDense(\n",
      "              (wi_0): Linear(in_features=1024, out_features=2816, bias=False)\n",
      "              (wi_1): Linear(in_features=1024, out_features=2816, bias=False)\n",
      "              (wo): Linear(in_features=2816, out_features=1024, bias=False)\n",
      "              (dropout): Dropout(p=0.1, inplace=False)\n",
      "              (act): NewGELUActivation()\n",
      "            )\n",
      "            (layer_norm): T5LayerNorm()\n",
      "            (dropout): Dropout(p=0.1, inplace=False)\n",
      "          )\n",
      "        )\n",
      "      )\n",
      "      (1-23): 23 x T5Block(\n",
      "        (layer): ModuleList(\n",
      "          (0): T5LayerSelfAttention(\n",
      "            (SelfAttention): T5Attention(\n",
      "              (q): Linear(in_features=1024, out_features=1024, bias=False)\n",
      "              (k): Linear(in_features=1024, out_features=1024, bias=False)\n",
      "              (v): Linear(in_features=1024, out_features=1024, bias=False)\n",
      "              (o): Linear(in_features=1024, out_features=1024, bias=False)\n",
      "            )\n",
      "            (layer_norm): T5LayerNorm()\n",
      "            (dropout): Dropout(p=0.1, inplace=False)\n",
      "          )\n",
      "          (1): T5LayerFF(\n",
      "            (DenseReluDense): T5DenseGatedActDense(\n",
      "              (wi_0): Linear(in_features=1024, out_features=2816, bias=False)\n",
      "              (wi_1): Linear(in_features=1024, out_features=2816, bias=False)\n",
      "              (wo): Linear(in_features=2816, out_features=1024, bias=False)\n",
      "              (dropout): Dropout(p=0.1, inplace=False)\n",
      "              (act): NewGELUActivation()\n",
      "            )\n",
      "            (layer_norm): T5LayerNorm()\n",
      "            (dropout): Dropout(p=0.1, inplace=False)\n",
      "          )\n",
      "        )\n",
      "      )\n",
      "    )\n",
      "    (final_layer_norm): T5LayerNorm()\n",
      "    (dropout): Dropout(p=0.1, inplace=False)\n",
      "  )\n",
      "  (head): ForecastingHead(\n",
      "    (flatten): Flatten(start_dim=-2, end_dim=-1)\n",
      "    (dropout): Dropout(p=0.1, inplace=False)\n",
      "    (linear): Linear(in_features=65536, out_features=192, bias=True)\n",
      "  )\n",
      ")\n"
     ]
    }
   ],
   "source": [
    "from processing_answers import *"
   ]
  },
  {
   "cell_type": "markdown",
   "metadata": {},
   "source": [
    "# Extended sequences experimentation\n"
   ]
  },
  {
   "cell_type": "code",
   "execution_count": 2,
   "metadata": {},
   "outputs": [
    {
     "data": {
      "text/plain": [
       "['2, 4, 6, 8, 10, 12, 14, 16, 18, 20, 22, 24, 26, 28, 30, 32, 34, 36, 38, 40',\n",
       " '3, 6, 9, 12, 15, 18, 21, 24, 27, 30, 33, 36, 39, 42, 45, 48, 51, 54, 57, 60',\n",
       " '4, 8, 12, 16, 20, 24, 28, 32, 36, 40, 44, 48, 52, 56, 60, 64, 68, 72, 76, 80',\n",
       " '5, 10, 15, 20, 25, 30, 35, 40, 45, 50, 55, 60, 65, 70, 75, 80, 85, 90, 95, 100',\n",
       " '6, 12, 18, 24, 30, 36, 42, 48, 54, 60, 66, 72, 78, 84, 90, 96, 102, 108, 114, 120',\n",
       " '7, 14, 21, 28, 35, 42, 49, 56, 63, 70, 77, 84, 91, 98, 105, 112, 119, 126, 133, 140',\n",
       " '8, 16, 24, 32, 40, 48, 56, 64, 72, 80, 88, 96, 104, 112, 120, 128, 136, 144, 152, 160',\n",
       " '9, 18, 27, 36, 45, 54, 63, 72, 81, 90, 99, 108, 117, 126, 135, 144, 153, 162, 171, 180',\n",
       " '10, 20, 30, 40, 50, 60, 70, 80, 90, 100, 110, 120, 130, 140, 150, 160, 170, 180, 190, 200',\n",
       " '1, 3, 5, 7, 9, 11, 13, 15, 17, 19, 21, 23, 25, 27, 29, 31, 33, 35, 37, 39',\n",
       " '2, 4, 6, 8, 10, 12, 14, 16, 18, 20, 22, 24, 26, 28, 30, 32, 34, 36, 38, 40',\n",
       " '11, 12, 13, 14, 15, 16, 17, 18, 19, 20, 21, 22, 23, 24, 25, 26, 27, 28, 29, 30',\n",
       " '21, 22, 23, 24, 25, 26, 27, 28, 29, 30, 31, 32, 33, 34, 35, 36, 37, 38, 39, 40',\n",
       " '31, 32, 33, 34, 35, 36, 37, 38, 39, 40, 41, 42, 43, 44, 45, 46, 47, 48, 49, 50',\n",
       " '41, 42, 43, 44, 45, 46, 47, 48, 49, 50, 51, 52, 53, 54, 55, 56, 57, 58, 59, 60',\n",
       " '51, 52, 53, 54, 55, 56, 57, 58, 59, 60, 61, 62, 63, 64, 65, 66, 67, 68, 69, 70',\n",
       " '61, 62, 63, 64, 65, 66, 67, 68, 69, 70, 71, 72, 73, 74, 75, 76, 77, 78, 79, 80',\n",
       " '71, 72, 73, 74, 75, 76, 77, 78, 79, 80, 81, 82, 83, 84, 85, 86, 87, 88, 89, 90',\n",
       " '81, 82, 83, 84, 85, 86, 87, 88, 89, 90, 91, 92, 93, 94, 95, 96, 97, 98, 99, 100',\n",
       " '91, 92, 93, 94, 95, 96, 97, 98, 99, 100, 101, 102, 103, 104, 105, 106, 107, 108, 109, 110',\n",
       " '101, 102, 103, 104, 105, 106, 107, 108, 109, 110, 111, 112, 113, 114, 115, 116, 117, 118, 119, 120',\n",
       " '111, 112, 113, 114, 115, 116, 117, 118, 119, 120, 121, 122, 123, 124, 125, 126, 127, 128, 129, 130',\n",
       " '121, 122, 123, 124, 125, 126, 127, 128, 129, 130, 131, 132, 133, 134, 135, 136, 137, 138, 139, 140',\n",
       " '131, 132, 133, 134, 135, 136, 137, 138, 139, 140, 141, 142, 143, 144, 145, 146, 147, 148, 149, 150',\n",
       " '141, 142, 143, 144, 145, 146, 147, 148, 149, 150, 151, 152, 153, 154, 155, 156, 157, 158, 159, 160',\n",
       " '151, 152, 153, 154, 155, 156, 157, 158, 159, 160, 161, 162, 163, 164, 165, 166, 167, 168, 169, 170',\n",
       " '161, 162, 163, 164, 165, 166, 167, 168, 169, 170, 171, 172, 173, 174, 175, 176, 177, 178, 179, 180',\n",
       " '171, 172, 173, 174, 175, 176, 177, 178, 179, 180, 181, 182, 183, 184, 185, 186, 187, 188, 189, 190',\n",
       " '181, 182, 183, 184, 185, 186, 187, 188, 189, 190, 191, 192, 193, 194, 195, 196, 197, 198, 199, 200',\n",
       " '191, 192, 193, 194, 195, 196, 197, 198, 199, 200, 201, 202, 203, 204, 205, 206, 207, 208, 209, 210']"
      ]
     },
     "execution_count": 2,
     "metadata": {},
     "output_type": "execute_result"
    }
   ],
   "source": [
    "c1_l, c2_l, c3_l, c4_l = create_extended_test_pool()\n",
    "c1_l"
   ]
  },
  {
   "cell_type": "code",
   "execution_count": 3,
   "metadata": {},
   "outputs": [],
   "source": [
    "\n",
    "percentages_list = [10, 25, 50, 75]"
   ]
  },
  {
   "cell_type": "code",
   "execution_count": 10,
   "metadata": {},
   "outputs": [
    {
     "name": "stderr",
     "output_type": "stream",
     "text": [
      "percentages...:   0%|          | 0/4 [00:00<?, ?it/s]INFO:nixtla.nixtla_client:Validating inputs...\n",
      "INFO:nixtla.nixtla_client:Inferred freq: D\n",
      "INFO:nixtla.nixtla_client:Preprocessing dataframes...\n",
      "INFO:nixtla.nixtla_client:Restricting input...\n",
      "INFO:nixtla.nixtla_client:Calling Forecast Endpoint...\n",
      "INFO:nixtla.nixtla_client:Validating inputs...\n",
      "INFO:nixtla.nixtla_client:Inferred freq: D\n",
      "INFO:nixtla.nixtla_client:Preprocessing dataframes...\n",
      "INFO:nixtla.nixtla_client:Restricting input...\n",
      "INFO:nixtla.nixtla_client:Calling Forecast Endpoint...\n"
     ]
    },
    {
     "name": "stdout",
     "output_type": "stream",
     "text": [
      "root:  [2, 4, 6, 8, 10, 12, 14, 16, 18, 20, 22, 24, 26, 28, 30, 32, 34, 36]\n",
      "to be predicted:  [38, 40]\n"
     ]
    },
    {
     "name": "stderr",
     "output_type": "stream",
     "text": [
      "INFO:nixtla.nixtla_client:Validating inputs...\n",
      "INFO:nixtla.nixtla_client:Inferred freq: D\n",
      "INFO:nixtla.nixtla_client:Preprocessing dataframes...\n",
      "INFO:nixtla.nixtla_client:Restricting input...\n",
      "INFO:nixtla.nixtla_client:Calling Forecast Endpoint...\n"
     ]
    },
    {
     "name": "stdout",
     "output_type": "stream",
     "text": [
      "root:  [3, 6, 9, 12, 15, 18, 21, 24, 27, 30, 33, 36, 39, 42, 45, 48, 51, 54]\n",
      "to be predicted:  [57, 60]\n"
     ]
    },
    {
     "name": "stderr",
     "output_type": "stream",
     "text": [
      "INFO:nixtla.nixtla_client:Validating inputs...\n",
      "INFO:nixtla.nixtla_client:Inferred freq: D\n",
      "INFO:nixtla.nixtla_client:Preprocessing dataframes...\n",
      "INFO:nixtla.nixtla_client:Restricting input...\n",
      "INFO:nixtla.nixtla_client:Calling Forecast Endpoint...\n"
     ]
    },
    {
     "name": "stdout",
     "output_type": "stream",
     "text": [
      "root:  [4, 8, 12, 16, 20, 24, 28, 32, 36, 40, 44, 48, 52, 56, 60, 64, 68, 72]\n",
      "to be predicted:  [76, 80]\n"
     ]
    },
    {
     "name": "stderr",
     "output_type": "stream",
     "text": [
      "INFO:nixtla.nixtla_client:Validating inputs...\n",
      "INFO:nixtla.nixtla_client:Inferred freq: D\n",
      "INFO:nixtla.nixtla_client:Preprocessing dataframes...\n",
      "INFO:nixtla.nixtla_client:Restricting input...\n",
      "INFO:nixtla.nixtla_client:Calling Forecast Endpoint...\n"
     ]
    },
    {
     "name": "stdout",
     "output_type": "stream",
     "text": [
      "root:  [5, 10, 15, 20, 25, 30, 35, 40, 45, 50, 55, 60, 65, 70, 75, 80, 85, 90]\n",
      "to be predicted:  [95, 100]\n"
     ]
    },
    {
     "name": "stderr",
     "output_type": "stream",
     "text": [
      "INFO:nixtla.nixtla_client:Validating inputs...\n",
      "INFO:nixtla.nixtla_client:Inferred freq: D\n",
      "INFO:nixtla.nixtla_client:Preprocessing dataframes...\n",
      "INFO:nixtla.nixtla_client:Restricting input...\n",
      "INFO:nixtla.nixtla_client:Calling Forecast Endpoint...\n"
     ]
    },
    {
     "name": "stdout",
     "output_type": "stream",
     "text": [
      "root:  [6, 12, 18, 24, 30, 36, 42, 48, 54, 60, 66, 72, 78, 84, 90, 96, 102, 108]\n",
      "to be predicted:  [114, 120]\n"
     ]
    },
    {
     "name": "stderr",
     "output_type": "stream",
     "text": [
      "INFO:nixtla.nixtla_client:Validating inputs...\n",
      "INFO:nixtla.nixtla_client:Inferred freq: D\n",
      "INFO:nixtla.nixtla_client:Preprocessing dataframes...\n",
      "INFO:nixtla.nixtla_client:Restricting input...\n",
      "INFO:nixtla.nixtla_client:Calling Forecast Endpoint...\n"
     ]
    },
    {
     "name": "stdout",
     "output_type": "stream",
     "text": [
      "root:  [7, 14, 21, 28, 35, 42, 49, 56, 63, 70, 77, 84, 91, 98, 105, 112, 119, 126]\n",
      "to be predicted:  [133, 140]\n"
     ]
    },
    {
     "name": "stderr",
     "output_type": "stream",
     "text": [
      "INFO:nixtla.nixtla_client:Validating inputs...\n",
      "INFO:nixtla.nixtla_client:Inferred freq: D\n",
      "INFO:nixtla.nixtla_client:Preprocessing dataframes...\n",
      "INFO:nixtla.nixtla_client:Restricting input...\n",
      "INFO:nixtla.nixtla_client:Calling Forecast Endpoint...\n"
     ]
    },
    {
     "name": "stdout",
     "output_type": "stream",
     "text": [
      "root:  [8, 16, 24, 32, 40, 48, 56, 64, 72, 80, 88, 96, 104, 112, 120, 128, 136, 144]\n",
      "to be predicted:  [152, 160]\n"
     ]
    },
    {
     "name": "stderr",
     "output_type": "stream",
     "text": [
      "INFO:nixtla.nixtla_client:Validating inputs...\n",
      "INFO:nixtla.nixtla_client:Inferred freq: D\n",
      "INFO:nixtla.nixtla_client:Preprocessing dataframes...\n",
      "INFO:nixtla.nixtla_client:Restricting input...\n",
      "INFO:nixtla.nixtla_client:Calling Forecast Endpoint...\n"
     ]
    },
    {
     "name": "stdout",
     "output_type": "stream",
     "text": [
      "root:  [9, 18, 27, 36, 45, 54, 63, 72, 81, 90, 99, 108, 117, 126, 135, 144, 153, 162]\n",
      "to be predicted:  [171, 180]\n"
     ]
    },
    {
     "name": "stderr",
     "output_type": "stream",
     "text": [
      "INFO:nixtla.nixtla_client:Validating inputs...\n",
      "INFO:nixtla.nixtla_client:Inferred freq: D\n",
      "INFO:nixtla.nixtla_client:Preprocessing dataframes...\n",
      "INFO:nixtla.nixtla_client:Restricting input...\n",
      "INFO:nixtla.nixtla_client:Calling Forecast Endpoint...\n"
     ]
    },
    {
     "name": "stdout",
     "output_type": "stream",
     "text": [
      "root:  [10, 20, 30, 40, 50, 60, 70, 80, 90, 100, 110, 120, 130, 140, 150, 160, 170, 180]\n",
      "to be predicted:  [190, 200]\n"
     ]
    },
    {
     "name": "stderr",
     "output_type": "stream",
     "text": [
      "INFO:nixtla.nixtla_client:Validating inputs...\n",
      "INFO:nixtla.nixtla_client:Inferred freq: D\n",
      "INFO:nixtla.nixtla_client:Preprocessing dataframes...\n",
      "INFO:nixtla.nixtla_client:Restricting input...\n",
      "INFO:nixtla.nixtla_client:Calling Forecast Endpoint...\n"
     ]
    },
    {
     "name": "stdout",
     "output_type": "stream",
     "text": [
      "root:  [1, 3, 5, 7, 9, 11, 13, 15, 17, 19, 21, 23, 25, 27, 29, 31, 33, 35]\n",
      "to be predicted:  [37, 39]\n"
     ]
    },
    {
     "name": "stderr",
     "output_type": "stream",
     "text": [
      "INFO:nixtla.nixtla_client:Validating inputs...\n",
      "INFO:nixtla.nixtla_client:Inferred freq: D\n",
      "INFO:nixtla.nixtla_client:Preprocessing dataframes...\n",
      "INFO:nixtla.nixtla_client:Restricting input...\n",
      "INFO:nixtla.nixtla_client:Calling Forecast Endpoint...\n"
     ]
    },
    {
     "name": "stdout",
     "output_type": "stream",
     "text": [
      "root:  [2, 4, 6, 8, 10, 12, 14, 16, 18, 20, 22, 24, 26, 28, 30, 32, 34, 36]\n",
      "to be predicted:  [38, 40]\n"
     ]
    },
    {
     "name": "stderr",
     "output_type": "stream",
     "text": [
      "INFO:nixtla.nixtla_client:Validating inputs...\n",
      "INFO:nixtla.nixtla_client:Inferred freq: D\n",
      "INFO:nixtla.nixtla_client:Preprocessing dataframes...\n",
      "INFO:nixtla.nixtla_client:Restricting input...\n",
      "INFO:nixtla.nixtla_client:Calling Forecast Endpoint...\n"
     ]
    },
    {
     "name": "stdout",
     "output_type": "stream",
     "text": [
      "root:  [11, 12, 13, 14, 15, 16, 17, 18, 19, 20, 21, 22, 23, 24, 25, 26, 27, 28]\n",
      "to be predicted:  [29, 30]\n"
     ]
    },
    {
     "name": "stderr",
     "output_type": "stream",
     "text": [
      "INFO:nixtla.nixtla_client:Validating inputs...\n",
      "INFO:nixtla.nixtla_client:Inferred freq: D\n",
      "INFO:nixtla.nixtla_client:Preprocessing dataframes...\n",
      "INFO:nixtla.nixtla_client:Restricting input...\n",
      "INFO:nixtla.nixtla_client:Calling Forecast Endpoint...\n"
     ]
    },
    {
     "name": "stdout",
     "output_type": "stream",
     "text": [
      "root:  [21, 22, 23, 24, 25, 26, 27, 28, 29, 30, 31, 32, 33, 34, 35, 36, 37, 38]\n",
      "to be predicted:  [39, 40]\n"
     ]
    },
    {
     "name": "stderr",
     "output_type": "stream",
     "text": [
      "INFO:nixtla.nixtla_client:Validating inputs...\n",
      "INFO:nixtla.nixtla_client:Inferred freq: D\n",
      "INFO:nixtla.nixtla_client:Preprocessing dataframes...\n",
      "INFO:nixtla.nixtla_client:Restricting input...\n",
      "INFO:nixtla.nixtla_client:Calling Forecast Endpoint...\n"
     ]
    },
    {
     "name": "stdout",
     "output_type": "stream",
     "text": [
      "root:  [31, 32, 33, 34, 35, 36, 37, 38, 39, 40, 41, 42, 43, 44, 45, 46, 47, 48]\n",
      "to be predicted:  [49, 50]\n"
     ]
    },
    {
     "name": "stderr",
     "output_type": "stream",
     "text": [
      "INFO:nixtla.nixtla_client:Validating inputs...\n",
      "INFO:nixtla.nixtla_client:Inferred freq: D\n",
      "INFO:nixtla.nixtla_client:Preprocessing dataframes...\n",
      "INFO:nixtla.nixtla_client:Restricting input...\n",
      "INFO:nixtla.nixtla_client:Calling Forecast Endpoint...\n"
     ]
    },
    {
     "name": "stdout",
     "output_type": "stream",
     "text": [
      "root:  [41, 42, 43, 44, 45, 46, 47, 48, 49, 50, 51, 52, 53, 54, 55, 56, 57, 58]\n",
      "to be predicted:  [59, 60]\n"
     ]
    },
    {
     "name": "stderr",
     "output_type": "stream",
     "text": [
      "INFO:nixtla.nixtla_client:Validating inputs...\n",
      "INFO:nixtla.nixtla_client:Inferred freq: D\n",
      "INFO:nixtla.nixtla_client:Preprocessing dataframes...\n",
      "INFO:nixtla.nixtla_client:Restricting input...\n",
      "INFO:nixtla.nixtla_client:Calling Forecast Endpoint...\n"
     ]
    },
    {
     "name": "stdout",
     "output_type": "stream",
     "text": [
      "root:  [51, 52, 53, 54, 55, 56, 57, 58, 59, 60, 61, 62, 63, 64, 65, 66, 67, 68]\n",
      "to be predicted:  [69, 70]\n"
     ]
    },
    {
     "name": "stderr",
     "output_type": "stream",
     "text": [
      "INFO:nixtla.nixtla_client:Validating inputs...\n",
      "INFO:nixtla.nixtla_client:Inferred freq: D\n",
      "INFO:nixtla.nixtla_client:Preprocessing dataframes...\n",
      "INFO:nixtla.nixtla_client:Restricting input...\n",
      "INFO:nixtla.nixtla_client:Calling Forecast Endpoint...\n"
     ]
    },
    {
     "name": "stdout",
     "output_type": "stream",
     "text": [
      "root:  [61, 62, 63, 64, 65, 66, 67, 68, 69, 70, 71, 72, 73, 74, 75, 76, 77, 78]\n",
      "to be predicted:  [79, 80]\n"
     ]
    },
    {
     "name": "stderr",
     "output_type": "stream",
     "text": [
      "INFO:nixtla.nixtla_client:Validating inputs...\n",
      "INFO:nixtla.nixtla_client:Inferred freq: D\n",
      "INFO:nixtla.nixtla_client:Preprocessing dataframes...\n",
      "INFO:nixtla.nixtla_client:Restricting input...\n",
      "INFO:nixtla.nixtla_client:Calling Forecast Endpoint...\n"
     ]
    },
    {
     "name": "stdout",
     "output_type": "stream",
     "text": [
      "root:  [71, 72, 73, 74, 75, 76, 77, 78, 79, 80, 81, 82, 83, 84, 85, 86, 87, 88]\n",
      "to be predicted:  [89, 90]\n"
     ]
    },
    {
     "name": "stderr",
     "output_type": "stream",
     "text": [
      "INFO:nixtla.nixtla_client:Validating inputs...\n",
      "INFO:nixtla.nixtla_client:Inferred freq: D\n",
      "INFO:nixtla.nixtla_client:Preprocessing dataframes...\n",
      "INFO:nixtla.nixtla_client:Restricting input...\n",
      "INFO:nixtla.nixtla_client:Calling Forecast Endpoint...\n"
     ]
    },
    {
     "name": "stdout",
     "output_type": "stream",
     "text": [
      "root:  [81, 82, 83, 84, 85, 86, 87, 88, 89, 90, 91, 92, 93, 94, 95, 96, 97, 98]\n",
      "to be predicted:  [99, 100]\n"
     ]
    },
    {
     "name": "stderr",
     "output_type": "stream",
     "text": [
      "INFO:nixtla.nixtla_client:Validating inputs...\n",
      "INFO:nixtla.nixtla_client:Inferred freq: D\n",
      "INFO:nixtla.nixtla_client:Preprocessing dataframes...\n",
      "INFO:nixtla.nixtla_client:Restricting input...\n",
      "INFO:nixtla.nixtla_client:Calling Forecast Endpoint...\n"
     ]
    },
    {
     "name": "stdout",
     "output_type": "stream",
     "text": [
      "root:  [91, 92, 93, 94, 95, 96, 97, 98, 99, 100, 101, 102, 103, 104, 105, 106, 107, 108]\n",
      "to be predicted:  [109, 110]\n"
     ]
    },
    {
     "name": "stderr",
     "output_type": "stream",
     "text": [
      "INFO:nixtla.nixtla_client:Validating inputs...\n",
      "INFO:nixtla.nixtla_client:Inferred freq: D\n",
      "INFO:nixtla.nixtla_client:Preprocessing dataframes...\n",
      "INFO:nixtla.nixtla_client:Restricting input...\n",
      "INFO:nixtla.nixtla_client:Calling Forecast Endpoint...\n"
     ]
    },
    {
     "name": "stdout",
     "output_type": "stream",
     "text": [
      "root:  [101, 102, 103, 104, 105, 106, 107, 108, 109, 110, 111, 112, 113, 114, 115, 116, 117, 118]\n",
      "to be predicted:  [119, 120]\n"
     ]
    },
    {
     "name": "stderr",
     "output_type": "stream",
     "text": [
      "INFO:nixtla.nixtla_client:Validating inputs...\n",
      "INFO:nixtla.nixtla_client:Inferred freq: D\n",
      "INFO:nixtla.nixtla_client:Preprocessing dataframes...\n",
      "INFO:nixtla.nixtla_client:Restricting input...\n",
      "INFO:nixtla.nixtla_client:Calling Forecast Endpoint...\n"
     ]
    },
    {
     "name": "stdout",
     "output_type": "stream",
     "text": [
      "root:  [111, 112, 113, 114, 115, 116, 117, 118, 119, 120, 121, 122, 123, 124, 125, 126, 127, 128]\n",
      "to be predicted:  [129, 130]\n"
     ]
    },
    {
     "name": "stderr",
     "output_type": "stream",
     "text": [
      "INFO:nixtla.nixtla_client:Validating inputs...\n",
      "INFO:nixtla.nixtla_client:Inferred freq: D\n",
      "INFO:nixtla.nixtla_client:Preprocessing dataframes...\n",
      "INFO:nixtla.nixtla_client:Restricting input...\n",
      "INFO:nixtla.nixtla_client:Calling Forecast Endpoint...\n"
     ]
    },
    {
     "name": "stdout",
     "output_type": "stream",
     "text": [
      "root:  [121, 122, 123, 124, 125, 126, 127, 128, 129, 130, 131, 132, 133, 134, 135, 136, 137, 138]\n",
      "to be predicted:  [139, 140]\n"
     ]
    },
    {
     "name": "stderr",
     "output_type": "stream",
     "text": [
      "INFO:nixtla.nixtla_client:Validating inputs...\n",
      "INFO:nixtla.nixtla_client:Inferred freq: D\n",
      "INFO:nixtla.nixtla_client:Preprocessing dataframes...\n",
      "INFO:nixtla.nixtla_client:Restricting input...\n",
      "INFO:nixtla.nixtla_client:Calling Forecast Endpoint...\n"
     ]
    },
    {
     "name": "stdout",
     "output_type": "stream",
     "text": [
      "root:  [131, 132, 133, 134, 135, 136, 137, 138, 139, 140, 141, 142, 143, 144, 145, 146, 147, 148]\n",
      "to be predicted:  [149, 150]\n"
     ]
    },
    {
     "name": "stderr",
     "output_type": "stream",
     "text": [
      "INFO:nixtla.nixtla_client:Validating inputs...\n",
      "INFO:nixtla.nixtla_client:Inferred freq: D\n",
      "INFO:nixtla.nixtla_client:Preprocessing dataframes...\n",
      "INFO:nixtla.nixtla_client:Restricting input...\n",
      "INFO:nixtla.nixtla_client:Calling Forecast Endpoint...\n"
     ]
    },
    {
     "name": "stdout",
     "output_type": "stream",
     "text": [
      "root:  [141, 142, 143, 144, 145, 146, 147, 148, 149, 150, 151, 152, 153, 154, 155, 156, 157, 158]\n",
      "to be predicted:  [159, 160]\n"
     ]
    },
    {
     "name": "stderr",
     "output_type": "stream",
     "text": [
      "INFO:nixtla.nixtla_client:Validating inputs...\n",
      "INFO:nixtla.nixtla_client:Inferred freq: D\n",
      "INFO:nixtla.nixtla_client:Preprocessing dataframes...\n",
      "INFO:nixtla.nixtla_client:Restricting input...\n",
      "INFO:nixtla.nixtla_client:Calling Forecast Endpoint...\n"
     ]
    },
    {
     "name": "stdout",
     "output_type": "stream",
     "text": [
      "root:  [151, 152, 153, 154, 155, 156, 157, 158, 159, 160, 161, 162, 163, 164, 165, 166, 167, 168]\n",
      "to be predicted:  [169, 170]\n"
     ]
    },
    {
     "name": "stderr",
     "output_type": "stream",
     "text": [
      "INFO:nixtla.nixtla_client:Validating inputs...\n",
      "INFO:nixtla.nixtla_client:Inferred freq: D\n",
      "INFO:nixtla.nixtla_client:Preprocessing dataframes...\n",
      "INFO:nixtla.nixtla_client:Restricting input...\n",
      "INFO:nixtla.nixtla_client:Calling Forecast Endpoint...\n"
     ]
    },
    {
     "name": "stdout",
     "output_type": "stream",
     "text": [
      "root:  [161, 162, 163, 164, 165, 166, 167, 168, 169, 170, 171, 172, 173, 174, 175, 176, 177, 178]\n",
      "to be predicted:  [179, 180]\n"
     ]
    },
    {
     "name": "stderr",
     "output_type": "stream",
     "text": [
      "INFO:nixtla.nixtla_client:Validating inputs...\n",
      "INFO:nixtla.nixtla_client:Inferred freq: D\n",
      "INFO:nixtla.nixtla_client:Preprocessing dataframes...\n",
      "INFO:nixtla.nixtla_client:Restricting input...\n",
      "INFO:nixtla.nixtla_client:Calling Forecast Endpoint...\n"
     ]
    },
    {
     "name": "stdout",
     "output_type": "stream",
     "text": [
      "root:  [171, 172, 173, 174, 175, 176, 177, 178, 179, 180, 181, 182, 183, 184, 185, 186, 187, 188]\n",
      "to be predicted:  [189, 190]\n"
     ]
    },
    {
     "name": "stderr",
     "output_type": "stream",
     "text": [
      "INFO:nixtla.nixtla_client:Validating inputs...\n",
      "INFO:nixtla.nixtla_client:Inferred freq: D\n",
      "INFO:nixtla.nixtla_client:Preprocessing dataframes...\n",
      "INFO:nixtla.nixtla_client:Restricting input...\n",
      "INFO:nixtla.nixtla_client:Calling Forecast Endpoint...\n"
     ]
    },
    {
     "name": "stdout",
     "output_type": "stream",
     "text": [
      "root:  [181, 182, 183, 184, 185, 186, 187, 188, 189, 190, 191, 192, 193, 194, 195, 196, 197, 198]\n",
      "to be predicted:  [199, 200]\n"
     ]
    },
    {
     "name": "stderr",
     "output_type": "stream",
     "text": [
      "predicting sequences: 100%|██████████| 30/30 [00:21<00:00,  1.40it/s]\n",
      "percentages...:  25%|██▌       | 1/4 [00:21<01:04, 21.37s/it]"
     ]
    },
    {
     "name": "stdout",
     "output_type": "stream",
     "text": [
      "root:  [191, 192, 193, 194, 195, 196, 197, 198, 199, 200, 201, 202, 203, 204, 205, 206, 207, 208]\n",
      "to be predicted:  [209, 210]\n"
     ]
    },
    {
     "name": "stderr",
     "output_type": "stream",
     "text": [
      "INFO:nixtla.nixtla_client:Validating inputs...\n",
      "INFO:nixtla.nixtla_client:Inferred freq: D\n",
      "INFO:nixtla.nixtla_client:Preprocessing dataframes...\n",
      "INFO:nixtla.nixtla_client:Restricting input...\n",
      "INFO:nixtla.nixtla_client:Calling Forecast Endpoint...\n",
      "INFO:nixtla.nixtla_client:Validating inputs...\n",
      "INFO:nixtla.nixtla_client:Inferred freq: D\n",
      "INFO:nixtla.nixtla_client:Preprocessing dataframes...\n",
      "INFO:nixtla.nixtla_client:Restricting input...\n",
      "INFO:nixtla.nixtla_client:Calling Forecast Endpoint...\n"
     ]
    },
    {
     "name": "stdout",
     "output_type": "stream",
     "text": [
      "root:  [2, 4, 6, 8, 10, 12, 14, 16, 18, 20, 22, 24, 26, 28, 30]\n",
      "to be predicted:  [32, 34, 36, 38, 40]\n"
     ]
    },
    {
     "name": "stderr",
     "output_type": "stream",
     "text": [
      "INFO:nixtla.nixtla_client:Validating inputs...\n",
      "INFO:nixtla.nixtla_client:Inferred freq: D\n",
      "INFO:nixtla.nixtla_client:Preprocessing dataframes...\n",
      "INFO:nixtla.nixtla_client:Restricting input...\n",
      "INFO:nixtla.nixtla_client:Calling Forecast Endpoint...\n"
     ]
    },
    {
     "name": "stdout",
     "output_type": "stream",
     "text": [
      "root:  [3, 6, 9, 12, 15, 18, 21, 24, 27, 30, 33, 36, 39, 42, 45]\n",
      "to be predicted:  [48, 51, 54, 57, 60]\n"
     ]
    },
    {
     "name": "stderr",
     "output_type": "stream",
     "text": [
      "INFO:nixtla.nixtla_client:Validating inputs...\n",
      "INFO:nixtla.nixtla_client:Inferred freq: D\n",
      "INFO:nixtla.nixtla_client:Preprocessing dataframes...\n",
      "INFO:nixtla.nixtla_client:Restricting input...\n",
      "INFO:nixtla.nixtla_client:Calling Forecast Endpoint...\n"
     ]
    },
    {
     "name": "stdout",
     "output_type": "stream",
     "text": [
      "root:  [4, 8, 12, 16, 20, 24, 28, 32, 36, 40, 44, 48, 52, 56, 60]\n",
      "to be predicted:  [64, 68, 72, 76, 80]\n"
     ]
    },
    {
     "name": "stderr",
     "output_type": "stream",
     "text": [
      "INFO:nixtla.nixtla_client:Validating inputs...\n",
      "INFO:nixtla.nixtla_client:Inferred freq: D\n",
      "INFO:nixtla.nixtla_client:Preprocessing dataframes...\n",
      "INFO:nixtla.nixtla_client:Restricting input...\n",
      "INFO:nixtla.nixtla_client:Calling Forecast Endpoint...\n"
     ]
    },
    {
     "name": "stdout",
     "output_type": "stream",
     "text": [
      "root:  [5, 10, 15, 20, 25, 30, 35, 40, 45, 50, 55, 60, 65, 70, 75]\n",
      "to be predicted:  [80, 85, 90, 95, 100]\n"
     ]
    },
    {
     "name": "stderr",
     "output_type": "stream",
     "text": [
      "INFO:nixtla.nixtla_client:Validating inputs...\n",
      "INFO:nixtla.nixtla_client:Inferred freq: D\n",
      "INFO:nixtla.nixtla_client:Preprocessing dataframes...\n",
      "INFO:nixtla.nixtla_client:Restricting input...\n",
      "INFO:nixtla.nixtla_client:Calling Forecast Endpoint...\n"
     ]
    },
    {
     "name": "stdout",
     "output_type": "stream",
     "text": [
      "root:  [6, 12, 18, 24, 30, 36, 42, 48, 54, 60, 66, 72, 78, 84, 90]\n",
      "to be predicted:  [96, 102, 108, 114, 120]\n"
     ]
    },
    {
     "name": "stderr",
     "output_type": "stream",
     "text": [
      "INFO:nixtla.nixtla_client:Validating inputs...\n",
      "INFO:nixtla.nixtla_client:Inferred freq: D\n",
      "INFO:nixtla.nixtla_client:Preprocessing dataframes...\n",
      "INFO:nixtla.nixtla_client:Restricting input...\n",
      "INFO:nixtla.nixtla_client:Calling Forecast Endpoint...\n"
     ]
    },
    {
     "name": "stdout",
     "output_type": "stream",
     "text": [
      "root:  [7, 14, 21, 28, 35, 42, 49, 56, 63, 70, 77, 84, 91, 98, 105]\n",
      "to be predicted:  [112, 119, 126, 133, 140]\n"
     ]
    },
    {
     "name": "stderr",
     "output_type": "stream",
     "text": [
      "INFO:nixtla.nixtla_client:Validating inputs...\n",
      "INFO:nixtla.nixtla_client:Inferred freq: D\n",
      "INFO:nixtla.nixtla_client:Preprocessing dataframes...\n",
      "INFO:nixtla.nixtla_client:Restricting input...\n",
      "INFO:nixtla.nixtla_client:Calling Forecast Endpoint...\n"
     ]
    },
    {
     "name": "stdout",
     "output_type": "stream",
     "text": [
      "root:  [8, 16, 24, 32, 40, 48, 56, 64, 72, 80, 88, 96, 104, 112, 120]\n",
      "to be predicted:  [128, 136, 144, 152, 160]\n"
     ]
    },
    {
     "name": "stderr",
     "output_type": "stream",
     "text": [
      "INFO:nixtla.nixtla_client:Validating inputs...\n",
      "INFO:nixtla.nixtla_client:Inferred freq: D\n",
      "INFO:nixtla.nixtla_client:Preprocessing dataframes...\n",
      "INFO:nixtla.nixtla_client:Restricting input...\n",
      "INFO:nixtla.nixtla_client:Calling Forecast Endpoint...\n"
     ]
    },
    {
     "name": "stdout",
     "output_type": "stream",
     "text": [
      "root:  [9, 18, 27, 36, 45, 54, 63, 72, 81, 90, 99, 108, 117, 126, 135]\n",
      "to be predicted:  [144, 153, 162, 171, 180]\n"
     ]
    },
    {
     "name": "stderr",
     "output_type": "stream",
     "text": [
      "INFO:nixtla.nixtla_client:Validating inputs...\n",
      "INFO:nixtla.nixtla_client:Inferred freq: D\n",
      "INFO:nixtla.nixtla_client:Preprocessing dataframes...\n",
      "INFO:nixtla.nixtla_client:Restricting input...\n",
      "INFO:nixtla.nixtla_client:Calling Forecast Endpoint...\n"
     ]
    },
    {
     "name": "stdout",
     "output_type": "stream",
     "text": [
      "root:  [10, 20, 30, 40, 50, 60, 70, 80, 90, 100, 110, 120, 130, 140, 150]\n",
      "to be predicted:  [160, 170, 180, 190, 200]\n"
     ]
    },
    {
     "name": "stderr",
     "output_type": "stream",
     "text": [
      "INFO:nixtla.nixtla_client:Validating inputs...\n",
      "INFO:nixtla.nixtla_client:Inferred freq: D\n",
      "INFO:nixtla.nixtla_client:Preprocessing dataframes...\n",
      "INFO:nixtla.nixtla_client:Restricting input...\n",
      "INFO:nixtla.nixtla_client:Calling Forecast Endpoint...\n"
     ]
    },
    {
     "name": "stdout",
     "output_type": "stream",
     "text": [
      "root:  [1, 3, 5, 7, 9, 11, 13, 15, 17, 19, 21, 23, 25, 27, 29]\n",
      "to be predicted:  [31, 33, 35, 37, 39]\n"
     ]
    },
    {
     "name": "stderr",
     "output_type": "stream",
     "text": [
      "INFO:nixtla.nixtla_client:Validating inputs...\n",
      "INFO:nixtla.nixtla_client:Inferred freq: D\n",
      "INFO:nixtla.nixtla_client:Preprocessing dataframes...\n",
      "INFO:nixtla.nixtla_client:Restricting input...\n",
      "INFO:nixtla.nixtla_client:Calling Forecast Endpoint...\n"
     ]
    },
    {
     "name": "stdout",
     "output_type": "stream",
     "text": [
      "root:  [2, 4, 6, 8, 10, 12, 14, 16, 18, 20, 22, 24, 26, 28, 30]\n",
      "to be predicted:  [32, 34, 36, 38, 40]\n"
     ]
    },
    {
     "name": "stderr",
     "output_type": "stream",
     "text": [
      "INFO:nixtla.nixtla_client:Validating inputs...\n",
      "INFO:nixtla.nixtla_client:Inferred freq: D\n",
      "INFO:nixtla.nixtla_client:Preprocessing dataframes...\n",
      "INFO:nixtla.nixtla_client:Restricting input...\n",
      "INFO:nixtla.nixtla_client:Calling Forecast Endpoint...\n"
     ]
    },
    {
     "name": "stdout",
     "output_type": "stream",
     "text": [
      "root:  [11, 12, 13, 14, 15, 16, 17, 18, 19, 20, 21, 22, 23, 24, 25]\n",
      "to be predicted:  [26, 27, 28, 29, 30]\n"
     ]
    },
    {
     "name": "stderr",
     "output_type": "stream",
     "text": [
      "INFO:nixtla.nixtla_client:Validating inputs...\n",
      "INFO:nixtla.nixtla_client:Inferred freq: D\n",
      "INFO:nixtla.nixtla_client:Preprocessing dataframes...\n",
      "INFO:nixtla.nixtla_client:Restricting input...\n",
      "INFO:nixtla.nixtla_client:Calling Forecast Endpoint...\n"
     ]
    },
    {
     "name": "stdout",
     "output_type": "stream",
     "text": [
      "root:  [21, 22, 23, 24, 25, 26, 27, 28, 29, 30, 31, 32, 33, 34, 35]\n",
      "to be predicted:  [36, 37, 38, 39, 40]\n"
     ]
    },
    {
     "name": "stderr",
     "output_type": "stream",
     "text": [
      "INFO:nixtla.nixtla_client:Validating inputs...\n",
      "INFO:nixtla.nixtla_client:Inferred freq: D\n",
      "INFO:nixtla.nixtla_client:Preprocessing dataframes...\n",
      "INFO:nixtla.nixtla_client:Restricting input...\n",
      "INFO:nixtla.nixtla_client:Calling Forecast Endpoint...\n"
     ]
    },
    {
     "name": "stdout",
     "output_type": "stream",
     "text": [
      "root:  [31, 32, 33, 34, 35, 36, 37, 38, 39, 40, 41, 42, 43, 44, 45]\n",
      "to be predicted:  [46, 47, 48, 49, 50]\n"
     ]
    },
    {
     "name": "stderr",
     "output_type": "stream",
     "text": [
      "INFO:nixtla.nixtla_client:Validating inputs...\n",
      "INFO:nixtla.nixtla_client:Inferred freq: D\n",
      "INFO:nixtla.nixtla_client:Preprocessing dataframes...\n",
      "INFO:nixtla.nixtla_client:Restricting input...\n",
      "INFO:nixtla.nixtla_client:Calling Forecast Endpoint...\n"
     ]
    },
    {
     "name": "stdout",
     "output_type": "stream",
     "text": [
      "root:  [41, 42, 43, 44, 45, 46, 47, 48, 49, 50, 51, 52, 53, 54, 55]\n",
      "to be predicted:  [56, 57, 58, 59, 60]\n"
     ]
    },
    {
     "name": "stderr",
     "output_type": "stream",
     "text": [
      "INFO:nixtla.nixtla_client:Validating inputs...\n",
      "INFO:nixtla.nixtla_client:Inferred freq: D\n",
      "INFO:nixtla.nixtla_client:Preprocessing dataframes...\n",
      "INFO:nixtla.nixtla_client:Restricting input...\n",
      "INFO:nixtla.nixtla_client:Calling Forecast Endpoint...\n"
     ]
    },
    {
     "name": "stdout",
     "output_type": "stream",
     "text": [
      "root:  [51, 52, 53, 54, 55, 56, 57, 58, 59, 60, 61, 62, 63, 64, 65]\n",
      "to be predicted:  [66, 67, 68, 69, 70]\n"
     ]
    },
    {
     "name": "stderr",
     "output_type": "stream",
     "text": [
      "INFO:nixtla.nixtla_client:Validating inputs...\n",
      "INFO:nixtla.nixtla_client:Inferred freq: D\n",
      "INFO:nixtla.nixtla_client:Preprocessing dataframes...\n",
      "INFO:nixtla.nixtla_client:Restricting input...\n",
      "INFO:nixtla.nixtla_client:Calling Forecast Endpoint...\n"
     ]
    },
    {
     "name": "stdout",
     "output_type": "stream",
     "text": [
      "root:  [61, 62, 63, 64, 65, 66, 67, 68, 69, 70, 71, 72, 73, 74, 75]\n",
      "to be predicted:  [76, 77, 78, 79, 80]\n"
     ]
    },
    {
     "name": "stderr",
     "output_type": "stream",
     "text": [
      "INFO:nixtla.nixtla_client:Validating inputs...\n",
      "INFO:nixtla.nixtla_client:Inferred freq: D\n",
      "INFO:nixtla.nixtla_client:Preprocessing dataframes...\n",
      "INFO:nixtla.nixtla_client:Restricting input...\n",
      "INFO:nixtla.nixtla_client:Calling Forecast Endpoint...\n"
     ]
    },
    {
     "name": "stdout",
     "output_type": "stream",
     "text": [
      "root:  [71, 72, 73, 74, 75, 76, 77, 78, 79, 80, 81, 82, 83, 84, 85]\n",
      "to be predicted:  [86, 87, 88, 89, 90]\n"
     ]
    },
    {
     "name": "stderr",
     "output_type": "stream",
     "text": [
      "INFO:nixtla.nixtla_client:Validating inputs...\n",
      "INFO:nixtla.nixtla_client:Inferred freq: D\n",
      "INFO:nixtla.nixtla_client:Preprocessing dataframes...\n",
      "INFO:nixtla.nixtla_client:Restricting input...\n",
      "INFO:nixtla.nixtla_client:Calling Forecast Endpoint...\n"
     ]
    },
    {
     "name": "stdout",
     "output_type": "stream",
     "text": [
      "root:  [81, 82, 83, 84, 85, 86, 87, 88, 89, 90, 91, 92, 93, 94, 95]\n",
      "to be predicted:  [96, 97, 98, 99, 100]\n"
     ]
    },
    {
     "name": "stderr",
     "output_type": "stream",
     "text": [
      "INFO:nixtla.nixtla_client:Validating inputs...\n",
      "INFO:nixtla.nixtla_client:Inferred freq: D\n",
      "INFO:nixtla.nixtla_client:Preprocessing dataframes...\n",
      "INFO:nixtla.nixtla_client:Restricting input...\n",
      "INFO:nixtla.nixtla_client:Calling Forecast Endpoint...\n"
     ]
    },
    {
     "name": "stdout",
     "output_type": "stream",
     "text": [
      "root:  [91, 92, 93, 94, 95, 96, 97, 98, 99, 100, 101, 102, 103, 104, 105]\n",
      "to be predicted:  [106, 107, 108, 109, 110]\n"
     ]
    },
    {
     "name": "stderr",
     "output_type": "stream",
     "text": [
      "INFO:nixtla.nixtla_client:Validating inputs...\n",
      "INFO:nixtla.nixtla_client:Inferred freq: D\n",
      "INFO:nixtla.nixtla_client:Preprocessing dataframes...\n",
      "INFO:nixtla.nixtla_client:Restricting input...\n",
      "INFO:nixtla.nixtla_client:Calling Forecast Endpoint...\n"
     ]
    },
    {
     "name": "stdout",
     "output_type": "stream",
     "text": [
      "root:  [101, 102, 103, 104, 105, 106, 107, 108, 109, 110, 111, 112, 113, 114, 115]\n",
      "to be predicted:  [116, 117, 118, 119, 120]\n"
     ]
    },
    {
     "name": "stderr",
     "output_type": "stream",
     "text": [
      "INFO:nixtla.nixtla_client:Validating inputs...\n",
      "INFO:nixtla.nixtla_client:Inferred freq: D\n",
      "INFO:nixtla.nixtla_client:Preprocessing dataframes...\n",
      "INFO:nixtla.nixtla_client:Restricting input...\n",
      "INFO:nixtla.nixtla_client:Calling Forecast Endpoint...\n"
     ]
    },
    {
     "name": "stdout",
     "output_type": "stream",
     "text": [
      "root:  [111, 112, 113, 114, 115, 116, 117, 118, 119, 120, 121, 122, 123, 124, 125]\n",
      "to be predicted:  [126, 127, 128, 129, 130]\n"
     ]
    },
    {
     "name": "stderr",
     "output_type": "stream",
     "text": [
      "INFO:nixtla.nixtla_client:Validating inputs...\n",
      "INFO:nixtla.nixtla_client:Inferred freq: D\n",
      "INFO:nixtla.nixtla_client:Preprocessing dataframes...\n",
      "INFO:nixtla.nixtla_client:Restricting input...\n",
      "INFO:nixtla.nixtla_client:Calling Forecast Endpoint...\n"
     ]
    },
    {
     "name": "stdout",
     "output_type": "stream",
     "text": [
      "root:  [121, 122, 123, 124, 125, 126, 127, 128, 129, 130, 131, 132, 133, 134, 135]\n",
      "to be predicted:  [136, 137, 138, 139, 140]\n"
     ]
    },
    {
     "name": "stderr",
     "output_type": "stream",
     "text": [
      "INFO:nixtla.nixtla_client:Validating inputs...\n",
      "INFO:nixtla.nixtla_client:Inferred freq: D\n",
      "INFO:nixtla.nixtla_client:Preprocessing dataframes...\n",
      "INFO:nixtla.nixtla_client:Restricting input...\n",
      "INFO:nixtla.nixtla_client:Calling Forecast Endpoint...\n"
     ]
    },
    {
     "name": "stdout",
     "output_type": "stream",
     "text": [
      "root:  [131, 132, 133, 134, 135, 136, 137, 138, 139, 140, 141, 142, 143, 144, 145]\n",
      "to be predicted:  [146, 147, 148, 149, 150]\n"
     ]
    },
    {
     "name": "stderr",
     "output_type": "stream",
     "text": [
      "INFO:nixtla.nixtla_client:Validating inputs...\n",
      "INFO:nixtla.nixtla_client:Inferred freq: D\n",
      "INFO:nixtla.nixtla_client:Preprocessing dataframes...\n",
      "INFO:nixtla.nixtla_client:Restricting input...\n",
      "INFO:nixtla.nixtla_client:Calling Forecast Endpoint...\n"
     ]
    },
    {
     "name": "stdout",
     "output_type": "stream",
     "text": [
      "root:  [141, 142, 143, 144, 145, 146, 147, 148, 149, 150, 151, 152, 153, 154, 155]\n",
      "to be predicted:  [156, 157, 158, 159, 160]\n"
     ]
    },
    {
     "name": "stderr",
     "output_type": "stream",
     "text": [
      "INFO:nixtla.nixtla_client:Validating inputs...\n",
      "INFO:nixtla.nixtla_client:Inferred freq: D\n",
      "INFO:nixtla.nixtla_client:Preprocessing dataframes...\n",
      "INFO:nixtla.nixtla_client:Restricting input...\n",
      "INFO:nixtla.nixtla_client:Calling Forecast Endpoint...\n"
     ]
    },
    {
     "name": "stdout",
     "output_type": "stream",
     "text": [
      "root:  [151, 152, 153, 154, 155, 156, 157, 158, 159, 160, 161, 162, 163, 164, 165]\n",
      "to be predicted:  [166, 167, 168, 169, 170]\n"
     ]
    },
    {
     "name": "stderr",
     "output_type": "stream",
     "text": [
      "INFO:nixtla.nixtla_client:Validating inputs...\n",
      "INFO:nixtla.nixtla_client:Inferred freq: D\n",
      "INFO:nixtla.nixtla_client:Preprocessing dataframes...\n",
      "INFO:nixtla.nixtla_client:Restricting input...\n",
      "INFO:nixtla.nixtla_client:Calling Forecast Endpoint...\n"
     ]
    },
    {
     "name": "stdout",
     "output_type": "stream",
     "text": [
      "root:  [161, 162, 163, 164, 165, 166, 167, 168, 169, 170, 171, 172, 173, 174, 175]\n",
      "to be predicted:  [176, 177, 178, 179, 180]\n"
     ]
    },
    {
     "name": "stderr",
     "output_type": "stream",
     "text": [
      "INFO:nixtla.nixtla_client:Validating inputs...\n",
      "INFO:nixtla.nixtla_client:Inferred freq: D\n",
      "INFO:nixtla.nixtla_client:Preprocessing dataframes...\n",
      "INFO:nixtla.nixtla_client:Restricting input...\n",
      "INFO:nixtla.nixtla_client:Calling Forecast Endpoint...\n"
     ]
    },
    {
     "name": "stdout",
     "output_type": "stream",
     "text": [
      "root:  [171, 172, 173, 174, 175, 176, 177, 178, 179, 180, 181, 182, 183, 184, 185]\n",
      "to be predicted:  [186, 187, 188, 189, 190]\n"
     ]
    },
    {
     "name": "stderr",
     "output_type": "stream",
     "text": [
      "INFO:nixtla.nixtla_client:Validating inputs...\n",
      "INFO:nixtla.nixtla_client:Inferred freq: D\n",
      "INFO:nixtla.nixtla_client:Preprocessing dataframes...\n",
      "INFO:nixtla.nixtla_client:Restricting input...\n",
      "INFO:nixtla.nixtla_client:Calling Forecast Endpoint...\n"
     ]
    },
    {
     "name": "stdout",
     "output_type": "stream",
     "text": [
      "root:  [181, 182, 183, 184, 185, 186, 187, 188, 189, 190, 191, 192, 193, 194, 195]\n",
      "to be predicted:  [196, 197, 198, 199, 200]\n"
     ]
    },
    {
     "name": "stderr",
     "output_type": "stream",
     "text": [
      "predicting sequences: 100%|██████████| 30/30 [00:37<00:00,  1.25s/it]\n",
      "percentages...:  50%|█████     | 2/4 [00:58<01:01, 30.91s/it]"
     ]
    },
    {
     "name": "stdout",
     "output_type": "stream",
     "text": [
      "root:  [191, 192, 193, 194, 195, 196, 197, 198, 199, 200, 201, 202, 203, 204, 205]\n",
      "to be predicted:  [206, 207, 208, 209, 210]\n"
     ]
    },
    {
     "name": "stderr",
     "output_type": "stream",
     "text": [
      "INFO:nixtla.nixtla_client:Validating inputs...\n",
      "INFO:nixtla.nixtla_client:Inferred freq: D\n",
      "INFO:nixtla.nixtla_client:Preprocessing dataframes...\n",
      "INFO:nixtla.nixtla_client:Restricting input...\n",
      "INFO:nixtla.nixtla_client:Calling Forecast Endpoint...\n",
      "INFO:nixtla.nixtla_client:Validating inputs...\n",
      "INFO:nixtla.nixtla_client:Inferred freq: D\n",
      "INFO:nixtla.nixtla_client:Preprocessing dataframes...\n",
      "INFO:nixtla.nixtla_client:Restricting input...\n",
      "INFO:nixtla.nixtla_client:Calling Forecast Endpoint...\n"
     ]
    },
    {
     "name": "stdout",
     "output_type": "stream",
     "text": [
      "root:  [2, 4, 6, 8, 10, 12, 14, 16, 18, 20]\n",
      "to be predicted:  [22, 24, 26, 28, 30, 32, 34, 36, 38, 40]\n"
     ]
    },
    {
     "name": "stderr",
     "output_type": "stream",
     "text": [
      "INFO:nixtla.nixtla_client:Validating inputs...\n",
      "INFO:nixtla.nixtla_client:Inferred freq: D\n",
      "INFO:nixtla.nixtla_client:Preprocessing dataframes...\n",
      "INFO:nixtla.nixtla_client:Restricting input...\n",
      "INFO:nixtla.nixtla_client:Calling Forecast Endpoint...\n"
     ]
    },
    {
     "name": "stdout",
     "output_type": "stream",
     "text": [
      "root:  [3, 6, 9, 12, 15, 18, 21, 24, 27, 30]\n",
      "to be predicted:  [33, 36, 39, 42, 45, 48, 51, 54, 57, 60]\n"
     ]
    },
    {
     "name": "stderr",
     "output_type": "stream",
     "text": [
      "INFO:nixtla.nixtla_client:Validating inputs...\n",
      "INFO:nixtla.nixtla_client:Inferred freq: D\n",
      "INFO:nixtla.nixtla_client:Preprocessing dataframes...\n",
      "INFO:nixtla.nixtla_client:Restricting input...\n",
      "INFO:nixtla.nixtla_client:Calling Forecast Endpoint...\n"
     ]
    },
    {
     "name": "stdout",
     "output_type": "stream",
     "text": [
      "root:  [4, 8, 12, 16, 20, 24, 28, 32, 36, 40]\n",
      "to be predicted:  [44, 48, 52, 56, 60, 64, 68, 72, 76, 80]\n"
     ]
    },
    {
     "name": "stderr",
     "output_type": "stream",
     "text": [
      "INFO:nixtla.nixtla_client:Validating inputs...\n",
      "INFO:nixtla.nixtla_client:Inferred freq: D\n",
      "INFO:nixtla.nixtla_client:Preprocessing dataframes...\n",
      "INFO:nixtla.nixtla_client:Restricting input...\n",
      "INFO:nixtla.nixtla_client:Calling Forecast Endpoint...\n"
     ]
    },
    {
     "name": "stdout",
     "output_type": "stream",
     "text": [
      "root:  [5, 10, 15, 20, 25, 30, 35, 40, 45, 50]\n",
      "to be predicted:  [55, 60, 65, 70, 75, 80, 85, 90, 95, 100]\n"
     ]
    },
    {
     "name": "stderr",
     "output_type": "stream",
     "text": [
      "INFO:nixtla.nixtla_client:Validating inputs...\n",
      "INFO:nixtla.nixtla_client:Inferred freq: D\n",
      "INFO:nixtla.nixtla_client:Preprocessing dataframes...\n",
      "INFO:nixtla.nixtla_client:Restricting input...\n",
      "INFO:nixtla.nixtla_client:Calling Forecast Endpoint...\n"
     ]
    },
    {
     "name": "stdout",
     "output_type": "stream",
     "text": [
      "root:  [6, 12, 18, 24, 30, 36, 42, 48, 54, 60]\n",
      "to be predicted:  [66, 72, 78, 84, 90, 96, 102, 108, 114, 120]\n"
     ]
    },
    {
     "name": "stderr",
     "output_type": "stream",
     "text": [
      "INFO:nixtla.nixtla_client:Validating inputs...\n",
      "INFO:nixtla.nixtla_client:Inferred freq: D\n",
      "INFO:nixtla.nixtla_client:Preprocessing dataframes...\n",
      "INFO:nixtla.nixtla_client:Restricting input...\n",
      "INFO:nixtla.nixtla_client:Calling Forecast Endpoint...\n"
     ]
    },
    {
     "name": "stdout",
     "output_type": "stream",
     "text": [
      "root:  [7, 14, 21, 28, 35, 42, 49, 56, 63, 70]\n",
      "to be predicted:  [77, 84, 91, 98, 105, 112, 119, 126, 133, 140]\n"
     ]
    },
    {
     "name": "stderr",
     "output_type": "stream",
     "text": [
      "INFO:nixtla.nixtla_client:Validating inputs...\n",
      "INFO:nixtla.nixtla_client:Inferred freq: D\n",
      "INFO:nixtla.nixtla_client:Preprocessing dataframes...\n",
      "INFO:nixtla.nixtla_client:Restricting input...\n",
      "INFO:nixtla.nixtla_client:Calling Forecast Endpoint...\n"
     ]
    },
    {
     "name": "stdout",
     "output_type": "stream",
     "text": [
      "root:  [8, 16, 24, 32, 40, 48, 56, 64, 72, 80]\n",
      "to be predicted:  [88, 96, 104, 112, 120, 128, 136, 144, 152, 160]\n"
     ]
    },
    {
     "name": "stderr",
     "output_type": "stream",
     "text": [
      "INFO:nixtla.nixtla_client:Validating inputs...\n",
      "INFO:nixtla.nixtla_client:Inferred freq: D\n",
      "INFO:nixtla.nixtla_client:Preprocessing dataframes...\n",
      "INFO:nixtla.nixtla_client:Restricting input...\n",
      "INFO:nixtla.nixtla_client:Calling Forecast Endpoint...\n"
     ]
    },
    {
     "name": "stdout",
     "output_type": "stream",
     "text": [
      "root:  [9, 18, 27, 36, 45, 54, 63, 72, 81, 90]\n",
      "to be predicted:  [99, 108, 117, 126, 135, 144, 153, 162, 171, 180]\n"
     ]
    },
    {
     "name": "stderr",
     "output_type": "stream",
     "text": [
      "INFO:nixtla.nixtla_client:Validating inputs...\n",
      "INFO:nixtla.nixtla_client:Inferred freq: D\n",
      "INFO:nixtla.nixtla_client:Preprocessing dataframes...\n",
      "INFO:nixtla.nixtla_client:Restricting input...\n",
      "INFO:nixtla.nixtla_client:Calling Forecast Endpoint...\n"
     ]
    },
    {
     "name": "stdout",
     "output_type": "stream",
     "text": [
      "root:  [10, 20, 30, 40, 50, 60, 70, 80, 90, 100]\n",
      "to be predicted:  [110, 120, 130, 140, 150, 160, 170, 180, 190, 200]\n"
     ]
    },
    {
     "name": "stderr",
     "output_type": "stream",
     "text": [
      "INFO:nixtla.nixtla_client:Validating inputs...\n",
      "INFO:nixtla.nixtla_client:Inferred freq: D\n",
      "INFO:nixtla.nixtla_client:Preprocessing dataframes...\n",
      "INFO:nixtla.nixtla_client:Restricting input...\n",
      "INFO:nixtla.nixtla_client:Calling Forecast Endpoint...\n"
     ]
    },
    {
     "name": "stdout",
     "output_type": "stream",
     "text": [
      "root:  [1, 3, 5, 7, 9, 11, 13, 15, 17, 19]\n",
      "to be predicted:  [21, 23, 25, 27, 29, 31, 33, 35, 37, 39]\n"
     ]
    },
    {
     "name": "stderr",
     "output_type": "stream",
     "text": [
      "INFO:nixtla.nixtla_client:Validating inputs...\n",
      "INFO:nixtla.nixtla_client:Inferred freq: D\n",
      "INFO:nixtla.nixtla_client:Preprocessing dataframes...\n",
      "INFO:nixtla.nixtla_client:Restricting input...\n",
      "INFO:nixtla.nixtla_client:Calling Forecast Endpoint...\n"
     ]
    },
    {
     "name": "stdout",
     "output_type": "stream",
     "text": [
      "root:  [2, 4, 6, 8, 10, 12, 14, 16, 18, 20]\n",
      "to be predicted:  [22, 24, 26, 28, 30, 32, 34, 36, 38, 40]\n"
     ]
    },
    {
     "name": "stderr",
     "output_type": "stream",
     "text": [
      "INFO:nixtla.nixtla_client:Validating inputs...\n",
      "INFO:nixtla.nixtla_client:Inferred freq: D\n",
      "INFO:nixtla.nixtla_client:Preprocessing dataframes...\n",
      "INFO:nixtla.nixtla_client:Restricting input...\n",
      "INFO:nixtla.nixtla_client:Calling Forecast Endpoint...\n"
     ]
    },
    {
     "name": "stdout",
     "output_type": "stream",
     "text": [
      "root:  [11, 12, 13, 14, 15, 16, 17, 18, 19, 20]\n",
      "to be predicted:  [21, 22, 23, 24, 25, 26, 27, 28, 29, 30]\n"
     ]
    },
    {
     "name": "stderr",
     "output_type": "stream",
     "text": [
      "INFO:nixtla.nixtla_client:Validating inputs...\n",
      "INFO:nixtla.nixtla_client:Inferred freq: D\n",
      "INFO:nixtla.nixtla_client:Preprocessing dataframes...\n",
      "INFO:nixtla.nixtla_client:Restricting input...\n",
      "INFO:nixtla.nixtla_client:Calling Forecast Endpoint...\n"
     ]
    },
    {
     "name": "stdout",
     "output_type": "stream",
     "text": [
      "root:  [21, 22, 23, 24, 25, 26, 27, 28, 29, 30]\n",
      "to be predicted:  [31, 32, 33, 34, 35, 36, 37, 38, 39, 40]\n"
     ]
    },
    {
     "name": "stderr",
     "output_type": "stream",
     "text": [
      "INFO:nixtla.nixtla_client:Validating inputs...\n",
      "INFO:nixtla.nixtla_client:Inferred freq: D\n",
      "INFO:nixtla.nixtla_client:Preprocessing dataframes...\n",
      "INFO:nixtla.nixtla_client:Restricting input...\n",
      "INFO:nixtla.nixtla_client:Calling Forecast Endpoint...\n"
     ]
    },
    {
     "name": "stdout",
     "output_type": "stream",
     "text": [
      "root:  [31, 32, 33, 34, 35, 36, 37, 38, 39, 40]\n",
      "to be predicted:  [41, 42, 43, 44, 45, 46, 47, 48, 49, 50]\n"
     ]
    },
    {
     "name": "stderr",
     "output_type": "stream",
     "text": [
      "INFO:nixtla.nixtla_client:Validating inputs...\n",
      "INFO:nixtla.nixtla_client:Inferred freq: D\n",
      "INFO:nixtla.nixtla_client:Preprocessing dataframes...\n",
      "INFO:nixtla.nixtla_client:Restricting input...\n",
      "INFO:nixtla.nixtla_client:Calling Forecast Endpoint...\n"
     ]
    },
    {
     "name": "stdout",
     "output_type": "stream",
     "text": [
      "root:  [41, 42, 43, 44, 45, 46, 47, 48, 49, 50]\n",
      "to be predicted:  [51, 52, 53, 54, 55, 56, 57, 58, 59, 60]\n"
     ]
    },
    {
     "name": "stderr",
     "output_type": "stream",
     "text": [
      "INFO:nixtla.nixtla_client:Validating inputs...\n",
      "INFO:nixtla.nixtla_client:Inferred freq: D\n",
      "INFO:nixtla.nixtla_client:Preprocessing dataframes...\n",
      "INFO:nixtla.nixtla_client:Restricting input...\n",
      "INFO:nixtla.nixtla_client:Calling Forecast Endpoint...\n"
     ]
    },
    {
     "name": "stdout",
     "output_type": "stream",
     "text": [
      "root:  [51, 52, 53, 54, 55, 56, 57, 58, 59, 60]\n",
      "to be predicted:  [61, 62, 63, 64, 65, 66, 67, 68, 69, 70]\n"
     ]
    },
    {
     "name": "stderr",
     "output_type": "stream",
     "text": [
      "INFO:nixtla.nixtla_client:Validating inputs...\n",
      "INFO:nixtla.nixtla_client:Inferred freq: D\n",
      "INFO:nixtla.nixtla_client:Preprocessing dataframes...\n",
      "INFO:nixtla.nixtla_client:Restricting input...\n",
      "INFO:nixtla.nixtla_client:Calling Forecast Endpoint...\n"
     ]
    },
    {
     "name": "stdout",
     "output_type": "stream",
     "text": [
      "root:  [61, 62, 63, 64, 65, 66, 67, 68, 69, 70]\n",
      "to be predicted:  [71, 72, 73, 74, 75, 76, 77, 78, 79, 80]\n"
     ]
    },
    {
     "name": "stderr",
     "output_type": "stream",
     "text": [
      "INFO:nixtla.nixtla_client:Validating inputs...\n",
      "INFO:nixtla.nixtla_client:Inferred freq: D\n",
      "INFO:nixtla.nixtla_client:Preprocessing dataframes...\n",
      "INFO:nixtla.nixtla_client:Restricting input...\n",
      "INFO:nixtla.nixtla_client:Calling Forecast Endpoint...\n"
     ]
    },
    {
     "name": "stdout",
     "output_type": "stream",
     "text": [
      "root:  [71, 72, 73, 74, 75, 76, 77, 78, 79, 80]\n",
      "to be predicted:  [81, 82, 83, 84, 85, 86, 87, 88, 89, 90]\n"
     ]
    },
    {
     "name": "stderr",
     "output_type": "stream",
     "text": [
      "INFO:nixtla.nixtla_client:Validating inputs...\n",
      "INFO:nixtla.nixtla_client:Inferred freq: D\n",
      "INFO:nixtla.nixtla_client:Preprocessing dataframes...\n",
      "INFO:nixtla.nixtla_client:Restricting input...\n",
      "INFO:nixtla.nixtla_client:Calling Forecast Endpoint...\n"
     ]
    },
    {
     "name": "stdout",
     "output_type": "stream",
     "text": [
      "root:  [81, 82, 83, 84, 85, 86, 87, 88, 89, 90]\n",
      "to be predicted:  [91, 92, 93, 94, 95, 96, 97, 98, 99, 100]\n"
     ]
    },
    {
     "name": "stderr",
     "output_type": "stream",
     "text": [
      "INFO:nixtla.nixtla_client:Validating inputs...\n",
      "INFO:nixtla.nixtla_client:Inferred freq: D\n",
      "INFO:nixtla.nixtla_client:Preprocessing dataframes...\n",
      "INFO:nixtla.nixtla_client:Restricting input...\n",
      "INFO:nixtla.nixtla_client:Calling Forecast Endpoint...\n"
     ]
    },
    {
     "name": "stdout",
     "output_type": "stream",
     "text": [
      "root:  [91, 92, 93, 94, 95, 96, 97, 98, 99, 100]\n",
      "to be predicted:  [101, 102, 103, 104, 105, 106, 107, 108, 109, 110]\n"
     ]
    },
    {
     "name": "stderr",
     "output_type": "stream",
     "text": [
      "INFO:nixtla.nixtla_client:Validating inputs...\n",
      "INFO:nixtla.nixtla_client:Inferred freq: D\n",
      "INFO:nixtla.nixtla_client:Preprocessing dataframes...\n",
      "INFO:nixtla.nixtla_client:Restricting input...\n",
      "INFO:nixtla.nixtla_client:Calling Forecast Endpoint...\n"
     ]
    },
    {
     "name": "stdout",
     "output_type": "stream",
     "text": [
      "root:  [101, 102, 103, 104, 105, 106, 107, 108, 109, 110]\n",
      "to be predicted:  [111, 112, 113, 114, 115, 116, 117, 118, 119, 120]\n"
     ]
    },
    {
     "name": "stderr",
     "output_type": "stream",
     "text": [
      "INFO:nixtla.nixtla_client:Validating inputs...\n",
      "INFO:nixtla.nixtla_client:Inferred freq: D\n",
      "INFO:nixtla.nixtla_client:Preprocessing dataframes...\n",
      "INFO:nixtla.nixtla_client:Restricting input...\n",
      "INFO:nixtla.nixtla_client:Calling Forecast Endpoint...\n"
     ]
    },
    {
     "name": "stdout",
     "output_type": "stream",
     "text": [
      "root:  [111, 112, 113, 114, 115, 116, 117, 118, 119, 120]\n",
      "to be predicted:  [121, 122, 123, 124, 125, 126, 127, 128, 129, 130]\n"
     ]
    },
    {
     "name": "stderr",
     "output_type": "stream",
     "text": [
      "INFO:nixtla.nixtla_client:Validating inputs...\n",
      "INFO:nixtla.nixtla_client:Inferred freq: D\n",
      "INFO:nixtla.nixtla_client:Preprocessing dataframes...\n",
      "INFO:nixtla.nixtla_client:Restricting input...\n",
      "INFO:nixtla.nixtla_client:Calling Forecast Endpoint...\n"
     ]
    },
    {
     "name": "stdout",
     "output_type": "stream",
     "text": [
      "root:  [121, 122, 123, 124, 125, 126, 127, 128, 129, 130]\n",
      "to be predicted:  [131, 132, 133, 134, 135, 136, 137, 138, 139, 140]\n"
     ]
    },
    {
     "name": "stderr",
     "output_type": "stream",
     "text": [
      "INFO:nixtla.nixtla_client:Validating inputs...\n",
      "INFO:nixtla.nixtla_client:Inferred freq: D\n",
      "INFO:nixtla.nixtla_client:Preprocessing dataframes...\n",
      "INFO:nixtla.nixtla_client:Restricting input...\n",
      "INFO:nixtla.nixtla_client:Calling Forecast Endpoint...\n"
     ]
    },
    {
     "name": "stdout",
     "output_type": "stream",
     "text": [
      "root:  [131, 132, 133, 134, 135, 136, 137, 138, 139, 140]\n",
      "to be predicted:  [141, 142, 143, 144, 145, 146, 147, 148, 149, 150]\n"
     ]
    },
    {
     "name": "stderr",
     "output_type": "stream",
     "text": [
      "INFO:nixtla.nixtla_client:Validating inputs...\n",
      "INFO:nixtla.nixtla_client:Inferred freq: D\n",
      "INFO:nixtla.nixtla_client:Preprocessing dataframes...\n",
      "INFO:nixtla.nixtla_client:Restricting input...\n",
      "INFO:nixtla.nixtla_client:Calling Forecast Endpoint...\n"
     ]
    },
    {
     "name": "stdout",
     "output_type": "stream",
     "text": [
      "root:  [141, 142, 143, 144, 145, 146, 147, 148, 149, 150]\n",
      "to be predicted:  [151, 152, 153, 154, 155, 156, 157, 158, 159, 160]\n"
     ]
    },
    {
     "name": "stderr",
     "output_type": "stream",
     "text": [
      "INFO:nixtla.nixtla_client:Validating inputs...\n",
      "INFO:nixtla.nixtla_client:Inferred freq: D\n",
      "INFO:nixtla.nixtla_client:Preprocessing dataframes...\n",
      "INFO:nixtla.nixtla_client:Restricting input...\n",
      "INFO:nixtla.nixtla_client:Calling Forecast Endpoint...\n"
     ]
    },
    {
     "name": "stdout",
     "output_type": "stream",
     "text": [
      "root:  [151, 152, 153, 154, 155, 156, 157, 158, 159, 160]\n",
      "to be predicted:  [161, 162, 163, 164, 165, 166, 167, 168, 169, 170]\n"
     ]
    },
    {
     "name": "stderr",
     "output_type": "stream",
     "text": [
      "INFO:nixtla.nixtla_client:Validating inputs...\n",
      "INFO:nixtla.nixtla_client:Inferred freq: D\n",
      "INFO:nixtla.nixtla_client:Preprocessing dataframes...\n",
      "INFO:nixtla.nixtla_client:Restricting input...\n",
      "INFO:nixtla.nixtla_client:Calling Forecast Endpoint...\n"
     ]
    },
    {
     "name": "stdout",
     "output_type": "stream",
     "text": [
      "root:  [161, 162, 163, 164, 165, 166, 167, 168, 169, 170]\n",
      "to be predicted:  [171, 172, 173, 174, 175, 176, 177, 178, 179, 180]\n"
     ]
    },
    {
     "name": "stderr",
     "output_type": "stream",
     "text": [
      "INFO:nixtla.nixtla_client:Validating inputs...\n",
      "INFO:nixtla.nixtla_client:Inferred freq: D\n",
      "INFO:nixtla.nixtla_client:Preprocessing dataframes...\n",
      "INFO:nixtla.nixtla_client:Restricting input...\n",
      "INFO:nixtla.nixtla_client:Calling Forecast Endpoint...\n"
     ]
    },
    {
     "name": "stdout",
     "output_type": "stream",
     "text": [
      "root:  [171, 172, 173, 174, 175, 176, 177, 178, 179, 180]\n",
      "to be predicted:  [181, 182, 183, 184, 185, 186, 187, 188, 189, 190]\n"
     ]
    },
    {
     "name": "stderr",
     "output_type": "stream",
     "text": [
      "INFO:nixtla.nixtla_client:Validating inputs...\n",
      "INFO:nixtla.nixtla_client:Inferred freq: D\n",
      "INFO:nixtla.nixtla_client:Preprocessing dataframes...\n",
      "INFO:nixtla.nixtla_client:Restricting input...\n",
      "INFO:nixtla.nixtla_client:Calling Forecast Endpoint...\n"
     ]
    },
    {
     "name": "stdout",
     "output_type": "stream",
     "text": [
      "root:  [181, 182, 183, 184, 185, 186, 187, 188, 189, 190]\n",
      "to be predicted:  [191, 192, 193, 194, 195, 196, 197, 198, 199, 200]\n"
     ]
    },
    {
     "name": "stderr",
     "output_type": "stream",
     "text": [
      "predicting sequences: 100%|██████████| 30/30 [00:18<00:00,  1.63it/s]\n",
      "percentages...:  75%|███████▌  | 3/4 [01:17<00:25, 25.19s/it]"
     ]
    },
    {
     "name": "stdout",
     "output_type": "stream",
     "text": [
      "root:  [191, 192, 193, 194, 195, 196, 197, 198, 199, 200]\n",
      "to be predicted:  [201, 202, 203, 204, 205, 206, 207, 208, 209, 210]\n"
     ]
    },
    {
     "name": "stderr",
     "output_type": "stream",
     "text": [
      "INFO:nixtla.nixtla_client:Validating inputs...\n",
      "INFO:nixtla.nixtla_client:Inferred freq: D\n",
      "INFO:nixtla.nixtla_client:Preprocessing dataframes...\n",
      "INFO:nixtla.nixtla_client:Restricting input...\n",
      "INFO:nixtla.nixtla_client:Calling Forecast Endpoint...\n",
      "INFO:nixtla.nixtla_client:Validating inputs...\n",
      "INFO:nixtla.nixtla_client:Inferred freq: D\n",
      "INFO:nixtla.nixtla_client:Preprocessing dataframes...\n",
      "INFO:nixtla.nixtla_client:Restricting input...\n",
      "INFO:nixtla.nixtla_client:Calling Forecast Endpoint...\n"
     ]
    },
    {
     "name": "stdout",
     "output_type": "stream",
     "text": [
      "root:  [2, 4, 6, 8, 10]\n",
      "to be predicted:  [12, 14, 16, 18, 20, 22, 24, 26, 28, 30, 32, 34, 36, 38, 40]\n"
     ]
    },
    {
     "name": "stderr",
     "output_type": "stream",
     "text": [
      "INFO:nixtla.nixtla_client:Validating inputs...\n",
      "INFO:nixtla.nixtla_client:Inferred freq: D\n",
      "INFO:nixtla.nixtla_client:Preprocessing dataframes...\n",
      "INFO:nixtla.nixtla_client:Restricting input...\n",
      "INFO:nixtla.nixtla_client:Calling Forecast Endpoint...\n"
     ]
    },
    {
     "name": "stdout",
     "output_type": "stream",
     "text": [
      "root:  [3, 6, 9, 12, 15]\n",
      "to be predicted:  [18, 21, 24, 27, 30, 33, 36, 39, 42, 45, 48, 51, 54, 57, 60]\n"
     ]
    },
    {
     "name": "stderr",
     "output_type": "stream",
     "text": [
      "INFO:nixtla.nixtla_client:Validating inputs...\n",
      "INFO:nixtla.nixtla_client:Inferred freq: D\n",
      "INFO:nixtla.nixtla_client:Preprocessing dataframes...\n",
      "INFO:nixtla.nixtla_client:Restricting input...\n",
      "INFO:nixtla.nixtla_client:Calling Forecast Endpoint...\n"
     ]
    },
    {
     "name": "stdout",
     "output_type": "stream",
     "text": [
      "root:  [4, 8, 12, 16, 20]\n",
      "to be predicted:  [24, 28, 32, 36, 40, 44, 48, 52, 56, 60, 64, 68, 72, 76, 80]\n"
     ]
    },
    {
     "name": "stderr",
     "output_type": "stream",
     "text": [
      "INFO:nixtla.nixtla_client:Validating inputs...\n",
      "INFO:nixtla.nixtla_client:Inferred freq: D\n",
      "INFO:nixtla.nixtla_client:Preprocessing dataframes...\n",
      "INFO:nixtla.nixtla_client:Restricting input...\n",
      "INFO:nixtla.nixtla_client:Calling Forecast Endpoint...\n"
     ]
    },
    {
     "name": "stdout",
     "output_type": "stream",
     "text": [
      "root:  [5, 10, 15, 20, 25]\n",
      "to be predicted:  [30, 35, 40, 45, 50, 55, 60, 65, 70, 75, 80, 85, 90, 95, 100]\n"
     ]
    },
    {
     "name": "stderr",
     "output_type": "stream",
     "text": [
      "INFO:nixtla.nixtla_client:Validating inputs...\n",
      "INFO:nixtla.nixtla_client:Inferred freq: D\n",
      "INFO:nixtla.nixtla_client:Preprocessing dataframes...\n",
      "INFO:nixtla.nixtla_client:Restricting input...\n",
      "INFO:nixtla.nixtla_client:Calling Forecast Endpoint...\n"
     ]
    },
    {
     "name": "stdout",
     "output_type": "stream",
     "text": [
      "root:  [6, 12, 18, 24, 30]\n",
      "to be predicted:  [36, 42, 48, 54, 60, 66, 72, 78, 84, 90, 96, 102, 108, 114, 120]\n"
     ]
    },
    {
     "name": "stderr",
     "output_type": "stream",
     "text": [
      "INFO:nixtla.nixtla_client:Validating inputs...\n",
      "INFO:nixtla.nixtla_client:Inferred freq: D\n",
      "INFO:nixtla.nixtla_client:Preprocessing dataframes...\n",
      "INFO:nixtla.nixtla_client:Restricting input...\n",
      "INFO:nixtla.nixtla_client:Calling Forecast Endpoint...\n"
     ]
    },
    {
     "name": "stdout",
     "output_type": "stream",
     "text": [
      "root:  [7, 14, 21, 28, 35]\n",
      "to be predicted:  [42, 49, 56, 63, 70, 77, 84, 91, 98, 105, 112, 119, 126, 133, 140]\n"
     ]
    },
    {
     "name": "stderr",
     "output_type": "stream",
     "text": [
      "INFO:nixtla.nixtla_client:Validating inputs...\n",
      "INFO:nixtla.nixtla_client:Inferred freq: D\n",
      "INFO:nixtla.nixtla_client:Preprocessing dataframes...\n",
      "INFO:nixtla.nixtla_client:Restricting input...\n",
      "INFO:nixtla.nixtla_client:Calling Forecast Endpoint...\n"
     ]
    },
    {
     "name": "stdout",
     "output_type": "stream",
     "text": [
      "root:  [8, 16, 24, 32, 40]\n",
      "to be predicted:  [48, 56, 64, 72, 80, 88, 96, 104, 112, 120, 128, 136, 144, 152, 160]\n"
     ]
    },
    {
     "name": "stderr",
     "output_type": "stream",
     "text": [
      "INFO:nixtla.nixtla_client:Validating inputs...\n",
      "INFO:nixtla.nixtla_client:Inferred freq: D\n",
      "INFO:nixtla.nixtla_client:Preprocessing dataframes...\n",
      "INFO:nixtla.nixtla_client:Restricting input...\n",
      "INFO:nixtla.nixtla_client:Calling Forecast Endpoint...\n"
     ]
    },
    {
     "name": "stdout",
     "output_type": "stream",
     "text": [
      "root:  [9, 18, 27, 36, 45]\n",
      "to be predicted:  [54, 63, 72, 81, 90, 99, 108, 117, 126, 135, 144, 153, 162, 171, 180]\n"
     ]
    },
    {
     "name": "stderr",
     "output_type": "stream",
     "text": [
      "INFO:nixtla.nixtla_client:Validating inputs...\n",
      "INFO:nixtla.nixtla_client:Inferred freq: D\n",
      "INFO:nixtla.nixtla_client:Preprocessing dataframes...\n",
      "INFO:nixtla.nixtla_client:Restricting input...\n",
      "INFO:nixtla.nixtla_client:Calling Forecast Endpoint...\n"
     ]
    },
    {
     "name": "stdout",
     "output_type": "stream",
     "text": [
      "root:  [10, 20, 30, 40, 50]\n",
      "to be predicted:  [60, 70, 80, 90, 100, 110, 120, 130, 140, 150, 160, 170, 180, 190, 200]\n"
     ]
    },
    {
     "name": "stderr",
     "output_type": "stream",
     "text": [
      "INFO:nixtla.nixtla_client:Validating inputs...\n",
      "INFO:nixtla.nixtla_client:Inferred freq: D\n",
      "INFO:nixtla.nixtla_client:Preprocessing dataframes...\n",
      "INFO:nixtla.nixtla_client:Restricting input...\n",
      "INFO:nixtla.nixtla_client:Calling Forecast Endpoint...\n"
     ]
    },
    {
     "name": "stdout",
     "output_type": "stream",
     "text": [
      "root:  [1, 3, 5, 7, 9]\n",
      "to be predicted:  [11, 13, 15, 17, 19, 21, 23, 25, 27, 29, 31, 33, 35, 37, 39]\n"
     ]
    },
    {
     "name": "stderr",
     "output_type": "stream",
     "text": [
      "INFO:nixtla.nixtla_client:Validating inputs...\n",
      "INFO:nixtla.nixtla_client:Inferred freq: D\n",
      "INFO:nixtla.nixtla_client:Preprocessing dataframes...\n",
      "INFO:nixtla.nixtla_client:Restricting input...\n",
      "INFO:nixtla.nixtla_client:Calling Forecast Endpoint...\n"
     ]
    },
    {
     "name": "stdout",
     "output_type": "stream",
     "text": [
      "root:  [2, 4, 6, 8, 10]\n",
      "to be predicted:  [12, 14, 16, 18, 20, 22, 24, 26, 28, 30, 32, 34, 36, 38, 40]\n"
     ]
    },
    {
     "name": "stderr",
     "output_type": "stream",
     "text": [
      "INFO:nixtla.nixtla_client:Validating inputs...\n",
      "INFO:nixtla.nixtla_client:Inferred freq: D\n",
      "INFO:nixtla.nixtla_client:Preprocessing dataframes...\n",
      "INFO:nixtla.nixtla_client:Restricting input...\n",
      "INFO:nixtla.nixtla_client:Calling Forecast Endpoint...\n"
     ]
    },
    {
     "name": "stdout",
     "output_type": "stream",
     "text": [
      "root:  [11, 12, 13, 14, 15]\n",
      "to be predicted:  [16, 17, 18, 19, 20, 21, 22, 23, 24, 25, 26, 27, 28, 29, 30]\n"
     ]
    },
    {
     "name": "stderr",
     "output_type": "stream",
     "text": [
      "INFO:nixtla.nixtla_client:Validating inputs...\n",
      "INFO:nixtla.nixtla_client:Inferred freq: D\n",
      "INFO:nixtla.nixtla_client:Preprocessing dataframes...\n",
      "INFO:nixtla.nixtla_client:Restricting input...\n",
      "INFO:nixtla.nixtla_client:Calling Forecast Endpoint...\n"
     ]
    },
    {
     "name": "stdout",
     "output_type": "stream",
     "text": [
      "root:  [21, 22, 23, 24, 25]\n",
      "to be predicted:  [26, 27, 28, 29, 30, 31, 32, 33, 34, 35, 36, 37, 38, 39, 40]\n"
     ]
    },
    {
     "name": "stderr",
     "output_type": "stream",
     "text": [
      "INFO:nixtla.nixtla_client:Validating inputs...\n",
      "INFO:nixtla.nixtla_client:Inferred freq: D\n",
      "INFO:nixtla.nixtla_client:Preprocessing dataframes...\n",
      "INFO:nixtla.nixtla_client:Restricting input...\n",
      "INFO:nixtla.nixtla_client:Calling Forecast Endpoint...\n"
     ]
    },
    {
     "name": "stdout",
     "output_type": "stream",
     "text": [
      "root:  [31, 32, 33, 34, 35]\n",
      "to be predicted:  [36, 37, 38, 39, 40, 41, 42, 43, 44, 45, 46, 47, 48, 49, 50]\n"
     ]
    },
    {
     "name": "stderr",
     "output_type": "stream",
     "text": [
      "INFO:nixtla.nixtla_client:Validating inputs...\n",
      "INFO:nixtla.nixtla_client:Inferred freq: D\n",
      "INFO:nixtla.nixtla_client:Preprocessing dataframes...\n",
      "INFO:nixtla.nixtla_client:Restricting input...\n",
      "INFO:nixtla.nixtla_client:Calling Forecast Endpoint...\n"
     ]
    },
    {
     "name": "stdout",
     "output_type": "stream",
     "text": [
      "root:  [41, 42, 43, 44, 45]\n",
      "to be predicted:  [46, 47, 48, 49, 50, 51, 52, 53, 54, 55, 56, 57, 58, 59, 60]\n"
     ]
    },
    {
     "name": "stderr",
     "output_type": "stream",
     "text": [
      "INFO:nixtla.nixtla_client:Validating inputs...\n",
      "INFO:nixtla.nixtla_client:Inferred freq: D\n",
      "INFO:nixtla.nixtla_client:Preprocessing dataframes...\n",
      "INFO:nixtla.nixtla_client:Restricting input...\n",
      "INFO:nixtla.nixtla_client:Calling Forecast Endpoint...\n"
     ]
    },
    {
     "name": "stdout",
     "output_type": "stream",
     "text": [
      "root:  [51, 52, 53, 54, 55]\n",
      "to be predicted:  [56, 57, 58, 59, 60, 61, 62, 63, 64, 65, 66, 67, 68, 69, 70]\n"
     ]
    },
    {
     "name": "stderr",
     "output_type": "stream",
     "text": [
      "INFO:nixtla.nixtla_client:Validating inputs...\n",
      "INFO:nixtla.nixtla_client:Inferred freq: D\n",
      "INFO:nixtla.nixtla_client:Preprocessing dataframes...\n",
      "INFO:nixtla.nixtla_client:Restricting input...\n",
      "INFO:nixtla.nixtla_client:Calling Forecast Endpoint...\n"
     ]
    },
    {
     "name": "stdout",
     "output_type": "stream",
     "text": [
      "root:  [61, 62, 63, 64, 65]\n",
      "to be predicted:  [66, 67, 68, 69, 70, 71, 72, 73, 74, 75, 76, 77, 78, 79, 80]\n"
     ]
    },
    {
     "name": "stderr",
     "output_type": "stream",
     "text": [
      "INFO:nixtla.nixtla_client:Validating inputs...\n",
      "INFO:nixtla.nixtla_client:Inferred freq: D\n",
      "INFO:nixtla.nixtla_client:Preprocessing dataframes...\n",
      "INFO:nixtla.nixtla_client:Restricting input...\n",
      "INFO:nixtla.nixtla_client:Calling Forecast Endpoint...\n"
     ]
    },
    {
     "name": "stdout",
     "output_type": "stream",
     "text": [
      "root:  [71, 72, 73, 74, 75]\n",
      "to be predicted:  [76, 77, 78, 79, 80, 81, 82, 83, 84, 85, 86, 87, 88, 89, 90]\n"
     ]
    },
    {
     "name": "stderr",
     "output_type": "stream",
     "text": [
      "INFO:nixtla.nixtla_client:Validating inputs...\n",
      "INFO:nixtla.nixtla_client:Inferred freq: D\n",
      "INFO:nixtla.nixtla_client:Preprocessing dataframes...\n",
      "INFO:nixtla.nixtla_client:Restricting input...\n",
      "INFO:nixtla.nixtla_client:Calling Forecast Endpoint...\n"
     ]
    },
    {
     "name": "stdout",
     "output_type": "stream",
     "text": [
      "root:  [81, 82, 83, 84, 85]\n",
      "to be predicted:  [86, 87, 88, 89, 90, 91, 92, 93, 94, 95, 96, 97, 98, 99, 100]\n"
     ]
    },
    {
     "name": "stderr",
     "output_type": "stream",
     "text": [
      "INFO:nixtla.nixtla_client:Validating inputs...\n",
      "INFO:nixtla.nixtla_client:Inferred freq: D\n",
      "INFO:nixtla.nixtla_client:Preprocessing dataframes...\n",
      "INFO:nixtla.nixtla_client:Restricting input...\n",
      "INFO:nixtla.nixtla_client:Calling Forecast Endpoint...\n"
     ]
    },
    {
     "name": "stdout",
     "output_type": "stream",
     "text": [
      "root:  [91, 92, 93, 94, 95]\n",
      "to be predicted:  [96, 97, 98, 99, 100, 101, 102, 103, 104, 105, 106, 107, 108, 109, 110]\n"
     ]
    },
    {
     "name": "stderr",
     "output_type": "stream",
     "text": [
      "INFO:nixtla.nixtla_client:Validating inputs...\n",
      "INFO:nixtla.nixtla_client:Inferred freq: D\n",
      "INFO:nixtla.nixtla_client:Preprocessing dataframes...\n",
      "INFO:nixtla.nixtla_client:Restricting input...\n",
      "INFO:nixtla.nixtla_client:Calling Forecast Endpoint...\n"
     ]
    },
    {
     "name": "stdout",
     "output_type": "stream",
     "text": [
      "root:  [101, 102, 103, 104, 105]\n",
      "to be predicted:  [106, 107, 108, 109, 110, 111, 112, 113, 114, 115, 116, 117, 118, 119, 120]\n"
     ]
    },
    {
     "name": "stderr",
     "output_type": "stream",
     "text": [
      "INFO:nixtla.nixtla_client:Validating inputs...\n",
      "INFO:nixtla.nixtla_client:Inferred freq: D\n",
      "INFO:nixtla.nixtla_client:Preprocessing dataframes...\n",
      "INFO:nixtla.nixtla_client:Restricting input...\n",
      "INFO:nixtla.nixtla_client:Calling Forecast Endpoint...\n"
     ]
    },
    {
     "name": "stdout",
     "output_type": "stream",
     "text": [
      "root:  [111, 112, 113, 114, 115]\n",
      "to be predicted:  [116, 117, 118, 119, 120, 121, 122, 123, 124, 125, 126, 127, 128, 129, 130]\n"
     ]
    },
    {
     "name": "stderr",
     "output_type": "stream",
     "text": [
      "INFO:nixtla.nixtla_client:Validating inputs...\n",
      "INFO:nixtla.nixtla_client:Inferred freq: D\n",
      "INFO:nixtla.nixtla_client:Preprocessing dataframes...\n",
      "INFO:nixtla.nixtla_client:Restricting input...\n",
      "INFO:nixtla.nixtla_client:Calling Forecast Endpoint...\n"
     ]
    },
    {
     "name": "stdout",
     "output_type": "stream",
     "text": [
      "root:  [121, 122, 123, 124, 125]\n",
      "to be predicted:  [126, 127, 128, 129, 130, 131, 132, 133, 134, 135, 136, 137, 138, 139, 140]\n"
     ]
    },
    {
     "name": "stderr",
     "output_type": "stream",
     "text": [
      "INFO:nixtla.nixtla_client:Validating inputs...\n",
      "INFO:nixtla.nixtla_client:Inferred freq: D\n",
      "INFO:nixtla.nixtla_client:Preprocessing dataframes...\n",
      "INFO:nixtla.nixtla_client:Restricting input...\n",
      "INFO:nixtla.nixtla_client:Calling Forecast Endpoint...\n"
     ]
    },
    {
     "name": "stdout",
     "output_type": "stream",
     "text": [
      "root:  [131, 132, 133, 134, 135]\n",
      "to be predicted:  [136, 137, 138, 139, 140, 141, 142, 143, 144, 145, 146, 147, 148, 149, 150]\n"
     ]
    },
    {
     "name": "stderr",
     "output_type": "stream",
     "text": [
      "INFO:nixtla.nixtla_client:Validating inputs...\n",
      "INFO:nixtla.nixtla_client:Inferred freq: D\n",
      "INFO:nixtla.nixtla_client:Preprocessing dataframes...\n",
      "INFO:nixtla.nixtla_client:Restricting input...\n",
      "INFO:nixtla.nixtla_client:Calling Forecast Endpoint...\n"
     ]
    },
    {
     "name": "stdout",
     "output_type": "stream",
     "text": [
      "root:  [141, 142, 143, 144, 145]\n",
      "to be predicted:  [146, 147, 148, 149, 150, 151, 152, 153, 154, 155, 156, 157, 158, 159, 160]\n"
     ]
    },
    {
     "name": "stderr",
     "output_type": "stream",
     "text": [
      "INFO:nixtla.nixtla_client:Validating inputs...\n",
      "INFO:nixtla.nixtla_client:Inferred freq: D\n",
      "INFO:nixtla.nixtla_client:Preprocessing dataframes...\n",
      "INFO:nixtla.nixtla_client:Restricting input...\n",
      "INFO:nixtla.nixtla_client:Calling Forecast Endpoint...\n"
     ]
    },
    {
     "name": "stdout",
     "output_type": "stream",
     "text": [
      "root:  [151, 152, 153, 154, 155]\n",
      "to be predicted:  [156, 157, 158, 159, 160, 161, 162, 163, 164, 165, 166, 167, 168, 169, 170]\n"
     ]
    },
    {
     "name": "stderr",
     "output_type": "stream",
     "text": [
      "INFO:nixtla.nixtla_client:Validating inputs...\n",
      "INFO:nixtla.nixtla_client:Inferred freq: D\n",
      "INFO:nixtla.nixtla_client:Preprocessing dataframes...\n",
      "INFO:nixtla.nixtla_client:Restricting input...\n",
      "INFO:nixtla.nixtla_client:Calling Forecast Endpoint...\n"
     ]
    },
    {
     "name": "stdout",
     "output_type": "stream",
     "text": [
      "root:  [161, 162, 163, 164, 165]\n",
      "to be predicted:  [166, 167, 168, 169, 170, 171, 172, 173, 174, 175, 176, 177, 178, 179, 180]\n"
     ]
    },
    {
     "name": "stderr",
     "output_type": "stream",
     "text": [
      "INFO:nixtla.nixtla_client:Validating inputs...\n",
      "INFO:nixtla.nixtla_client:Inferred freq: D\n",
      "INFO:nixtla.nixtla_client:Preprocessing dataframes...\n",
      "INFO:nixtla.nixtla_client:Restricting input...\n",
      "INFO:nixtla.nixtla_client:Calling Forecast Endpoint...\n"
     ]
    },
    {
     "name": "stdout",
     "output_type": "stream",
     "text": [
      "root:  [171, 172, 173, 174, 175]\n",
      "to be predicted:  [176, 177, 178, 179, 180, 181, 182, 183, 184, 185, 186, 187, 188, 189, 190]\n"
     ]
    },
    {
     "name": "stderr",
     "output_type": "stream",
     "text": [
      "INFO:nixtla.nixtla_client:Validating inputs...\n",
      "INFO:nixtla.nixtla_client:Inferred freq: D\n",
      "INFO:nixtla.nixtla_client:Preprocessing dataframes...\n",
      "INFO:nixtla.nixtla_client:Restricting input...\n",
      "INFO:nixtla.nixtla_client:Calling Forecast Endpoint...\n"
     ]
    },
    {
     "name": "stdout",
     "output_type": "stream",
     "text": [
      "root:  [181, 182, 183, 184, 185]\n",
      "to be predicted:  [186, 187, 188, 189, 190, 191, 192, 193, 194, 195, 196, 197, 198, 199, 200]\n"
     ]
    },
    {
     "name": "stderr",
     "output_type": "stream",
     "text": [
      "predicting sequences: 100%|██████████| 30/30 [00:20<00:00,  1.49it/s]\n",
      "percentages...: 100%|██████████| 4/4 [01:37<00:00, 24.36s/it]"
     ]
    },
    {
     "name": "stdout",
     "output_type": "stream",
     "text": [
      "root:  [191, 192, 193, 194, 195]\n",
      "to be predicted:  [196, 197, 198, 199, 200, 201, 202, 203, 204, 205, 206, 207, 208, 209, 210]\n"
     ]
    },
    {
     "name": "stderr",
     "output_type": "stream",
     "text": [
      "\n"
     ]
    },
    {
     "data": {
      "text/html": [
       "<div>\n",
       "<style scoped>\n",
       "    .dataframe tbody tr th:only-of-type {\n",
       "        vertical-align: middle;\n",
       "    }\n",
       "\n",
       "    .dataframe tbody tr th {\n",
       "        vertical-align: top;\n",
       "    }\n",
       "\n",
       "    .dataframe thead th {\n",
       "        text-align: right;\n",
       "    }\n",
       "</style>\n",
       "<table border=\"1\" class=\"dataframe\">\n",
       "  <thead>\n",
       "    <tr style=\"text-align: right;\">\n",
       "      <th></th>\n",
       "      <th>sort_simi_percen_10</th>\n",
       "      <th>gral_simi_percen_10</th>\n",
       "      <th>levenshtein_10</th>\n",
       "      <th>forecasted_10</th>\n",
       "      <th>root_10</th>\n",
       "      <th>to_predict_10</th>\n",
       "      <th>sort_simi_percen_25</th>\n",
       "      <th>gral_simi_percen_25</th>\n",
       "      <th>levenshtein_25</th>\n",
       "      <th>forecasted_25</th>\n",
       "      <th>...</th>\n",
       "      <th>to_predict_50</th>\n",
       "      <th>sort_simi_percen_75</th>\n",
       "      <th>gral_simi_percen_75</th>\n",
       "      <th>levenshtein_75</th>\n",
       "      <th>forecasted_75</th>\n",
       "      <th>root_75</th>\n",
       "      <th>to_predict_75</th>\n",
       "      <th>complexity</th>\n",
       "      <th>forecasting_method_name</th>\n",
       "      <th>seq_type</th>\n",
       "    </tr>\n",
       "  </thead>\n",
       "  <tbody>\n",
       "    <tr>\n",
       "      <th>0</th>\n",
       "      <td>0.0</td>\n",
       "      <td>0.000000</td>\n",
       "      <td>3</td>\n",
       "      <td>[36, 35]</td>\n",
       "      <td>[2, 4, 6, 8, 10, 12, 14, 16, 18, 20, 22, 24, 2...</td>\n",
       "      <td>[38, 40]</td>\n",
       "      <td>0.0</td>\n",
       "      <td>0.000000</td>\n",
       "      <td>9</td>\n",
       "      <td>[26, 26, 26, 27, 27]</td>\n",
       "      <td>...</td>\n",
       "      <td>[22, 24, 26, 28, 30, 32, 34, 36, 38, 40]</td>\n",
       "      <td>0.0</td>\n",
       "      <td>0.000000</td>\n",
       "      <td>28</td>\n",
       "      <td>[9, 8, 6, 6, 7, 9, 9, 8, 8, 7, 6, 7, 8, 9, 9]</td>\n",
       "      <td>[2, 4, 6, 8, 10]</td>\n",
       "      <td>[12, 14, 16, 18, 20, 22, 24, 26, 28, 30, 32, 3...</td>\n",
       "      <td>1</td>\n",
       "      <td>timeGPT</td>\n",
       "      <td>extended</td>\n",
       "    </tr>\n",
       "    <tr>\n",
       "      <th>1</th>\n",
       "      <td>0.0</td>\n",
       "      <td>0.000000</td>\n",
       "      <td>3</td>\n",
       "      <td>[53, 52]</td>\n",
       "      <td>[3, 6, 9, 12, 15, 18, 21, 24, 27, 30, 33, 36, ...</td>\n",
       "      <td>[57, 60]</td>\n",
       "      <td>0.0</td>\n",
       "      <td>0.000000</td>\n",
       "      <td>10</td>\n",
       "      <td>[39, 38, 40, 41, 41]</td>\n",
       "      <td>...</td>\n",
       "      <td>[33, 36, 39, 42, 45, 48, 51, 54, 57, 60]</td>\n",
       "      <td>0.0</td>\n",
       "      <td>0.000000</td>\n",
       "      <td>25</td>\n",
       "      <td>[13, 12, 10, 8, 10, 13, 13, 13, 12, 10, 9, 11,...</td>\n",
       "      <td>[3, 6, 9, 12, 15]</td>\n",
       "      <td>[18, 21, 24, 27, 30, 33, 36, 39, 42, 45, 48, 5...</td>\n",
       "      <td>1</td>\n",
       "      <td>timeGPT</td>\n",
       "      <td>extended</td>\n",
       "    </tr>\n",
       "    <tr>\n",
       "      <th>2</th>\n",
       "      <td>0.0</td>\n",
       "      <td>0.000000</td>\n",
       "      <td>2</td>\n",
       "      <td>[71, 70]</td>\n",
       "      <td>[4, 8, 12, 16, 20, 24, 28, 32, 36, 40, 44, 48,...</td>\n",
       "      <td>[76, 80]</td>\n",
       "      <td>0.0</td>\n",
       "      <td>0.000000</td>\n",
       "      <td>10</td>\n",
       "      <td>[52, 51, 53, 55, 54]</td>\n",
       "      <td>...</td>\n",
       "      <td>[44, 48, 52, 56, 60, 64, 68, 72, 76, 80]</td>\n",
       "      <td>0.0</td>\n",
       "      <td>0.000000</td>\n",
       "      <td>29</td>\n",
       "      <td>[17, 16, 13, 11, 14, 17, 17, 17, 16, 13, 12, 1...</td>\n",
       "      <td>[4, 8, 12, 16, 20]</td>\n",
       "      <td>[24, 28, 32, 36, 40, 44, 48, 52, 56, 60, 64, 6...</td>\n",
       "      <td>1</td>\n",
       "      <td>timeGPT</td>\n",
       "      <td>extended</td>\n",
       "    </tr>\n",
       "    <tr>\n",
       "      <th>3</th>\n",
       "      <td>0.0</td>\n",
       "      <td>0.000000</td>\n",
       "      <td>5</td>\n",
       "      <td>[89, 87]</td>\n",
       "      <td>[5, 10, 15, 20, 25, 30, 35, 40, 45, 50, 55, 60...</td>\n",
       "      <td>[95, 100]</td>\n",
       "      <td>0.0</td>\n",
       "      <td>0.000000</td>\n",
       "      <td>11</td>\n",
       "      <td>[65, 64, 66, 68, 68]</td>\n",
       "      <td>...</td>\n",
       "      <td>[55, 60, 65, 70, 75, 80, 85, 90, 95, 100]</td>\n",
       "      <td>0.0</td>\n",
       "      <td>0.000000</td>\n",
       "      <td>30</td>\n",
       "      <td>[21, 20, 16, 14, 17, 21, 22, 21, 20, 17, 14, 1...</td>\n",
       "      <td>[5, 10, 15, 20, 25]</td>\n",
       "      <td>[30, 35, 40, 45, 50, 55, 60, 65, 70, 75, 80, 8...</td>\n",
       "      <td>1</td>\n",
       "      <td>timeGPT</td>\n",
       "      <td>extended</td>\n",
       "    </tr>\n",
       "    <tr>\n",
       "      <th>4</th>\n",
       "      <td>0.0</td>\n",
       "      <td>0.000000</td>\n",
       "      <td>4</td>\n",
       "      <td>[107, 105]</td>\n",
       "      <td>[6, 12, 18, 24, 30, 36, 42, 48, 54, 60, 66, 72...</td>\n",
       "      <td>[114, 120]</td>\n",
       "      <td>0.0</td>\n",
       "      <td>0.000000</td>\n",
       "      <td>14</td>\n",
       "      <td>[78, 77, 79, 82, 81]</td>\n",
       "      <td>...</td>\n",
       "      <td>[66, 72, 78, 84, 90, 96, 102, 108, 114, 120]</td>\n",
       "      <td>0.0</td>\n",
       "      <td>0.000000</td>\n",
       "      <td>29</td>\n",
       "      <td>[26, 24, 19, 17, 21, 26, 26, 25, 24, 20, 17, 2...</td>\n",
       "      <td>[6, 12, 18, 24, 30]</td>\n",
       "      <td>[36, 42, 48, 54, 60, 66, 72, 78, 84, 90, 96, 1...</td>\n",
       "      <td>1</td>\n",
       "      <td>timeGPT</td>\n",
       "      <td>extended</td>\n",
       "    </tr>\n",
       "    <tr>\n",
       "      <th>5</th>\n",
       "      <td>0.0</td>\n",
       "      <td>0.000000</td>\n",
       "      <td>4</td>\n",
       "      <td>[124, 122]</td>\n",
       "      <td>[7, 14, 21, 28, 35, 42, 49, 56, 63, 70, 77, 84...</td>\n",
       "      <td>[133, 140]</td>\n",
       "      <td>0.0</td>\n",
       "      <td>0.000000</td>\n",
       "      <td>14</td>\n",
       "      <td>[91, 90, 93, 96, 95]</td>\n",
       "      <td>...</td>\n",
       "      <td>[77, 84, 91, 98, 105, 112, 119, 126, 133, 140]</td>\n",
       "      <td>0.0</td>\n",
       "      <td>0.000000</td>\n",
       "      <td>34</td>\n",
       "      <td>[30, 28, 22, 20, 24, 30, 30, 30, 28, 23, 20, 2...</td>\n",
       "      <td>[7, 14, 21, 28, 35]</td>\n",
       "      <td>[42, 49, 56, 63, 70, 77, 84, 91, 98, 105, 112,...</td>\n",
       "      <td>1</td>\n",
       "      <td>timeGPT</td>\n",
       "      <td>extended</td>\n",
       "    </tr>\n",
       "    <tr>\n",
       "      <th>6</th>\n",
       "      <td>0.0</td>\n",
       "      <td>0.000000</td>\n",
       "      <td>2</td>\n",
       "      <td>[142, 140]</td>\n",
       "      <td>[8, 16, 24, 32, 40, 48, 56, 64, 72, 80, 88, 96...</td>\n",
       "      <td>[152, 160]</td>\n",
       "      <td>0.0</td>\n",
       "      <td>0.000000</td>\n",
       "      <td>10</td>\n",
       "      <td>[104, 103, 106, 109, 108]</td>\n",
       "      <td>...</td>\n",
       "      <td>[88, 96, 104, 112, 120, 128, 136, 144, 152, 160]</td>\n",
       "      <td>0.0</td>\n",
       "      <td>0.000000</td>\n",
       "      <td>31</td>\n",
       "      <td>[34, 32, 25, 22, 28, 34, 35, 34, 32, 26, 23, 2...</td>\n",
       "      <td>[8, 16, 24, 32, 40]</td>\n",
       "      <td>[48, 56, 64, 72, 80, 88, 96, 104, 112, 120, 12...</td>\n",
       "      <td>1</td>\n",
       "      <td>timeGPT</td>\n",
       "      <td>extended</td>\n",
       "    </tr>\n",
       "    <tr>\n",
       "      <th>7</th>\n",
       "      <td>0.0</td>\n",
       "      <td>0.000000</td>\n",
       "      <td>4</td>\n",
       "      <td>[160, 157]</td>\n",
       "      <td>[9, 18, 27, 36, 45, 54, 63, 72, 81, 90, 99, 10...</td>\n",
       "      <td>[171, 180]</td>\n",
       "      <td>0.0</td>\n",
       "      <td>0.000000</td>\n",
       "      <td>10</td>\n",
       "      <td>[117, 115, 119, 123, 122]</td>\n",
       "      <td>...</td>\n",
       "      <td>[99, 108, 117, 126, 135, 144, 153, 162, 171, 180]</td>\n",
       "      <td>0.0</td>\n",
       "      <td>0.000000</td>\n",
       "      <td>35</td>\n",
       "      <td>[39, 36, 29, 25, 31, 39, 39, 38, 36, 30, 26, 3...</td>\n",
       "      <td>[9, 18, 27, 36, 45]</td>\n",
       "      <td>[54, 63, 72, 81, 90, 99, 108, 117, 126, 135, 1...</td>\n",
       "      <td>1</td>\n",
       "      <td>timeGPT</td>\n",
       "      <td>extended</td>\n",
       "    </tr>\n",
       "    <tr>\n",
       "      <th>8</th>\n",
       "      <td>0.0</td>\n",
       "      <td>0.000000</td>\n",
       "      <td>5</td>\n",
       "      <td>[178, 175]</td>\n",
       "      <td>[10, 20, 30, 40, 50, 60, 70, 80, 90, 100, 110,...</td>\n",
       "      <td>[190, 200]</td>\n",
       "      <td>0.0</td>\n",
       "      <td>0.000000</td>\n",
       "      <td>10</td>\n",
       "      <td>[130, 128, 132, 137, 135]</td>\n",
       "      <td>...</td>\n",
       "      <td>[110, 120, 130, 140, 150, 160, 170, 180, 190, ...</td>\n",
       "      <td>0.0</td>\n",
       "      <td>0.000000</td>\n",
       "      <td>39</td>\n",
       "      <td>[43, 39, 32, 28, 35, 43, 43, 42, 40, 33, 29, 3...</td>\n",
       "      <td>[10, 20, 30, 40, 50]</td>\n",
       "      <td>[60, 70, 80, 90, 100, 110, 120, 130, 140, 150,...</td>\n",
       "      <td>1</td>\n",
       "      <td>timeGPT</td>\n",
       "      <td>extended</td>\n",
       "    </tr>\n",
       "    <tr>\n",
       "      <th>9</th>\n",
       "      <td>0.0</td>\n",
       "      <td>0.000000</td>\n",
       "      <td>2</td>\n",
       "      <td>[35, 34]</td>\n",
       "      <td>[1, 3, 5, 7, 9, 11, 13, 15, 17, 19, 21, 23, 25...</td>\n",
       "      <td>[37, 39]</td>\n",
       "      <td>0.0</td>\n",
       "      <td>0.000000</td>\n",
       "      <td>9</td>\n",
       "      <td>[25, 25, 25, 26, 26]</td>\n",
       "      <td>...</td>\n",
       "      <td>[21, 23, 25, 27, 29, 31, 33, 35, 37, 39]</td>\n",
       "      <td>0.0</td>\n",
       "      <td>0.000000</td>\n",
       "      <td>28</td>\n",
       "      <td>[8, 7, 5, 5, 6, 8, 8, 7, 7, 6, 5, 6, 7, 8, 8]</td>\n",
       "      <td>[1, 3, 5, 7, 9]</td>\n",
       "      <td>[11, 13, 15, 17, 19, 21, 23, 25, 27, 29, 31, 3...</td>\n",
       "      <td>1</td>\n",
       "      <td>timeGPT</td>\n",
       "      <td>extended</td>\n",
       "    </tr>\n",
       "    <tr>\n",
       "      <th>10</th>\n",
       "      <td>0.0</td>\n",
       "      <td>0.000000</td>\n",
       "      <td>3</td>\n",
       "      <td>[36, 35]</td>\n",
       "      <td>[2, 4, 6, 8, 10, 12, 14, 16, 18, 20, 22, 24, 2...</td>\n",
       "      <td>[38, 40]</td>\n",
       "      <td>0.0</td>\n",
       "      <td>0.000000</td>\n",
       "      <td>9</td>\n",
       "      <td>[26, 26, 26, 27, 27]</td>\n",
       "      <td>...</td>\n",
       "      <td>[22, 24, 26, 28, 30, 32, 34, 36, 38, 40]</td>\n",
       "      <td>0.0</td>\n",
       "      <td>0.000000</td>\n",
       "      <td>28</td>\n",
       "      <td>[9, 8, 6, 6, 7, 9, 9, 8, 8, 7, 6, 7, 8, 9, 9]</td>\n",
       "      <td>[2, 4, 6, 8, 10]</td>\n",
       "      <td>[12, 14, 16, 18, 20, 22, 24, 26, 28, 30, 32, 3...</td>\n",
       "      <td>1</td>\n",
       "      <td>timeGPT</td>\n",
       "      <td>extended</td>\n",
       "    </tr>\n",
       "    <tr>\n",
       "      <th>11</th>\n",
       "      <td>0.0</td>\n",
       "      <td>0.000000</td>\n",
       "      <td>3</td>\n",
       "      <td>[28, 27]</td>\n",
       "      <td>[11, 12, 13, 14, 15, 16, 17, 18, 19, 20, 21, 2...</td>\n",
       "      <td>[29, 30]</td>\n",
       "      <td>0.0</td>\n",
       "      <td>0.000000</td>\n",
       "      <td>6</td>\n",
       "      <td>[23, 23, 23, 24, 23]</td>\n",
       "      <td>...</td>\n",
       "      <td>[21, 22, 23, 24, 25, 26, 27, 28, 29, 30]</td>\n",
       "      <td>0.0</td>\n",
       "      <td>0.000000</td>\n",
       "      <td>25</td>\n",
       "      <td>[15, 14, 13, 12, 13, 15, 15, 15, 14, 13, 12, 1...</td>\n",
       "      <td>[11, 12, 13, 14, 15]</td>\n",
       "      <td>[16, 17, 18, 19, 20, 21, 22, 23, 24, 25, 26, 2...</td>\n",
       "      <td>1</td>\n",
       "      <td>timeGPT</td>\n",
       "      <td>extended</td>\n",
       "    </tr>\n",
       "    <tr>\n",
       "      <th>12</th>\n",
       "      <td>0.0</td>\n",
       "      <td>0.000000</td>\n",
       "      <td>3</td>\n",
       "      <td>[37, 37]</td>\n",
       "      <td>[21, 22, 23, 24, 25, 26, 27, 28, 29, 30, 31, 3...</td>\n",
       "      <td>[39, 40]</td>\n",
       "      <td>0.0</td>\n",
       "      <td>0.000000</td>\n",
       "      <td>6</td>\n",
       "      <td>[33, 33, 33, 33, 33]</td>\n",
       "      <td>...</td>\n",
       "      <td>[31, 32, 33, 34, 35, 36, 37, 38, 39, 40]</td>\n",
       "      <td>0.0</td>\n",
       "      <td>0.000000</td>\n",
       "      <td>25</td>\n",
       "      <td>[25, 24, 23, 22, 23, 25, 25, 25, 24, 23, 22, 2...</td>\n",
       "      <td>[21, 22, 23, 24, 25]</td>\n",
       "      <td>[26, 27, 28, 29, 30, 31, 32, 33, 34, 35, 36, 3...</td>\n",
       "      <td>1</td>\n",
       "      <td>timeGPT</td>\n",
       "      <td>extended</td>\n",
       "    </tr>\n",
       "    <tr>\n",
       "      <th>13</th>\n",
       "      <td>0.0</td>\n",
       "      <td>0.000000</td>\n",
       "      <td>3</td>\n",
       "      <td>[47, 47]</td>\n",
       "      <td>[31, 32, 33, 34, 35, 36, 37, 38, 39, 40, 41, 4...</td>\n",
       "      <td>[49, 50]</td>\n",
       "      <td>0.0</td>\n",
       "      <td>0.000000</td>\n",
       "      <td>6</td>\n",
       "      <td>[43, 43, 43, 44, 43]</td>\n",
       "      <td>...</td>\n",
       "      <td>[41, 42, 43, 44, 45, 46, 47, 48, 49, 50]</td>\n",
       "      <td>0.0</td>\n",
       "      <td>5.000000</td>\n",
       "      <td>25</td>\n",
       "      <td>[35, 35, 33, 31, 33, 35, 36, 35, 34, 33, 32, 3...</td>\n",
       "      <td>[31, 32, 33, 34, 35]</td>\n",
       "      <td>[36, 37, 38, 39, 40, 41, 42, 43, 44, 45, 46, 4...</td>\n",
       "      <td>1</td>\n",
       "      <td>timeGPT</td>\n",
       "      <td>extended</td>\n",
       "    </tr>\n",
       "    <tr>\n",
       "      <th>14</th>\n",
       "      <td>0.0</td>\n",
       "      <td>0.000000</td>\n",
       "      <td>3</td>\n",
       "      <td>[57, 57]</td>\n",
       "      <td>[41, 42, 43, 44, 45, 46, 47, 48, 49, 50, 51, 5...</td>\n",
       "      <td>[59, 60]</td>\n",
       "      <td>0.0</td>\n",
       "      <td>0.000000</td>\n",
       "      <td>6</td>\n",
       "      <td>[53, 53, 53, 54, 54]</td>\n",
       "      <td>...</td>\n",
       "      <td>[51, 52, 53, 54, 55, 56, 57, 58, 59, 60]</td>\n",
       "      <td>0.0</td>\n",
       "      <td>5.000000</td>\n",
       "      <td>25</td>\n",
       "      <td>[45, 45, 43, 41, 43, 45, 46, 45, 44, 43, 42, 4...</td>\n",
       "      <td>[41, 42, 43, 44, 45]</td>\n",
       "      <td>[46, 47, 48, 49, 50, 51, 52, 53, 54, 55, 56, 5...</td>\n",
       "      <td>1</td>\n",
       "      <td>timeGPT</td>\n",
       "      <td>extended</td>\n",
       "    </tr>\n",
       "    <tr>\n",
       "      <th>15</th>\n",
       "      <td>0.0</td>\n",
       "      <td>0.000000</td>\n",
       "      <td>3</td>\n",
       "      <td>[67, 67]</td>\n",
       "      <td>[51, 52, 53, 54, 55, 56, 57, 58, 59, 60, 61, 6...</td>\n",
       "      <td>[69, 70]</td>\n",
       "      <td>0.0</td>\n",
       "      <td>0.000000</td>\n",
       "      <td>6</td>\n",
       "      <td>[63, 63, 64, 64, 64]</td>\n",
       "      <td>...</td>\n",
       "      <td>[61, 62, 63, 64, 65, 66, 67, 68, 69, 70]</td>\n",
       "      <td>0.0</td>\n",
       "      <td>5.000000</td>\n",
       "      <td>25</td>\n",
       "      <td>[55, 55, 53, 51, 53, 55, 56, 55, 54, 53, 52, 5...</td>\n",
       "      <td>[51, 52, 53, 54, 55]</td>\n",
       "      <td>[56, 57, 58, 59, 60, 61, 62, 63, 64, 65, 66, 6...</td>\n",
       "      <td>1</td>\n",
       "      <td>timeGPT</td>\n",
       "      <td>extended</td>\n",
       "    </tr>\n",
       "    <tr>\n",
       "      <th>16</th>\n",
       "      <td>0.0</td>\n",
       "      <td>0.000000</td>\n",
       "      <td>3</td>\n",
       "      <td>[78, 77]</td>\n",
       "      <td>[61, 62, 63, 64, 65, 66, 67, 68, 69, 70, 71, 7...</td>\n",
       "      <td>[79, 80]</td>\n",
       "      <td>0.0</td>\n",
       "      <td>0.000000</td>\n",
       "      <td>6</td>\n",
       "      <td>[74, 73, 74, 74, 74]</td>\n",
       "      <td>...</td>\n",
       "      <td>[71, 72, 73, 74, 75, 76, 77, 78, 79, 80]</td>\n",
       "      <td>0.0</td>\n",
       "      <td>5.263158</td>\n",
       "      <td>25</td>\n",
       "      <td>[65, 65, 63, 62, 63, 65, 65, 65, 64, 63, 62, 6...</td>\n",
       "      <td>[61, 62, 63, 64, 65]</td>\n",
       "      <td>[66, 67, 68, 69, 70, 71, 72, 73, 74, 75, 76, 7...</td>\n",
       "      <td>1</td>\n",
       "      <td>timeGPT</td>\n",
       "      <td>extended</td>\n",
       "    </tr>\n",
       "    <tr>\n",
       "      <th>17</th>\n",
       "      <td>0.0</td>\n",
       "      <td>0.000000</td>\n",
       "      <td>3</td>\n",
       "      <td>[88, 87]</td>\n",
       "      <td>[71, 72, 73, 74, 75, 76, 77, 78, 79, 80, 81, 8...</td>\n",
       "      <td>[89, 90]</td>\n",
       "      <td>0.0</td>\n",
       "      <td>0.000000</td>\n",
       "      <td>6</td>\n",
       "      <td>[84, 84, 84, 85, 85]</td>\n",
       "      <td>...</td>\n",
       "      <td>[81, 82, 83, 84, 85, 86, 87, 88, 89, 90]</td>\n",
       "      <td>0.0</td>\n",
       "      <td>0.000000</td>\n",
       "      <td>25</td>\n",
       "      <td>[75, 74, 73, 72, 73, 75, 75, 75, 74, 73, 72, 7...</td>\n",
       "      <td>[71, 72, 73, 74, 75]</td>\n",
       "      <td>[76, 77, 78, 79, 80, 81, 82, 83, 84, 85, 86, 8...</td>\n",
       "      <td>1</td>\n",
       "      <td>timeGPT</td>\n",
       "      <td>extended</td>\n",
       "    </tr>\n",
       "    <tr>\n",
       "      <th>18</th>\n",
       "      <td>0.0</td>\n",
       "      <td>0.000000</td>\n",
       "      <td>4</td>\n",
       "      <td>[98, 98]</td>\n",
       "      <td>[81, 82, 83, 84, 85, 86, 87, 88, 89, 90, 91, 9...</td>\n",
       "      <td>[99, 100]</td>\n",
       "      <td>0.0</td>\n",
       "      <td>0.000000</td>\n",
       "      <td>7</td>\n",
       "      <td>[94, 94, 94, 95, 95]</td>\n",
       "      <td>...</td>\n",
       "      <td>[91, 92, 93, 94, 95, 96, 97, 98, 99, 100]</td>\n",
       "      <td>0.0</td>\n",
       "      <td>0.000000</td>\n",
       "      <td>26</td>\n",
       "      <td>[85, 84, 83, 82, 83, 85, 85, 85, 84, 83, 82, 8...</td>\n",
       "      <td>[81, 82, 83, 84, 85]</td>\n",
       "      <td>[86, 87, 88, 89, 90, 91, 92, 93, 94, 95, 96, 9...</td>\n",
       "      <td>1</td>\n",
       "      <td>timeGPT</td>\n",
       "      <td>extended</td>\n",
       "    </tr>\n",
       "    <tr>\n",
       "      <th>19</th>\n",
       "      <td>0.0</td>\n",
       "      <td>0.000000</td>\n",
       "      <td>3</td>\n",
       "      <td>[108, 108]</td>\n",
       "      <td>[91, 92, 93, 94, 95, 96, 97, 98, 99, 100, 101,...</td>\n",
       "      <td>[109, 110]</td>\n",
       "      <td>0.0</td>\n",
       "      <td>0.000000</td>\n",
       "      <td>6</td>\n",
       "      <td>[105, 104, 105, 105, 105]</td>\n",
       "      <td>...</td>\n",
       "      <td>[101, 102, 103, 104, 105, 106, 107, 108, 109, ...</td>\n",
       "      <td>0.0</td>\n",
       "      <td>0.000000</td>\n",
       "      <td>36</td>\n",
       "      <td>[95, 94, 93, 92, 93, 95, 95, 95, 94, 93, 92, 9...</td>\n",
       "      <td>[91, 92, 93, 94, 95]</td>\n",
       "      <td>[96, 97, 98, 99, 100, 101, 102, 103, 104, 105,...</td>\n",
       "      <td>1</td>\n",
       "      <td>timeGPT</td>\n",
       "      <td>extended</td>\n",
       "    </tr>\n",
       "    <tr>\n",
       "      <th>20</th>\n",
       "      <td>0.0</td>\n",
       "      <td>0.000000</td>\n",
       "      <td>3</td>\n",
       "      <td>[118, 118]</td>\n",
       "      <td>[101, 102, 103, 104, 105, 106, 107, 108, 109, ...</td>\n",
       "      <td>[119, 120]</td>\n",
       "      <td>0.0</td>\n",
       "      <td>0.000000</td>\n",
       "      <td>6</td>\n",
       "      <td>[115, 115, 115, 115, 115]</td>\n",
       "      <td>...</td>\n",
       "      <td>[111, 112, 113, 114, 115, 116, 117, 118, 119, ...</td>\n",
       "      <td>0.0</td>\n",
       "      <td>0.000000</td>\n",
       "      <td>25</td>\n",
       "      <td>[105, 104, 103, 102, 103, 105, 105, 105, 104, ...</td>\n",
       "      <td>[101, 102, 103, 104, 105]</td>\n",
       "      <td>[106, 107, 108, 109, 110, 111, 112, 113, 114, ...</td>\n",
       "      <td>1</td>\n",
       "      <td>timeGPT</td>\n",
       "      <td>extended</td>\n",
       "    </tr>\n",
       "    <tr>\n",
       "      <th>21</th>\n",
       "      <td>50.0</td>\n",
       "      <td>33.333333</td>\n",
       "      <td>2</td>\n",
       "      <td>[129, 128]</td>\n",
       "      <td>[111, 112, 113, 114, 115, 116, 117, 118, 119, ...</td>\n",
       "      <td>[129, 130]</td>\n",
       "      <td>0.0</td>\n",
       "      <td>16.666667</td>\n",
       "      <td>6</td>\n",
       "      <td>[125, 125, 125, 126, 126]</td>\n",
       "      <td>...</td>\n",
       "      <td>[121, 122, 123, 124, 125, 126, 127, 128, 129, ...</td>\n",
       "      <td>0.0</td>\n",
       "      <td>0.000000</td>\n",
       "      <td>25</td>\n",
       "      <td>[115, 114, 113, 112, 113, 115, 115, 115, 114, ...</td>\n",
       "      <td>[111, 112, 113, 114, 115]</td>\n",
       "      <td>[116, 117, 118, 119, 120, 121, 122, 123, 124, ...</td>\n",
       "      <td>1</td>\n",
       "      <td>timeGPT</td>\n",
       "      <td>extended</td>\n",
       "    </tr>\n",
       "    <tr>\n",
       "      <th>22</th>\n",
       "      <td>50.0</td>\n",
       "      <td>50.000000</td>\n",
       "      <td>2</td>\n",
       "      <td>[139, 139]</td>\n",
       "      <td>[121, 122, 123, 124, 125, 126, 127, 128, 129, ...</td>\n",
       "      <td>[139, 140]</td>\n",
       "      <td>0.0</td>\n",
       "      <td>16.666667</td>\n",
       "      <td>6</td>\n",
       "      <td>[135, 135, 136, 136, 136]</td>\n",
       "      <td>...</td>\n",
       "      <td>[131, 132, 133, 134, 135, 136, 137, 138, 139, ...</td>\n",
       "      <td>0.0</td>\n",
       "      <td>0.000000</td>\n",
       "      <td>25</td>\n",
       "      <td>[125, 124, 123, 122, 123, 125, 125, 125, 124, ...</td>\n",
       "      <td>[121, 122, 123, 124, 125]</td>\n",
       "      <td>[126, 127, 128, 129, 130, 131, 132, 133, 134, ...</td>\n",
       "      <td>1</td>\n",
       "      <td>timeGPT</td>\n",
       "      <td>extended</td>\n",
       "    </tr>\n",
       "    <tr>\n",
       "      <th>23</th>\n",
       "      <td>50.0</td>\n",
       "      <td>50.000000</td>\n",
       "      <td>2</td>\n",
       "      <td>[149, 149]</td>\n",
       "      <td>[131, 132, 133, 134, 135, 136, 137, 138, 139, ...</td>\n",
       "      <td>[149, 150]</td>\n",
       "      <td>20.0</td>\n",
       "      <td>20.000000</td>\n",
       "      <td>5</td>\n",
       "      <td>[146, 146, 146, 146, 146]</td>\n",
       "      <td>...</td>\n",
       "      <td>[141, 142, 143, 144, 145, 146, 147, 148, 149, ...</td>\n",
       "      <td>0.0</td>\n",
       "      <td>0.000000</td>\n",
       "      <td>25</td>\n",
       "      <td>[135, 134, 133, 132, 133, 135, 135, 135, 134, ...</td>\n",
       "      <td>[131, 132, 133, 134, 135]</td>\n",
       "      <td>[136, 137, 138, 139, 140, 141, 142, 143, 144, ...</td>\n",
       "      <td>1</td>\n",
       "      <td>timeGPT</td>\n",
       "      <td>extended</td>\n",
       "    </tr>\n",
       "    <tr>\n",
       "      <th>24</th>\n",
       "      <td>0.0</td>\n",
       "      <td>100.000000</td>\n",
       "      <td>4</td>\n",
       "      <td>[160, 159]</td>\n",
       "      <td>[141, 142, 143, 144, 145, 146, 147, 148, 149, ...</td>\n",
       "      <td>[159, 160]</td>\n",
       "      <td>20.0</td>\n",
       "      <td>40.000000</td>\n",
       "      <td>5</td>\n",
       "      <td>[156, 156, 156, 156, 157]</td>\n",
       "      <td>...</td>\n",
       "      <td>[151, 152, 153, 154, 155, 156, 157, 158, 159, ...</td>\n",
       "      <td>0.0</td>\n",
       "      <td>0.000000</td>\n",
       "      <td>25</td>\n",
       "      <td>[145, 144, 143, 142, 143, 145, 145, 144, 144, ...</td>\n",
       "      <td>[141, 142, 143, 144, 145]</td>\n",
       "      <td>[146, 147, 148, 149, 150, 151, 152, 153, 154, ...</td>\n",
       "      <td>1</td>\n",
       "      <td>timeGPT</td>\n",
       "      <td>extended</td>\n",
       "    </tr>\n",
       "    <tr>\n",
       "      <th>25</th>\n",
       "      <td>50.0</td>\n",
       "      <td>50.000000</td>\n",
       "      <td>2</td>\n",
       "      <td>[170, 170]</td>\n",
       "      <td>[151, 152, 153, 154, 155, 156, 157, 158, 159, ...</td>\n",
       "      <td>[169, 170]</td>\n",
       "      <td>20.0</td>\n",
       "      <td>40.000000</td>\n",
       "      <td>5</td>\n",
       "      <td>[166, 166, 166, 167, 167]</td>\n",
       "      <td>...</td>\n",
       "      <td>[161, 162, 163, 164, 165, 166, 167, 168, 169, ...</td>\n",
       "      <td>0.0</td>\n",
       "      <td>0.000000</td>\n",
       "      <td>25</td>\n",
       "      <td>[155, 154, 153, 152, 153, 155, 155, 154, 154, ...</td>\n",
       "      <td>[151, 152, 153, 154, 155]</td>\n",
       "      <td>[156, 157, 158, 159, 160, 161, 162, 163, 164, ...</td>\n",
       "      <td>1</td>\n",
       "      <td>timeGPT</td>\n",
       "      <td>extended</td>\n",
       "    </tr>\n",
       "    <tr>\n",
       "      <th>26</th>\n",
       "      <td>50.0</td>\n",
       "      <td>50.000000</td>\n",
       "      <td>2</td>\n",
       "      <td>[180, 180]</td>\n",
       "      <td>[161, 162, 163, 164, 165, 166, 167, 168, 169, ...</td>\n",
       "      <td>[179, 180]</td>\n",
       "      <td>20.0</td>\n",
       "      <td>20.000000</td>\n",
       "      <td>5</td>\n",
       "      <td>[177, 177, 177, 177, 177]</td>\n",
       "      <td>...</td>\n",
       "      <td>[171, 172, 173, 174, 175, 176, 177, 178, 179, ...</td>\n",
       "      <td>0.0</td>\n",
       "      <td>0.000000</td>\n",
       "      <td>25</td>\n",
       "      <td>[165, 164, 163, 162, 163, 165, 165, 164, 164, ...</td>\n",
       "      <td>[161, 162, 163, 164, 165]</td>\n",
       "      <td>[166, 167, 168, 169, 170, 171, 172, 173, 174, ...</td>\n",
       "      <td>1</td>\n",
       "      <td>timeGPT</td>\n",
       "      <td>extended</td>\n",
       "    </tr>\n",
       "    <tr>\n",
       "      <th>27</th>\n",
       "      <td>50.0</td>\n",
       "      <td>33.333333</td>\n",
       "      <td>2</td>\n",
       "      <td>[191, 190]</td>\n",
       "      <td>[171, 172, 173, 174, 175, 176, 177, 178, 179, ...</td>\n",
       "      <td>[189, 190]</td>\n",
       "      <td>20.0</td>\n",
       "      <td>20.000000</td>\n",
       "      <td>5</td>\n",
       "      <td>[187, 187, 187, 187, 187]</td>\n",
       "      <td>...</td>\n",
       "      <td>[181, 182, 183, 184, 185, 186, 187, 188, 189, ...</td>\n",
       "      <td>0.0</td>\n",
       "      <td>0.000000</td>\n",
       "      <td>25</td>\n",
       "      <td>[175, 174, 173, 172, 173, 175, 175, 174, 174, ...</td>\n",
       "      <td>[171, 172, 173, 174, 175]</td>\n",
       "      <td>[176, 177, 178, 179, 180, 181, 182, 183, 184, ...</td>\n",
       "      <td>1</td>\n",
       "      <td>timeGPT</td>\n",
       "      <td>extended</td>\n",
       "    </tr>\n",
       "    <tr>\n",
       "      <th>28</th>\n",
       "      <td>0.0</td>\n",
       "      <td>0.000000</td>\n",
       "      <td>4</td>\n",
       "      <td>[201, 201]</td>\n",
       "      <td>[181, 182, 183, 184, 185, 186, 187, 188, 189, ...</td>\n",
       "      <td>[199, 200]</td>\n",
       "      <td>20.0</td>\n",
       "      <td>40.000000</td>\n",
       "      <td>6</td>\n",
       "      <td>[197, 197, 197, 198, 198]</td>\n",
       "      <td>...</td>\n",
       "      <td>[191, 192, 193, 194, 195, 196, 197, 198, 199, ...</td>\n",
       "      <td>0.0</td>\n",
       "      <td>0.000000</td>\n",
       "      <td>26</td>\n",
       "      <td>[185, 184, 183, 182, 183, 185, 185, 184, 184, ...</td>\n",
       "      <td>[181, 182, 183, 184, 185]</td>\n",
       "      <td>[186, 187, 188, 189, 190, 191, 192, 193, 194, ...</td>\n",
       "      <td>1</td>\n",
       "      <td>timeGPT</td>\n",
       "      <td>extended</td>\n",
       "    </tr>\n",
       "    <tr>\n",
       "      <th>29</th>\n",
       "      <td>0.0</td>\n",
       "      <td>0.000000</td>\n",
       "      <td>3</td>\n",
       "      <td>[211, 211]</td>\n",
       "      <td>[191, 192, 193, 194, 195, 196, 197, 198, 199, ...</td>\n",
       "      <td>[209, 210]</td>\n",
       "      <td>20.0</td>\n",
       "      <td>20.000000</td>\n",
       "      <td>5</td>\n",
       "      <td>[208, 208, 208, 208, 208]</td>\n",
       "      <td>...</td>\n",
       "      <td>[201, 202, 203, 204, 205, 206, 207, 208, 209, ...</td>\n",
       "      <td>0.0</td>\n",
       "      <td>0.000000</td>\n",
       "      <td>36</td>\n",
       "      <td>[195, 194, 193, 192, 193, 195, 195, 194, 194, ...</td>\n",
       "      <td>[191, 192, 193, 194, 195]</td>\n",
       "      <td>[196, 197, 198, 199, 200, 201, 202, 203, 204, ...</td>\n",
       "      <td>1</td>\n",
       "      <td>timeGPT</td>\n",
       "      <td>extended</td>\n",
       "    </tr>\n",
       "  </tbody>\n",
       "</table>\n",
       "<p>30 rows × 27 columns</p>\n",
       "</div>"
      ],
      "text/plain": [
       "    sort_simi_percen_10  gral_simi_percen_10  levenshtein_10 forecasted_10  \\\n",
       "0                   0.0             0.000000               3      [36, 35]   \n",
       "1                   0.0             0.000000               3      [53, 52]   \n",
       "2                   0.0             0.000000               2      [71, 70]   \n",
       "3                   0.0             0.000000               5      [89, 87]   \n",
       "4                   0.0             0.000000               4    [107, 105]   \n",
       "5                   0.0             0.000000               4    [124, 122]   \n",
       "6                   0.0             0.000000               2    [142, 140]   \n",
       "7                   0.0             0.000000               4    [160, 157]   \n",
       "8                   0.0             0.000000               5    [178, 175]   \n",
       "9                   0.0             0.000000               2      [35, 34]   \n",
       "10                  0.0             0.000000               3      [36, 35]   \n",
       "11                  0.0             0.000000               3      [28, 27]   \n",
       "12                  0.0             0.000000               3      [37, 37]   \n",
       "13                  0.0             0.000000               3      [47, 47]   \n",
       "14                  0.0             0.000000               3      [57, 57]   \n",
       "15                  0.0             0.000000               3      [67, 67]   \n",
       "16                  0.0             0.000000               3      [78, 77]   \n",
       "17                  0.0             0.000000               3      [88, 87]   \n",
       "18                  0.0             0.000000               4      [98, 98]   \n",
       "19                  0.0             0.000000               3    [108, 108]   \n",
       "20                  0.0             0.000000               3    [118, 118]   \n",
       "21                 50.0            33.333333               2    [129, 128]   \n",
       "22                 50.0            50.000000               2    [139, 139]   \n",
       "23                 50.0            50.000000               2    [149, 149]   \n",
       "24                  0.0           100.000000               4    [160, 159]   \n",
       "25                 50.0            50.000000               2    [170, 170]   \n",
       "26                 50.0            50.000000               2    [180, 180]   \n",
       "27                 50.0            33.333333               2    [191, 190]   \n",
       "28                  0.0             0.000000               4    [201, 201]   \n",
       "29                  0.0             0.000000               3    [211, 211]   \n",
       "\n",
       "                                              root_10 to_predict_10  \\\n",
       "0   [2, 4, 6, 8, 10, 12, 14, 16, 18, 20, 22, 24, 2...      [38, 40]   \n",
       "1   [3, 6, 9, 12, 15, 18, 21, 24, 27, 30, 33, 36, ...      [57, 60]   \n",
       "2   [4, 8, 12, 16, 20, 24, 28, 32, 36, 40, 44, 48,...      [76, 80]   \n",
       "3   [5, 10, 15, 20, 25, 30, 35, 40, 45, 50, 55, 60...     [95, 100]   \n",
       "4   [6, 12, 18, 24, 30, 36, 42, 48, 54, 60, 66, 72...    [114, 120]   \n",
       "5   [7, 14, 21, 28, 35, 42, 49, 56, 63, 70, 77, 84...    [133, 140]   \n",
       "6   [8, 16, 24, 32, 40, 48, 56, 64, 72, 80, 88, 96...    [152, 160]   \n",
       "7   [9, 18, 27, 36, 45, 54, 63, 72, 81, 90, 99, 10...    [171, 180]   \n",
       "8   [10, 20, 30, 40, 50, 60, 70, 80, 90, 100, 110,...    [190, 200]   \n",
       "9   [1, 3, 5, 7, 9, 11, 13, 15, 17, 19, 21, 23, 25...      [37, 39]   \n",
       "10  [2, 4, 6, 8, 10, 12, 14, 16, 18, 20, 22, 24, 2...      [38, 40]   \n",
       "11  [11, 12, 13, 14, 15, 16, 17, 18, 19, 20, 21, 2...      [29, 30]   \n",
       "12  [21, 22, 23, 24, 25, 26, 27, 28, 29, 30, 31, 3...      [39, 40]   \n",
       "13  [31, 32, 33, 34, 35, 36, 37, 38, 39, 40, 41, 4...      [49, 50]   \n",
       "14  [41, 42, 43, 44, 45, 46, 47, 48, 49, 50, 51, 5...      [59, 60]   \n",
       "15  [51, 52, 53, 54, 55, 56, 57, 58, 59, 60, 61, 6...      [69, 70]   \n",
       "16  [61, 62, 63, 64, 65, 66, 67, 68, 69, 70, 71, 7...      [79, 80]   \n",
       "17  [71, 72, 73, 74, 75, 76, 77, 78, 79, 80, 81, 8...      [89, 90]   \n",
       "18  [81, 82, 83, 84, 85, 86, 87, 88, 89, 90, 91, 9...     [99, 100]   \n",
       "19  [91, 92, 93, 94, 95, 96, 97, 98, 99, 100, 101,...    [109, 110]   \n",
       "20  [101, 102, 103, 104, 105, 106, 107, 108, 109, ...    [119, 120]   \n",
       "21  [111, 112, 113, 114, 115, 116, 117, 118, 119, ...    [129, 130]   \n",
       "22  [121, 122, 123, 124, 125, 126, 127, 128, 129, ...    [139, 140]   \n",
       "23  [131, 132, 133, 134, 135, 136, 137, 138, 139, ...    [149, 150]   \n",
       "24  [141, 142, 143, 144, 145, 146, 147, 148, 149, ...    [159, 160]   \n",
       "25  [151, 152, 153, 154, 155, 156, 157, 158, 159, ...    [169, 170]   \n",
       "26  [161, 162, 163, 164, 165, 166, 167, 168, 169, ...    [179, 180]   \n",
       "27  [171, 172, 173, 174, 175, 176, 177, 178, 179, ...    [189, 190]   \n",
       "28  [181, 182, 183, 184, 185, 186, 187, 188, 189, ...    [199, 200]   \n",
       "29  [191, 192, 193, 194, 195, 196, 197, 198, 199, ...    [209, 210]   \n",
       "\n",
       "    sort_simi_percen_25  gral_simi_percen_25  levenshtein_25  \\\n",
       "0                   0.0             0.000000               9   \n",
       "1                   0.0             0.000000              10   \n",
       "2                   0.0             0.000000              10   \n",
       "3                   0.0             0.000000              11   \n",
       "4                   0.0             0.000000              14   \n",
       "5                   0.0             0.000000              14   \n",
       "6                   0.0             0.000000              10   \n",
       "7                   0.0             0.000000              10   \n",
       "8                   0.0             0.000000              10   \n",
       "9                   0.0             0.000000               9   \n",
       "10                  0.0             0.000000               9   \n",
       "11                  0.0             0.000000               6   \n",
       "12                  0.0             0.000000               6   \n",
       "13                  0.0             0.000000               6   \n",
       "14                  0.0             0.000000               6   \n",
       "15                  0.0             0.000000               6   \n",
       "16                  0.0             0.000000               6   \n",
       "17                  0.0             0.000000               6   \n",
       "18                  0.0             0.000000               7   \n",
       "19                  0.0             0.000000               6   \n",
       "20                  0.0             0.000000               6   \n",
       "21                  0.0            16.666667               6   \n",
       "22                  0.0            16.666667               6   \n",
       "23                 20.0            20.000000               5   \n",
       "24                 20.0            40.000000               5   \n",
       "25                 20.0            40.000000               5   \n",
       "26                 20.0            20.000000               5   \n",
       "27                 20.0            20.000000               5   \n",
       "28                 20.0            40.000000               6   \n",
       "29                 20.0            20.000000               5   \n",
       "\n",
       "                forecasted_25  ...  \\\n",
       "0        [26, 26, 26, 27, 27]  ...   \n",
       "1        [39, 38, 40, 41, 41]  ...   \n",
       "2        [52, 51, 53, 55, 54]  ...   \n",
       "3        [65, 64, 66, 68, 68]  ...   \n",
       "4        [78, 77, 79, 82, 81]  ...   \n",
       "5        [91, 90, 93, 96, 95]  ...   \n",
       "6   [104, 103, 106, 109, 108]  ...   \n",
       "7   [117, 115, 119, 123, 122]  ...   \n",
       "8   [130, 128, 132, 137, 135]  ...   \n",
       "9        [25, 25, 25, 26, 26]  ...   \n",
       "10       [26, 26, 26, 27, 27]  ...   \n",
       "11       [23, 23, 23, 24, 23]  ...   \n",
       "12       [33, 33, 33, 33, 33]  ...   \n",
       "13       [43, 43, 43, 44, 43]  ...   \n",
       "14       [53, 53, 53, 54, 54]  ...   \n",
       "15       [63, 63, 64, 64, 64]  ...   \n",
       "16       [74, 73, 74, 74, 74]  ...   \n",
       "17       [84, 84, 84, 85, 85]  ...   \n",
       "18       [94, 94, 94, 95, 95]  ...   \n",
       "19  [105, 104, 105, 105, 105]  ...   \n",
       "20  [115, 115, 115, 115, 115]  ...   \n",
       "21  [125, 125, 125, 126, 126]  ...   \n",
       "22  [135, 135, 136, 136, 136]  ...   \n",
       "23  [146, 146, 146, 146, 146]  ...   \n",
       "24  [156, 156, 156, 156, 157]  ...   \n",
       "25  [166, 166, 166, 167, 167]  ...   \n",
       "26  [177, 177, 177, 177, 177]  ...   \n",
       "27  [187, 187, 187, 187, 187]  ...   \n",
       "28  [197, 197, 197, 198, 198]  ...   \n",
       "29  [208, 208, 208, 208, 208]  ...   \n",
       "\n",
       "                                        to_predict_50 sort_simi_percen_75  \\\n",
       "0            [22, 24, 26, 28, 30, 32, 34, 36, 38, 40]                 0.0   \n",
       "1            [33, 36, 39, 42, 45, 48, 51, 54, 57, 60]                 0.0   \n",
       "2            [44, 48, 52, 56, 60, 64, 68, 72, 76, 80]                 0.0   \n",
       "3           [55, 60, 65, 70, 75, 80, 85, 90, 95, 100]                 0.0   \n",
       "4        [66, 72, 78, 84, 90, 96, 102, 108, 114, 120]                 0.0   \n",
       "5      [77, 84, 91, 98, 105, 112, 119, 126, 133, 140]                 0.0   \n",
       "6    [88, 96, 104, 112, 120, 128, 136, 144, 152, 160]                 0.0   \n",
       "7   [99, 108, 117, 126, 135, 144, 153, 162, 171, 180]                 0.0   \n",
       "8   [110, 120, 130, 140, 150, 160, 170, 180, 190, ...                 0.0   \n",
       "9            [21, 23, 25, 27, 29, 31, 33, 35, 37, 39]                 0.0   \n",
       "10           [22, 24, 26, 28, 30, 32, 34, 36, 38, 40]                 0.0   \n",
       "11           [21, 22, 23, 24, 25, 26, 27, 28, 29, 30]                 0.0   \n",
       "12           [31, 32, 33, 34, 35, 36, 37, 38, 39, 40]                 0.0   \n",
       "13           [41, 42, 43, 44, 45, 46, 47, 48, 49, 50]                 0.0   \n",
       "14           [51, 52, 53, 54, 55, 56, 57, 58, 59, 60]                 0.0   \n",
       "15           [61, 62, 63, 64, 65, 66, 67, 68, 69, 70]                 0.0   \n",
       "16           [71, 72, 73, 74, 75, 76, 77, 78, 79, 80]                 0.0   \n",
       "17           [81, 82, 83, 84, 85, 86, 87, 88, 89, 90]                 0.0   \n",
       "18          [91, 92, 93, 94, 95, 96, 97, 98, 99, 100]                 0.0   \n",
       "19  [101, 102, 103, 104, 105, 106, 107, 108, 109, ...                 0.0   \n",
       "20  [111, 112, 113, 114, 115, 116, 117, 118, 119, ...                 0.0   \n",
       "21  [121, 122, 123, 124, 125, 126, 127, 128, 129, ...                 0.0   \n",
       "22  [131, 132, 133, 134, 135, 136, 137, 138, 139, ...                 0.0   \n",
       "23  [141, 142, 143, 144, 145, 146, 147, 148, 149, ...                 0.0   \n",
       "24  [151, 152, 153, 154, 155, 156, 157, 158, 159, ...                 0.0   \n",
       "25  [161, 162, 163, 164, 165, 166, 167, 168, 169, ...                 0.0   \n",
       "26  [171, 172, 173, 174, 175, 176, 177, 178, 179, ...                 0.0   \n",
       "27  [181, 182, 183, 184, 185, 186, 187, 188, 189, ...                 0.0   \n",
       "28  [191, 192, 193, 194, 195, 196, 197, 198, 199, ...                 0.0   \n",
       "29  [201, 202, 203, 204, 205, 206, 207, 208, 209, ...                 0.0   \n",
       "\n",
       "    gral_simi_percen_75  levenshtein_75  \\\n",
       "0              0.000000              28   \n",
       "1              0.000000              25   \n",
       "2              0.000000              29   \n",
       "3              0.000000              30   \n",
       "4              0.000000              29   \n",
       "5              0.000000              34   \n",
       "6              0.000000              31   \n",
       "7              0.000000              35   \n",
       "8              0.000000              39   \n",
       "9              0.000000              28   \n",
       "10             0.000000              28   \n",
       "11             0.000000              25   \n",
       "12             0.000000              25   \n",
       "13             5.000000              25   \n",
       "14             5.000000              25   \n",
       "15             5.000000              25   \n",
       "16             5.263158              25   \n",
       "17             0.000000              25   \n",
       "18             0.000000              26   \n",
       "19             0.000000              36   \n",
       "20             0.000000              25   \n",
       "21             0.000000              25   \n",
       "22             0.000000              25   \n",
       "23             0.000000              25   \n",
       "24             0.000000              25   \n",
       "25             0.000000              25   \n",
       "26             0.000000              25   \n",
       "27             0.000000              25   \n",
       "28             0.000000              26   \n",
       "29             0.000000              36   \n",
       "\n",
       "                                        forecasted_75  \\\n",
       "0       [9, 8, 6, 6, 7, 9, 9, 8, 8, 7, 6, 7, 8, 9, 9]   \n",
       "1   [13, 12, 10, 8, 10, 13, 13, 13, 12, 10, 9, 11,...   \n",
       "2   [17, 16, 13, 11, 14, 17, 17, 17, 16, 13, 12, 1...   \n",
       "3   [21, 20, 16, 14, 17, 21, 22, 21, 20, 17, 14, 1...   \n",
       "4   [26, 24, 19, 17, 21, 26, 26, 25, 24, 20, 17, 2...   \n",
       "5   [30, 28, 22, 20, 24, 30, 30, 30, 28, 23, 20, 2...   \n",
       "6   [34, 32, 25, 22, 28, 34, 35, 34, 32, 26, 23, 2...   \n",
       "7   [39, 36, 29, 25, 31, 39, 39, 38, 36, 30, 26, 3...   \n",
       "8   [43, 39, 32, 28, 35, 43, 43, 42, 40, 33, 29, 3...   \n",
       "9       [8, 7, 5, 5, 6, 8, 8, 7, 7, 6, 5, 6, 7, 8, 8]   \n",
       "10      [9, 8, 6, 6, 7, 9, 9, 8, 8, 7, 6, 7, 8, 9, 9]   \n",
       "11  [15, 14, 13, 12, 13, 15, 15, 15, 14, 13, 12, 1...   \n",
       "12  [25, 24, 23, 22, 23, 25, 25, 25, 24, 23, 22, 2...   \n",
       "13  [35, 35, 33, 31, 33, 35, 36, 35, 34, 33, 32, 3...   \n",
       "14  [45, 45, 43, 41, 43, 45, 46, 45, 44, 43, 42, 4...   \n",
       "15  [55, 55, 53, 51, 53, 55, 56, 55, 54, 53, 52, 5...   \n",
       "16  [65, 65, 63, 62, 63, 65, 65, 65, 64, 63, 62, 6...   \n",
       "17  [75, 74, 73, 72, 73, 75, 75, 75, 74, 73, 72, 7...   \n",
       "18  [85, 84, 83, 82, 83, 85, 85, 85, 84, 83, 82, 8...   \n",
       "19  [95, 94, 93, 92, 93, 95, 95, 95, 94, 93, 92, 9...   \n",
       "20  [105, 104, 103, 102, 103, 105, 105, 105, 104, ...   \n",
       "21  [115, 114, 113, 112, 113, 115, 115, 115, 114, ...   \n",
       "22  [125, 124, 123, 122, 123, 125, 125, 125, 124, ...   \n",
       "23  [135, 134, 133, 132, 133, 135, 135, 135, 134, ...   \n",
       "24  [145, 144, 143, 142, 143, 145, 145, 144, 144, ...   \n",
       "25  [155, 154, 153, 152, 153, 155, 155, 154, 154, ...   \n",
       "26  [165, 164, 163, 162, 163, 165, 165, 164, 164, ...   \n",
       "27  [175, 174, 173, 172, 173, 175, 175, 174, 174, ...   \n",
       "28  [185, 184, 183, 182, 183, 185, 185, 184, 184, ...   \n",
       "29  [195, 194, 193, 192, 193, 195, 195, 194, 194, ...   \n",
       "\n",
       "                      root_75  \\\n",
       "0            [2, 4, 6, 8, 10]   \n",
       "1           [3, 6, 9, 12, 15]   \n",
       "2          [4, 8, 12, 16, 20]   \n",
       "3         [5, 10, 15, 20, 25]   \n",
       "4         [6, 12, 18, 24, 30]   \n",
       "5         [7, 14, 21, 28, 35]   \n",
       "6         [8, 16, 24, 32, 40]   \n",
       "7         [9, 18, 27, 36, 45]   \n",
       "8        [10, 20, 30, 40, 50]   \n",
       "9             [1, 3, 5, 7, 9]   \n",
       "10           [2, 4, 6, 8, 10]   \n",
       "11       [11, 12, 13, 14, 15]   \n",
       "12       [21, 22, 23, 24, 25]   \n",
       "13       [31, 32, 33, 34, 35]   \n",
       "14       [41, 42, 43, 44, 45]   \n",
       "15       [51, 52, 53, 54, 55]   \n",
       "16       [61, 62, 63, 64, 65]   \n",
       "17       [71, 72, 73, 74, 75]   \n",
       "18       [81, 82, 83, 84, 85]   \n",
       "19       [91, 92, 93, 94, 95]   \n",
       "20  [101, 102, 103, 104, 105]   \n",
       "21  [111, 112, 113, 114, 115]   \n",
       "22  [121, 122, 123, 124, 125]   \n",
       "23  [131, 132, 133, 134, 135]   \n",
       "24  [141, 142, 143, 144, 145]   \n",
       "25  [151, 152, 153, 154, 155]   \n",
       "26  [161, 162, 163, 164, 165]   \n",
       "27  [171, 172, 173, 174, 175]   \n",
       "28  [181, 182, 183, 184, 185]   \n",
       "29  [191, 192, 193, 194, 195]   \n",
       "\n",
       "                                        to_predict_75 complexity  \\\n",
       "0   [12, 14, 16, 18, 20, 22, 24, 26, 28, 30, 32, 3...          1   \n",
       "1   [18, 21, 24, 27, 30, 33, 36, 39, 42, 45, 48, 5...          1   \n",
       "2   [24, 28, 32, 36, 40, 44, 48, 52, 56, 60, 64, 6...          1   \n",
       "3   [30, 35, 40, 45, 50, 55, 60, 65, 70, 75, 80, 8...          1   \n",
       "4   [36, 42, 48, 54, 60, 66, 72, 78, 84, 90, 96, 1...          1   \n",
       "5   [42, 49, 56, 63, 70, 77, 84, 91, 98, 105, 112,...          1   \n",
       "6   [48, 56, 64, 72, 80, 88, 96, 104, 112, 120, 12...          1   \n",
       "7   [54, 63, 72, 81, 90, 99, 108, 117, 126, 135, 1...          1   \n",
       "8   [60, 70, 80, 90, 100, 110, 120, 130, 140, 150,...          1   \n",
       "9   [11, 13, 15, 17, 19, 21, 23, 25, 27, 29, 31, 3...          1   \n",
       "10  [12, 14, 16, 18, 20, 22, 24, 26, 28, 30, 32, 3...          1   \n",
       "11  [16, 17, 18, 19, 20, 21, 22, 23, 24, 25, 26, 2...          1   \n",
       "12  [26, 27, 28, 29, 30, 31, 32, 33, 34, 35, 36, 3...          1   \n",
       "13  [36, 37, 38, 39, 40, 41, 42, 43, 44, 45, 46, 4...          1   \n",
       "14  [46, 47, 48, 49, 50, 51, 52, 53, 54, 55, 56, 5...          1   \n",
       "15  [56, 57, 58, 59, 60, 61, 62, 63, 64, 65, 66, 6...          1   \n",
       "16  [66, 67, 68, 69, 70, 71, 72, 73, 74, 75, 76, 7...          1   \n",
       "17  [76, 77, 78, 79, 80, 81, 82, 83, 84, 85, 86, 8...          1   \n",
       "18  [86, 87, 88, 89, 90, 91, 92, 93, 94, 95, 96, 9...          1   \n",
       "19  [96, 97, 98, 99, 100, 101, 102, 103, 104, 105,...          1   \n",
       "20  [106, 107, 108, 109, 110, 111, 112, 113, 114, ...          1   \n",
       "21  [116, 117, 118, 119, 120, 121, 122, 123, 124, ...          1   \n",
       "22  [126, 127, 128, 129, 130, 131, 132, 133, 134, ...          1   \n",
       "23  [136, 137, 138, 139, 140, 141, 142, 143, 144, ...          1   \n",
       "24  [146, 147, 148, 149, 150, 151, 152, 153, 154, ...          1   \n",
       "25  [156, 157, 158, 159, 160, 161, 162, 163, 164, ...          1   \n",
       "26  [166, 167, 168, 169, 170, 171, 172, 173, 174, ...          1   \n",
       "27  [176, 177, 178, 179, 180, 181, 182, 183, 184, ...          1   \n",
       "28  [186, 187, 188, 189, 190, 191, 192, 193, 194, ...          1   \n",
       "29  [196, 197, 198, 199, 200, 201, 202, 203, 204, ...          1   \n",
       "\n",
       "    forecasting_method_name  seq_type  \n",
       "0                   timeGPT  extended  \n",
       "1                   timeGPT  extended  \n",
       "2                   timeGPT  extended  \n",
       "3                   timeGPT  extended  \n",
       "4                   timeGPT  extended  \n",
       "5                   timeGPT  extended  \n",
       "6                   timeGPT  extended  \n",
       "7                   timeGPT  extended  \n",
       "8                   timeGPT  extended  \n",
       "9                   timeGPT  extended  \n",
       "10                  timeGPT  extended  \n",
       "11                  timeGPT  extended  \n",
       "12                  timeGPT  extended  \n",
       "13                  timeGPT  extended  \n",
       "14                  timeGPT  extended  \n",
       "15                  timeGPT  extended  \n",
       "16                  timeGPT  extended  \n",
       "17                  timeGPT  extended  \n",
       "18                  timeGPT  extended  \n",
       "19                  timeGPT  extended  \n",
       "20                  timeGPT  extended  \n",
       "21                  timeGPT  extended  \n",
       "22                  timeGPT  extended  \n",
       "23                  timeGPT  extended  \n",
       "24                  timeGPT  extended  \n",
       "25                  timeGPT  extended  \n",
       "26                  timeGPT  extended  \n",
       "27                  timeGPT  extended  \n",
       "28                  timeGPT  extended  \n",
       "29                  timeGPT  extended  \n",
       "\n",
       "[30 rows x 27 columns]"
      ]
     },
     "execution_count": 10,
     "metadata": {},
     "output_type": "execute_result"
    }
   ],
   "source": [
    "c1_forecsting_df = list_predictions_by_list_percentages(\n",
    "    list_str_sequences=c1_l,\n",
    "    complexity=1,\n",
    "    list_num_percentages=percentages_list,\n",
    "    forecasting_method_name=\"timeGPT\",\n",
    "    seq_type=\"extended\",\n",
    ")\n",
    "c1_forecsting_df"
   ]
  },
  {
   "cell_type": "code",
   "execution_count": 11,
   "metadata": {},
   "outputs": [],
   "source": [
    "c1_forecsting_df.to_csv(\"data/timeGPT-ext-complexiy_1.csv\")"
   ]
  },
  {
   "cell_type": "code",
   "execution_count": 4,
   "metadata": {},
   "outputs": [
    {
     "name": "stderr",
     "output_type": "stream",
     "text": [
      "percentages...:   0%|          | 0/4 [00:00<?, ?it/s]INFO:nixtla.nixtla_client:Validating inputs...\n",
      "INFO:nixtla.nixtla_client:Inferred freq: D\n",
      "INFO:nixtla.nixtla_client:Querying model metadata...\n",
      "INFO:nixtla.nixtla_client:Preprocessing dataframes...\n",
      "INFO:nixtla.nixtla_client:Restricting input...\n",
      "INFO:nixtla.nixtla_client:Calling Forecast Endpoint...\n",
      "INFO:nixtla.nixtla_client:Validating inputs...\n",
      "INFO:nixtla.nixtla_client:Inferred freq: D\n",
      "INFO:nixtla.nixtla_client:Preprocessing dataframes...\n",
      "INFO:nixtla.nixtla_client:Restricting input...\n",
      "INFO:nixtla.nixtla_client:Calling Forecast Endpoint...\n"
     ]
    },
    {
     "name": "stdout",
     "output_type": "stream",
     "text": [
      "root:  [2, 3, 5, 7, 11, 13, 17, 19, 23, 29, 31, 37, 41, 43, 47, 53, 59, 61]\n",
      "to be predicted:  [67, 71]\n"
     ]
    },
    {
     "name": "stderr",
     "output_type": "stream",
     "text": [
      "INFO:nixtla.nixtla_client:Validating inputs...\n",
      "INFO:nixtla.nixtla_client:Inferred freq: D\n",
      "INFO:nixtla.nixtla_client:Preprocessing dataframes...\n",
      "INFO:nixtla.nixtla_client:Restricting input...\n",
      "INFO:nixtla.nixtla_client:Calling Forecast Endpoint...\n"
     ]
    },
    {
     "name": "stdout",
     "output_type": "stream",
     "text": [
      "root:  [1, 1, 2, 3, 5, 8, 13, 21, 34, 55, 89, 144, 233, 377, 610, 987, 1597, 2584]\n",
      "to be predicted:  [4181, 6765]\n"
     ]
    },
    {
     "name": "stderr",
     "output_type": "stream",
     "text": [
      "INFO:nixtla.nixtla_client:Validating inputs...\n",
      "INFO:nixtla.nixtla_client:Inferred freq: D\n",
      "INFO:nixtla.nixtla_client:Preprocessing dataframes...\n",
      "INFO:nixtla.nixtla_client:Restricting input...\n",
      "INFO:nixtla.nixtla_client:Calling Forecast Endpoint...\n"
     ]
    },
    {
     "name": "stdout",
     "output_type": "stream",
     "text": [
      "root:  [1, 2, 4, 8, 16, 32, 64, 128, 256, 512, 1024, 2048, 4096, 8192, 16384, 32768, 65536, 131072]\n",
      "to be predicted:  [262144, 524288]\n"
     ]
    },
    {
     "name": "stderr",
     "output_type": "stream",
     "text": [
      "INFO:nixtla.nixtla_client:Validating inputs...\n",
      "INFO:nixtla.nixtla_client:Inferred freq: D\n",
      "INFO:nixtla.nixtla_client:Preprocessing dataframes...\n",
      "INFO:nixtla.nixtla_client:Restricting input...\n",
      "INFO:nixtla.nixtla_client:Calling Forecast Endpoint...\n"
     ]
    },
    {
     "name": "stdout",
     "output_type": "stream",
     "text": [
      "root:  [1, 3, 9, 27, 81, 243, 729, 2187, 6561, 19683, 59049, 177147, 531441, 1594323, 4782969, 14348907, 43046721, 129140163]\n",
      "to be predicted:  [387420489, 1162261467]\n"
     ]
    },
    {
     "name": "stderr",
     "output_type": "stream",
     "text": [
      "INFO:nixtla.nixtla_client:Validating inputs...\n",
      "INFO:nixtla.nixtla_client:Inferred freq: D\n",
      "INFO:nixtla.nixtla_client:Preprocessing dataframes...\n",
      "INFO:nixtla.nixtla_client:Restricting input...\n",
      "INFO:nixtla.nixtla_client:Calling Forecast Endpoint...\n"
     ]
    },
    {
     "name": "stdout",
     "output_type": "stream",
     "text": [
      "root:  [1, 4, 9, 16, 25, 36, 49, 64, 81, 100, 121, 144, 169, 196, 225, 256, 289, 324]\n",
      "to be predicted:  [361, 400]\n"
     ]
    },
    {
     "name": "stderr",
     "output_type": "stream",
     "text": [
      "INFO:nixtla.nixtla_client:Validating inputs...\n",
      "INFO:nixtla.nixtla_client:Inferred freq: D\n",
      "INFO:nixtla.nixtla_client:Preprocessing dataframes...\n",
      "INFO:nixtla.nixtla_client:Restricting input...\n",
      "INFO:nixtla.nixtla_client:Calling Forecast Endpoint...\n"
     ]
    },
    {
     "name": "stdout",
     "output_type": "stream",
     "text": [
      "root:  [1, 8, 27, 64, 125, 216, 343, 512, 729, 1000, 1331, 1728, 2197, 2744, 3375, 4096, 4913, 5832]\n",
      "to be predicted:  [6859, 8000]\n"
     ]
    },
    {
     "name": "stderr",
     "output_type": "stream",
     "text": [
      "INFO:nixtla.nixtla_client:Validating inputs...\n",
      "INFO:nixtla.nixtla_client:Inferred freq: D\n",
      "INFO:nixtla.nixtla_client:Preprocessing dataframes...\n",
      "INFO:nixtla.nixtla_client:Restricting input...\n",
      "INFO:nixtla.nixtla_client:Calling Forecast Endpoint...\n"
     ]
    },
    {
     "name": "stdout",
     "output_type": "stream",
     "text": [
      "root:  [1, 1, 2, 6, 24, 120, 720, 5040, 40320, 362880, 3628800, 39916800, 479001600, 6227020800, 87178291200, 1307674368000, 20922789888000, 355687428096000]\n",
      "to be predicted:  [6402373705728000, 121645100408832000]\n"
     ]
    },
    {
     "name": "stderr",
     "output_type": "stream",
     "text": [
      "INFO:nixtla.nixtla_client:Validating inputs...\n",
      "INFO:nixtla.nixtla_client:Inferred freq: D\n",
      "INFO:nixtla.nixtla_client:Preprocessing dataframes...\n",
      "INFO:nixtla.nixtla_client:Restricting input...\n",
      "INFO:nixtla.nixtla_client:Calling Forecast Endpoint...\n"
     ]
    },
    {
     "name": "stdout",
     "output_type": "stream",
     "text": [
      "root:  [1, 3, 6, 10, 15, 21, 28, 36, 45, 55, 66, 78, 91, 105, 120, 136, 153, 171]\n",
      "to be predicted:  [190, 210]\n"
     ]
    },
    {
     "name": "stderr",
     "output_type": "stream",
     "text": [
      "INFO:nixtla.nixtla_client:Validating inputs...\n",
      "INFO:nixtla.nixtla_client:Inferred freq: D\n",
      "INFO:nixtla.nixtla_client:Preprocessing dataframes...\n",
      "INFO:nixtla.nixtla_client:Restricting input...\n",
      "INFO:nixtla.nixtla_client:Calling Forecast Endpoint...\n"
     ]
    },
    {
     "name": "stdout",
     "output_type": "stream",
     "text": [
      "root:  [2, 1, 3, 4, 7, 11, 18, 29, 47, 76, 123, 199, 322, 521, 843, 1364, 2207, 3571]\n",
      "to be predicted:  [5778, 9349]\n"
     ]
    },
    {
     "name": "stderr",
     "output_type": "stream",
     "text": [
      "ERROR:nixtla.nixtla_client:Attempt 1 failed with error: _ssl.c:990: The handshake operation timed out\n",
      "predicting sequences:  30%|███       | 9/30 [03:12<07:29, 21.42s/it]\n",
      "percentages...:   0%|          | 0/4 [03:12<?, ?it/s]\n"
     ]
    },
    {
     "ename": "KeyboardInterrupt",
     "evalue": "",
     "output_type": "error",
     "traceback": [
      "\u001b[0;31m---------------------------------------------------------------------------\u001b[0m",
      "\u001b[0;31mKeyboardInterrupt\u001b[0m                         Traceback (most recent call last)",
      "Cell \u001b[0;32mIn[4], line 1\u001b[0m\n\u001b[0;32m----> 1\u001b[0m c2_forecsting_df \u001b[38;5;241m=\u001b[39m \u001b[43mlist_predictions_by_list_percentages\u001b[49m\u001b[43m(\u001b[49m\n\u001b[1;32m      2\u001b[0m \u001b[43m    \u001b[49m\u001b[43mlist_str_sequences\u001b[49m\u001b[38;5;241;43m=\u001b[39;49m\u001b[43mc2_l\u001b[49m\u001b[43m,\u001b[49m\n\u001b[1;32m      3\u001b[0m \u001b[43m    \u001b[49m\u001b[43mcomplexity\u001b[49m\u001b[38;5;241;43m=\u001b[39;49m\u001b[38;5;241;43m2\u001b[39;49m\u001b[43m,\u001b[49m\n\u001b[1;32m      4\u001b[0m \u001b[43m    \u001b[49m\u001b[43mlist_num_percentages\u001b[49m\u001b[38;5;241;43m=\u001b[39;49m\u001b[43mpercentages_list\u001b[49m\u001b[43m,\u001b[49m\n\u001b[1;32m      5\u001b[0m \u001b[43m    \u001b[49m\u001b[43mforecasting_method_name\u001b[49m\u001b[38;5;241;43m=\u001b[39;49m\u001b[38;5;124;43m\"\u001b[39;49m\u001b[38;5;124;43mtimeGPT\u001b[39;49m\u001b[38;5;124;43m\"\u001b[39;49m\u001b[43m,\u001b[49m\n\u001b[1;32m      6\u001b[0m \u001b[43m    \u001b[49m\u001b[43mseq_type\u001b[49m\u001b[38;5;241;43m=\u001b[39;49m\u001b[38;5;124;43m\"\u001b[39;49m\u001b[38;5;124;43mextended\u001b[39;49m\u001b[38;5;124;43m\"\u001b[39;49m\u001b[43m,\u001b[49m\n\u001b[1;32m      7\u001b[0m \u001b[43m)\u001b[49m\n",
      "File \u001b[0;32m~/Documents/Projects/medLLM/processing_answers.py:365\u001b[0m, in \u001b[0;36mlist_predictions_by_list_percentages\u001b[0;34m(list_str_sequences, complexity, list_num_percentages, forecasting_method_name, seq_type, verbose)\u001b[0m\n\u001b[1;32m    362\u001b[0m output_df \u001b[38;5;241m=\u001b[39m pd\u001b[38;5;241m.\u001b[39mDataFrame()\n\u001b[1;32m    363\u001b[0m \u001b[38;5;28;01mfor\u001b[39;00m pctg \u001b[38;5;129;01min\u001b[39;00m tqdm(list_num_percentages, desc\u001b[38;5;241m=\u001b[39m\u001b[38;5;124m\"\u001b[39m\u001b[38;5;124mpercentages...\u001b[39m\u001b[38;5;124m\"\u001b[39m):\n\u001b[1;32m    364\u001b[0m     ss_l, gs_l, lvens, root_l, tob_predicted_l, forecasted_l \u001b[38;5;241m=\u001b[39m (\n\u001b[0;32m--> 365\u001b[0m         \u001b[43mlist_measure_prediction_by_percentage\u001b[49m\u001b[43m(\u001b[49m\n\u001b[1;32m    366\u001b[0m \u001b[43m            \u001b[49m\u001b[43mstr_list_sequences\u001b[49m\u001b[38;5;241;43m=\u001b[39;49m\u001b[43mlist_str_sequences\u001b[49m\u001b[43m,\u001b[49m\n\u001b[1;32m    367\u001b[0m \u001b[43m            \u001b[49m\u001b[43mpercentage_to_predict\u001b[49m\u001b[38;5;241;43m=\u001b[39;49m\u001b[43mpctg\u001b[49m\u001b[43m,\u001b[49m\n\u001b[1;32m    368\u001b[0m \u001b[43m            \u001b[49m\u001b[43mforecast_algo\u001b[49m\u001b[38;5;241;43m=\u001b[39;49m\u001b[43mforecasting_method_name\u001b[49m\u001b[43m,\u001b[49m\n\u001b[1;32m    369\u001b[0m \u001b[43m            \u001b[49m\u001b[43mverbose\u001b[49m\u001b[38;5;241;43m=\u001b[39;49m\u001b[43mverbose\u001b[49m\u001b[43m,\u001b[49m\n\u001b[1;32m    370\u001b[0m \u001b[43m        \u001b[49m\u001b[43m)\u001b[49m\n\u001b[1;32m    371\u001b[0m     )\n\u001b[1;32m    372\u001b[0m     ss_col_name \u001b[38;5;241m=\u001b[39m \u001b[38;5;124m\"\u001b[39m\u001b[38;5;124msort_simi_percen_\u001b[39m\u001b[38;5;124m\"\u001b[39m \u001b[38;5;241m+\u001b[39m \u001b[38;5;28mstr\u001b[39m(pctg)\n\u001b[1;32m    373\u001b[0m     gs_col_name \u001b[38;5;241m=\u001b[39m \u001b[38;5;124m\"\u001b[39m\u001b[38;5;124mgral_simi_percen_\u001b[39m\u001b[38;5;124m\"\u001b[39m \u001b[38;5;241m+\u001b[39m \u001b[38;5;28mstr\u001b[39m(pctg)\n",
      "File \u001b[0;32m~/Documents/Projects/medLLM/processing_answers.py:330\u001b[0m, in \u001b[0;36mlist_measure_prediction_by_percentage\u001b[0;34m(str_list_sequences, percentage_to_predict, forecast_algo, verbose)\u001b[0m\n\u001b[1;32m    326\u001b[0m \u001b[38;5;28;01mif\u001b[39;00m verbose:\n\u001b[1;32m    327\u001b[0m     \u001b[38;5;28mprint\u001b[39m(\u001b[38;5;124m\"\u001b[39m\u001b[38;5;124mProcessing \u001b[39m\u001b[38;5;132;01m{}\u001b[39;00m\u001b[38;5;124m\"\u001b[39m\u001b[38;5;241m.\u001b[39mformat(counter))\n\u001b[1;32m    329\u001b[0m ss, gs, lvens, str_root, str_to_b_prediected, str_forcasted \u001b[38;5;241m=\u001b[39m (\n\u001b[0;32m--> 330\u001b[0m     \u001b[43msingle_measure_prediction_by_precentage\u001b[49m\u001b[43m(\u001b[49m\n\u001b[1;32m    331\u001b[0m \u001b[43m        \u001b[49m\u001b[43mstr_original_sequence\u001b[49m\u001b[38;5;241;43m=\u001b[39;49m\u001b[43mstr_seq\u001b[49m\u001b[43m,\u001b[49m\n\u001b[1;32m    332\u001b[0m \u001b[43m        \u001b[49m\u001b[43mpercentage_to_predict\u001b[49m\u001b[38;5;241;43m=\u001b[39;49m\u001b[43mpercentage_to_predict\u001b[49m\u001b[43m,\u001b[49m\n\u001b[1;32m    333\u001b[0m \u001b[43m        \u001b[49m\u001b[43mforecast_algo\u001b[49m\u001b[38;5;241;43m=\u001b[39;49m\u001b[43mforecast_algo\u001b[49m\u001b[43m,\u001b[49m\n\u001b[1;32m    334\u001b[0m \u001b[43m        \u001b[49m\u001b[43mverbose\u001b[49m\u001b[38;5;241;43m=\u001b[39;49m\u001b[43mverbose\u001b[49m\u001b[43m,\u001b[49m\n\u001b[1;32m    335\u001b[0m \u001b[43m    \u001b[49m\u001b[43m)\u001b[49m\n\u001b[1;32m    336\u001b[0m )\n\u001b[1;32m    337\u001b[0m sort_similarity_list\u001b[38;5;241m.\u001b[39mappend(ss)\n\u001b[1;32m    338\u001b[0m general_similarity_list\u001b[38;5;241m.\u001b[39mappend(gs)\n",
      "File \u001b[0;32m~/Documents/Projects/medLLM/processing_answers.py:258\u001b[0m, in \u001b[0;36msingle_measure_prediction_by_precentage\u001b[0;34m(str_original_sequence, percentage_to_predict, forecast_algo, verbose)\u001b[0m\n\u001b[1;32m    255\u001b[0m expected_predicted_len \u001b[38;5;241m=\u001b[39m \u001b[38;5;28mlen\u001b[39m(num_to_be_predicted)\n\u001b[1;32m    257\u001b[0m \u001b[38;5;28;01mif\u001b[39;00m forecast_algo \u001b[38;5;241m==\u001b[39m \u001b[38;5;124m\"\u001b[39m\u001b[38;5;124mtimeGPT\u001b[39m\u001b[38;5;124m\"\u001b[39m:\n\u001b[0;32m--> 258\u001b[0m     forecasted \u001b[38;5;241m=\u001b[39m \u001b[43mpredict_timeGPT\u001b[49m\u001b[43m(\u001b[49m\n\u001b[1;32m    259\u001b[0m \u001b[43m        \u001b[49m\u001b[43mnumerical_context_list\u001b[49m\u001b[38;5;241;43m=\u001b[39;49m\u001b[43mnum_root\u001b[49m\u001b[43m,\u001b[49m\u001b[43m \u001b[49m\u001b[43mprediction_length\u001b[49m\u001b[38;5;241;43m=\u001b[39;49m\u001b[43mexpected_predicted_len\u001b[49m\n\u001b[1;32m    260\u001b[0m \u001b[43m    \u001b[49m\u001b[43m)\u001b[49m\n\u001b[1;32m    261\u001b[0m \u001b[38;5;28;01melif\u001b[39;00m forecast_algo \u001b[38;5;241m==\u001b[39m \u001b[38;5;124m\"\u001b[39m\u001b[38;5;124mchronos\u001b[39m\u001b[38;5;124m\"\u001b[39m:\n\u001b[1;32m    262\u001b[0m     forecasted \u001b[38;5;241m=\u001b[39m predict_Chronos(\n\u001b[1;32m    263\u001b[0m         numerical_context_list\u001b[38;5;241m=\u001b[39mnum_root, prediction_length\u001b[38;5;241m=\u001b[39mexpected_predicted_len\n\u001b[1;32m    264\u001b[0m     )\n",
      "File \u001b[0;32m~/Documents/Projects/medLLM/processing_answers.py:124\u001b[0m, in \u001b[0;36mpredict_timeGPT\u001b[0;34m(numerical_context_list, prediction_length)\u001b[0m\n\u001b[1;32m    121\u001b[0m tiny_df \u001b[38;5;241m=\u001b[39m get_datetime_values(numerical_context_list)\n\u001b[1;32m    123\u001b[0m \u001b[38;5;28;01mif\u001b[39;00m \u001b[38;5;28mlen\u001b[39m(tiny_df) \u001b[38;5;241m>\u001b[39m \u001b[38;5;241m2\u001b[39m:\n\u001b[0;32m--> 124\u001b[0m     timegpt_fcst_df \u001b[38;5;241m=\u001b[39m \u001b[43mtimegpt\u001b[49m\u001b[38;5;241;43m.\u001b[39;49m\u001b[43mforecast\u001b[49m\u001b[43m(\u001b[49m\u001b[43mtiny_df\u001b[49m\u001b[43m,\u001b[49m\u001b[43m \u001b[49m\u001b[43mh\u001b[49m\u001b[38;5;241;43m=\u001b[39;49m\u001b[43mprediction_length\u001b[49m\u001b[43m,\u001b[49m\u001b[43m \u001b[49m\u001b[43mmodel\u001b[49m\u001b[38;5;241;43m=\u001b[39;49m\u001b[38;5;124;43m'\u001b[39;49m\u001b[38;5;124;43mtimegpt-1-long-horizon\u001b[39;49m\u001b[38;5;124;43m'\u001b[39;49m\u001b[43m)\u001b[49m\n\u001b[1;32m    125\u001b[0m     forecasting \u001b[38;5;241m=\u001b[39m \u001b[38;5;28mlist\u001b[39m(timegpt_fcst_df[\u001b[38;5;124m\"\u001b[39m\u001b[38;5;124mTimeGPT\u001b[39m\u001b[38;5;124m\"\u001b[39m]\u001b[38;5;241m.\u001b[39mvalues)\n\u001b[1;32m    126\u001b[0m     forecasting \u001b[38;5;241m=\u001b[39m [\u001b[38;5;28mint\u001b[39m(\u001b[38;5;28mround\u001b[39m(x)) \u001b[38;5;28;01mfor\u001b[39;00m x \u001b[38;5;129;01min\u001b[39;00m forecasting]\n",
      "File \u001b[0;32m~/Documents/Projects/medLLM/venv/lib/python3.10/site-packages/nixtla/nixtla_client.py:1187\u001b[0m, in \u001b[0;36mNixtlaClient.forecast\u001b[0;34m(self, df, h, freq, id_col, time_col, target_col, X_df, level, quantiles, finetune_steps, finetune_depth, finetune_loss, clean_ex_first, hist_exog_list, validate_api_key, add_history, date_features, date_features_to_one_hot, model, num_partitions, feature_contributions)\u001b[0m\n\u001b[1;32m   1185\u001b[0m insample_feat_contributions \u001b[38;5;241m=\u001b[39m \u001b[38;5;28;01mNone\u001b[39;00m\n\u001b[1;32m   1186\u001b[0m \u001b[38;5;28;01mif\u001b[39;00m num_partitions \u001b[38;5;129;01mis\u001b[39;00m \u001b[38;5;28;01mNone\u001b[39;00m:\n\u001b[0;32m-> 1187\u001b[0m     resp \u001b[38;5;241m=\u001b[39m \u001b[38;5;28;43mself\u001b[39;49m\u001b[38;5;241;43m.\u001b[39;49m\u001b[43m_make_request_with_retries\u001b[49m\u001b[43m(\u001b[49m\u001b[43mclient\u001b[49m\u001b[43m,\u001b[49m\u001b[43m \u001b[49m\u001b[38;5;124;43m\"\u001b[39;49m\u001b[38;5;124;43mv2/forecast\u001b[39;49m\u001b[38;5;124;43m\"\u001b[39;49m\u001b[43m,\u001b[49m\u001b[43m \u001b[49m\u001b[43mpayload\u001b[49m\u001b[43m)\u001b[49m\n\u001b[1;32m   1188\u001b[0m     \u001b[38;5;28;01mif\u001b[39;00m add_history:\n\u001b[1;32m   1189\u001b[0m         in_sample_payload \u001b[38;5;241m=\u001b[39m _forecast_payload_to_in_sample(payload)\n",
      "File \u001b[0;32m~/Documents/Projects/medLLM/venv/lib/python3.10/site-packages/nixtla/nixtla_client.py:688\u001b[0m, in \u001b[0;36mNixtlaClient._make_request_with_retries\u001b[0;34m(self, client, endpoint, payload)\u001b[0m\n\u001b[1;32m    682\u001b[0m \u001b[38;5;28;01mdef\u001b[39;00m \u001b[38;5;21m_make_request_with_retries\u001b[39m(\n\u001b[1;32m    683\u001b[0m     \u001b[38;5;28mself\u001b[39m,\n\u001b[1;32m    684\u001b[0m     client: httpx\u001b[38;5;241m.\u001b[39mClient,\n\u001b[1;32m    685\u001b[0m     endpoint: \u001b[38;5;28mstr\u001b[39m,\n\u001b[1;32m    686\u001b[0m     payload: \u001b[38;5;28mdict\u001b[39m[\u001b[38;5;28mstr\u001b[39m, Any],\n\u001b[1;32m    687\u001b[0m ) \u001b[38;5;241m-\u001b[39m\u001b[38;5;241m>\u001b[39m \u001b[38;5;28mdict\u001b[39m[\u001b[38;5;28mstr\u001b[39m, Any]:\n\u001b[0;32m--> 688\u001b[0m     \u001b[38;5;28;01mreturn\u001b[39;00m \u001b[38;5;28;43mself\u001b[39;49m\u001b[38;5;241;43m.\u001b[39;49m\u001b[43m_retry_strategy\u001b[49m\u001b[43m(\u001b[49m\u001b[38;5;28;43mself\u001b[39;49m\u001b[38;5;241;43m.\u001b[39;49m\u001b[43m_make_request\u001b[49m\u001b[43m)\u001b[49m\u001b[43m(\u001b[49m\n\u001b[1;32m    689\u001b[0m \u001b[43m        \u001b[49m\u001b[43mclient\u001b[49m\u001b[38;5;241;43m=\u001b[39;49m\u001b[43mclient\u001b[49m\u001b[43m,\u001b[49m\n\u001b[1;32m    690\u001b[0m \u001b[43m        \u001b[49m\u001b[43mendpoint\u001b[49m\u001b[38;5;241;43m=\u001b[39;49m\u001b[43mendpoint\u001b[49m\u001b[43m,\u001b[49m\n\u001b[1;32m    691\u001b[0m \u001b[43m        \u001b[49m\u001b[43mpayload\u001b[49m\u001b[38;5;241;43m=\u001b[39;49m\u001b[43mpayload\u001b[49m\u001b[43m,\u001b[49m\n\u001b[1;32m    692\u001b[0m \u001b[43m    \u001b[49m\u001b[43m)\u001b[49m\n",
      "File \u001b[0;32m~/Documents/Projects/medLLM/venv/lib/python3.10/site-packages/tenacity/__init__.py:289\u001b[0m, in \u001b[0;36mBaseRetrying.wraps.<locals>.wrapped_f\u001b[0;34m(*args, **kw)\u001b[0m\n\u001b[1;32m    287\u001b[0m \u001b[38;5;129m@functools\u001b[39m\u001b[38;5;241m.\u001b[39mwraps(f)\n\u001b[1;32m    288\u001b[0m \u001b[38;5;28;01mdef\u001b[39;00m \u001b[38;5;21mwrapped_f\u001b[39m(\u001b[38;5;241m*\u001b[39margs: t\u001b[38;5;241m.\u001b[39mAny, \u001b[38;5;241m*\u001b[39m\u001b[38;5;241m*\u001b[39mkw: t\u001b[38;5;241m.\u001b[39mAny) \u001b[38;5;241m-\u001b[39m\u001b[38;5;241m>\u001b[39m t\u001b[38;5;241m.\u001b[39mAny:\n\u001b[0;32m--> 289\u001b[0m     \u001b[38;5;28;01mreturn\u001b[39;00m \u001b[38;5;28;43mself\u001b[39;49m\u001b[43m(\u001b[49m\u001b[43mf\u001b[49m\u001b[43m,\u001b[49m\u001b[43m \u001b[49m\u001b[38;5;241;43m*\u001b[39;49m\u001b[43margs\u001b[49m\u001b[43m,\u001b[49m\u001b[43m \u001b[49m\u001b[38;5;241;43m*\u001b[39;49m\u001b[38;5;241;43m*\u001b[39;49m\u001b[43mkw\u001b[49m\u001b[43m)\u001b[49m\n",
      "File \u001b[0;32m~/Documents/Projects/medLLM/venv/lib/python3.10/site-packages/tenacity/__init__.py:379\u001b[0m, in \u001b[0;36mRetrying.__call__\u001b[0;34m(self, fn, *args, **kwargs)\u001b[0m\n\u001b[1;32m    377\u001b[0m retry_state \u001b[38;5;241m=\u001b[39m RetryCallState(retry_object\u001b[38;5;241m=\u001b[39m\u001b[38;5;28mself\u001b[39m, fn\u001b[38;5;241m=\u001b[39mfn, args\u001b[38;5;241m=\u001b[39margs, kwargs\u001b[38;5;241m=\u001b[39mkwargs)\n\u001b[1;32m    378\u001b[0m \u001b[38;5;28;01mwhile\u001b[39;00m \u001b[38;5;28;01mTrue\u001b[39;00m:\n\u001b[0;32m--> 379\u001b[0m     do \u001b[38;5;241m=\u001b[39m \u001b[38;5;28;43mself\u001b[39;49m\u001b[38;5;241;43m.\u001b[39;49m\u001b[43miter\u001b[49m\u001b[43m(\u001b[49m\u001b[43mretry_state\u001b[49m\u001b[38;5;241;43m=\u001b[39;49m\u001b[43mretry_state\u001b[49m\u001b[43m)\u001b[49m\n\u001b[1;32m    380\u001b[0m     \u001b[38;5;28;01mif\u001b[39;00m \u001b[38;5;28misinstance\u001b[39m(do, DoAttempt):\n\u001b[1;32m    381\u001b[0m         \u001b[38;5;28;01mtry\u001b[39;00m:\n",
      "File \u001b[0;32m~/Documents/Projects/medLLM/venv/lib/python3.10/site-packages/tenacity/__init__.py:314\u001b[0m, in \u001b[0;36mBaseRetrying.iter\u001b[0;34m(self, retry_state)\u001b[0m\n\u001b[1;32m    312\u001b[0m is_explicit_retry \u001b[38;5;241m=\u001b[39m fut\u001b[38;5;241m.\u001b[39mfailed \u001b[38;5;129;01mand\u001b[39;00m \u001b[38;5;28misinstance\u001b[39m(fut\u001b[38;5;241m.\u001b[39mexception(), TryAgain)\n\u001b[1;32m    313\u001b[0m \u001b[38;5;28;01mif\u001b[39;00m \u001b[38;5;129;01mnot\u001b[39;00m (is_explicit_retry \u001b[38;5;129;01mor\u001b[39;00m \u001b[38;5;28mself\u001b[39m\u001b[38;5;241m.\u001b[39mretry(retry_state)):\n\u001b[0;32m--> 314\u001b[0m     \u001b[38;5;28;01mreturn\u001b[39;00m \u001b[43mfut\u001b[49m\u001b[38;5;241;43m.\u001b[39;49m\u001b[43mresult\u001b[49m\u001b[43m(\u001b[49m\u001b[43m)\u001b[49m\n\u001b[1;32m    316\u001b[0m \u001b[38;5;28;01mif\u001b[39;00m \u001b[38;5;28mself\u001b[39m\u001b[38;5;241m.\u001b[39mafter \u001b[38;5;129;01mis\u001b[39;00m \u001b[38;5;129;01mnot\u001b[39;00m \u001b[38;5;28;01mNone\u001b[39;00m:\n\u001b[1;32m    317\u001b[0m     \u001b[38;5;28mself\u001b[39m\u001b[38;5;241m.\u001b[39mafter(retry_state)\n",
      "File \u001b[0;32m~/.pyenv/versions/3.10.11/lib/python3.10/concurrent/futures/_base.py:451\u001b[0m, in \u001b[0;36mFuture.result\u001b[0;34m(self, timeout)\u001b[0m\n\u001b[1;32m    449\u001b[0m     \u001b[38;5;28;01mraise\u001b[39;00m CancelledError()\n\u001b[1;32m    450\u001b[0m \u001b[38;5;28;01melif\u001b[39;00m \u001b[38;5;28mself\u001b[39m\u001b[38;5;241m.\u001b[39m_state \u001b[38;5;241m==\u001b[39m FINISHED:\n\u001b[0;32m--> 451\u001b[0m     \u001b[38;5;28;01mreturn\u001b[39;00m \u001b[38;5;28;43mself\u001b[39;49m\u001b[38;5;241;43m.\u001b[39;49m\u001b[43m__get_result\u001b[49m\u001b[43m(\u001b[49m\u001b[43m)\u001b[49m\n\u001b[1;32m    453\u001b[0m \u001b[38;5;28mself\u001b[39m\u001b[38;5;241m.\u001b[39m_condition\u001b[38;5;241m.\u001b[39mwait(timeout)\n\u001b[1;32m    455\u001b[0m \u001b[38;5;28;01mif\u001b[39;00m \u001b[38;5;28mself\u001b[39m\u001b[38;5;241m.\u001b[39m_state \u001b[38;5;129;01min\u001b[39;00m [CANCELLED, CANCELLED_AND_NOTIFIED]:\n",
      "File \u001b[0;32m~/.pyenv/versions/3.10.11/lib/python3.10/concurrent/futures/_base.py:403\u001b[0m, in \u001b[0;36mFuture.__get_result\u001b[0;34m(self)\u001b[0m\n\u001b[1;32m    401\u001b[0m \u001b[38;5;28;01mif\u001b[39;00m \u001b[38;5;28mself\u001b[39m\u001b[38;5;241m.\u001b[39m_exception:\n\u001b[1;32m    402\u001b[0m     \u001b[38;5;28;01mtry\u001b[39;00m:\n\u001b[0;32m--> 403\u001b[0m         \u001b[38;5;28;01mraise\u001b[39;00m \u001b[38;5;28mself\u001b[39m\u001b[38;5;241m.\u001b[39m_exception\n\u001b[1;32m    404\u001b[0m     \u001b[38;5;28;01mfinally\u001b[39;00m:\n\u001b[1;32m    405\u001b[0m         \u001b[38;5;66;03m# Break a reference cycle with the exception in self._exception\u001b[39;00m\n\u001b[1;32m    406\u001b[0m         \u001b[38;5;28mself\u001b[39m \u001b[38;5;241m=\u001b[39m \u001b[38;5;28;01mNone\u001b[39;00m\n",
      "File \u001b[0;32m~/Documents/Projects/medLLM/venv/lib/python3.10/site-packages/tenacity/__init__.py:382\u001b[0m, in \u001b[0;36mRetrying.__call__\u001b[0;34m(self, fn, *args, **kwargs)\u001b[0m\n\u001b[1;32m    380\u001b[0m \u001b[38;5;28;01mif\u001b[39;00m \u001b[38;5;28misinstance\u001b[39m(do, DoAttempt):\n\u001b[1;32m    381\u001b[0m     \u001b[38;5;28;01mtry\u001b[39;00m:\n\u001b[0;32m--> 382\u001b[0m         result \u001b[38;5;241m=\u001b[39m \u001b[43mfn\u001b[49m\u001b[43m(\u001b[49m\u001b[38;5;241;43m*\u001b[39;49m\u001b[43margs\u001b[49m\u001b[43m,\u001b[49m\u001b[43m \u001b[49m\u001b[38;5;241;43m*\u001b[39;49m\u001b[38;5;241;43m*\u001b[39;49m\u001b[43mkwargs\u001b[49m\u001b[43m)\u001b[49m\n\u001b[1;32m    383\u001b[0m     \u001b[38;5;28;01mexcept\u001b[39;00m \u001b[38;5;167;01mBaseException\u001b[39;00m:  \u001b[38;5;66;03m# noqa: B902\u001b[39;00m\n\u001b[1;32m    384\u001b[0m         retry_state\u001b[38;5;241m.\u001b[39mset_exception(sys\u001b[38;5;241m.\u001b[39mexc_info())  \u001b[38;5;66;03m# type: ignore[arg-type]\u001b[39;00m\n",
      "File \u001b[0;32m~/Documents/Projects/medLLM/venv/lib/python3.10/site-packages/nixtla/nixtla_client.py:668\u001b[0m, in \u001b[0;36mNixtlaClient._make_request\u001b[0;34m(self, client, endpoint, payload)\u001b[0m\n\u001b[1;32m    664\u001b[0m \u001b[38;5;28;01mif\u001b[39;00m content_size_mb \u001b[38;5;241m>\u001b[39m \u001b[38;5;241m200\u001b[39m:\n\u001b[1;32m    665\u001b[0m     \u001b[38;5;28;01mraise\u001b[39;00m \u001b[38;5;167;01mValueError\u001b[39;00m(\n\u001b[1;32m    666\u001b[0m         \u001b[38;5;124mf\u001b[39m\u001b[38;5;124m\"\u001b[39m\u001b[38;5;124mThe payload is too large. Set num_partitions=\u001b[39m\u001b[38;5;132;01m{\u001b[39;00mmath\u001b[38;5;241m.\u001b[39mceil(content_size_mb\u001b[38;5;250m \u001b[39m\u001b[38;5;241m/\u001b[39m\u001b[38;5;250m \u001b[39m\u001b[38;5;241m200\u001b[39m)\u001b[38;5;132;01m}\u001b[39;00m\u001b[38;5;124m\"\u001b[39m\n\u001b[1;32m    667\u001b[0m     )\n\u001b[0;32m--> 668\u001b[0m resp \u001b[38;5;241m=\u001b[39m \u001b[43mclient\u001b[49m\u001b[38;5;241;43m.\u001b[39;49m\u001b[43mpost\u001b[49m\u001b[43m(\u001b[49m\u001b[43murl\u001b[49m\u001b[38;5;241;43m=\u001b[39;49m\u001b[43mendpoint\u001b[49m\u001b[43m,\u001b[49m\u001b[43m \u001b[49m\u001b[43mcontent\u001b[49m\u001b[38;5;241;43m=\u001b[39;49m\u001b[43mcontent\u001b[49m\u001b[43m)\u001b[49m\n\u001b[1;32m    669\u001b[0m \u001b[38;5;28;01mtry\u001b[39;00m:\n\u001b[1;32m    670\u001b[0m     resp_body \u001b[38;5;241m=\u001b[39m orjson\u001b[38;5;241m.\u001b[39mloads(resp\u001b[38;5;241m.\u001b[39mcontent)\n",
      "File \u001b[0;32m~/Documents/Projects/medLLM/venv/lib/python3.10/site-packages/httpx/_client.py:1145\u001b[0m, in \u001b[0;36mClient.post\u001b[0;34m(self, url, content, data, files, json, params, headers, cookies, auth, follow_redirects, timeout, extensions)\u001b[0m\n\u001b[1;32m   1124\u001b[0m \u001b[38;5;28;01mdef\u001b[39;00m \u001b[38;5;21mpost\u001b[39m(\n\u001b[1;32m   1125\u001b[0m     \u001b[38;5;28mself\u001b[39m,\n\u001b[1;32m   1126\u001b[0m     url: URLTypes,\n\u001b[0;32m   (...)\u001b[0m\n\u001b[1;32m   1138\u001b[0m     extensions: RequestExtensions \u001b[38;5;241m|\u001b[39m \u001b[38;5;28;01mNone\u001b[39;00m \u001b[38;5;241m=\u001b[39m \u001b[38;5;28;01mNone\u001b[39;00m,\n\u001b[1;32m   1139\u001b[0m ) \u001b[38;5;241m-\u001b[39m\u001b[38;5;241m>\u001b[39m Response:\n\u001b[1;32m   1140\u001b[0m \u001b[38;5;250m    \u001b[39m\u001b[38;5;124;03m\"\"\"\u001b[39;00m\n\u001b[1;32m   1141\u001b[0m \u001b[38;5;124;03m    Send a `POST` request.\u001b[39;00m\n\u001b[1;32m   1142\u001b[0m \n\u001b[1;32m   1143\u001b[0m \u001b[38;5;124;03m    **Parameters**: See `httpx.request`.\u001b[39;00m\n\u001b[1;32m   1144\u001b[0m \u001b[38;5;124;03m    \"\"\"\u001b[39;00m\n\u001b[0;32m-> 1145\u001b[0m     \u001b[38;5;28;01mreturn\u001b[39;00m \u001b[38;5;28;43mself\u001b[39;49m\u001b[38;5;241;43m.\u001b[39;49m\u001b[43mrequest\u001b[49m\u001b[43m(\u001b[49m\n\u001b[1;32m   1146\u001b[0m \u001b[43m        \u001b[49m\u001b[38;5;124;43m\"\u001b[39;49m\u001b[38;5;124;43mPOST\u001b[39;49m\u001b[38;5;124;43m\"\u001b[39;49m\u001b[43m,\u001b[49m\n\u001b[1;32m   1147\u001b[0m \u001b[43m        \u001b[49m\u001b[43murl\u001b[49m\u001b[43m,\u001b[49m\n\u001b[1;32m   1148\u001b[0m \u001b[43m        \u001b[49m\u001b[43mcontent\u001b[49m\u001b[38;5;241;43m=\u001b[39;49m\u001b[43mcontent\u001b[49m\u001b[43m,\u001b[49m\n\u001b[1;32m   1149\u001b[0m \u001b[43m        \u001b[49m\u001b[43mdata\u001b[49m\u001b[38;5;241;43m=\u001b[39;49m\u001b[43mdata\u001b[49m\u001b[43m,\u001b[49m\n\u001b[1;32m   1150\u001b[0m \u001b[43m        \u001b[49m\u001b[43mfiles\u001b[49m\u001b[38;5;241;43m=\u001b[39;49m\u001b[43mfiles\u001b[49m\u001b[43m,\u001b[49m\n\u001b[1;32m   1151\u001b[0m \u001b[43m        \u001b[49m\u001b[43mjson\u001b[49m\u001b[38;5;241;43m=\u001b[39;49m\u001b[43mjson\u001b[49m\u001b[43m,\u001b[49m\n\u001b[1;32m   1152\u001b[0m \u001b[43m        \u001b[49m\u001b[43mparams\u001b[49m\u001b[38;5;241;43m=\u001b[39;49m\u001b[43mparams\u001b[49m\u001b[43m,\u001b[49m\n\u001b[1;32m   1153\u001b[0m \u001b[43m        \u001b[49m\u001b[43mheaders\u001b[49m\u001b[38;5;241;43m=\u001b[39;49m\u001b[43mheaders\u001b[49m\u001b[43m,\u001b[49m\n\u001b[1;32m   1154\u001b[0m \u001b[43m        \u001b[49m\u001b[43mcookies\u001b[49m\u001b[38;5;241;43m=\u001b[39;49m\u001b[43mcookies\u001b[49m\u001b[43m,\u001b[49m\n\u001b[1;32m   1155\u001b[0m \u001b[43m        \u001b[49m\u001b[43mauth\u001b[49m\u001b[38;5;241;43m=\u001b[39;49m\u001b[43mauth\u001b[49m\u001b[43m,\u001b[49m\n\u001b[1;32m   1156\u001b[0m \u001b[43m        \u001b[49m\u001b[43mfollow_redirects\u001b[49m\u001b[38;5;241;43m=\u001b[39;49m\u001b[43mfollow_redirects\u001b[49m\u001b[43m,\u001b[49m\n\u001b[1;32m   1157\u001b[0m \u001b[43m        \u001b[49m\u001b[43mtimeout\u001b[49m\u001b[38;5;241;43m=\u001b[39;49m\u001b[43mtimeout\u001b[49m\u001b[43m,\u001b[49m\n\u001b[1;32m   1158\u001b[0m \u001b[43m        \u001b[49m\u001b[43mextensions\u001b[49m\u001b[38;5;241;43m=\u001b[39;49m\u001b[43mextensions\u001b[49m\u001b[43m,\u001b[49m\n\u001b[1;32m   1159\u001b[0m \u001b[43m    \u001b[49m\u001b[43m)\u001b[49m\n",
      "File \u001b[0;32m~/Documents/Projects/medLLM/venv/lib/python3.10/site-packages/httpx/_client.py:827\u001b[0m, in \u001b[0;36mClient.request\u001b[0;34m(self, method, url, content, data, files, json, params, headers, cookies, auth, follow_redirects, timeout, extensions)\u001b[0m\n\u001b[1;32m    812\u001b[0m     warnings\u001b[38;5;241m.\u001b[39mwarn(message, \u001b[38;5;167;01mDeprecationWarning\u001b[39;00m)\n\u001b[1;32m    814\u001b[0m request \u001b[38;5;241m=\u001b[39m \u001b[38;5;28mself\u001b[39m\u001b[38;5;241m.\u001b[39mbuild_request(\n\u001b[1;32m    815\u001b[0m     method\u001b[38;5;241m=\u001b[39mmethod,\n\u001b[1;32m    816\u001b[0m     url\u001b[38;5;241m=\u001b[39murl,\n\u001b[0;32m   (...)\u001b[0m\n\u001b[1;32m    825\u001b[0m     extensions\u001b[38;5;241m=\u001b[39mextensions,\n\u001b[1;32m    826\u001b[0m )\n\u001b[0;32m--> 827\u001b[0m \u001b[38;5;28;01mreturn\u001b[39;00m \u001b[38;5;28;43mself\u001b[39;49m\u001b[38;5;241;43m.\u001b[39;49m\u001b[43msend\u001b[49m\u001b[43m(\u001b[49m\u001b[43mrequest\u001b[49m\u001b[43m,\u001b[49m\u001b[43m \u001b[49m\u001b[43mauth\u001b[49m\u001b[38;5;241;43m=\u001b[39;49m\u001b[43mauth\u001b[49m\u001b[43m,\u001b[49m\u001b[43m \u001b[49m\u001b[43mfollow_redirects\u001b[49m\u001b[38;5;241;43m=\u001b[39;49m\u001b[43mfollow_redirects\u001b[49m\u001b[43m)\u001b[49m\n",
      "File \u001b[0;32m~/Documents/Projects/medLLM/venv/lib/python3.10/site-packages/httpx/_client.py:914\u001b[0m, in \u001b[0;36mClient.send\u001b[0;34m(self, request, stream, auth, follow_redirects)\u001b[0m\n\u001b[1;32m    906\u001b[0m follow_redirects \u001b[38;5;241m=\u001b[39m (\n\u001b[1;32m    907\u001b[0m     \u001b[38;5;28mself\u001b[39m\u001b[38;5;241m.\u001b[39mfollow_redirects\n\u001b[1;32m    908\u001b[0m     \u001b[38;5;28;01mif\u001b[39;00m \u001b[38;5;28misinstance\u001b[39m(follow_redirects, UseClientDefault)\n\u001b[1;32m    909\u001b[0m     \u001b[38;5;28;01melse\u001b[39;00m follow_redirects\n\u001b[1;32m    910\u001b[0m )\n\u001b[1;32m    912\u001b[0m auth \u001b[38;5;241m=\u001b[39m \u001b[38;5;28mself\u001b[39m\u001b[38;5;241m.\u001b[39m_build_request_auth(request, auth)\n\u001b[0;32m--> 914\u001b[0m response \u001b[38;5;241m=\u001b[39m \u001b[38;5;28;43mself\u001b[39;49m\u001b[38;5;241;43m.\u001b[39;49m\u001b[43m_send_handling_auth\u001b[49m\u001b[43m(\u001b[49m\n\u001b[1;32m    915\u001b[0m \u001b[43m    \u001b[49m\u001b[43mrequest\u001b[49m\u001b[43m,\u001b[49m\n\u001b[1;32m    916\u001b[0m \u001b[43m    \u001b[49m\u001b[43mauth\u001b[49m\u001b[38;5;241;43m=\u001b[39;49m\u001b[43mauth\u001b[49m\u001b[43m,\u001b[49m\n\u001b[1;32m    917\u001b[0m \u001b[43m    \u001b[49m\u001b[43mfollow_redirects\u001b[49m\u001b[38;5;241;43m=\u001b[39;49m\u001b[43mfollow_redirects\u001b[49m\u001b[43m,\u001b[49m\n\u001b[1;32m    918\u001b[0m \u001b[43m    \u001b[49m\u001b[43mhistory\u001b[49m\u001b[38;5;241;43m=\u001b[39;49m\u001b[43m[\u001b[49m\u001b[43m]\u001b[49m\u001b[43m,\u001b[49m\n\u001b[1;32m    919\u001b[0m \u001b[43m\u001b[49m\u001b[43m)\u001b[49m\n\u001b[1;32m    920\u001b[0m \u001b[38;5;28;01mtry\u001b[39;00m:\n\u001b[1;32m    921\u001b[0m     \u001b[38;5;28;01mif\u001b[39;00m \u001b[38;5;129;01mnot\u001b[39;00m stream:\n",
      "File \u001b[0;32m~/Documents/Projects/medLLM/venv/lib/python3.10/site-packages/httpx/_client.py:942\u001b[0m, in \u001b[0;36mClient._send_handling_auth\u001b[0;34m(self, request, auth, follow_redirects, history)\u001b[0m\n\u001b[1;32m    939\u001b[0m request \u001b[38;5;241m=\u001b[39m \u001b[38;5;28mnext\u001b[39m(auth_flow)\n\u001b[1;32m    941\u001b[0m \u001b[38;5;28;01mwhile\u001b[39;00m \u001b[38;5;28;01mTrue\u001b[39;00m:\n\u001b[0;32m--> 942\u001b[0m     response \u001b[38;5;241m=\u001b[39m \u001b[38;5;28;43mself\u001b[39;49m\u001b[38;5;241;43m.\u001b[39;49m\u001b[43m_send_handling_redirects\u001b[49m\u001b[43m(\u001b[49m\n\u001b[1;32m    943\u001b[0m \u001b[43m        \u001b[49m\u001b[43mrequest\u001b[49m\u001b[43m,\u001b[49m\n\u001b[1;32m    944\u001b[0m \u001b[43m        \u001b[49m\u001b[43mfollow_redirects\u001b[49m\u001b[38;5;241;43m=\u001b[39;49m\u001b[43mfollow_redirects\u001b[49m\u001b[43m,\u001b[49m\n\u001b[1;32m    945\u001b[0m \u001b[43m        \u001b[49m\u001b[43mhistory\u001b[49m\u001b[38;5;241;43m=\u001b[39;49m\u001b[43mhistory\u001b[49m\u001b[43m,\u001b[49m\n\u001b[1;32m    946\u001b[0m \u001b[43m    \u001b[49m\u001b[43m)\u001b[49m\n\u001b[1;32m    947\u001b[0m     \u001b[38;5;28;01mtry\u001b[39;00m:\n\u001b[1;32m    948\u001b[0m         \u001b[38;5;28;01mtry\u001b[39;00m:\n",
      "File \u001b[0;32m~/Documents/Projects/medLLM/venv/lib/python3.10/site-packages/httpx/_client.py:979\u001b[0m, in \u001b[0;36mClient._send_handling_redirects\u001b[0;34m(self, request, follow_redirects, history)\u001b[0m\n\u001b[1;32m    976\u001b[0m \u001b[38;5;28;01mfor\u001b[39;00m hook \u001b[38;5;129;01min\u001b[39;00m \u001b[38;5;28mself\u001b[39m\u001b[38;5;241m.\u001b[39m_event_hooks[\u001b[38;5;124m\"\u001b[39m\u001b[38;5;124mrequest\u001b[39m\u001b[38;5;124m\"\u001b[39m]:\n\u001b[1;32m    977\u001b[0m     hook(request)\n\u001b[0;32m--> 979\u001b[0m response \u001b[38;5;241m=\u001b[39m \u001b[38;5;28;43mself\u001b[39;49m\u001b[38;5;241;43m.\u001b[39;49m\u001b[43m_send_single_request\u001b[49m\u001b[43m(\u001b[49m\u001b[43mrequest\u001b[49m\u001b[43m)\u001b[49m\n\u001b[1;32m    980\u001b[0m \u001b[38;5;28;01mtry\u001b[39;00m:\n\u001b[1;32m    981\u001b[0m     \u001b[38;5;28;01mfor\u001b[39;00m hook \u001b[38;5;129;01min\u001b[39;00m \u001b[38;5;28mself\u001b[39m\u001b[38;5;241m.\u001b[39m_event_hooks[\u001b[38;5;124m\"\u001b[39m\u001b[38;5;124mresponse\u001b[39m\u001b[38;5;124m\"\u001b[39m]:\n",
      "File \u001b[0;32m~/Documents/Projects/medLLM/venv/lib/python3.10/site-packages/httpx/_client.py:1015\u001b[0m, in \u001b[0;36mClient._send_single_request\u001b[0;34m(self, request)\u001b[0m\n\u001b[1;32m   1010\u001b[0m     \u001b[38;5;28;01mraise\u001b[39;00m \u001b[38;5;167;01mRuntimeError\u001b[39;00m(\n\u001b[1;32m   1011\u001b[0m         \u001b[38;5;124m\"\u001b[39m\u001b[38;5;124mAttempted to send an async request with a sync Client instance.\u001b[39m\u001b[38;5;124m\"\u001b[39m\n\u001b[1;32m   1012\u001b[0m     )\n\u001b[1;32m   1014\u001b[0m \u001b[38;5;28;01mwith\u001b[39;00m request_context(request\u001b[38;5;241m=\u001b[39mrequest):\n\u001b[0;32m-> 1015\u001b[0m     response \u001b[38;5;241m=\u001b[39m \u001b[43mtransport\u001b[49m\u001b[38;5;241;43m.\u001b[39;49m\u001b[43mhandle_request\u001b[49m\u001b[43m(\u001b[49m\u001b[43mrequest\u001b[49m\u001b[43m)\u001b[49m\n\u001b[1;32m   1017\u001b[0m \u001b[38;5;28;01massert\u001b[39;00m \u001b[38;5;28misinstance\u001b[39m(response\u001b[38;5;241m.\u001b[39mstream, SyncByteStream)\n\u001b[1;32m   1019\u001b[0m response\u001b[38;5;241m.\u001b[39mrequest \u001b[38;5;241m=\u001b[39m request\n",
      "File \u001b[0;32m~/Documents/Projects/medLLM/venv/lib/python3.10/site-packages/httpx/_transports/default.py:233\u001b[0m, in \u001b[0;36mHTTPTransport.handle_request\u001b[0;34m(self, request)\u001b[0m\n\u001b[1;32m    220\u001b[0m req \u001b[38;5;241m=\u001b[39m httpcore\u001b[38;5;241m.\u001b[39mRequest(\n\u001b[1;32m    221\u001b[0m     method\u001b[38;5;241m=\u001b[39mrequest\u001b[38;5;241m.\u001b[39mmethod,\n\u001b[1;32m    222\u001b[0m     url\u001b[38;5;241m=\u001b[39mhttpcore\u001b[38;5;241m.\u001b[39mURL(\n\u001b[0;32m   (...)\u001b[0m\n\u001b[1;32m    230\u001b[0m     extensions\u001b[38;5;241m=\u001b[39mrequest\u001b[38;5;241m.\u001b[39mextensions,\n\u001b[1;32m    231\u001b[0m )\n\u001b[1;32m    232\u001b[0m \u001b[38;5;28;01mwith\u001b[39;00m map_httpcore_exceptions():\n\u001b[0;32m--> 233\u001b[0m     resp \u001b[38;5;241m=\u001b[39m \u001b[38;5;28;43mself\u001b[39;49m\u001b[38;5;241;43m.\u001b[39;49m\u001b[43m_pool\u001b[49m\u001b[38;5;241;43m.\u001b[39;49m\u001b[43mhandle_request\u001b[49m\u001b[43m(\u001b[49m\u001b[43mreq\u001b[49m\u001b[43m)\u001b[49m\n\u001b[1;32m    235\u001b[0m \u001b[38;5;28;01massert\u001b[39;00m \u001b[38;5;28misinstance\u001b[39m(resp\u001b[38;5;241m.\u001b[39mstream, typing\u001b[38;5;241m.\u001b[39mIterable)\n\u001b[1;32m    237\u001b[0m \u001b[38;5;28;01mreturn\u001b[39;00m Response(\n\u001b[1;32m    238\u001b[0m     status_code\u001b[38;5;241m=\u001b[39mresp\u001b[38;5;241m.\u001b[39mstatus,\n\u001b[1;32m    239\u001b[0m     headers\u001b[38;5;241m=\u001b[39mresp\u001b[38;5;241m.\u001b[39mheaders,\n\u001b[1;32m    240\u001b[0m     stream\u001b[38;5;241m=\u001b[39mResponseStream(resp\u001b[38;5;241m.\u001b[39mstream),\n\u001b[1;32m    241\u001b[0m     extensions\u001b[38;5;241m=\u001b[39mresp\u001b[38;5;241m.\u001b[39mextensions,\n\u001b[1;32m    242\u001b[0m )\n",
      "File \u001b[0;32m~/Documents/Projects/medLLM/venv/lib/python3.10/site-packages/httpcore/_sync/connection_pool.py:216\u001b[0m, in \u001b[0;36mConnectionPool.handle_request\u001b[0;34m(self, request)\u001b[0m\n\u001b[1;32m    213\u001b[0m         closing \u001b[38;5;241m=\u001b[39m \u001b[38;5;28mself\u001b[39m\u001b[38;5;241m.\u001b[39m_assign_requests_to_connections()\n\u001b[1;32m    215\u001b[0m     \u001b[38;5;28mself\u001b[39m\u001b[38;5;241m.\u001b[39m_close_connections(closing)\n\u001b[0;32m--> 216\u001b[0m     \u001b[38;5;28;01mraise\u001b[39;00m exc \u001b[38;5;28;01mfrom\u001b[39;00m \u001b[38;5;28;01mNone\u001b[39;00m\n\u001b[1;32m    218\u001b[0m \u001b[38;5;66;03m# Return the response. Note that in this case we still have to manage\u001b[39;00m\n\u001b[1;32m    219\u001b[0m \u001b[38;5;66;03m# the point at which the response is closed.\u001b[39;00m\n\u001b[1;32m    220\u001b[0m \u001b[38;5;28;01massert\u001b[39;00m \u001b[38;5;28misinstance\u001b[39m(response\u001b[38;5;241m.\u001b[39mstream, Iterable)\n",
      "File \u001b[0;32m~/Documents/Projects/medLLM/venv/lib/python3.10/site-packages/httpcore/_sync/connection_pool.py:196\u001b[0m, in \u001b[0;36mConnectionPool.handle_request\u001b[0;34m(self, request)\u001b[0m\n\u001b[1;32m    192\u001b[0m connection \u001b[38;5;241m=\u001b[39m pool_request\u001b[38;5;241m.\u001b[39mwait_for_connection(timeout\u001b[38;5;241m=\u001b[39mtimeout)\n\u001b[1;32m    194\u001b[0m \u001b[38;5;28;01mtry\u001b[39;00m:\n\u001b[1;32m    195\u001b[0m     \u001b[38;5;66;03m# Send the request on the assigned connection.\u001b[39;00m\n\u001b[0;32m--> 196\u001b[0m     response \u001b[38;5;241m=\u001b[39m \u001b[43mconnection\u001b[49m\u001b[38;5;241;43m.\u001b[39;49m\u001b[43mhandle_request\u001b[49m\u001b[43m(\u001b[49m\n\u001b[1;32m    197\u001b[0m \u001b[43m        \u001b[49m\u001b[43mpool_request\u001b[49m\u001b[38;5;241;43m.\u001b[39;49m\u001b[43mrequest\u001b[49m\n\u001b[1;32m    198\u001b[0m \u001b[43m    \u001b[49m\u001b[43m)\u001b[49m\n\u001b[1;32m    199\u001b[0m \u001b[38;5;28;01mexcept\u001b[39;00m ConnectionNotAvailable:\n\u001b[1;32m    200\u001b[0m     \u001b[38;5;66;03m# In some cases a connection may initially be available to\u001b[39;00m\n\u001b[1;32m    201\u001b[0m     \u001b[38;5;66;03m# handle a request, but then become unavailable.\u001b[39;00m\n\u001b[1;32m    202\u001b[0m     \u001b[38;5;66;03m#\u001b[39;00m\n\u001b[1;32m    203\u001b[0m     \u001b[38;5;66;03m# In this case we clear the connection and try again.\u001b[39;00m\n\u001b[1;32m    204\u001b[0m     pool_request\u001b[38;5;241m.\u001b[39mclear_connection()\n",
      "File \u001b[0;32m~/Documents/Projects/medLLM/venv/lib/python3.10/site-packages/httpcore/_sync/connection.py:101\u001b[0m, in \u001b[0;36mHTTPConnection.handle_request\u001b[0;34m(self, request)\u001b[0m\n\u001b[1;32m     98\u001b[0m     \u001b[38;5;28mself\u001b[39m\u001b[38;5;241m.\u001b[39m_connect_failed \u001b[38;5;241m=\u001b[39m \u001b[38;5;28;01mTrue\u001b[39;00m\n\u001b[1;32m     99\u001b[0m     \u001b[38;5;28;01mraise\u001b[39;00m exc\n\u001b[0;32m--> 101\u001b[0m \u001b[38;5;28;01mreturn\u001b[39;00m \u001b[38;5;28;43mself\u001b[39;49m\u001b[38;5;241;43m.\u001b[39;49m\u001b[43m_connection\u001b[49m\u001b[38;5;241;43m.\u001b[39;49m\u001b[43mhandle_request\u001b[49m\u001b[43m(\u001b[49m\u001b[43mrequest\u001b[49m\u001b[43m)\u001b[49m\n",
      "File \u001b[0;32m~/Documents/Projects/medLLM/venv/lib/python3.10/site-packages/httpcore/_sync/http11.py:143\u001b[0m, in \u001b[0;36mHTTP11Connection.handle_request\u001b[0;34m(self, request)\u001b[0m\n\u001b[1;32m    141\u001b[0m     \u001b[38;5;28;01mwith\u001b[39;00m Trace(\u001b[38;5;124m\"\u001b[39m\u001b[38;5;124mresponse_closed\u001b[39m\u001b[38;5;124m\"\u001b[39m, logger, request) \u001b[38;5;28;01mas\u001b[39;00m trace:\n\u001b[1;32m    142\u001b[0m         \u001b[38;5;28mself\u001b[39m\u001b[38;5;241m.\u001b[39m_response_closed()\n\u001b[0;32m--> 143\u001b[0m \u001b[38;5;28;01mraise\u001b[39;00m exc\n",
      "File \u001b[0;32m~/Documents/Projects/medLLM/venv/lib/python3.10/site-packages/httpcore/_sync/http11.py:113\u001b[0m, in \u001b[0;36mHTTP11Connection.handle_request\u001b[0;34m(self, request)\u001b[0m\n\u001b[1;32m    102\u001b[0m     \u001b[38;5;28;01mpass\u001b[39;00m\n\u001b[1;32m    104\u001b[0m \u001b[38;5;28;01mwith\u001b[39;00m Trace(\n\u001b[1;32m    105\u001b[0m     \u001b[38;5;124m\"\u001b[39m\u001b[38;5;124mreceive_response_headers\u001b[39m\u001b[38;5;124m\"\u001b[39m, logger, request, kwargs\n\u001b[1;32m    106\u001b[0m ) \u001b[38;5;28;01mas\u001b[39;00m trace:\n\u001b[1;32m    107\u001b[0m     (\n\u001b[1;32m    108\u001b[0m         http_version,\n\u001b[1;32m    109\u001b[0m         status,\n\u001b[1;32m    110\u001b[0m         reason_phrase,\n\u001b[1;32m    111\u001b[0m         headers,\n\u001b[1;32m    112\u001b[0m         trailing_data,\n\u001b[0;32m--> 113\u001b[0m     ) \u001b[38;5;241m=\u001b[39m \u001b[38;5;28;43mself\u001b[39;49m\u001b[38;5;241;43m.\u001b[39;49m\u001b[43m_receive_response_headers\u001b[49m\u001b[43m(\u001b[49m\u001b[38;5;241;43m*\u001b[39;49m\u001b[38;5;241;43m*\u001b[39;49m\u001b[43mkwargs\u001b[49m\u001b[43m)\u001b[49m\n\u001b[1;32m    114\u001b[0m     trace\u001b[38;5;241m.\u001b[39mreturn_value \u001b[38;5;241m=\u001b[39m (\n\u001b[1;32m    115\u001b[0m         http_version,\n\u001b[1;32m    116\u001b[0m         status,\n\u001b[1;32m    117\u001b[0m         reason_phrase,\n\u001b[1;32m    118\u001b[0m         headers,\n\u001b[1;32m    119\u001b[0m     )\n\u001b[1;32m    121\u001b[0m network_stream \u001b[38;5;241m=\u001b[39m \u001b[38;5;28mself\u001b[39m\u001b[38;5;241m.\u001b[39m_network_stream\n",
      "File \u001b[0;32m~/Documents/Projects/medLLM/venv/lib/python3.10/site-packages/httpcore/_sync/http11.py:186\u001b[0m, in \u001b[0;36mHTTP11Connection._receive_response_headers\u001b[0;34m(self, request)\u001b[0m\n\u001b[1;32m    183\u001b[0m timeout \u001b[38;5;241m=\u001b[39m timeouts\u001b[38;5;241m.\u001b[39mget(\u001b[38;5;124m\"\u001b[39m\u001b[38;5;124mread\u001b[39m\u001b[38;5;124m\"\u001b[39m, \u001b[38;5;28;01mNone\u001b[39;00m)\n\u001b[1;32m    185\u001b[0m \u001b[38;5;28;01mwhile\u001b[39;00m \u001b[38;5;28;01mTrue\u001b[39;00m:\n\u001b[0;32m--> 186\u001b[0m     event \u001b[38;5;241m=\u001b[39m \u001b[38;5;28;43mself\u001b[39;49m\u001b[38;5;241;43m.\u001b[39;49m\u001b[43m_receive_event\u001b[49m\u001b[43m(\u001b[49m\u001b[43mtimeout\u001b[49m\u001b[38;5;241;43m=\u001b[39;49m\u001b[43mtimeout\u001b[49m\u001b[43m)\u001b[49m\n\u001b[1;32m    187\u001b[0m     \u001b[38;5;28;01mif\u001b[39;00m \u001b[38;5;28misinstance\u001b[39m(event, h11\u001b[38;5;241m.\u001b[39mResponse):\n\u001b[1;32m    188\u001b[0m         \u001b[38;5;28;01mbreak\u001b[39;00m\n",
      "File \u001b[0;32m~/Documents/Projects/medLLM/venv/lib/python3.10/site-packages/httpcore/_sync/http11.py:224\u001b[0m, in \u001b[0;36mHTTP11Connection._receive_event\u001b[0;34m(self, timeout)\u001b[0m\n\u001b[1;32m    221\u001b[0m     event \u001b[38;5;241m=\u001b[39m \u001b[38;5;28mself\u001b[39m\u001b[38;5;241m.\u001b[39m_h11_state\u001b[38;5;241m.\u001b[39mnext_event()\n\u001b[1;32m    223\u001b[0m \u001b[38;5;28;01mif\u001b[39;00m event \u001b[38;5;129;01mis\u001b[39;00m h11\u001b[38;5;241m.\u001b[39mNEED_DATA:\n\u001b[0;32m--> 224\u001b[0m     data \u001b[38;5;241m=\u001b[39m \u001b[38;5;28;43mself\u001b[39;49m\u001b[38;5;241;43m.\u001b[39;49m\u001b[43m_network_stream\u001b[49m\u001b[38;5;241;43m.\u001b[39;49m\u001b[43mread\u001b[49m\u001b[43m(\u001b[49m\n\u001b[1;32m    225\u001b[0m \u001b[43m        \u001b[49m\u001b[38;5;28;43mself\u001b[39;49m\u001b[38;5;241;43m.\u001b[39;49m\u001b[43mREAD_NUM_BYTES\u001b[49m\u001b[43m,\u001b[49m\u001b[43m \u001b[49m\u001b[43mtimeout\u001b[49m\u001b[38;5;241;43m=\u001b[39;49m\u001b[43mtimeout\u001b[49m\n\u001b[1;32m    226\u001b[0m \u001b[43m    \u001b[49m\u001b[43m)\u001b[49m\n\u001b[1;32m    228\u001b[0m     \u001b[38;5;66;03m# If we feed this case through h11 we'll raise an exception like:\u001b[39;00m\n\u001b[1;32m    229\u001b[0m     \u001b[38;5;66;03m#\u001b[39;00m\n\u001b[1;32m    230\u001b[0m     \u001b[38;5;66;03m#     httpcore.RemoteProtocolError: can't handle event type\u001b[39;00m\n\u001b[0;32m   (...)\u001b[0m\n\u001b[1;32m    234\u001b[0m     \u001b[38;5;66;03m# perspective. Instead we handle this case distinctly and treat\u001b[39;00m\n\u001b[1;32m    235\u001b[0m     \u001b[38;5;66;03m# it as a ConnectError.\u001b[39;00m\n\u001b[1;32m    236\u001b[0m     \u001b[38;5;28;01mif\u001b[39;00m data \u001b[38;5;241m==\u001b[39m \u001b[38;5;124mb\u001b[39m\u001b[38;5;124m\"\u001b[39m\u001b[38;5;124m\"\u001b[39m \u001b[38;5;129;01mand\u001b[39;00m \u001b[38;5;28mself\u001b[39m\u001b[38;5;241m.\u001b[39m_h11_state\u001b[38;5;241m.\u001b[39mtheir_state \u001b[38;5;241m==\u001b[39m h11\u001b[38;5;241m.\u001b[39mSEND_RESPONSE:\n",
      "File \u001b[0;32m~/Documents/Projects/medLLM/venv/lib/python3.10/site-packages/httpcore/_backends/sync.py:126\u001b[0m, in \u001b[0;36mSyncStream.read\u001b[0;34m(self, max_bytes, timeout)\u001b[0m\n\u001b[1;32m    124\u001b[0m \u001b[38;5;28;01mwith\u001b[39;00m map_exceptions(exc_map):\n\u001b[1;32m    125\u001b[0m     \u001b[38;5;28mself\u001b[39m\u001b[38;5;241m.\u001b[39m_sock\u001b[38;5;241m.\u001b[39msettimeout(timeout)\n\u001b[0;32m--> 126\u001b[0m     \u001b[38;5;28;01mreturn\u001b[39;00m \u001b[38;5;28;43mself\u001b[39;49m\u001b[38;5;241;43m.\u001b[39;49m\u001b[43m_sock\u001b[49m\u001b[38;5;241;43m.\u001b[39;49m\u001b[43mrecv\u001b[49m\u001b[43m(\u001b[49m\u001b[43mmax_bytes\u001b[49m\u001b[43m)\u001b[49m\n",
      "File \u001b[0;32m~/.pyenv/versions/3.10.11/lib/python3.10/ssl.py:1259\u001b[0m, in \u001b[0;36mSSLSocket.recv\u001b[0;34m(self, buflen, flags)\u001b[0m\n\u001b[1;32m   1255\u001b[0m     \u001b[38;5;28;01mif\u001b[39;00m flags \u001b[38;5;241m!=\u001b[39m \u001b[38;5;241m0\u001b[39m:\n\u001b[1;32m   1256\u001b[0m         \u001b[38;5;28;01mraise\u001b[39;00m \u001b[38;5;167;01mValueError\u001b[39;00m(\n\u001b[1;32m   1257\u001b[0m             \u001b[38;5;124m\"\u001b[39m\u001b[38;5;124mnon-zero flags not allowed in calls to recv() on \u001b[39m\u001b[38;5;132;01m%s\u001b[39;00m\u001b[38;5;124m\"\u001b[39m \u001b[38;5;241m%\u001b[39m\n\u001b[1;32m   1258\u001b[0m             \u001b[38;5;28mself\u001b[39m\u001b[38;5;241m.\u001b[39m\u001b[38;5;18m__class__\u001b[39m)\n\u001b[0;32m-> 1259\u001b[0m     \u001b[38;5;28;01mreturn\u001b[39;00m \u001b[38;5;28;43mself\u001b[39;49m\u001b[38;5;241;43m.\u001b[39;49m\u001b[43mread\u001b[49m\u001b[43m(\u001b[49m\u001b[43mbuflen\u001b[49m\u001b[43m)\u001b[49m\n\u001b[1;32m   1260\u001b[0m \u001b[38;5;28;01melse\u001b[39;00m:\n\u001b[1;32m   1261\u001b[0m     \u001b[38;5;28;01mreturn\u001b[39;00m \u001b[38;5;28msuper\u001b[39m()\u001b[38;5;241m.\u001b[39mrecv(buflen, flags)\n",
      "File \u001b[0;32m~/.pyenv/versions/3.10.11/lib/python3.10/ssl.py:1132\u001b[0m, in \u001b[0;36mSSLSocket.read\u001b[0;34m(self, len, buffer)\u001b[0m\n\u001b[1;32m   1130\u001b[0m         \u001b[38;5;28;01mreturn\u001b[39;00m \u001b[38;5;28mself\u001b[39m\u001b[38;5;241m.\u001b[39m_sslobj\u001b[38;5;241m.\u001b[39mread(\u001b[38;5;28mlen\u001b[39m, buffer)\n\u001b[1;32m   1131\u001b[0m     \u001b[38;5;28;01melse\u001b[39;00m:\n\u001b[0;32m-> 1132\u001b[0m         \u001b[38;5;28;01mreturn\u001b[39;00m \u001b[38;5;28;43mself\u001b[39;49m\u001b[38;5;241;43m.\u001b[39;49m\u001b[43m_sslobj\u001b[49m\u001b[38;5;241;43m.\u001b[39;49m\u001b[43mread\u001b[49m\u001b[43m(\u001b[49m\u001b[38;5;28;43mlen\u001b[39;49m\u001b[43m)\u001b[49m\n\u001b[1;32m   1133\u001b[0m \u001b[38;5;28;01mexcept\u001b[39;00m SSLError \u001b[38;5;28;01mas\u001b[39;00m x:\n\u001b[1;32m   1134\u001b[0m     \u001b[38;5;28;01mif\u001b[39;00m x\u001b[38;5;241m.\u001b[39margs[\u001b[38;5;241m0\u001b[39m] \u001b[38;5;241m==\u001b[39m SSL_ERROR_EOF \u001b[38;5;129;01mand\u001b[39;00m \u001b[38;5;28mself\u001b[39m\u001b[38;5;241m.\u001b[39msuppress_ragged_eofs:\n",
      "\u001b[0;31mKeyboardInterrupt\u001b[0m: "
     ]
    }
   ],
   "source": [
    "c2_forecsting_df = list_predictions_by_list_percentages(\n",
    "    list_str_sequences=c2_l,\n",
    "    complexity=2,\n",
    "    list_num_percentages=percentages_list,\n",
    "    forecasting_method_name=\"timeGPT\",\n",
    "    seq_type=\"extended\",\n",
    ")"
   ]
  },
  {
   "cell_type": "code",
   "execution_count": 65,
   "metadata": {},
   "outputs": [],
   "source": [
    "c2_forecsting_df.to_csv(\"data/timeGPT-ext-complexiy_2.csv\")"
   ]
  },
  {
   "cell_type": "code",
   "execution_count": null,
   "metadata": {},
   "outputs": [],
   "source": [
    "c3_forecsting_df = list_predictions_by_list_percentages(\n",
    "    list_str_sequences=c3_l,\n",
    "    complexity=3,\n",
    "    list_num_percentages=percentages_list,\n",
    "    forecasting_method_name=\"timeGPT\",\n",
    "    seq_type=\"extended\",\n",
    ")\n",
    "c3_forecsting_df.to_csv(\"data/timeGPT-ext-complexiy_3.csv\")"
   ]
  },
  {
   "cell_type": "code",
   "execution_count": null,
   "metadata": {},
   "outputs": [],
   "source": []
  },
  {
   "cell_type": "markdown",
   "metadata": {},
   "source": [
    "# Trying Original sequences experimentation\n"
   ]
  },
  {
   "cell_type": "code",
   "execution_count": 4,
   "metadata": {},
   "outputs": [],
   "source": [
    "from processing_answers import *"
   ]
  },
  {
   "cell_type": "code",
   "execution_count": 5,
   "metadata": {},
   "outputs": [],
   "source": [
    "# c1n = complexity 1, normal (original)\n",
    "c1ori_l, c2ori_l, c3ori_l, c4ori_l = create_original_length_test_pool()\n",
    "percentages_list = [10, 25, 50, 75]"
   ]
  },
  {
   "cell_type": "code",
   "execution_count": 6,
   "metadata": {},
   "outputs": [
    {
     "name": "stdout",
     "output_type": "stream",
     "text": [
      "=====================================\n",
      "Processing complexity 1\n",
      "=====================================\n",
      "\n",
      "\n"
     ]
    },
    {
     "name": "stderr",
     "output_type": "stream",
     "text": [
      "predicting sequences:   0%|          | 0/30 [00:00<?, ?it/s]\n",
      "percentages...:   0%|          | 0/4 [00:00<?, ?it/s]"
     ]
    },
    {
     "name": "stdout",
     "output_type": "stream",
     "text": [
      "Processing 1\n",
      "root:  [2, 4, 6, 8, 10, 12, 14, 16, 18]\n",
      "to be predicted:  [20]\n"
     ]
    },
    {
     "name": "stderr",
     "output_type": "stream",
     "text": [
      "\n"
     ]
    },
    {
     "ename": "UnboundLocalError",
     "evalue": "local variable 'forecasted' referenced before assignment",
     "output_type": "error",
     "traceback": [
      "\u001b[0;31m---------------------------------------------------------------------------\u001b[0m",
      "\u001b[0;31mUnboundLocalError\u001b[0m                         Traceback (most recent call last)",
      "Cell \u001b[0;32mIn[6], line 6\u001b[0m\n\u001b[1;32m      3\u001b[0m \u001b[38;5;28mprint\u001b[39m(\u001b[38;5;124m\"\u001b[39m\u001b[38;5;124m=====================================\u001b[39m\u001b[38;5;124m\"\u001b[39m)\n\u001b[1;32m      4\u001b[0m \u001b[38;5;28mprint\u001b[39m(\u001b[38;5;124m\"\u001b[39m\u001b[38;5;130;01m\\n\u001b[39;00m\u001b[38;5;124m\"\u001b[39m)\n\u001b[0;32m----> 6\u001b[0m c1_forecsting_df \u001b[38;5;241m=\u001b[39m \u001b[43mlist_predictions_by_list_percentages\u001b[49m\u001b[43m(\u001b[49m\n\u001b[1;32m      7\u001b[0m \u001b[43m    \u001b[49m\u001b[43mlist_str_sequences\u001b[49m\u001b[38;5;241;43m=\u001b[39;49m\u001b[43mc1ori_l\u001b[49m\u001b[43m,\u001b[49m\n\u001b[1;32m      8\u001b[0m \u001b[43m    \u001b[49m\u001b[43mcomplexity\u001b[49m\u001b[38;5;241;43m=\u001b[39;49m\u001b[38;5;241;43m1\u001b[39;49m\u001b[43m,\u001b[49m\n\u001b[1;32m      9\u001b[0m \u001b[43m    \u001b[49m\u001b[43mlist_num_percentages\u001b[49m\u001b[38;5;241;43m=\u001b[39;49m\u001b[43mpercentages_list\u001b[49m\u001b[43m,\u001b[49m\n\u001b[1;32m     10\u001b[0m \u001b[43m    \u001b[49m\u001b[43mforecasting_method_name\u001b[49m\u001b[38;5;241;43m=\u001b[39;49m\u001b[38;5;124;43m\"\u001b[39;49m\u001b[38;5;124;43mtimeGPT-1\u001b[39;49m\u001b[38;5;124;43m\"\u001b[39;49m\u001b[43m,\u001b[49m\n\u001b[1;32m     11\u001b[0m \u001b[43m    \u001b[49m\u001b[43mseq_type\u001b[49m\u001b[38;5;241;43m=\u001b[39;49m\u001b[38;5;124;43m\"\u001b[39;49m\u001b[38;5;124;43moriginal\u001b[39;49m\u001b[38;5;124;43m\"\u001b[39;49m\u001b[43m,\u001b[49m\n\u001b[1;32m     12\u001b[0m \u001b[43m    \u001b[49m\u001b[43mverbose\u001b[49m\u001b[38;5;241;43m=\u001b[39;49m\u001b[38;5;28;43;01mTrue\u001b[39;49;00m\u001b[43m,\u001b[49m\n\u001b[1;32m     13\u001b[0m \u001b[43m)\u001b[49m\n",
      "File \u001b[0;32m~/Documents/Projects/medLLM/processing_answers.py:255\u001b[0m, in \u001b[0;36mlist_predictions_by_list_percentages\u001b[0;34m(list_str_sequences, complexity, list_num_percentages, forecasting_method_name, seq_type, verbose)\u001b[0m\n\u001b[1;32m    252\u001b[0m output_df \u001b[38;5;241m=\u001b[39m pd\u001b[38;5;241m.\u001b[39mDataFrame()\n\u001b[1;32m    253\u001b[0m \u001b[38;5;28;01mfor\u001b[39;00m pctg \u001b[38;5;129;01min\u001b[39;00m tqdm(list_num_percentages, desc\u001b[38;5;241m=\u001b[39m\u001b[38;5;124m\"\u001b[39m\u001b[38;5;124mpercentages...\u001b[39m\u001b[38;5;124m\"\u001b[39m):\n\u001b[1;32m    254\u001b[0m     ss_l, gs_l, lvens, root_l, tob_predicted_l, forecasted_l \u001b[38;5;241m=\u001b[39m (\n\u001b[0;32m--> 255\u001b[0m         \u001b[43mlist_measure_prediction_by_percentage\u001b[49m\u001b[43m(\u001b[49m\n\u001b[1;32m    256\u001b[0m \u001b[43m            \u001b[49m\u001b[43mstr_list_sequences\u001b[49m\u001b[38;5;241;43m=\u001b[39;49m\u001b[43mlist_str_sequences\u001b[49m\u001b[43m,\u001b[49m\n\u001b[1;32m    257\u001b[0m \u001b[43m            \u001b[49m\u001b[43mpercentage_to_predict\u001b[49m\u001b[38;5;241;43m=\u001b[39;49m\u001b[43mpctg\u001b[49m\u001b[43m,\u001b[49m\n\u001b[1;32m    258\u001b[0m \u001b[43m            \u001b[49m\u001b[43mforecast_algo\u001b[49m\u001b[38;5;241;43m=\u001b[39;49m\u001b[43mforecasting_method_name\u001b[49m\u001b[43m,\u001b[49m\n\u001b[1;32m    259\u001b[0m \u001b[43m            \u001b[49m\u001b[43mverbose\u001b[49m\u001b[38;5;241;43m=\u001b[39;49m\u001b[43mverbose\u001b[49m\u001b[43m,\u001b[49m\n\u001b[1;32m    260\u001b[0m \u001b[43m        \u001b[49m\u001b[43m)\u001b[49m\n\u001b[1;32m    261\u001b[0m     )\n\u001b[1;32m    262\u001b[0m     ss_col_name \u001b[38;5;241m=\u001b[39m \u001b[38;5;124m\"\u001b[39m\u001b[38;5;124msort_simi_percen_\u001b[39m\u001b[38;5;124m\"\u001b[39m \u001b[38;5;241m+\u001b[39m \u001b[38;5;28mstr\u001b[39m(pctg)\n\u001b[1;32m    263\u001b[0m     gs_col_name \u001b[38;5;241m=\u001b[39m \u001b[38;5;124m\"\u001b[39m\u001b[38;5;124mgral_simi_percen_\u001b[39m\u001b[38;5;124m\"\u001b[39m \u001b[38;5;241m+\u001b[39m \u001b[38;5;28mstr\u001b[39m(pctg)\n",
      "File \u001b[0;32m~/Documents/Projects/medLLM/processing_answers.py:220\u001b[0m, in \u001b[0;36mlist_measure_prediction_by_percentage\u001b[0;34m(str_list_sequences, percentage_to_predict, forecast_algo, verbose)\u001b[0m\n\u001b[1;32m    216\u001b[0m \u001b[38;5;28;01mif\u001b[39;00m verbose:\n\u001b[1;32m    217\u001b[0m     \u001b[38;5;28mprint\u001b[39m(\u001b[38;5;124m\"\u001b[39m\u001b[38;5;124mProcessing \u001b[39m\u001b[38;5;132;01m{}\u001b[39;00m\u001b[38;5;124m\"\u001b[39m\u001b[38;5;241m.\u001b[39mformat(counter))\n\u001b[1;32m    219\u001b[0m ss, gs, lvens, str_root, str_to_b_prediected, str_forcasted \u001b[38;5;241m=\u001b[39m (\n\u001b[0;32m--> 220\u001b[0m     \u001b[43msingle_measure_prediction_by_precentage\u001b[49m\u001b[43m(\u001b[49m\n\u001b[1;32m    221\u001b[0m \u001b[43m        \u001b[49m\u001b[43mstr_original_sequence\u001b[49m\u001b[38;5;241;43m=\u001b[39;49m\u001b[43mstr_seq\u001b[49m\u001b[43m,\u001b[49m\n\u001b[1;32m    222\u001b[0m \u001b[43m        \u001b[49m\u001b[43mpercentage_to_predict\u001b[49m\u001b[38;5;241;43m=\u001b[39;49m\u001b[43mpercentage_to_predict\u001b[49m\u001b[43m,\u001b[49m\n\u001b[1;32m    223\u001b[0m \u001b[43m        \u001b[49m\u001b[43mforecast_algo\u001b[49m\u001b[38;5;241;43m=\u001b[39;49m\u001b[43mforecast_algo\u001b[49m\u001b[43m,\u001b[49m\n\u001b[1;32m    224\u001b[0m \u001b[43m        \u001b[49m\u001b[43mverbose\u001b[49m\u001b[38;5;241;43m=\u001b[39;49m\u001b[43mverbose\u001b[49m\u001b[43m,\u001b[49m\n\u001b[1;32m    225\u001b[0m \u001b[43m    \u001b[49m\u001b[43m)\u001b[49m\n\u001b[1;32m    226\u001b[0m )\n\u001b[1;32m    227\u001b[0m sort_similarity_list\u001b[38;5;241m.\u001b[39mappend(ss)\n\u001b[1;32m    228\u001b[0m general_similarity_list\u001b[38;5;241m.\u001b[39mappend(gs)\n",
      "File \u001b[0;32m~/Documents/Projects/medLLM/processing_answers.py:181\u001b[0m, in \u001b[0;36msingle_measure_prediction_by_precentage\u001b[0;34m(str_original_sequence, percentage_to_predict, forecast_algo, verbose)\u001b[0m\n\u001b[1;32m    177\u001b[0m \u001b[38;5;28mprint\u001b[39m(\u001b[38;5;124m\"\u001b[39m\u001b[38;5;124mto be predicted: \u001b[39m\u001b[38;5;124m\"\u001b[39m, \u001b[38;5;28mstr\u001b[39m(num_to_be_predicted))\n\u001b[1;32m    178\u001b[0m \u001b[38;5;66;03m# print(\"forecasted: \", str(forecasted))\u001b[39;00m\n\u001b[1;32m    180\u001b[0m sort_similarity, general_similarity, lvtn \u001b[38;5;241m=\u001b[39m compare_predictions(\n\u001b[0;32m--> 181\u001b[0m     num_predictions\u001b[38;5;241m=\u001b[39m\u001b[43mforecasted\u001b[49m, num_original\u001b[38;5;241m=\u001b[39mnum_to_be_predicted\n\u001b[1;32m    182\u001b[0m )\n\u001b[1;32m    184\u001b[0m \u001b[38;5;28;01mif\u001b[39;00m verbose:\n\u001b[1;32m    185\u001b[0m     \u001b[38;5;28mprint\u001b[39m(\u001b[38;5;124m\"\u001b[39m\u001b[38;5;124mroot: \u001b[39m\u001b[38;5;124m\"\u001b[39m, \u001b[38;5;28mstr\u001b[39m(num_root))\n",
      "\u001b[0;31mUnboundLocalError\u001b[0m: local variable 'forecasted' referenced before assignment"
     ]
    }
   ],
   "source": [
    "print(\"=====================================\")\n",
    "print(\"Processing complexity 1\")\n",
    "print(\"=====================================\")\n",
    "print(\"\\n\")\n",
    "\n",
    "c1_forecsting_df = list_predictions_by_list_percentages(\n",
    "    list_str_sequences=c1ori_l,\n",
    "    complexity=1,\n",
    "    list_num_percentages=percentages_list,\n",
    "    forecasting_method_name=\"timeGPT\",\n",
    "    seq_type=\"original\",\n",
    "    verbose=True,\n",
    ")"
   ]
  },
  {
   "cell_type": "code",
   "execution_count": null,
   "metadata": {},
   "outputs": [],
   "source": [
    "print(\"=====================================\")\n",
    "print(\"Processing complexity 2\")\n",
    "print(\"=====================================\")\n",
    "print(\"\\n\")\n",
    "c2_forecsting_df = list_predictions_by_list_percentages(\n",
    "    list_str_sequences=c2ori_l,\n",
    "    complexity=2,\n",
    "    list_num_percentages=percentages_list,\n",
    "    forecasting_method_name=\"timeGPT\",\n",
    "    seq_type=\"original\",\n",
    "    verbose=True,\n",
    ")"
   ]
  },
  {
   "cell_type": "code",
   "execution_count": null,
   "metadata": {},
   "outputs": [],
   "source": [
    "print(\"=====================================\")\n",
    "print(\"Processing complexity 3\")\n",
    "print(\"=====================================\")\n",
    "print(\"\\n\")\n",
    "\n",
    "c3_forecsting_df = list_predictions_by_list_percentages(\n",
    "    list_str_sequences=c3ori_l,\n",
    "    complexity=3,\n",
    "    list_num_percentages=percentages_list,\n",
    "    forecasting_method_name=\"timeGPT\",\n",
    "    seq_type=\"original\",\n",
    "    verbose=True,\n",
    ")"
   ]
  },
  {
   "cell_type": "code",
   "execution_count": null,
   "metadata": {},
   "outputs": [],
   "source": [
    "print(\"=====================================\")\n",
    "print(\"Processing complexity 4\")\n",
    "print(\"=====================================\")\n",
    "print(\"\\n\")\n",
    "c4_forecsting_df = list_predictions_by_list_percentages(\n",
    "    list_str_sequences=c4ori_l,\n",
    "    complexity=4,\n",
    "    list_num_percentages=percentages_list,\n",
    "    forecasting_method_name=\"timeGPT\",\n",
    "    seq_type=\"original\",\n",
    "    verbose=True,\n",
    ")\n",
    "\n",
    "final_df = pd.concat(\n",
    "    [c1_forecsting_df, c2_forecsting_df, c3_forecsting_df, c4_forecsting_df]\n",
    ")\n",
    "\n",
    "final_df.to_csv(\"data/timeGPT_original.csv\", index=False)"
   ]
  },
  {
   "cell_type": "markdown",
   "metadata": {},
   "source": [
    "# trying extended version\n"
   ]
  },
  {
   "cell_type": "code",
   "execution_count": null,
   "metadata": {},
   "outputs": [],
   "source": [
    "from processing_answers import *"
   ]
  },
  {
   "cell_type": "code",
   "execution_count": 2,
   "metadata": {},
   "outputs": [],
   "source": [
    "# c1n = complexity 1, normal (original)\n",
    "c1ext_l, c2ext_l, c3ext_l, c4ext_l = create_extended_test_pool()\n",
    "percentages_list = [10, 25, 50, 75]"
   ]
  },
  {
   "cell_type": "code",
   "execution_count": null,
   "metadata": {},
   "outputs": [],
   "source": [
    "print(\"=====================================\")\n",
    "print(\"Processing complexity 1\")\n",
    "print(\"=====================================\")\n",
    "print(\"\\n\")\n",
    "\n",
    "c1_forecsting_df = list_predictions_by_list_percentages(\n",
    "    list_str_sequences=c1ext_l,\n",
    "    complexity=1,\n",
    "    list_num_percentages=percentages_list,\n",
    "    forecasting_method_name=\"timeGPT\",\n",
    "    seq_type=\"extended\",\n",
    "    verbose=True,\n",
    ")"
   ]
  },
  {
   "cell_type": "code",
   "execution_count": null,
   "metadata": {},
   "outputs": [],
   "source": [
    "print(\"=====================================\")\n",
    "print(\"Processing complexity 2\")\n",
    "print(\"=====================================\")\n",
    "print(\"\\n\")\n",
    "\n",
    "c2_forecsting_df = list_predictions_by_list_percentages(\n",
    "    list_str_sequences=c2ext_l,\n",
    "    complexity=2,\n",
    "    list_num_percentages=percentages_list,\n",
    "    forecasting_method_name=\"timeGPT\",\n",
    "    seq_type=\"extended\",\n",
    "    verbose=True,\n",
    ")"
   ]
  },
  {
   "cell_type": "code",
   "execution_count": null,
   "metadata": {},
   "outputs": [],
   "source": [
    "print(\"=====================================\")\n",
    "print(\"Processing complexity 3\")\n",
    "print(\"=====================================\")\n",
    "print(\"\\n\")\n",
    "\n",
    "c3_forecsting_df = list_predictions_by_list_percentages(\n",
    "    list_str_sequences=c3ext_l,\n",
    "    complexity=3,\n",
    "    list_num_percentages=percentages_list,\n",
    "    forecasting_method_name=\"timeGPT\",\n",
    "    seq_type=\"extended\",\n",
    "    verbose=True,\n",
    ")"
   ]
  },
  {
   "cell_type": "code",
   "execution_count": null,
   "metadata": {},
   "outputs": [],
   "source": [
    "print(\"=====================================\")\n",
    "print(\"Processing complexity 4\")\n",
    "print(\"=====================================\")\n",
    "print(\"\\n\")\n",
    "\n",
    "c4_forecsting_df = list_predictions_by_list_percentages(\n",
    "    list_str_sequences=c4ext_l,\n",
    "    complexity=4,\n",
    "    list_num_percentages=percentages_list,\n",
    "    forecasting_method_name=\"timeGPT\",\n",
    "    seq_type=\"extended\",\n",
    "    verbose=True,\n",
    ")"
   ]
  },
  {
   "cell_type": "code",
   "execution_count": 7,
   "metadata": {},
   "outputs": [],
   "source": [
    "final_df = pd.concat(\n",
    "    [c1_forecsting_df, c2_forecsting_df, c3_forecsting_df, c4_forecsting_df]\n",
    ")\n",
    "\n",
    "final_df.to_csv(\"data/timeGPT_extended.csv\", index=False)"
   ]
  },
  {
   "cell_type": "markdown",
   "metadata": {},
   "source": [
    "# Original sequences Chronos\n"
   ]
  },
  {
   "cell_type": "code",
   "execution_count": null,
   "metadata": {},
   "outputs": [],
   "source": [
    "from processing_answers import *"
   ]
  },
  {
   "cell_type": "code",
   "execution_count": 2,
   "metadata": {},
   "outputs": [],
   "source": [
    "# c1n = complexity 1, normal (original)\n",
    "c1ori_l, c2ori_l, c3ori_l, c4ori_l = create_original_length_test_pool()\n",
    "percentages_list = [10, 25, 50, 75]"
   ]
  },
  {
   "cell_type": "code",
   "execution_count": null,
   "metadata": {},
   "outputs": [],
   "source": [
    "print(\"=====================================\")\n",
    "print(\"Processing complexity 1\")\n",
    "print(\"=====================================\")\n",
    "print(\"\\n\")\n",
    "\n",
    "c1_forecsting_df = list_predictions_by_list_percentages(\n",
    "    list_str_sequences=c1ori_l,\n",
    "    complexity=1,\n",
    "    list_num_percentages=percentages_list,\n",
    "    forecasting_method_name=\"chronos\",\n",
    "    seq_type=\"original\",\n",
    "    verbose=True,\n",
    ")"
   ]
  },
  {
   "cell_type": "code",
   "execution_count": null,
   "metadata": {},
   "outputs": [],
   "source": [
    "print(\"=====================================\")\n",
    "print(\"Processing complexity 2\")\n",
    "print(\"=====================================\")\n",
    "print(\"\\n\")\n",
    "c2_forecsting_df = list_predictions_by_list_percentages(\n",
    "    list_str_sequences=c2ori_l,\n",
    "    complexity=2,\n",
    "    list_num_percentages=percentages_list,\n",
    "    forecasting_method_name=\"chronos\",\n",
    "    seq_type=\"original\",\n",
    "    verbose=True,\n",
    ")"
   ]
  },
  {
   "cell_type": "code",
   "execution_count": null,
   "metadata": {},
   "outputs": [],
   "source": [
    "print(\"=====================================\")\n",
    "print(\"Processing complexity 3\")\n",
    "print(\"=====================================\")\n",
    "print(\"\\n\")\n",
    "\n",
    "c3_forecsting_df = list_predictions_by_list_percentages(\n",
    "    list_str_sequences=c3ori_l,\n",
    "    complexity=3,\n",
    "    list_num_percentages=percentages_list,\n",
    "    forecasting_method_name=\"chronos\",\n",
    "    seq_type=\"original\",\n",
    "    verbose=True,\n",
    ")"
   ]
  },
  {
   "cell_type": "code",
   "execution_count": null,
   "metadata": {},
   "outputs": [],
   "source": [
    "print(\"=====================================\")\n",
    "print(\"Processing complexity 4\")\n",
    "print(\"=====================================\")\n",
    "print(\"\\n\")\n",
    "c4_forecsting_df = list_predictions_by_list_percentages(\n",
    "    list_str_sequences=c4ori_l,\n",
    "    complexity=4,\n",
    "    list_num_percentages=percentages_list,\n",
    "    forecasting_method_name=\"chronos\",\n",
    "    seq_type=\"original\",\n",
    "    verbose=True,\n",
    ")\n",
    "\n",
    "final_df = pd.concat(\n",
    "    [c1_forecsting_df, c2_forecsting_df, c3_forecsting_df, c4_forecsting_df]\n",
    ")\n",
    "\n",
    "final_df.to_csv(\"data/chronos_original.csv\", index=False)"
   ]
  },
  {
   "cell_type": "markdown",
   "metadata": {},
   "source": [
    "# Chronos extended\n"
   ]
  },
  {
   "cell_type": "code",
   "execution_count": 8,
   "metadata": {},
   "outputs": [],
   "source": [
    "from processing_answers import *"
   ]
  },
  {
   "cell_type": "code",
   "execution_count": 9,
   "metadata": {},
   "outputs": [],
   "source": [
    "# c1n = complexity 1, normal (original)\n",
    "c1ext_l, c2ext_l, c3ext_l, c4ext_l = create_extended_test_pool()\n",
    "percentages_list = [10, 25, 50, 75]"
   ]
  },
  {
   "cell_type": "code",
   "execution_count": null,
   "metadata": {},
   "outputs": [],
   "source": [
    "print(\"=====================================\")\n",
    "print(\"Processing complexity 1\")\n",
    "print(\"=====================================\")\n",
    "print(\"\\n\")\n",
    "\n",
    "c1_forecsting_df = list_predictions_by_list_percentages(\n",
    "    list_str_sequences=c1ext_l,\n",
    "    complexity=1,\n",
    "    list_num_percentages=percentages_list,\n",
    "    forecasting_method_name=\"chronos\",\n",
    "    seq_type=\"extended\",\n",
    "    verbose=True,\n",
    ")"
   ]
  },
  {
   "cell_type": "code",
   "execution_count": null,
   "metadata": {},
   "outputs": [],
   "source": [
    "print(\"=====================================\")\n",
    "print(\"Processing complexity 2\")\n",
    "print(\"=====================================\")\n",
    "print(\"\\n\")\n",
    "\n",
    "c2_forecsting_df = list_predictions_by_list_percentages(\n",
    "    list_str_sequences=c2ext_l,\n",
    "    complexity=2,\n",
    "    list_num_percentages=percentages_list,\n",
    "    forecasting_method_name=\"chronos\",\n",
    "    seq_type=\"extended\",\n",
    "    verbose=True,\n",
    ")"
   ]
  },
  {
   "cell_type": "code",
   "execution_count": null,
   "metadata": {},
   "outputs": [],
   "source": [
    "print(\"=====================================\")\n",
    "print(\"Processing complexity 3\")\n",
    "print(\"=====================================\")\n",
    "print(\"\\n\")\n",
    "\n",
    "c3_forecsting_df = list_predictions_by_list_percentages(\n",
    "    list_str_sequences=c3ext_l,\n",
    "    complexity=3,\n",
    "    list_num_percentages=percentages_list,\n",
    "    forecasting_method_name=\"chronos\",\n",
    "    seq_type=\"extended\",\n",
    "    verbose=True,\n",
    ")"
   ]
  },
  {
   "cell_type": "code",
   "execution_count": null,
   "metadata": {},
   "outputs": [],
   "source": [
    "print(\"=====================================\")\n",
    "print(\"Processing complexity 4\")\n",
    "print(\"=====================================\")\n",
    "print(\"\\n\")\n",
    "\n",
    "c4_forecsting_df = list_predictions_by_list_percentages(\n",
    "    list_str_sequences=c4ext_l,\n",
    "    complexity=4,\n",
    "    list_num_percentages=percentages_list,\n",
    "    forecasting_method_name=\"chronos\",\n",
    "    seq_type=\"extended\",\n",
    "    verbose=True,\n",
    ")"
   ]
  },
  {
   "cell_type": "code",
   "execution_count": 14,
   "metadata": {},
   "outputs": [],
   "source": [
    "final_df = pd.concat(\n",
    "    [c1_forecsting_df, c2_forecsting_df, c3_forecsting_df, c4_forecsting_df]\n",
    ")\n",
    "\n",
    "final_df.to_csv(\"data/chronos_extended.csv\", index=False)"
   ]
  },
  {
   "cell_type": "markdown",
   "metadata": {},
   "source": [
    "# Uploading lag-llama test\n"
   ]
  },
  {
   "cell_type": "code",
   "execution_count": 11,
   "metadata": {},
   "outputs": [],
   "source": [
    "import pandas as pd\n",
    "from processing_answers import *"
   ]
  },
  {
   "cell_type": "code",
   "execution_count": 12,
   "metadata": {},
   "outputs": [],
   "source": [
    "lag_llama_original_df_c1 = pd.read_csv(\"lag-llama_c1.csv\")\n",
    "lag_llama_original_df_c2 = pd.read_csv(\"lag-llama_c2.csv\")\n",
    "lag_llama_original_df_c3 = pd.read_csv(\"lag-llama_c3.csv\")\n",
    "lag_llama_original_df_c4 = pd.read_csv(\"lag-llama_c4.csv\")"
   ]
  },
  {
   "cell_type": "code",
   "execution_count": 13,
   "metadata": {},
   "outputs": [
    {
     "data": {
      "text/plain": [
       "['complexity',\n",
       " 'forecasting_method_name',\n",
       " 'root_10',\n",
       " 'to_predict_10',\n",
       " 'forecasted_10',\n",
       " 'sort_simi_percen_10',\n",
       " 'gral_simi_percen_10',\n",
       " 'forecasting_method_name.1',\n",
       " 'root_25',\n",
       " 'to_predict_25',\n",
       " 'forecasted_25',\n",
       " 'sort_simi_percen_25',\n",
       " 'gral_simi_percen_25',\n",
       " 'forecasting_method_name.2',\n",
       " 'root_50',\n",
       " 'to_predict_50',\n",
       " 'forecasted_50',\n",
       " 'sort_simi_percen_50',\n",
       " 'gral_simi_percen_50',\n",
       " 'forecasting_method_name.3',\n",
       " 'root_75',\n",
       " 'to_predict_75',\n",
       " 'forecasted_75',\n",
       " 'sort_simi_percen_75',\n",
       " 'gral_simi_percen_75',\n",
       " 'seq',\n",
       " 'levenshtein_10',\n",
       " 'levenshtein_25',\n",
       " 'levenshtein_50',\n",
       " 'levenshtein_75',\n",
       " 'seq_type']"
      ]
     },
     "execution_count": 13,
     "metadata": {},
     "output_type": "execute_result"
    }
   ],
   "source": [
    "# adding levenshtein distance\n",
    "lag_llama_original_df_c1 = add_levenshtein_to_df(\n",
    "    lag_llama_original_df_c1, [10, 25, 50, 75]\n",
    ")\n",
    "# lag_llama_original_df_c1\n",
    "lag_llama_original_df_c2 = add_levenshtein_to_df(\n",
    "    lag_llama_original_df_c2, [10, 25, 50, 75]\n",
    ")\n",
    "\n",
    "lag_llama_original_df_c3 = add_levenshtein_to_df(\n",
    "    lag_llama_original_df_c3, [10, 25, 50, 75]\n",
    ")\n",
    "\n",
    "lag_llama_original_df_c4 = add_levenshtein_to_df(\n",
    "    lag_llama_original_df_c4, [10, 25, 50, 75]\n",
    ")\n",
    "\n",
    "total_llama_df = pd.concat(\n",
    "    [\n",
    "        lag_llama_original_df_c1,\n",
    "        lag_llama_original_df_c2,\n",
    "        lag_llama_original_df_c3,\n",
    "        lag_llama_original_df_c4,\n",
    "    ]\n",
    ")\n",
    "\n",
    "seq_type_list = [\"original\"] * len(total_llama_df)\n",
    "total_llama_df[\"seq_type\"] = seq_type_list\n",
    "list(total_llama_df.columns)"
   ]
  },
  {
   "cell_type": "markdown",
   "metadata": {},
   "source": [
    "# Analizing results\n"
   ]
  },
  {
   "cell_type": "code",
   "execution_count": 14,
   "metadata": {},
   "outputs": [],
   "source": [
    "import pandas as pd"
   ]
  },
  {
   "cell_type": "code",
   "execution_count": 15,
   "metadata": {},
   "outputs": [],
   "source": [
    "timeGPT_original_df = pd.read_csv(\"timeGPT_original.csv\")\n",
    "timeGPT_extemded_df = pd.read_csv(\"timeGPT_extended.csv\")\n",
    "chronos_original_df = pd.read_csv(\"chronos_original.csv\")\n",
    "chronos_extemded_df = pd.read_csv(\"chronos_extended.csv\")\n",
    "\n",
    "total_df = pd.concat(\n",
    "    [timeGPT_original_df, timeGPT_extemded_df, chronos_original_df, chronos_extemded_df]\n",
    ")"
   ]
  },
  {
   "cell_type": "code",
   "execution_count": 16,
   "metadata": {},
   "outputs": [
    {
     "data": {
      "text/plain": [
       "[]"
      ]
     },
     "execution_count": 16,
     "metadata": {},
     "output_type": "execute_result"
    }
   ],
   "source": [
    "total_cols = list(total_df.columns)\n",
    "llama_cols = list(total_llama_df.columns)\n",
    "\n",
    "list(set(total_cols) - set(llama_cols))"
   ]
  },
  {
   "cell_type": "code",
   "execution_count": 17,
   "metadata": {},
   "outputs": [],
   "source": [
    "total_df = pd.concat([total_df, total_llama_df])"
   ]
  },
  {
   "cell_type": "code",
   "execution_count": 18,
   "metadata": {},
   "outputs": [
    {
     "data": {
      "text/plain": [
       "['sort_simi_percen_10',\n",
       " 'gral_simi_percen_10',\n",
       " 'levenshtein_10',\n",
       " 'forecasted_10',\n",
       " 'root_10',\n",
       " 'to_predict_10',\n",
       " 'sort_simi_percen_25',\n",
       " 'gral_simi_percen_25',\n",
       " 'levenshtein_25',\n",
       " 'forecasted_25',\n",
       " 'root_25',\n",
       " 'to_predict_25',\n",
       " 'sort_simi_percen_50',\n",
       " 'gral_simi_percen_50',\n",
       " 'levenshtein_50',\n",
       " 'forecasted_50',\n",
       " 'root_50',\n",
       " 'to_predict_50',\n",
       " 'sort_simi_percen_75',\n",
       " 'gral_simi_percen_75',\n",
       " 'levenshtein_75',\n",
       " 'forecasted_75',\n",
       " 'root_75',\n",
       " 'to_predict_75',\n",
       " 'complexity',\n",
       " 'forecasting_method_name',\n",
       " 'seq_type',\n",
       " 'forecasting_method_name.1',\n",
       " 'forecasting_method_name.2',\n",
       " 'forecasting_method_name.3',\n",
       " 'seq']"
      ]
     },
     "execution_count": 18,
     "metadata": {},
     "output_type": "execute_result"
    }
   ],
   "source": [
    "list(total_df.columns)"
   ]
  },
  {
   "cell_type": "code",
   "execution_count": 19,
   "metadata": {},
   "outputs": [
    {
     "name": "stdout",
     "output_type": "stream",
     "text": [
      "600\n",
      "217\n",
      "[2, 4, 6, 8, 10, 12, 14, 16, 18]\n",
      "<class 'str'>\n"
     ]
    }
   ],
   "source": [
    "print(len(total_df[\"root_10\"].values))\n",
    "print(len(total_df[\"root_10\"].unique()))\n",
    "print(total_df[\"root_10\"].values[0])\n",
    "print(type(total_df[\"root_10\"].values[0]))"
   ]
  },
  {
   "cell_type": "code",
   "execution_count": 20,
   "metadata": {},
   "outputs": [
    {
     "data": {
      "text/html": [
       "<div>\n",
       "<style scoped>\n",
       "    .dataframe tbody tr th:only-of-type {\n",
       "        vertical-align: middle;\n",
       "    }\n",
       "\n",
       "    .dataframe tbody tr th {\n",
       "        vertical-align: top;\n",
       "    }\n",
       "\n",
       "    .dataframe thead th {\n",
       "        text-align: right;\n",
       "    }\n",
       "</style>\n",
       "<table border=\"1\" class=\"dataframe\">\n",
       "  <thead>\n",
       "    <tr style=\"text-align: right;\">\n",
       "      <th></th>\n",
       "      <th>sort_simi_percen_10</th>\n",
       "      <th>gral_simi_percen_10</th>\n",
       "      <th>levenshtein_10</th>\n",
       "      <th>forecasted_10</th>\n",
       "      <th>root_10</th>\n",
       "      <th>to_predict_10</th>\n",
       "      <th>sort_simi_percen_25</th>\n",
       "      <th>gral_simi_percen_25</th>\n",
       "      <th>levenshtein_25</th>\n",
       "      <th>forecasted_25</th>\n",
       "      <th>...</th>\n",
       "      <th>root_75</th>\n",
       "      <th>to_predict_75</th>\n",
       "      <th>complexity</th>\n",
       "      <th>forecasting_method_name</th>\n",
       "      <th>seq_type</th>\n",
       "      <th>forecasting_method_name.1</th>\n",
       "      <th>forecasting_method_name.2</th>\n",
       "      <th>forecasting_method_name.3</th>\n",
       "      <th>seq</th>\n",
       "      <th>sequence</th>\n",
       "    </tr>\n",
       "  </thead>\n",
       "  <tbody>\n",
       "    <tr>\n",
       "      <th>0</th>\n",
       "      <td>0.0</td>\n",
       "      <td>0.0</td>\n",
       "      <td>2</td>\n",
       "      <td>[6]</td>\n",
       "      <td>[2, 4, 6, 8, 10, 12, 14, 16, 18]</td>\n",
       "      <td>[20]</td>\n",
       "      <td>0.0</td>\n",
       "      <td>0.0</td>\n",
       "      <td>4</td>\n",
       "      <td>[4, 4]</td>\n",
       "      <td>...</td>\n",
       "      <td>[2, 4, 6]</td>\n",
       "      <td>[8, 10, 12, 14, 16, 18, 20]</td>\n",
       "      <td>1</td>\n",
       "      <td>timeGPT-1</td>\n",
       "      <td>original</td>\n",
       "      <td>NaN</td>\n",
       "      <td>NaN</td>\n",
       "      <td>NaN</td>\n",
       "      <td>NaN</td>\n",
       "      <td>2, 4, 6, 8, 10, 12, 14, 16, 18, 20</td>\n",
       "    </tr>\n",
       "    <tr>\n",
       "      <th>1</th>\n",
       "      <td>0.0</td>\n",
       "      <td>0.0</td>\n",
       "      <td>2</td>\n",
       "      <td>[9]</td>\n",
       "      <td>[3, 6, 9, 12, 15, 18, 21, 24, 27]</td>\n",
       "      <td>[30]</td>\n",
       "      <td>0.0</td>\n",
       "      <td>0.0</td>\n",
       "      <td>4</td>\n",
       "      <td>[6, 6]</td>\n",
       "      <td>...</td>\n",
       "      <td>[3, 6, 9]</td>\n",
       "      <td>[12, 15, 18, 21, 24, 27, 30]</td>\n",
       "      <td>1</td>\n",
       "      <td>timeGPT-1</td>\n",
       "      <td>original</td>\n",
       "      <td>NaN</td>\n",
       "      <td>NaN</td>\n",
       "      <td>NaN</td>\n",
       "      <td>NaN</td>\n",
       "      <td>3, 6, 9, 12, 15, 18, 21, 24, 27, 30</td>\n",
       "    </tr>\n",
       "    <tr>\n",
       "      <th>2</th>\n",
       "      <td>0.0</td>\n",
       "      <td>0.0</td>\n",
       "      <td>2</td>\n",
       "      <td>[12]</td>\n",
       "      <td>[4, 8, 12, 16, 20, 24, 28, 32, 36]</td>\n",
       "      <td>[40]</td>\n",
       "      <td>0.0</td>\n",
       "      <td>0.0</td>\n",
       "      <td>4</td>\n",
       "      <td>[8, 8]</td>\n",
       "      <td>...</td>\n",
       "      <td>[4, 8, 12]</td>\n",
       "      <td>[16, 20, 24, 28, 32, 36, 40]</td>\n",
       "      <td>1</td>\n",
       "      <td>timeGPT-1</td>\n",
       "      <td>original</td>\n",
       "      <td>NaN</td>\n",
       "      <td>NaN</td>\n",
       "      <td>NaN</td>\n",
       "      <td>NaN</td>\n",
       "      <td>4, 8, 12, 16, 20, 24, 28, 32, 36, 40</td>\n",
       "    </tr>\n",
       "    <tr>\n",
       "      <th>3</th>\n",
       "      <td>0.0</td>\n",
       "      <td>0.0</td>\n",
       "      <td>2</td>\n",
       "      <td>[15]</td>\n",
       "      <td>[5, 10, 15, 20, 25, 30, 35, 40, 45]</td>\n",
       "      <td>[50]</td>\n",
       "      <td>0.0</td>\n",
       "      <td>0.0</td>\n",
       "      <td>3</td>\n",
       "      <td>[10, 10]</td>\n",
       "      <td>...</td>\n",
       "      <td>[5, 10, 15]</td>\n",
       "      <td>[20, 25, 30, 35, 40, 45, 50]</td>\n",
       "      <td>1</td>\n",
       "      <td>timeGPT-1</td>\n",
       "      <td>original</td>\n",
       "      <td>NaN</td>\n",
       "      <td>NaN</td>\n",
       "      <td>NaN</td>\n",
       "      <td>NaN</td>\n",
       "      <td>5, 10, 15, 20, 25, 30, 35, 40, 45, 50</td>\n",
       "    </tr>\n",
       "    <tr>\n",
       "      <th>4</th>\n",
       "      <td>0.0</td>\n",
       "      <td>0.0</td>\n",
       "      <td>2</td>\n",
       "      <td>[18]</td>\n",
       "      <td>[6, 12, 18, 24, 30, 36, 42, 48, 54]</td>\n",
       "      <td>[60]</td>\n",
       "      <td>0.0</td>\n",
       "      <td>0.0</td>\n",
       "      <td>4</td>\n",
       "      <td>[12, 12]</td>\n",
       "      <td>...</td>\n",
       "      <td>[6, 12, 18]</td>\n",
       "      <td>[24, 30, 36, 42, 48, 54, 60]</td>\n",
       "      <td>1</td>\n",
       "      <td>timeGPT-1</td>\n",
       "      <td>original</td>\n",
       "      <td>NaN</td>\n",
       "      <td>NaN</td>\n",
       "      <td>NaN</td>\n",
       "      <td>NaN</td>\n",
       "      <td>6, 12, 18, 24, 30, 36, 42, 48, 54, 60</td>\n",
       "    </tr>\n",
       "    <tr>\n",
       "      <th>...</th>\n",
       "      <td>...</td>\n",
       "      <td>...</td>\n",
       "      <td>...</td>\n",
       "      <td>...</td>\n",
       "      <td>...</td>\n",
       "      <td>...</td>\n",
       "      <td>...</td>\n",
       "      <td>...</td>\n",
       "      <td>...</td>\n",
       "      <td>...</td>\n",
       "      <td>...</td>\n",
       "      <td>...</td>\n",
       "      <td>...</td>\n",
       "      <td>...</td>\n",
       "      <td>...</td>\n",
       "      <td>...</td>\n",
       "      <td>...</td>\n",
       "      <td>...</td>\n",
       "      <td>...</td>\n",
       "      <td>...</td>\n",
       "      <td>...</td>\n",
       "    </tr>\n",
       "    <tr>\n",
       "      <th>25</th>\n",
       "      <td>0.0</td>\n",
       "      <td>0.0</td>\n",
       "      <td>3</td>\n",
       "      <td>[324]</td>\n",
       "      <td>[187, 218, 260, 295, 301, 314, 379, 410, 452]</td>\n",
       "      <td>[469]</td>\n",
       "      <td>0.0</td>\n",
       "      <td>0.0</td>\n",
       "      <td>5</td>\n",
       "      <td>[306, 403]</td>\n",
       "      <td>...</td>\n",
       "      <td>[187, 218, 260]</td>\n",
       "      <td>[295, 301, 314, 379, 410, 452, 469]</td>\n",
       "      <td>4</td>\n",
       "      <td>lag-llama</td>\n",
       "      <td>original</td>\n",
       "      <td>lag-llama</td>\n",
       "      <td>lag-llama</td>\n",
       "      <td>lag-llama</td>\n",
       "      <td>187, 218, 260, 295, 301, 314, 379, 410, 452, 469</td>\n",
       "      <td>187, 218, 260, 295, 301, 314, 379, 410, 452, 469</td>\n",
       "    </tr>\n",
       "    <tr>\n",
       "      <th>26</th>\n",
       "      <td>0.0</td>\n",
       "      <td>0.0</td>\n",
       "      <td>3</td>\n",
       "      <td>[377]</td>\n",
       "      <td>[29, 63, 95, 140, 150, 190, 221, 437, 482]</td>\n",
       "      <td>[491]</td>\n",
       "      <td>0.0</td>\n",
       "      <td>0.0</td>\n",
       "      <td>5</td>\n",
       "      <td>[204, 171]</td>\n",
       "      <td>...</td>\n",
       "      <td>[29, 63, 95]</td>\n",
       "      <td>[140, 150, 190, 221, 437, 482, 491]</td>\n",
       "      <td>4</td>\n",
       "      <td>lag-llama</td>\n",
       "      <td>original</td>\n",
       "      <td>lag-llama</td>\n",
       "      <td>lag-llama</td>\n",
       "      <td>lag-llama</td>\n",
       "      <td>29, 63, 95, 140, 150, 190, 221, 437, 482, 491</td>\n",
       "      <td>29, 63, 95, 140, 150, 190, 221, 437, 482, 491</td>\n",
       "    </tr>\n",
       "    <tr>\n",
       "      <th>27</th>\n",
       "      <td>0.0</td>\n",
       "      <td>0.0</td>\n",
       "      <td>3</td>\n",
       "      <td>[199]</td>\n",
       "      <td>[3, 11, 84, 144, 156, 177, 188, 199, 229]</td>\n",
       "      <td>[284]</td>\n",
       "      <td>0.0</td>\n",
       "      <td>0.0</td>\n",
       "      <td>5</td>\n",
       "      <td>[177, 194]</td>\n",
       "      <td>...</td>\n",
       "      <td>[3, 11, 84]</td>\n",
       "      <td>[144, 156, 177, 188, 199, 229, 284]</td>\n",
       "      <td>4</td>\n",
       "      <td>lag-llama</td>\n",
       "      <td>original</td>\n",
       "      <td>lag-llama</td>\n",
       "      <td>lag-llama</td>\n",
       "      <td>lag-llama</td>\n",
       "      <td>3, 11, 84, 144, 156, 177, 188, 199, 229, 284</td>\n",
       "      <td>3, 11, 84, 144, 156, 177, 188, 199, 229, 284</td>\n",
       "    </tr>\n",
       "    <tr>\n",
       "      <th>28</th>\n",
       "      <td>0.0</td>\n",
       "      <td>0.0</td>\n",
       "      <td>2</td>\n",
       "      <td>[346]</td>\n",
       "      <td>[26, 94, 98, 137, 176, 301, 323, 330, 372]</td>\n",
       "      <td>[444]</td>\n",
       "      <td>0.0</td>\n",
       "      <td>0.0</td>\n",
       "      <td>5</td>\n",
       "      <td>[294, 411]</td>\n",
       "      <td>...</td>\n",
       "      <td>[26, 94, 98]</td>\n",
       "      <td>[137, 176, 301, 323, 330, 372, 444]</td>\n",
       "      <td>4</td>\n",
       "      <td>lag-llama</td>\n",
       "      <td>original</td>\n",
       "      <td>lag-llama</td>\n",
       "      <td>lag-llama</td>\n",
       "      <td>lag-llama</td>\n",
       "      <td>26, 94, 98, 137, 176, 301, 323, 330, 372, 444</td>\n",
       "      <td>26, 94, 98, 137, 176, 301, 323, 330, 372, 444</td>\n",
       "    </tr>\n",
       "    <tr>\n",
       "      <th>29</th>\n",
       "      <td>0.0</td>\n",
       "      <td>0.0</td>\n",
       "      <td>2</td>\n",
       "      <td>[370]</td>\n",
       "      <td>[39, 81, 88, 210, 215, 378, 416, 430, 439]</td>\n",
       "      <td>[490]</td>\n",
       "      <td>0.0</td>\n",
       "      <td>0.0</td>\n",
       "      <td>6</td>\n",
       "      <td>[383, 339]</td>\n",
       "      <td>...</td>\n",
       "      <td>[39, 81, 88]</td>\n",
       "      <td>[210, 215, 378, 416, 430, 439, 490]</td>\n",
       "      <td>4</td>\n",
       "      <td>lag-llama</td>\n",
       "      <td>original</td>\n",
       "      <td>lag-llama</td>\n",
       "      <td>lag-llama</td>\n",
       "      <td>lag-llama</td>\n",
       "      <td>39, 81, 88, 210, 215, 378, 416, 430, 439, 490</td>\n",
       "      <td>39, 81, 88, 210, 215, 378, 416, 430, 439, 490</td>\n",
       "    </tr>\n",
       "  </tbody>\n",
       "</table>\n",
       "<p>600 rows × 32 columns</p>\n",
       "</div>"
      ],
      "text/plain": [
       "    sort_simi_percen_10  gral_simi_percen_10  levenshtein_10 forecasted_10  \\\n",
       "0                   0.0                  0.0               2           [6]   \n",
       "1                   0.0                  0.0               2           [9]   \n",
       "2                   0.0                  0.0               2          [12]   \n",
       "3                   0.0                  0.0               2          [15]   \n",
       "4                   0.0                  0.0               2          [18]   \n",
       "..                  ...                  ...             ...           ...   \n",
       "25                  0.0                  0.0               3         [324]   \n",
       "26                  0.0                  0.0               3         [377]   \n",
       "27                  0.0                  0.0               3         [199]   \n",
       "28                  0.0                  0.0               2         [346]   \n",
       "29                  0.0                  0.0               2         [370]   \n",
       "\n",
       "                                          root_10 to_predict_10  \\\n",
       "0                [2, 4, 6, 8, 10, 12, 14, 16, 18]          [20]   \n",
       "1               [3, 6, 9, 12, 15, 18, 21, 24, 27]          [30]   \n",
       "2              [4, 8, 12, 16, 20, 24, 28, 32, 36]          [40]   \n",
       "3             [5, 10, 15, 20, 25, 30, 35, 40, 45]          [50]   \n",
       "4             [6, 12, 18, 24, 30, 36, 42, 48, 54]          [60]   \n",
       "..                                            ...           ...   \n",
       "25  [187, 218, 260, 295, 301, 314, 379, 410, 452]         [469]   \n",
       "26     [29, 63, 95, 140, 150, 190, 221, 437, 482]         [491]   \n",
       "27      [3, 11, 84, 144, 156, 177, 188, 199, 229]         [284]   \n",
       "28     [26, 94, 98, 137, 176, 301, 323, 330, 372]         [444]   \n",
       "29     [39, 81, 88, 210, 215, 378, 416, 430, 439]         [490]   \n",
       "\n",
       "    sort_simi_percen_25  gral_simi_percen_25  levenshtein_25 forecasted_25  \\\n",
       "0                   0.0                  0.0               4        [4, 4]   \n",
       "1                   0.0                  0.0               4        [6, 6]   \n",
       "2                   0.0                  0.0               4        [8, 8]   \n",
       "3                   0.0                  0.0               3      [10, 10]   \n",
       "4                   0.0                  0.0               4      [12, 12]   \n",
       "..                  ...                  ...             ...           ...   \n",
       "25                  0.0                  0.0               5    [306, 403]   \n",
       "26                  0.0                  0.0               5    [204, 171]   \n",
       "27                  0.0                  0.0               5    [177, 194]   \n",
       "28                  0.0                  0.0               5    [294, 411]   \n",
       "29                  0.0                  0.0               6    [383, 339]   \n",
       "\n",
       "    ...          root_75                        to_predict_75  complexity  \\\n",
       "0   ...        [2, 4, 6]          [8, 10, 12, 14, 16, 18, 20]           1   \n",
       "1   ...        [3, 6, 9]         [12, 15, 18, 21, 24, 27, 30]           1   \n",
       "2   ...       [4, 8, 12]         [16, 20, 24, 28, 32, 36, 40]           1   \n",
       "3   ...      [5, 10, 15]         [20, 25, 30, 35, 40, 45, 50]           1   \n",
       "4   ...      [6, 12, 18]         [24, 30, 36, 42, 48, 54, 60]           1   \n",
       "..  ...              ...                                  ...         ...   \n",
       "25  ...  [187, 218, 260]  [295, 301, 314, 379, 410, 452, 469]           4   \n",
       "26  ...     [29, 63, 95]  [140, 150, 190, 221, 437, 482, 491]           4   \n",
       "27  ...      [3, 11, 84]  [144, 156, 177, 188, 199, 229, 284]           4   \n",
       "28  ...     [26, 94, 98]  [137, 176, 301, 323, 330, 372, 444]           4   \n",
       "29  ...     [39, 81, 88]  [210, 215, 378, 416, 430, 439, 490]           4   \n",
       "\n",
       "    forecasting_method_name  seq_type forecasting_method_name.1  \\\n",
       "0                 timeGPT-1  original                       NaN   \n",
       "1                 timeGPT-1  original                       NaN   \n",
       "2                 timeGPT-1  original                       NaN   \n",
       "3                 timeGPT-1  original                       NaN   \n",
       "4                 timeGPT-1  original                       NaN   \n",
       "..                      ...       ...                       ...   \n",
       "25                lag-llama  original                 lag-llama   \n",
       "26                lag-llama  original                 lag-llama   \n",
       "27                lag-llama  original                 lag-llama   \n",
       "28                lag-llama  original                 lag-llama   \n",
       "29                lag-llama  original                 lag-llama   \n",
       "\n",
       "   forecasting_method_name.2 forecasting_method_name.3  \\\n",
       "0                        NaN                       NaN   \n",
       "1                        NaN                       NaN   \n",
       "2                        NaN                       NaN   \n",
       "3                        NaN                       NaN   \n",
       "4                        NaN                       NaN   \n",
       "..                       ...                       ...   \n",
       "25                 lag-llama                 lag-llama   \n",
       "26                 lag-llama                 lag-llama   \n",
       "27                 lag-llama                 lag-llama   \n",
       "28                 lag-llama                 lag-llama   \n",
       "29                 lag-llama                 lag-llama   \n",
       "\n",
       "                                                 seq  \\\n",
       "0                                                NaN   \n",
       "1                                                NaN   \n",
       "2                                                NaN   \n",
       "3                                                NaN   \n",
       "4                                                NaN   \n",
       "..                                               ...   \n",
       "25  187, 218, 260, 295, 301, 314, 379, 410, 452, 469   \n",
       "26     29, 63, 95, 140, 150, 190, 221, 437, 482, 491   \n",
       "27      3, 11, 84, 144, 156, 177, 188, 199, 229, 284   \n",
       "28     26, 94, 98, 137, 176, 301, 323, 330, 372, 444   \n",
       "29     39, 81, 88, 210, 215, 378, 416, 430, 439, 490   \n",
       "\n",
       "                                            sequence  \n",
       "0                 2, 4, 6, 8, 10, 12, 14, 16, 18, 20  \n",
       "1                3, 6, 9, 12, 15, 18, 21, 24, 27, 30  \n",
       "2               4, 8, 12, 16, 20, 24, 28, 32, 36, 40  \n",
       "3              5, 10, 15, 20, 25, 30, 35, 40, 45, 50  \n",
       "4              6, 12, 18, 24, 30, 36, 42, 48, 54, 60  \n",
       "..                                               ...  \n",
       "25  187, 218, 260, 295, 301, 314, 379, 410, 452, 469  \n",
       "26     29, 63, 95, 140, 150, 190, 221, 437, 482, 491  \n",
       "27      3, 11, 84, 144, 156, 177, 188, 199, 229, 284  \n",
       "28     26, 94, 98, 137, 176, 301, 323, 330, 372, 444  \n",
       "29     39, 81, 88, 210, 215, 378, 416, 430, 439, 490  \n",
       "\n",
       "[600 rows x 32 columns]"
      ]
     },
     "execution_count": 20,
     "metadata": {},
     "output_type": "execute_result"
    }
   ],
   "source": [
    "formed_sequences = []\n",
    "for i in range(len(total_df)):\n",
    "    root = total_df[\"root_10\"].iloc[i]\n",
    "    to_predict = total_df[\"to_predict_10\"].iloc[i]\n",
    "    root = root.replace(\"[\", \"\")\n",
    "    root = root.replace(\"]\", \", \")\n",
    "    to_predict = to_predict.replace(\"[\", \"\")\n",
    "    to_predict = to_predict.replace(\"]\", \"\")\n",
    "    seq_str = root + to_predict\n",
    "    formed_sequences.append(seq_str)\n",
    "\n",
    "total_df[\"sequence\"] = formed_sequences\n",
    "total_df"
   ]
  },
  {
   "cell_type": "code",
   "execution_count": 21,
   "metadata": {},
   "outputs": [
    {
     "data": {
      "text/html": [
       "<div>\n",
       "<style scoped>\n",
       "    .dataframe tbody tr th:only-of-type {\n",
       "        vertical-align: middle;\n",
       "    }\n",
       "\n",
       "    .dataframe tbody tr th {\n",
       "        vertical-align: top;\n",
       "    }\n",
       "\n",
       "    .dataframe thead th {\n",
       "        text-align: right;\n",
       "    }\n",
       "</style>\n",
       "<table border=\"1\" class=\"dataframe\">\n",
       "  <thead>\n",
       "    <tr style=\"text-align: right;\">\n",
       "      <th></th>\n",
       "      <th>sort_simi_percen_10</th>\n",
       "      <th>gral_simi_percen_10</th>\n",
       "      <th>levenshtein_10</th>\n",
       "      <th>forecasted_10</th>\n",
       "      <th>root_10</th>\n",
       "      <th>to_predict_10</th>\n",
       "      <th>sort_simi_percen_25</th>\n",
       "      <th>gral_simi_percen_25</th>\n",
       "      <th>levenshtein_25</th>\n",
       "      <th>forecasted_25</th>\n",
       "      <th>...</th>\n",
       "      <th>root_75</th>\n",
       "      <th>to_predict_75</th>\n",
       "      <th>complexity</th>\n",
       "      <th>forecasting_method_name</th>\n",
       "      <th>seq_type</th>\n",
       "      <th>forecasting_method_name.1</th>\n",
       "      <th>forecasting_method_name.2</th>\n",
       "      <th>forecasting_method_name.3</th>\n",
       "      <th>seq</th>\n",
       "      <th>sequence</th>\n",
       "    </tr>\n",
       "  </thead>\n",
       "  <tbody>\n",
       "  </tbody>\n",
       "</table>\n",
       "<p>0 rows × 32 columns</p>\n",
       "</div>"
      ],
      "text/plain": [
       "Empty DataFrame\n",
       "Columns: [sort_simi_percen_10, gral_simi_percen_10, levenshtein_10, forecasted_10, root_10, to_predict_10, sort_simi_percen_25, gral_simi_percen_25, levenshtein_25, forecasted_25, root_25, to_predict_25, sort_simi_percen_50, gral_simi_percen_50, levenshtein_50, forecasted_50, root_50, to_predict_50, sort_simi_percen_75, gral_simi_percen_75, levenshtein_75, forecasted_75, root_75, to_predict_75, complexity, forecasting_method_name, seq_type, forecasting_method_name.1, forecasting_method_name.2, forecasting_method_name.3, seq, sequence]\n",
       "Index: []\n",
       "\n",
       "[0 rows x 32 columns]"
      ]
     },
     "execution_count": 21,
     "metadata": {},
     "output_type": "execute_result"
    }
   ],
   "source": [
    "filtered_100 = total_df[total_df[\"sort_simi_percen_25\"] == 100]\n",
    "filtered_100"
   ]
  },
  {
   "cell_type": "code",
   "execution_count": 25,
   "metadata": {},
   "outputs": [
    {
     "data": {
      "image/png": "[encoded data removed]",
      "text/plain": [
       "<Figure size 1000x600 with 1 Axes>"
      ]
     },
     "metadata": {},
     "output_type": "display_data"
    },
    {
     "data": {
      "image/png": "[encoded data removed]",
      "text/plain": [
       "<Figure size 1000x600 with 1 Axes>"
      ]
     },
     "metadata": {},
     "output_type": "display_data"
    },
    {
     "data": {
      "image/png": "[encoded data removed]",
      "text/plain": [
       "<Figure size 1000x600 with 1 Axes>"
      ]
     },
     "metadata": {},
     "output_type": "display_data"
    },
    {
     "data": {
      "image/png": "[encoded data removed]",
      "text/plain": [
       "<Figure size 1000x600 with 1 Axes>"
      ]
     },
     "metadata": {},
     "output_type": "display_data"
    },
    {
     "data": {
      "image/png": "[encoded data removed]",
      "text/plain": [
       "<Figure size 1000x600 with 1 Axes>"
      ]
     },
     "metadata": {},
     "output_type": "display_data"
    },
    {
     "data": {
      "image/png": "[encoded data removed]",
      "text/plain": [
       "<Figure size 1000x600 with 1 Axes>"
      ]
     },
     "metadata": {},
     "output_type": "display_data"
    }
   ],
   "source": [
    "import matplotlib.pyplot as plt\n",
    "import pandas as pd\n",
    "\n",
    "# Interchange complexity 3 by complexity 4 and vice versa\n",
    "total_df[\"complexity\"] = total_df[\"complexity\"].replace({3: 4, 4: 3})\n",
    "\n",
    "# Group by 'forecasting_method_name', 'seq_type', and 'complexity', and calculate the average\n",
    "averages_df = (\n",
    "    total_df.groupby([\"forecasting_method_name\", \"seq_type\", \"complexity\"])\n",
    "    .agg(\n",
    "        {\n",
    "            \"sort_simi_percen_10\": \"mean\",\n",
    "            \"gral_simi_percen_10\": \"mean\",\n",
    "            \"levenshtein_10\": \"mean\",\n",
    "            \"sort_simi_percen_25\": \"mean\",\n",
    "            \"gral_simi_percen_25\": \"mean\",\n",
    "            \"levenshtein_25\": \"mean\",\n",
    "            \"sort_simi_percen_75\": \"mean\",\n",
    "            \"gral_simi_percen_75\": \"mean\",\n",
    "            \"levenshtein_75\": \"mean\",\n",
    "        }\n",
    "    )\n",
    "    .reset_index()\n",
    ")\n",
    "\n",
    "# Remove complexity 4 from the dataframe\n",
    "averages_df = averages_df[averages_df[\"complexity\"] != 4]\n",
    "\n",
    "# Filter to show only complexities 1, 2, and 3\n",
    "averages_df = averages_df[averages_df[\"complexity\"].isin([1, 2, 3])]\n",
    "\n",
    "# Plotting\n",
    "seq_types = averages_df[\"seq_type\"].unique()\n",
    "forecasting_methods = averages_df[\"forecasting_method_name\"].unique()\n",
    "\n",
    "for seq_type in seq_types:\n",
    "    for method in forecasting_methods:\n",
    "        method_df = averages_df[\n",
    "            (averages_df[\"seq_type\"] == seq_type)\n",
    "            & (averages_df[\"forecasting_method_name\"] == method)\n",
    "        ]\n",
    "        plt.figure(figsize=(10, 6))\n",
    "        plt.grid()\n",
    "        plt.plot(\n",
    "            method_df[\"complexity\"],\n",
    "            method_df[\n",
    "                [\"sort_simi_percen_10\", \"sort_simi_percen_25\", \"sort_simi_percen_75\"]\n",
    "            ].mean(axis=1),\n",
    "            marker='o'\n",
    "        )\n",
    "        plt.plot(\n",
    "            method_df[\"complexity\"],\n",
    "            method_df[\n",
    "                [\"gral_simi_percen_10\", \"gral_simi_percen_25\", \"gral_simi_percen_75\"]\n",
    "            ].mean(axis=1),\n",
    "            marker='o'\n",
    "        )\n",
    "        plt.plot(\n",
    "            method_df[\"complexity\"],\n",
    "            method_df[[\"levenshtein_10\", \"levenshtein_25\", \"levenshtein_75\"]].mean(\n",
    "                axis=1\n",
    "            ),\n",
    "            marker='o'\n",
    "        )\n",
    "\n",
    "        plt.xlabel(\"Complexity\", fontsize=18)\n",
    "        plt.ylabel(\"Average\", fontsize=18)\n",
    "        plt.title(\n",
    "            f\"Average similarity and Levenshtein vs Complexity - {method}\",\n",
    "            fontsize=18\n",
    "        )\n",
    "        plt.legend([\"sort_simi_percent\", \"gral_simi_percent\", \"levenshtein\"], fontsize=17)\n",
    "        plt.xticks([1, 2, 3], fontsize=18)\n",
    "        plt.yticks(fontsize=18)\n",
    "        plt.show()"
   ]
  },
  {
   "cell_type": "markdown",
   "metadata": {},
   "source": [
    "# Trying guessing last digit binary sequences from Zenil'S paper"
   ]
  },
  {
   "cell_type": "code",
   "execution_count": 1,
   "metadata": {},
   "outputs": [
    {
     "name": "stderr",
     "output_type": "stream",
     "text": [
      "/Users/beto/Documents/Projects/medLLM/venv/lib/python3.10/site-packages/transformers/utils/generic.py:311: FutureWarning: `torch.utils._pytree._register_pytree_node` is deprecated. Please use `torch.utils._pytree.register_pytree_node` instead.\n",
      "  torch.utils._pytree._register_pytree_node(\n",
      "INFO:root:Setting d_model to 1024\n",
      "INFO:root:Initializing pre-trained transformer from google/flan-t5-large.\n",
      "INFO:root:Enabling gradient checkpointing.\n",
      "/Users/beto/Documents/Projects/medLLM/venv/lib/python3.10/site-packages/huggingface_hub/hub_mixin.py:364: FutureWarning: You are using `torch.load` with `weights_only=False` (the current default value), which uses the default pickle module implicitly. It is possible to construct malicious pickle data which will execute arbitrary code during unpickling (See https://github.com/pytorch/pytorch/blob/main/SECURITY.md#untrusted-models for more details). In a future release, the default value for `weights_only` will be flipped to `True`. This limits the functions that could be executed during unpickling. Arbitrary objects will no longer be allowed to be loaded via this mode unless they are explicitly allowlisted by the user via `torch.serialization.add_safe_globals`. We recommend you start setting `weights_only=True` for any use case where you don't have full control of the loaded file. Please open an issue on GitHub for any issues related to this experimental feature.\n",
      "  state_dict = torch.load(model_file, map_location=torch.device(map_location))\n"
     ]
    },
    {
     "name": "stdout",
     "output_type": "stream",
     "text": [
      "MOMENTPipeline(\n",
      "  (normalizer): RevIN()\n",
      "  (tokenizer): Patching()\n",
      "  (patch_embedding): PatchEmbedding(\n",
      "    (value_embedding): Linear(in_features=8, out_features=1024, bias=False)\n",
      "    (position_embedding): PositionalEmbedding()\n",
      "    (dropout): Dropout(p=0.1, inplace=False)\n",
      "  )\n",
      "  (encoder): T5Stack(\n",
      "    (embed_tokens): Embedding(32128, 1024)\n",
      "    (block): ModuleList(\n",
      "      (0): T5Block(\n",
      "        (layer): ModuleList(\n",
      "          (0): T5LayerSelfAttention(\n",
      "            (SelfAttention): T5Attention(\n",
      "              (q): Linear(in_features=1024, out_features=1024, bias=False)\n",
      "              (k): Linear(in_features=1024, out_features=1024, bias=False)\n",
      "              (v): Linear(in_features=1024, out_features=1024, bias=False)\n",
      "              (o): Linear(in_features=1024, out_features=1024, bias=False)\n",
      "              (relative_attention_bias): Embedding(32, 16)\n",
      "            )\n",
      "            (layer_norm): T5LayerNorm()\n",
      "            (dropout): Dropout(p=0.1, inplace=False)\n",
      "          )\n",
      "          (1): T5LayerFF(\n",
      "            (DenseReluDense): T5DenseGatedActDense(\n",
      "              (wi_0): Linear(in_features=1024, out_features=2816, bias=False)\n",
      "              (wi_1): Linear(in_features=1024, out_features=2816, bias=False)\n",
      "              (wo): Linear(in_features=2816, out_features=1024, bias=False)\n",
      "              (dropout): Dropout(p=0.1, inplace=False)\n",
      "              (act): NewGELUActivation()\n",
      "            )\n",
      "            (layer_norm): T5LayerNorm()\n",
      "            (dropout): Dropout(p=0.1, inplace=False)\n",
      "          )\n",
      "        )\n",
      "      )\n",
      "      (1-23): 23 x T5Block(\n",
      "        (layer): ModuleList(\n",
      "          (0): T5LayerSelfAttention(\n",
      "            (SelfAttention): T5Attention(\n",
      "              (q): Linear(in_features=1024, out_features=1024, bias=False)\n",
      "              (k): Linear(in_features=1024, out_features=1024, bias=False)\n",
      "              (v): Linear(in_features=1024, out_features=1024, bias=False)\n",
      "              (o): Linear(in_features=1024, out_features=1024, bias=False)\n",
      "            )\n",
      "            (layer_norm): T5LayerNorm()\n",
      "            (dropout): Dropout(p=0.1, inplace=False)\n",
      "          )\n",
      "          (1): T5LayerFF(\n",
      "            (DenseReluDense): T5DenseGatedActDense(\n",
      "              (wi_0): Linear(in_features=1024, out_features=2816, bias=False)\n",
      "              (wi_1): Linear(in_features=1024, out_features=2816, bias=False)\n",
      "              (wo): Linear(in_features=2816, out_features=1024, bias=False)\n",
      "              (dropout): Dropout(p=0.1, inplace=False)\n",
      "              (act): NewGELUActivation()\n",
      "            )\n",
      "            (layer_norm): T5LayerNorm()\n",
      "            (dropout): Dropout(p=0.1, inplace=False)\n",
      "          )\n",
      "        )\n",
      "      )\n",
      "    )\n",
      "    (final_layer_norm): T5LayerNorm()\n",
      "    (dropout): Dropout(p=0.1, inplace=False)\n",
      "  )\n",
      "  (head): ForecastingHead(\n",
      "    (flatten): Flatten(start_dim=-2, end_dim=-1)\n",
      "    (dropout): Dropout(p=0.1, inplace=False)\n",
      "    (linear): Linear(in_features=65536, out_features=192, bias=True)\n",
      "  )\n",
      ")\n"
     ]
    }
   ],
   "source": [
    "from processing_answers import *"
   ]
  },
  {
   "cell_type": "code",
   "execution_count": 6,
   "metadata": {},
   "outputs": [
    {
     "data": {
      "text/plain": [
       "['0,0,0,0,0,0,0,0',\n",
       " '0,0,0,0,0,0,0,1',\n",
       " '0,0,0,0,1,0,0,0',\n",
       " '0,0,0,0,0,1,0,0,0',\n",
       " '0,0,0,0,0,0,1,1,0',\n",
       " '0,0,0,0,0,0,0,1,0',\n",
       " '0,0,0,0,0,0,0,1,1',\n",
       " '0,0,0,1,1,0,0,0,0',\n",
       " '0,0,1,0,0,0,0,0,1',\n",
       " '0,1,0,1,0,1,0,1,0',\n",
       " '0,0,0,0,1,1,1,0,1',\n",
       " '0,0,0,0,0,0,0,1,0,0',\n",
       " '0,0,0,0,0,0,0,0,1,0',\n",
       " '0,0,0,0,0,0,0,0,1,0',\n",
       " '0,0,0,0,0,1,1,0,1,0',\n",
       " '0,1,0,1,0,1,0,1,0,1',\n",
       " '0,0,1,0,1,0,1,0,1,0',\n",
       " '0,1,1,0,1,1,0,1,1,0',\n",
       " '0,0,0,0,0,0,0,0,0,1',\n",
       " '0,0,1,0,1,0,1,1,0,1',\n",
       " '0,1,0,1,0,0,1,0,0,1',\n",
       " '0,1,0,1,0,1,1,0,1,0',\n",
       " '0,0,0,1,0,1,0,1,0,1,0',\n",
       " '0,1,0,1,0,1,0,1,0,1,0']"
      ]
     },
     "execution_count": 6,
     "metadata": {},
     "output_type": "execute_result"
    }
   ],
   "source": [
    "b_seq = create_simple_bin_test_pool()\n",
    "b_seq\n"
   ]
  },
  {
   "cell_type": "code",
   "execution_count": 7,
   "metadata": {},
   "outputs": [],
   "source": [
    "# str_original_sequence = '0,1,0,1,0,1,0,1,0,1,0'\n",
    "# num_digits_to_predict = 3\n",
    "# forecasting_methods = [\"timeGPT\", \"chronos\"]\n",
    "\n",
    "# str_original_sequence = '181, 182, 183, 184, 185, 186, 187, 188, 189, 190, 191'\n",
    "# num_digits_to_predict = 3\n",
    "# forecasting_methods = [\"chronos\"]\n",
    "\n",
    "# b_seq_test = b_seq[0:3]\n",
    "\n",
    "# for method in forecasting_methods:\n",
    "#     print(method)\n",
    "#     #print(single_measure_prediction_by_last_digits(str_original_sequence, num_digits_to_predict, method))\n",
    "#     print(list_prediction_last_binary(b_seq_test, method))\n"
   ]
  },
  {
   "cell_type": "code",
   "execution_count": 8,
   "metadata": {},
   "outputs": [
    {
     "name": "stderr",
     "output_type": "stream",
     "text": [
      "predicting sequences:   0%|          | 0/24 [00:00<?, ?it/s]INFO:nixtla.nixtla_client:Validating inputs...\n",
      "INFO:nixtla.nixtla_client:Inferred freq: D\n",
      "INFO:nixtla.nixtla_client:Querying model metadata...\n",
      "INFO:nixtla.nixtla_client:Preprocessing dataframes...\n",
      "INFO:nixtla.nixtla_client:Restricting input...\n",
      "INFO:nixtla.nixtla_client:Calling Forecast Endpoint...\n",
      "predicting sequences:   4%|▍         | 1/24 [00:01<00:43,  1.90s/it]INFO:nixtla.nixtla_client:Validating inputs...\n",
      "INFO:nixtla.nixtla_client:Inferred freq: D\n",
      "INFO:nixtla.nixtla_client:Preprocessing dataframes...\n",
      "INFO:nixtla.nixtla_client:Restricting input...\n",
      "INFO:nixtla.nixtla_client:Calling Forecast Endpoint...\n",
      "predicting sequences:   8%|▊         | 2/24 [00:02<00:30,  1.37s/it]INFO:nixtla.nixtla_client:Validating inputs...\n",
      "INFO:nixtla.nixtla_client:Inferred freq: D\n",
      "INFO:nixtla.nixtla_client:Preprocessing dataframes...\n",
      "INFO:nixtla.nixtla_client:Restricting input...\n",
      "INFO:nixtla.nixtla_client:Calling Forecast Endpoint...\n",
      "predicting sequences:  12%|█▎        | 3/24 [00:03<00:25,  1.24s/it]INFO:nixtla.nixtla_client:Validating inputs...\n",
      "INFO:nixtla.nixtla_client:Inferred freq: D\n",
      "INFO:nixtla.nixtla_client:Preprocessing dataframes...\n",
      "INFO:nixtla.nixtla_client:Restricting input...\n",
      "INFO:nixtla.nixtla_client:Calling Forecast Endpoint...\n",
      "predicting sequences:  17%|█▋        | 4/24 [00:05<00:23,  1.16s/it]INFO:nixtla.nixtla_client:Validating inputs...\n",
      "INFO:nixtla.nixtla_client:Inferred freq: D\n",
      "INFO:nixtla.nixtla_client:Preprocessing dataframes...\n",
      "INFO:nixtla.nixtla_client:Restricting input...\n",
      "INFO:nixtla.nixtla_client:Calling Forecast Endpoint...\n",
      "predicting sequences:  21%|██        | 5/24 [00:05<00:17,  1.07it/s]INFO:nixtla.nixtla_client:Validating inputs...\n",
      "INFO:nixtla.nixtla_client:Inferred freq: D\n",
      "INFO:nixtla.nixtla_client:Preprocessing dataframes...\n",
      "INFO:nixtla.nixtla_client:Restricting input...\n",
      "INFO:nixtla.nixtla_client:Calling Forecast Endpoint...\n",
      "predicting sequences:  25%|██▌       | 6/24 [00:06<00:17,  1.01it/s]INFO:nixtla.nixtla_client:Validating inputs...\n",
      "INFO:nixtla.nixtla_client:Inferred freq: D\n",
      "INFO:nixtla.nixtla_client:Preprocessing dataframes...\n",
      "INFO:nixtla.nixtla_client:Restricting input...\n",
      "INFO:nixtla.nixtla_client:Calling Forecast Endpoint...\n",
      "ERROR:nixtla.nixtla_client:Attempt 1 failed with error: _ssl.c:990: The handshake operation timed out\n",
      "predicting sequences:  29%|██▉       | 7/24 [02:20<12:37, 44.53s/it]INFO:nixtla.nixtla_client:Validating inputs...\n",
      "INFO:nixtla.nixtla_client:Inferred freq: D\n",
      "INFO:nixtla.nixtla_client:Preprocessing dataframes...\n",
      "INFO:nixtla.nixtla_client:Restricting input...\n",
      "INFO:nixtla.nixtla_client:Calling Forecast Endpoint...\n",
      "predicting sequences:  33%|███▎      | 8/24 [02:21<08:10, 30.68s/it]INFO:nixtla.nixtla_client:Validating inputs...\n",
      "INFO:nixtla.nixtla_client:Inferred freq: D\n",
      "INFO:nixtla.nixtla_client:Preprocessing dataframes...\n",
      "INFO:nixtla.nixtla_client:Restricting input...\n",
      "INFO:nixtla.nixtla_client:Calling Forecast Endpoint...\n",
      "predicting sequences:  38%|███▊      | 9/24 [02:22<05:19, 21.30s/it]INFO:nixtla.nixtla_client:Validating inputs...\n",
      "INFO:nixtla.nixtla_client:Inferred freq: D\n",
      "INFO:nixtla.nixtla_client:Preprocessing dataframes...\n",
      "INFO:nixtla.nixtla_client:Restricting input...\n",
      "INFO:nixtla.nixtla_client:Calling Forecast Endpoint...\n",
      "predicting sequences:  42%|████▏     | 10/24 [02:23<03:28, 14.92s/it]INFO:nixtla.nixtla_client:Validating inputs...\n",
      "INFO:nixtla.nixtla_client:Inferred freq: D\n",
      "INFO:nixtla.nixtla_client:Preprocessing dataframes...\n",
      "INFO:nixtla.nixtla_client:Restricting input...\n",
      "INFO:nixtla.nixtla_client:Calling Forecast Endpoint...\n",
      "predicting sequences:  46%|████▌     | 11/24 [02:23<02:17, 10.57s/it]INFO:nixtla.nixtla_client:Validating inputs...\n",
      "INFO:nixtla.nixtla_client:Inferred freq: D\n",
      "INFO:nixtla.nixtla_client:Preprocessing dataframes...\n",
      "INFO:nixtla.nixtla_client:Restricting input...\n",
      "INFO:nixtla.nixtla_client:Calling Forecast Endpoint...\n",
      "predicting sequences:  50%|█████     | 12/24 [02:24<01:30,  7.52s/it]INFO:nixtla.nixtla_client:Validating inputs...\n",
      "INFO:nixtla.nixtla_client:Inferred freq: D\n",
      "INFO:nixtla.nixtla_client:Preprocessing dataframes...\n",
      "INFO:nixtla.nixtla_client:Restricting input...\n",
      "INFO:nixtla.nixtla_client:Calling Forecast Endpoint...\n",
      "predicting sequences:  54%|█████▍    | 13/24 [02:25<00:59,  5.45s/it]INFO:nixtla.nixtla_client:Validating inputs...\n",
      "INFO:nixtla.nixtla_client:Inferred freq: D\n",
      "INFO:nixtla.nixtla_client:Preprocessing dataframes...\n",
      "INFO:nixtla.nixtla_client:Restricting input...\n",
      "INFO:nixtla.nixtla_client:Calling Forecast Endpoint...\n",
      "predicting sequences:  58%|█████▊    | 14/24 [02:25<00:39,  3.99s/it]INFO:nixtla.nixtla_client:Validating inputs...\n",
      "INFO:nixtla.nixtla_client:Inferred freq: D\n",
      "INFO:nixtla.nixtla_client:Preprocessing dataframes...\n",
      "INFO:nixtla.nixtla_client:Restricting input...\n",
      "INFO:nixtla.nixtla_client:Calling Forecast Endpoint...\n",
      "predicting sequences:  62%|██████▎   | 15/24 [02:26<00:26,  2.96s/it]INFO:nixtla.nixtla_client:Validating inputs...\n",
      "INFO:nixtla.nixtla_client:Inferred freq: D\n",
      "INFO:nixtla.nixtla_client:Preprocessing dataframes...\n",
      "INFO:nixtla.nixtla_client:Restricting input...\n",
      "INFO:nixtla.nixtla_client:Calling Forecast Endpoint...\n",
      "predicting sequences:  67%|██████▋   | 16/24 [02:26<00:18,  2.27s/it]INFO:nixtla.nixtla_client:Validating inputs...\n",
      "INFO:nixtla.nixtla_client:Inferred freq: D\n",
      "INFO:nixtla.nixtla_client:Preprocessing dataframes...\n",
      "INFO:nixtla.nixtla_client:Restricting input...\n",
      "INFO:nixtla.nixtla_client:Calling Forecast Endpoint...\n",
      "predicting sequences:  71%|███████   | 17/24 [02:27<00:12,  1.80s/it]INFO:nixtla.nixtla_client:Validating inputs...\n",
      "INFO:nixtla.nixtla_client:Inferred freq: D\n",
      "INFO:nixtla.nixtla_client:Preprocessing dataframes...\n",
      "INFO:nixtla.nixtla_client:Restricting input...\n",
      "INFO:nixtla.nixtla_client:Calling Forecast Endpoint...\n",
      "predicting sequences:  75%|███████▌  | 18/24 [02:28<00:08,  1.44s/it]INFO:nixtla.nixtla_client:Validating inputs...\n",
      "INFO:nixtla.nixtla_client:Inferred freq: D\n",
      "INFO:nixtla.nixtla_client:Preprocessing dataframes...\n",
      "INFO:nixtla.nixtla_client:Restricting input...\n",
      "INFO:nixtla.nixtla_client:Calling Forecast Endpoint...\n",
      "predicting sequences:  79%|███████▉  | 19/24 [02:28<00:05,  1.19s/it]INFO:nixtla.nixtla_client:Validating inputs...\n",
      "INFO:nixtla.nixtla_client:Inferred freq: D\n",
      "INFO:nixtla.nixtla_client:Preprocessing dataframes...\n",
      "INFO:nixtla.nixtla_client:Restricting input...\n",
      "INFO:nixtla.nixtla_client:Calling Forecast Endpoint...\n",
      "predicting sequences:  83%|████████▎ | 20/24 [02:29<00:04,  1.05s/it]INFO:nixtla.nixtla_client:Validating inputs...\n",
      "INFO:nixtla.nixtla_client:Inferred freq: D\n",
      "INFO:nixtla.nixtla_client:Preprocessing dataframes...\n",
      "INFO:nixtla.nixtla_client:Restricting input...\n",
      "INFO:nixtla.nixtla_client:Calling Forecast Endpoint...\n",
      "predicting sequences:  88%|████████▊ | 21/24 [02:30<00:02,  1.09it/s]INFO:nixtla.nixtla_client:Validating inputs...\n",
      "INFO:nixtla.nixtla_client:Inferred freq: D\n",
      "INFO:nixtla.nixtla_client:Preprocessing dataframes...\n",
      "INFO:nixtla.nixtla_client:Restricting input...\n",
      "INFO:nixtla.nixtla_client:Calling Forecast Endpoint...\n",
      "predicting sequences:  92%|█████████▏| 22/24 [02:30<00:01,  1.21it/s]INFO:nixtla.nixtla_client:Validating inputs...\n",
      "INFO:nixtla.nixtla_client:Inferred freq: D\n",
      "INFO:nixtla.nixtla_client:Preprocessing dataframes...\n",
      "INFO:nixtla.nixtla_client:Restricting input...\n",
      "INFO:nixtla.nixtla_client:Calling Forecast Endpoint...\n",
      "predicting sequences:  96%|█████████▌| 23/24 [02:31<00:00,  1.25it/s]INFO:nixtla.nixtla_client:Validating inputs...\n",
      "INFO:nixtla.nixtla_client:Inferred freq: D\n",
      "INFO:nixtla.nixtla_client:Preprocessing dataframes...\n",
      "INFO:nixtla.nixtla_client:Restricting input...\n",
      "INFO:nixtla.nixtla_client:Calling Forecast Endpoint...\n",
      "predicting sequences: 100%|██████████| 24/24 [02:32<00:00,  6.34s/it]\n"
     ]
    },
    {
     "data": {
      "text/html": [
       "<div>\n",
       "<style scoped>\n",
       "    .dataframe tbody tr th:only-of-type {\n",
       "        vertical-align: middle;\n",
       "    }\n",
       "\n",
       "    .dataframe tbody tr th {\n",
       "        vertical-align: top;\n",
       "    }\n",
       "\n",
       "    .dataframe thead th {\n",
       "        text-align: right;\n",
       "    }\n",
       "</style>\n",
       "<table border=\"1\" class=\"dataframe\">\n",
       "  <thead>\n",
       "    <tr style=\"text-align: right;\">\n",
       "      <th></th>\n",
       "      <th>root</th>\n",
       "      <th>to_be_predicted</th>\n",
       "      <th>forecasted</th>\n",
       "      <th>success</th>\n",
       "    </tr>\n",
       "  </thead>\n",
       "  <tbody>\n",
       "    <tr>\n",
       "      <th>0</th>\n",
       "      <td>[0, 0, 0, 0, 0, 0, 0]</td>\n",
       "      <td>[0]</td>\n",
       "      <td>[0]</td>\n",
       "      <td>1</td>\n",
       "    </tr>\n",
       "    <tr>\n",
       "      <th>1</th>\n",
       "      <td>[0, 0, 0, 0, 0, 0, 0]</td>\n",
       "      <td>[1]</td>\n",
       "      <td>[0]</td>\n",
       "      <td>0</td>\n",
       "    </tr>\n",
       "    <tr>\n",
       "      <th>2</th>\n",
       "      <td>[0, 0, 0, 0, 1, 0, 0]</td>\n",
       "      <td>[0]</td>\n",
       "      <td>[0]</td>\n",
       "      <td>1</td>\n",
       "    </tr>\n",
       "    <tr>\n",
       "      <th>3</th>\n",
       "      <td>[0, 0, 0, 0, 0, 1, 0, 0]</td>\n",
       "      <td>[0]</td>\n",
       "      <td>[0]</td>\n",
       "      <td>1</td>\n",
       "    </tr>\n",
       "    <tr>\n",
       "      <th>4</th>\n",
       "      <td>[0, 0, 0, 0, 0, 0, 1, 1]</td>\n",
       "      <td>[0]</td>\n",
       "      <td>[0]</td>\n",
       "      <td>1</td>\n",
       "    </tr>\n",
       "    <tr>\n",
       "      <th>5</th>\n",
       "      <td>[0, 0, 0, 0, 0, 0, 0, 1]</td>\n",
       "      <td>[0]</td>\n",
       "      <td>[0]</td>\n",
       "      <td>1</td>\n",
       "    </tr>\n",
       "    <tr>\n",
       "      <th>6</th>\n",
       "      <td>[0, 0, 0, 0, 0, 0, 0, 1]</td>\n",
       "      <td>[1]</td>\n",
       "      <td>[0]</td>\n",
       "      <td>0</td>\n",
       "    </tr>\n",
       "    <tr>\n",
       "      <th>7</th>\n",
       "      <td>[0, 0, 0, 1, 1, 0, 0, 0]</td>\n",
       "      <td>[0]</td>\n",
       "      <td>[0]</td>\n",
       "      <td>1</td>\n",
       "    </tr>\n",
       "    <tr>\n",
       "      <th>8</th>\n",
       "      <td>[0, 0, 1, 0, 0, 0, 0, 0]</td>\n",
       "      <td>[1]</td>\n",
       "      <td>[0]</td>\n",
       "      <td>0</td>\n",
       "    </tr>\n",
       "    <tr>\n",
       "      <th>9</th>\n",
       "      <td>[0, 1, 0, 1, 0, 1, 0, 1]</td>\n",
       "      <td>[0]</td>\n",
       "      <td>[1]</td>\n",
       "      <td>0</td>\n",
       "    </tr>\n",
       "    <tr>\n",
       "      <th>10</th>\n",
       "      <td>[0, 0, 0, 0, 1, 1, 1, 0]</td>\n",
       "      <td>[1]</td>\n",
       "      <td>[0]</td>\n",
       "      <td>0</td>\n",
       "    </tr>\n",
       "    <tr>\n",
       "      <th>11</th>\n",
       "      <td>[0, 0, 0, 0, 0, 0, 0, 1, 0]</td>\n",
       "      <td>[0]</td>\n",
       "      <td>[0]</td>\n",
       "      <td>1</td>\n",
       "    </tr>\n",
       "    <tr>\n",
       "      <th>12</th>\n",
       "      <td>[0, 0, 0, 0, 0, 0, 0, 0, 1]</td>\n",
       "      <td>[0]</td>\n",
       "      <td>[0]</td>\n",
       "      <td>1</td>\n",
       "    </tr>\n",
       "    <tr>\n",
       "      <th>13</th>\n",
       "      <td>[0, 0, 0, 0, 0, 0, 0, 0, 1]</td>\n",
       "      <td>[0]</td>\n",
       "      <td>[0]</td>\n",
       "      <td>1</td>\n",
       "    </tr>\n",
       "    <tr>\n",
       "      <th>14</th>\n",
       "      <td>[0, 0, 0, 0, 0, 1, 1, 0, 1]</td>\n",
       "      <td>[0]</td>\n",
       "      <td>[0]</td>\n",
       "      <td>1</td>\n",
       "    </tr>\n",
       "    <tr>\n",
       "      <th>15</th>\n",
       "      <td>[0, 1, 0, 1, 0, 1, 0, 1, 0]</td>\n",
       "      <td>[1]</td>\n",
       "      <td>[0]</td>\n",
       "      <td>0</td>\n",
       "    </tr>\n",
       "    <tr>\n",
       "      <th>16</th>\n",
       "      <td>[0, 0, 1, 0, 1, 0, 1, 0, 1]</td>\n",
       "      <td>[0]</td>\n",
       "      <td>[1]</td>\n",
       "      <td>0</td>\n",
       "    </tr>\n",
       "    <tr>\n",
       "      <th>17</th>\n",
       "      <td>[0, 1, 1, 0, 1, 1, 0, 1, 1]</td>\n",
       "      <td>[0]</td>\n",
       "      <td>[1]</td>\n",
       "      <td>0</td>\n",
       "    </tr>\n",
       "    <tr>\n",
       "      <th>18</th>\n",
       "      <td>[0, 0, 0, 0, 0, 0, 0, 0, 0]</td>\n",
       "      <td>[1]</td>\n",
       "      <td>[0]</td>\n",
       "      <td>0</td>\n",
       "    </tr>\n",
       "    <tr>\n",
       "      <th>19</th>\n",
       "      <td>[0, 0, 1, 0, 1, 0, 1, 1, 0]</td>\n",
       "      <td>[1]</td>\n",
       "      <td>[0]</td>\n",
       "      <td>0</td>\n",
       "    </tr>\n",
       "    <tr>\n",
       "      <th>20</th>\n",
       "      <td>[0, 1, 0, 1, 0, 0, 1, 0, 0]</td>\n",
       "      <td>[1]</td>\n",
       "      <td>[0]</td>\n",
       "      <td>0</td>\n",
       "    </tr>\n",
       "    <tr>\n",
       "      <th>21</th>\n",
       "      <td>[0, 1, 0, 1, 0, 1, 1, 0, 1]</td>\n",
       "      <td>[0]</td>\n",
       "      <td>[1]</td>\n",
       "      <td>0</td>\n",
       "    </tr>\n",
       "    <tr>\n",
       "      <th>22</th>\n",
       "      <td>[0, 0, 0, 1, 0, 1, 0, 1, 0, 1]</td>\n",
       "      <td>[0]</td>\n",
       "      <td>[1]</td>\n",
       "      <td>0</td>\n",
       "    </tr>\n",
       "    <tr>\n",
       "      <th>23</th>\n",
       "      <td>[0, 1, 0, 1, 0, 1, 0, 1, 0, 1]</td>\n",
       "      <td>[0]</td>\n",
       "      <td>[1]</td>\n",
       "      <td>0</td>\n",
       "    </tr>\n",
       "  </tbody>\n",
       "</table>\n",
       "</div>"
      ],
      "text/plain": [
       "                              root to_be_predicted forecasted success\n",
       "0            [0, 0, 0, 0, 0, 0, 0]             [0]        [0]       1\n",
       "1            [0, 0, 0, 0, 0, 0, 0]             [1]        [0]       0\n",
       "2            [0, 0, 0, 0, 1, 0, 0]             [0]        [0]       1\n",
       "3         [0, 0, 0, 0, 0, 1, 0, 0]             [0]        [0]       1\n",
       "4         [0, 0, 0, 0, 0, 0, 1, 1]             [0]        [0]       1\n",
       "5         [0, 0, 0, 0, 0, 0, 0, 1]             [0]        [0]       1\n",
       "6         [0, 0, 0, 0, 0, 0, 0, 1]             [1]        [0]       0\n",
       "7         [0, 0, 0, 1, 1, 0, 0, 0]             [0]        [0]       1\n",
       "8         [0, 0, 1, 0, 0, 0, 0, 0]             [1]        [0]       0\n",
       "9         [0, 1, 0, 1, 0, 1, 0, 1]             [0]        [1]       0\n",
       "10        [0, 0, 0, 0, 1, 1, 1, 0]             [1]        [0]       0\n",
       "11     [0, 0, 0, 0, 0, 0, 0, 1, 0]             [0]        [0]       1\n",
       "12     [0, 0, 0, 0, 0, 0, 0, 0, 1]             [0]        [0]       1\n",
       "13     [0, 0, 0, 0, 0, 0, 0, 0, 1]             [0]        [0]       1\n",
       "14     [0, 0, 0, 0, 0, 1, 1, 0, 1]             [0]        [0]       1\n",
       "15     [0, 1, 0, 1, 0, 1, 0, 1, 0]             [1]        [0]       0\n",
       "16     [0, 0, 1, 0, 1, 0, 1, 0, 1]             [0]        [1]       0\n",
       "17     [0, 1, 1, 0, 1, 1, 0, 1, 1]             [0]        [1]       0\n",
       "18     [0, 0, 0, 0, 0, 0, 0, 0, 0]             [1]        [0]       0\n",
       "19     [0, 0, 1, 0, 1, 0, 1, 1, 0]             [1]        [0]       0\n",
       "20     [0, 1, 0, 1, 0, 0, 1, 0, 0]             [1]        [0]       0\n",
       "21     [0, 1, 0, 1, 0, 1, 1, 0, 1]             [0]        [1]       0\n",
       "22  [0, 0, 0, 1, 0, 1, 0, 1, 0, 1]             [0]        [1]       0\n",
       "23  [0, 1, 0, 1, 0, 1, 0, 1, 0, 1]             [0]        [1]       0"
      ]
     },
     "execution_count": 8,
     "metadata": {},
     "output_type": "execute_result"
    }
   ],
   "source": [
    "bin_df = list_predictions_last_binary(b_seq, forecast_algo=\"timeGPT\")\n",
    "bin_df"
   ]
  },
  {
   "cell_type": "code",
   "execution_count": 5,
   "metadata": {},
   "outputs": [],
   "source": [
    "bin_df.to_csv(\"bin_seq_last_digit_pred_timeGPT.csv\", index=False)"
   ]
  },
  {
   "cell_type": "code",
   "execution_count": 6,
   "metadata": {},
   "outputs": [
    {
     "name": "stderr",
     "output_type": "stream",
     "text": [
      "predicting sequences: 100%|██████████| 24/24 [00:01<00:00, 13.23it/s]"
     ]
    },
    {
     "name": "stdout",
     "output_type": "stream",
     "text": [
      "                              root to_be_predicted forecasted success\n",
      "0            [0, 0, 0, 0, 0, 0, 0]             [0]        [0]       1\n",
      "1            [0, 0, 0, 0, 0, 0, 0]             [1]        [0]       0\n",
      "2            [0, 0, 0, 0, 1, 0, 0]             [0]        [2]       0\n",
      "3         [0, 0, 0, 0, 0, 1, 0, 0]             [0]        [0]       1\n",
      "4         [0, 0, 0, 0, 0, 0, 1, 1]             [0]        [0]       1\n",
      "5         [0, 0, 0, 0, 0, 0, 0, 1]             [0]        [2]       0\n",
      "6         [0, 0, 0, 0, 0, 0, 0, 1]             [1]        [0]       0\n",
      "7         [0, 0, 0, 1, 1, 0, 0, 0]             [0]        [0]       1\n",
      "8         [0, 0, 1, 0, 0, 0, 0, 0]             [1]        [0]       0\n",
      "9         [0, 1, 0, 1, 0, 1, 0, 1]             [0]        [0]       1\n",
      "10        [0, 0, 0, 0, 1, 1, 1, 0]             [1]        [0]       0\n",
      "11     [0, 0, 0, 0, 0, 0, 0, 1, 0]             [0]        [0]       1\n",
      "12     [0, 0, 0, 0, 0, 0, 0, 0, 1]             [0]        [2]       0\n",
      "13     [0, 0, 0, 0, 0, 0, 0, 0, 1]             [0]        [0]       1\n",
      "14     [0, 0, 0, 0, 0, 1, 1, 0, 1]             [0]        [1]       0\n",
      "15     [0, 1, 0, 1, 0, 1, 0, 1, 0]             [1]        [1]       1\n",
      "16     [0, 0, 1, 0, 1, 0, 1, 0, 1]             [0]        [1]       0\n",
      "17     [0, 1, 1, 0, 1, 1, 0, 1, 1]             [0]        [0]       1\n",
      "18     [0, 0, 0, 0, 0, 0, 0, 0, 0]             [1]        [0]       0\n",
      "19     [0, 0, 1, 0, 1, 0, 1, 1, 0]             [1]        [0]       0\n",
      "20     [0, 1, 0, 1, 0, 0, 1, 0, 0]             [1]        [0]       0\n",
      "21     [0, 1, 0, 1, 0, 1, 1, 0, 1]             [0]        [0]       1\n",
      "22  [0, 0, 0, 1, 0, 1, 0, 1, 0, 1]             [0]        [1]       0\n",
      "23  [0, 1, 0, 1, 0, 1, 0, 1, 0, 1]             [0]        [0]       1\n"
     ]
    },
    {
     "name": "stderr",
     "output_type": "stream",
     "text": [
      "\n"
     ]
    }
   ],
   "source": [
    "bin_df = list_predictions_last_binary(b_seq, forecast_algo=\"chronos\")\n",
    "print(bin_df)\n",
    "bin_df.to_csv(\"bin_seq_last_digit_pred_chronos.csv\", index=False)\n"
   ]
  },
  {
   "cell_type": "markdown",
   "metadata": {},
   "source": [
    "# Analyzing Binary sequences from Zenil's paper"
   ]
  },
  {
   "cell_type": "code",
   "execution_count": 34,
   "metadata": {},
   "outputs": [
    {
     "data": {
      "text/html": [
       "<div>\n",
       "<style scoped>\n",
       "    .dataframe tbody tr th:only-of-type {\n",
       "        vertical-align: middle;\n",
       "    }\n",
       "\n",
       "    .dataframe tbody tr th {\n",
       "        vertical-align: top;\n",
       "    }\n",
       "\n",
       "    .dataframe thead th {\n",
       "        text-align: right;\n",
       "    }\n",
       "</style>\n",
       "<table border=\"1\" class=\"dataframe\">\n",
       "  <thead>\n",
       "    <tr style=\"text-align: right;\">\n",
       "      <th></th>\n",
       "      <th>model</th>\n",
       "      <th>root</th>\n",
       "      <th>to_be_predicted</th>\n",
       "      <th>forecasted</th>\n",
       "      <th>success</th>\n",
       "    </tr>\n",
       "  </thead>\n",
       "  <tbody>\n",
       "    <tr>\n",
       "      <th>0</th>\n",
       "      <td>timeGPT</td>\n",
       "      <td>[0, 0, 0, 0, 0, 0, 0]</td>\n",
       "      <td>[0]</td>\n",
       "      <td>[0]</td>\n",
       "      <td>1</td>\n",
       "    </tr>\n",
       "    <tr>\n",
       "      <th>1</th>\n",
       "      <td>timeGPT</td>\n",
       "      <td>[0, 0, 0, 0, 0, 0, 0]</td>\n",
       "      <td>[1]</td>\n",
       "      <td>[0]</td>\n",
       "      <td>0</td>\n",
       "    </tr>\n",
       "    <tr>\n",
       "      <th>2</th>\n",
       "      <td>timeGPT</td>\n",
       "      <td>[0, 0, 0, 0, 1, 0, 0]</td>\n",
       "      <td>[0]</td>\n",
       "      <td>[0]</td>\n",
       "      <td>1</td>\n",
       "    </tr>\n",
       "    <tr>\n",
       "      <th>3</th>\n",
       "      <td>timeGPT</td>\n",
       "      <td>[0, 0, 0, 0, 0, 1, 0, 0]</td>\n",
       "      <td>[0]</td>\n",
       "      <td>[0]</td>\n",
       "      <td>1</td>\n",
       "    </tr>\n",
       "    <tr>\n",
       "      <th>4</th>\n",
       "      <td>timeGPT</td>\n",
       "      <td>[0, 0, 0, 0, 0, 0, 1, 1]</td>\n",
       "      <td>[0]</td>\n",
       "      <td>[0]</td>\n",
       "      <td>1</td>\n",
       "    </tr>\n",
       "    <tr>\n",
       "      <th>...</th>\n",
       "      <td>...</td>\n",
       "      <td>...</td>\n",
       "      <td>...</td>\n",
       "      <td>...</td>\n",
       "      <td>...</td>\n",
       "    </tr>\n",
       "    <tr>\n",
       "      <th>19</th>\n",
       "      <td>lag-llama</td>\n",
       "      <td>[0, 0, 1, 0, 1, 0, 1, 1, 0]</td>\n",
       "      <td>[1]</td>\n",
       "      <td>[0]</td>\n",
       "      <td>0</td>\n",
       "    </tr>\n",
       "    <tr>\n",
       "      <th>20</th>\n",
       "      <td>lag-llama</td>\n",
       "      <td>[0, 1, 0, 1, 0, 0, 1, 0, 0]</td>\n",
       "      <td>[1]</td>\n",
       "      <td>[0]</td>\n",
       "      <td>0</td>\n",
       "    </tr>\n",
       "    <tr>\n",
       "      <th>21</th>\n",
       "      <td>lag-llama</td>\n",
       "      <td>[0, 1, 0, 1, 0, 1, 1, 0, 1]</td>\n",
       "      <td>[0]</td>\n",
       "      <td>[0]</td>\n",
       "      <td>1</td>\n",
       "    </tr>\n",
       "    <tr>\n",
       "      <th>22</th>\n",
       "      <td>lag-llama</td>\n",
       "      <td>[0, 0, 0, 1, 0, 1, 0, 1, 0, 1]</td>\n",
       "      <td>[0]</td>\n",
       "      <td>[0]</td>\n",
       "      <td>1</td>\n",
       "    </tr>\n",
       "    <tr>\n",
       "      <th>23</th>\n",
       "      <td>lag-llama</td>\n",
       "      <td>[0, 1, 0, 1, 0, 1, 0, 1, 0, 1]</td>\n",
       "      <td>[0]</td>\n",
       "      <td>[0]</td>\n",
       "      <td>1</td>\n",
       "    </tr>\n",
       "  </tbody>\n",
       "</table>\n",
       "<p>72 rows × 5 columns</p>\n",
       "</div>"
      ],
      "text/plain": [
       "        model                            root to_be_predicted forecasted  \\\n",
       "0     timeGPT           [0, 0, 0, 0, 0, 0, 0]             [0]        [0]   \n",
       "1     timeGPT           [0, 0, 0, 0, 0, 0, 0]             [1]        [0]   \n",
       "2     timeGPT           [0, 0, 0, 0, 1, 0, 0]             [0]        [0]   \n",
       "3     timeGPT        [0, 0, 0, 0, 0, 1, 0, 0]             [0]        [0]   \n",
       "4     timeGPT        [0, 0, 0, 0, 0, 0, 1, 1]             [0]        [0]   \n",
       "..        ...                             ...             ...        ...   \n",
       "19  lag-llama     [0, 0, 1, 0, 1, 0, 1, 1, 0]             [1]        [0]   \n",
       "20  lag-llama     [0, 1, 0, 1, 0, 0, 1, 0, 0]             [1]        [0]   \n",
       "21  lag-llama     [0, 1, 0, 1, 0, 1, 1, 0, 1]             [0]        [0]   \n",
       "22  lag-llama  [0, 0, 0, 1, 0, 1, 0, 1, 0, 1]             [0]        [0]   \n",
       "23  lag-llama  [0, 1, 0, 1, 0, 1, 0, 1, 0, 1]             [0]        [0]   \n",
       "\n",
       "    success  \n",
       "0         1  \n",
       "1         0  \n",
       "2         1  \n",
       "3         1  \n",
       "4         1  \n",
       "..      ...  \n",
       "19        0  \n",
       "20        0  \n",
       "21        1  \n",
       "22        1  \n",
       "23        1  \n",
       "\n",
       "[72 rows x 5 columns]"
      ]
     },
     "execution_count": 34,
     "metadata": {},
     "output_type": "execute_result"
    }
   ],
   "source": [
    "timeGPT_bin_df = pd.read_csv(\"bin_seq_last_digit_pred_timeGPT.csv\")\n",
    "chronos_bin_df = pd.read_csv(\"bin_seq_last_digit_pred_chronos.csv\")\n",
    "llama_bin_df = pd.read_csv(\"bin_seq_last_digit_pred_lag_llama.csv\")\n",
    "\n",
    "total_df = pd.concat(\n",
    "    [timeGPT_bin_df, chronos_bin_df, llama_bin_df]\n",
    ")\n",
    "total_df"
   ]
  },
  {
   "cell_type": "code",
   "execution_count": 35,
   "metadata": {},
   "outputs": [
    {
     "name": "stdout",
     "output_type": "stream",
     "text": [
      "model:  timeGPT\n",
      "sum:  10\n",
      "len:  24\n",
      "model:  chronos\n",
      "sum:  11\n",
      "len:  24\n",
      "model:  lag-llama\n",
      "sum:  17\n",
      "len:  24\n"
     ]
    },
    {
     "data": {
      "image/png": "[encoded data removed]",
      "text/plain": [
       "<Figure size 1000x600 with 1 Axes>"
      ]
     },
     "metadata": {},
     "output_type": "display_data"
    },
    {
     "name": "stdout",
     "output_type": "stream",
     "text": [
      "\n",
      "Success Rates by Model:\n",
      "           Success Rate (%)\n",
      "timeGPT           41.666667\n",
      "chronos           45.833333\n",
      "lag-llama         70.833333\n"
     ]
    }
   ],
   "source": [
    "# Calculate success percentage by model step by step\n",
    "models = total_df['model'].unique()\n",
    "success_rates = []\n",
    "\n",
    "for model in models:\n",
    "    # Get data for this model\n",
    "    model_data = total_df[total_df['model'] == model]\n",
    "    \n",
    "    # Calculate success rate\n",
    "    success_rate = (model_data['success'].sum() / len(model_data)) * 100\n",
    "    print(\"model: \", model)\n",
    "    print(\"sum: \", model_data['success'].sum())\n",
    "    print(\"len: \", len(model_data))\n",
    "    success_rates.append(success_rate)\n",
    "\n",
    "# Create bar plot with different colors\n",
    "plt.figure(figsize=(10,6))\n",
    "plt.bar(models, success_rates, color=['#800000', '#000080', '#004000'])\n",
    "\n",
    "# Increase font sizes\n",
    "plt.title('Success Rate by Model - Simple climbers ', fontsize=24)\n",
    "plt.xlabel('Model', fontsize=20)\n",
    "plt.ylabel('Success Rate (%)', fontsize=20)\n",
    "plt.xticks(fontsize=16, rotation=0)\n",
    "plt.yticks(fontsize=16)\n",
    "\n",
    "# Set y-axis limits from 0 to 100\n",
    "plt.ylim(0, 100)\n",
    "\n",
    "plt.tight_layout()\n",
    "plt.show()\n",
    "\n",
    "# Print success percentages as dataframe\n",
    "success_df = pd.DataFrame({'Success Rate (%)': success_rates}, index=models)\n",
    "print(\"\\nSuccess Rates by Model:\")\n",
    "print(success_df)\n"
   ]
  },
  {
   "cell_type": "markdown",
   "metadata": {},
   "source": [
    "# Random binary sequences"
   ]
  },
  {
   "cell_type": "code",
   "execution_count": 1,
   "metadata": {},
   "outputs": [
    {
     "name": "stderr",
     "output_type": "stream",
     "text": [
      "/Users/beto/Documents/Projects/medLLM/venv/lib/python3.10/site-packages/transformers/utils/generic.py:311: FutureWarning: `torch.utils._pytree._register_pytree_node` is deprecated. Please use `torch.utils._pytree.register_pytree_node` instead.\n",
      "  torch.utils._pytree._register_pytree_node(\n",
      "INFO:root:Setting d_model to 1024\n",
      "INFO:root:Initializing pre-trained transformer from google/flan-t5-large.\n",
      "INFO:root:Enabling gradient checkpointing.\n",
      "/Users/beto/Documents/Projects/medLLM/venv/lib/python3.10/site-packages/huggingface_hub/hub_mixin.py:364: FutureWarning: You are using `torch.load` with `weights_only=False` (the current default value), which uses the default pickle module implicitly. It is possible to construct malicious pickle data which will execute arbitrary code during unpickling (See https://github.com/pytorch/pytorch/blob/main/SECURITY.md#untrusted-models for more details). In a future release, the default value for `weights_only` will be flipped to `True`. This limits the functions that could be executed during unpickling. Arbitrary objects will no longer be allowed to be loaded via this mode unless they are explicitly allowlisted by the user via `torch.serialization.add_safe_globals`. We recommend you start setting `weights_only=True` for any use case where you don't have full control of the loaded file. Please open an issue on GitHub for any issues related to this experimental feature.\n",
      "  state_dict = torch.load(model_file, map_location=torch.device(map_location))\n"
     ]
    },
    {
     "name": "stdout",
     "output_type": "stream",
     "text": [
      "MOMENTPipeline(\n",
      "  (normalizer): RevIN()\n",
      "  (tokenizer): Patching()\n",
      "  (patch_embedding): PatchEmbedding(\n",
      "    (value_embedding): Linear(in_features=8, out_features=1024, bias=False)\n",
      "    (position_embedding): PositionalEmbedding()\n",
      "    (dropout): Dropout(p=0.1, inplace=False)\n",
      "  )\n",
      "  (encoder): T5Stack(\n",
      "    (embed_tokens): Embedding(32128, 1024)\n",
      "    (block): ModuleList(\n",
      "      (0): T5Block(\n",
      "        (layer): ModuleList(\n",
      "          (0): T5LayerSelfAttention(\n",
      "            (SelfAttention): T5Attention(\n",
      "              (q): Linear(in_features=1024, out_features=1024, bias=False)\n",
      "              (k): Linear(in_features=1024, out_features=1024, bias=False)\n",
      "              (v): Linear(in_features=1024, out_features=1024, bias=False)\n",
      "              (o): Linear(in_features=1024, out_features=1024, bias=False)\n",
      "              (relative_attention_bias): Embedding(32, 16)\n",
      "            )\n",
      "            (layer_norm): T5LayerNorm()\n",
      "            (dropout): Dropout(p=0.1, inplace=False)\n",
      "          )\n",
      "          (1): T5LayerFF(\n",
      "            (DenseReluDense): T5DenseGatedActDense(\n",
      "              (wi_0): Linear(in_features=1024, out_features=2816, bias=False)\n",
      "              (wi_1): Linear(in_features=1024, out_features=2816, bias=False)\n",
      "              (wo): Linear(in_features=2816, out_features=1024, bias=False)\n",
      "              (dropout): Dropout(p=0.1, inplace=False)\n",
      "              (act): NewGELUActivation()\n",
      "            )\n",
      "            (layer_norm): T5LayerNorm()\n",
      "            (dropout): Dropout(p=0.1, inplace=False)\n",
      "          )\n",
      "        )\n",
      "      )\n",
      "      (1-23): 23 x T5Block(\n",
      "        (layer): ModuleList(\n",
      "          (0): T5LayerSelfAttention(\n",
      "            (SelfAttention): T5Attention(\n",
      "              (q): Linear(in_features=1024, out_features=1024, bias=False)\n",
      "              (k): Linear(in_features=1024, out_features=1024, bias=False)\n",
      "              (v): Linear(in_features=1024, out_features=1024, bias=False)\n",
      "              (o): Linear(in_features=1024, out_features=1024, bias=False)\n",
      "            )\n",
      "            (layer_norm): T5LayerNorm()\n",
      "            (dropout): Dropout(p=0.1, inplace=False)\n",
      "          )\n",
      "          (1): T5LayerFF(\n",
      "            (DenseReluDense): T5DenseGatedActDense(\n",
      "              (wi_0): Linear(in_features=1024, out_features=2816, bias=False)\n",
      "              (wi_1): Linear(in_features=1024, out_features=2816, bias=False)\n",
      "              (wo): Linear(in_features=2816, out_features=1024, bias=False)\n",
      "              (dropout): Dropout(p=0.1, inplace=False)\n",
      "              (act): NewGELUActivation()\n",
      "            )\n",
      "            (layer_norm): T5LayerNorm()\n",
      "            (dropout): Dropout(p=0.1, inplace=False)\n",
      "          )\n",
      "        )\n",
      "      )\n",
      "    )\n",
      "    (final_layer_norm): T5LayerNorm()\n",
      "    (dropout): Dropout(p=0.1, inplace=False)\n",
      "  )\n",
      "  (head): ForecastingHead(\n",
      "    (flatten): Flatten(start_dim=-2, end_dim=-1)\n",
      "    (dropout): Dropout(p=0.1, inplace=False)\n",
      "    (linear): Linear(in_features=65536, out_features=192, bias=True)\n",
      "  )\n",
      ")\n"
     ]
    }
   ],
   "source": [
    "from processing_answers import *"
   ]
  },
  {
   "cell_type": "code",
   "execution_count": 2,
   "metadata": {},
   "outputs": [
    {
     "data": {
      "text/plain": [
       "['1,1,0,0,0,1,0,0,0,0,1,0',\n",
       " '0,0,0,1,0,1,1,0,1,0,1,1',\n",
       " '1,0,0,0,0,1,1,1,1,0,0,1',\n",
       " '1,1,1,1,1,1,1,1,0,1,0,0',\n",
       " '1,0,1,1,0,1,0,1,0,1,0,0',\n",
       " '1,1,1,0,0,1,1,0,1,1,0,1',\n",
       " '0,0,1,1,1,0,0,1,0,1,1,0',\n",
       " '1,1,1,0,0,0,0,0,0,0,0,0',\n",
       " '0,1,1,1,1,0,1,0,1,1,1,1',\n",
       " '1,1,0,0,0,1,1,1,0,1,1,1',\n",
       " '1,0,0,1,1,0,1,0,0,0,1,0',\n",
       " '0,1,1,1,0,1,1,0,1,1,0,1',\n",
       " '1,0,1,0,0,1,0,1,0,1,1,1',\n",
       " '0,1,1,0,0,1,1,1,1,0,0,1',\n",
       " '0,0,1,1,1,1,1,0,1,1,1,0',\n",
       " '1,1,1,0,1,1,1,0,0,1,0,0',\n",
       " '1,0,1,0,1,0,0,0,0,0,0,0',\n",
       " '0,0,1,1,1,1,1,1,0,1,1,1',\n",
       " '1,1,0,0,0,1,0,1,0,1,0,1',\n",
       " '0,0,0,0,0,1,0,1,1,0,1,0',\n",
       " '0,0,1,1,1,1,1,1,0,0,1,1',\n",
       " '0,1,0,0,1,0,0,1,0,1,1,1',\n",
       " '1,0,0,1,1,0,0,0,0,0,0,1',\n",
       " '1,1,0,1,1,1,0,0,1,1,1,0',\n",
       " '0,0,0,0,0,0,0,1,0,0,0,0',\n",
       " '0,1,0,0,1,1,1,1,1,1,0,1',\n",
       " '0,0,1,0,0,0,1,0,0,0,0,0',\n",
       " '1,0,0,0,1,1,0,0,1,1,0,0',\n",
       " '1,1,0,0,1,0,0,0,0,0,0,0',\n",
       " '1,0,1,0,1,0,1,0,0,1,1,1',\n",
       " '1,0,1,1,0,1,1,1,1,1,0,0',\n",
       " '0,0,0,0,0,0,1,0,0,0,0,0',\n",
       " '0,1,1,0,0,0,0,0,0,0,1,1',\n",
       " '0,0,1,1,0,1,1,0,1,1,0,1',\n",
       " '0,0,0,0,1,1,1,1,1,0,1,1',\n",
       " '1,1,1,0,0,0,0,1,1,1,1,1',\n",
       " '1,0,1,0,0,1,1,1,1,1,1,1',\n",
       " '0,1,0,0,0,0,0,0,1,0,1,0',\n",
       " '0,1,0,0,0,1,0,1,1,1,0,0',\n",
       " '1,0,1,0,1,1,1,0,1,0,1,0',\n",
       " '1,0,0,0,0,1,0,0,1,1,1,1',\n",
       " '1,1,0,0,0,0,1,0,0,0,1,1',\n",
       " '1,0,1,0,0,0,1,0,1,0,0,0',\n",
       " '0,0,1,1,1,1,0,0,1,0,1,0',\n",
       " '0,0,0,0,0,0,1,0,0,0,1,0',\n",
       " '1,1,1,1,0,0,1,1,1,0,0,1',\n",
       " '1,0,1,0,1,1,0,1,0,1,1,0',\n",
       " '1,0,0,1,0,1,1,1,1,1,1,0',\n",
       " '1,1,1,1,1,0,0,0,1,1,1,0',\n",
       " '0,0,0,1,0,1,1,1,0,0,1,1',\n",
       " '0,0,1,0,1,0,0,1,0,0,0,0',\n",
       " '1,1,1,0,0,1,1,1,0,1,1,1',\n",
       " '1,0,0,1,1,1,0,1,1,1,1,1',\n",
       " '1,0,0,1,0,0,1,1,0,0,1,1',\n",
       " '0,0,0,0,0,0,1,1,0,1,1,1',\n",
       " '1,0,0,1,1,0,0,1,1,1,1,0',\n",
       " '1,1,1,1,1,0,0,1,0,0,0,1',\n",
       " '0,1,1,1,0,1,1,1,1,1,1,1',\n",
       " '1,0,1,0,0,1,0,0,1,1,0,1',\n",
       " '0,1,0,0,0,1,1,0,0,1,1,1',\n",
       " '0,0,0,0,0,1,1,0,1,1,0,1',\n",
       " '0,1,0,0,1,0,0,1,0,0,1,0',\n",
       " '1,1,1,0,0,1,1,1,1,1,0,1',\n",
       " '0,1,0,1,0,1,0,0,1,1,0,1',\n",
       " '1,1,1,0,1,0,1,0,0,0,0,1',\n",
       " '1,0,0,0,1,0,1,1,1,1,0,1',\n",
       " '1,0,1,0,0,0,1,0,1,1,0,1',\n",
       " '0,0,1,0,0,1,0,1,1,0,1,1',\n",
       " '1,0,0,1,0,1,1,0,0,1,1,0',\n",
       " '1,1,0,0,1,1,1,0,0,1,0,1',\n",
       " '0,0,1,0,1,1,1,0,0,1,1,1',\n",
       " '0,1,1,1,0,1,1,0,1,1,1,0',\n",
       " '1,0,0,0,0,1,0,0,1,0,1,0',\n",
       " '0,1,1,1,1,0,0,1,0,0,0,0',\n",
       " '0,0,0,0,0,1,1,1,0,1,0,0',\n",
       " '0,1,0,1,0,1,1,0,0,1,1,0',\n",
       " '0,0,0,1,0,0,0,0,1,0,1,0',\n",
       " '0,1,1,0,0,0,0,0,1,1,0,1',\n",
       " '1,0,0,1,0,1,0,1,1,0,0,0',\n",
       " '0,1,0,1,1,1,1,1,0,1,0,1',\n",
       " '1,0,0,1,0,0,1,0,1,1,0,0',\n",
       " '0,1,0,1,0,1,0,1,1,1,0,1',\n",
       " '0,0,1,0,0,1,1,0,1,0,0,1',\n",
       " '1,1,0,0,0,0,1,1,1,1,1,0',\n",
       " '1,0,1,1,0,0,0,1,0,0,1,0',\n",
       " '0,1,1,1,0,0,1,1,0,0,0,1',\n",
       " '1,0,1,1,1,0,1,0,1,0,1,0',\n",
       " '0,1,0,1,0,0,0,0,0,0,1,0',\n",
       " '0,1,0,0,0,1,1,0,1,0,0,0',\n",
       " '0,0,1,0,1,0,0,0,1,1,1,1',\n",
       " '1,0,1,1,1,0,1,1,1,0,1,1',\n",
       " '1,1,1,1,0,1,0,1,0,0,1,0',\n",
       " '0,0,1,1,0,0,1,0,1,0,1,0',\n",
       " '0,1,1,0,1,0,1,0,1,1,1,0',\n",
       " '1,0,1,0,1,0,1,1,0,0,1,0',\n",
       " '1,0,1,1,1,1,1,0,1,1,1,0',\n",
       " '0,1,0,1,0,0,1,1,0,1,0,1',\n",
       " '0,0,0,1,0,1,0,0,1,1,1,1',\n",
       " '1,1,1,0,0,0,1,1,1,1,1,1',\n",
       " '1,0,0,0,1,1,1,0,1,1,0,1']"
      ]
     },
     "execution_count": 2,
     "metadata": {},
     "output_type": "execute_result"
    }
   ],
   "source": [
    "r_seq = create_ramdom_bin_test_pool()\n",
    "r_seq\n"
   ]
  },
  {
   "cell_type": "code",
   "execution_count": 3,
   "metadata": {},
   "outputs": [
    {
     "name": "stderr",
     "output_type": "stream",
     "text": [
      "predicting sequences:   0%|          | 0/100 [00:00<?, ?it/s]INFO:nixtla.nixtla_client:Validating inputs...\n",
      "INFO:nixtla.nixtla_client:Inferred freq: D\n",
      "INFO:nixtla.nixtla_client:Querying model metadata...\n",
      "INFO:nixtla.nixtla_client:Preprocessing dataframes...\n",
      "INFO:nixtla.nixtla_client:Restricting input...\n",
      "INFO:nixtla.nixtla_client:Calling Forecast Endpoint...\n",
      "predicting sequences:   1%|          | 1/100 [00:03<06:22,  3.86s/it]INFO:nixtla.nixtla_client:Validating inputs...\n",
      "INFO:nixtla.nixtla_client:Inferred freq: D\n",
      "INFO:nixtla.nixtla_client:Preprocessing dataframes...\n",
      "INFO:nixtla.nixtla_client:Restricting input...\n",
      "INFO:nixtla.nixtla_client:Calling Forecast Endpoint...\n",
      "predicting sequences:   2%|▏         | 2/100 [00:04<03:40,  2.25s/it]INFO:nixtla.nixtla_client:Validating inputs...\n",
      "INFO:nixtla.nixtla_client:Inferred freq: D\n",
      "INFO:nixtla.nixtla_client:Preprocessing dataframes...\n",
      "INFO:nixtla.nixtla_client:Restricting input...\n",
      "INFO:nixtla.nixtla_client:Calling Forecast Endpoint...\n",
      "predicting sequences:   3%|▎         | 3/100 [00:05<02:35,  1.60s/it]INFO:nixtla.nixtla_client:Validating inputs...\n",
      "INFO:nixtla.nixtla_client:Inferred freq: D\n",
      "INFO:nixtla.nixtla_client:Preprocessing dataframes...\n",
      "INFO:nixtla.nixtla_client:Restricting input...\n",
      "INFO:nixtla.nixtla_client:Calling Forecast Endpoint...\n",
      "predicting sequences:   4%|▍         | 4/100 [00:06<02:00,  1.25s/it]INFO:nixtla.nixtla_client:Validating inputs...\n",
      "INFO:nixtla.nixtla_client:Inferred freq: D\n",
      "INFO:nixtla.nixtla_client:Preprocessing dataframes...\n",
      "INFO:nixtla.nixtla_client:Restricting input...\n",
      "INFO:nixtla.nixtla_client:Calling Forecast Endpoint...\n",
      "predicting sequences:   5%|▌         | 5/100 [00:07<01:50,  1.17s/it]INFO:nixtla.nixtla_client:Validating inputs...\n",
      "INFO:nixtla.nixtla_client:Inferred freq: D\n",
      "INFO:nixtla.nixtla_client:Preprocessing dataframes...\n",
      "INFO:nixtla.nixtla_client:Restricting input...\n",
      "INFO:nixtla.nixtla_client:Calling Forecast Endpoint...\n",
      "predicting sequences:   6%|▌         | 6/100 [00:09<02:14,  1.43s/it]INFO:nixtla.nixtla_client:Validating inputs...\n",
      "INFO:nixtla.nixtla_client:Inferred freq: D\n",
      "INFO:nixtla.nixtla_client:Preprocessing dataframes...\n",
      "INFO:nixtla.nixtla_client:Restricting input...\n",
      "INFO:nixtla.nixtla_client:Calling Forecast Endpoint...\n",
      "predicting sequences:   7%|▋         | 7/100 [00:10<01:48,  1.16s/it]INFO:nixtla.nixtla_client:Validating inputs...\n",
      "INFO:nixtla.nixtla_client:Inferred freq: D\n",
      "INFO:nixtla.nixtla_client:Preprocessing dataframes...\n",
      "INFO:nixtla.nixtla_client:Restricting input...\n",
      "INFO:nixtla.nixtla_client:Calling Forecast Endpoint...\n",
      "predicting sequences:   8%|▊         | 8/100 [00:10<01:31,  1.01it/s]INFO:nixtla.nixtla_client:Validating inputs...\n",
      "INFO:nixtla.nixtla_client:Inferred freq: D\n",
      "INFO:nixtla.nixtla_client:Preprocessing dataframes...\n",
      "INFO:nixtla.nixtla_client:Restricting input...\n",
      "INFO:nixtla.nixtla_client:Calling Forecast Endpoint...\n",
      "predicting sequences:   9%|▉         | 9/100 [00:11<01:19,  1.15it/s]INFO:nixtla.nixtla_client:Validating inputs...\n",
      "INFO:nixtla.nixtla_client:Inferred freq: D\n",
      "INFO:nixtla.nixtla_client:Preprocessing dataframes...\n",
      "INFO:nixtla.nixtla_client:Restricting input...\n",
      "INFO:nixtla.nixtla_client:Calling Forecast Endpoint...\n",
      "predicting sequences:  10%|█         | 10/100 [00:12<01:19,  1.13it/s]INFO:nixtla.nixtla_client:Validating inputs...\n",
      "INFO:nixtla.nixtla_client:Inferred freq: D\n",
      "INFO:nixtla.nixtla_client:Preprocessing dataframes...\n",
      "INFO:nixtla.nixtla_client:Restricting input...\n",
      "INFO:nixtla.nixtla_client:Calling Forecast Endpoint...\n",
      "predicting sequences:  11%|█         | 11/100 [00:12<01:12,  1.22it/s]INFO:nixtla.nixtla_client:Validating inputs...\n",
      "INFO:nixtla.nixtla_client:Inferred freq: D\n",
      "INFO:nixtla.nixtla_client:Preprocessing dataframes...\n",
      "INFO:nixtla.nixtla_client:Restricting input...\n",
      "INFO:nixtla.nixtla_client:Calling Forecast Endpoint...\n",
      "predicting sequences:  12%|█▏        | 12/100 [00:13<01:05,  1.35it/s]INFO:nixtla.nixtla_client:Validating inputs...\n",
      "INFO:nixtla.nixtla_client:Inferred freq: D\n",
      "INFO:nixtla.nixtla_client:Preprocessing dataframes...\n",
      "INFO:nixtla.nixtla_client:Restricting input...\n",
      "INFO:nixtla.nixtla_client:Calling Forecast Endpoint...\n",
      "predicting sequences:  13%|█▎        | 13/100 [00:14<01:02,  1.39it/s]INFO:nixtla.nixtla_client:Validating inputs...\n",
      "INFO:nixtla.nixtla_client:Inferred freq: D\n",
      "INFO:nixtla.nixtla_client:Preprocessing dataframes...\n",
      "INFO:nixtla.nixtla_client:Restricting input...\n",
      "INFO:nixtla.nixtla_client:Calling Forecast Endpoint...\n",
      "predicting sequences:  14%|█▍        | 14/100 [00:14<00:59,  1.46it/s]INFO:nixtla.nixtla_client:Validating inputs...\n",
      "INFO:nixtla.nixtla_client:Inferred freq: D\n",
      "INFO:nixtla.nixtla_client:Preprocessing dataframes...\n",
      "INFO:nixtla.nixtla_client:Restricting input...\n",
      "INFO:nixtla.nixtla_client:Calling Forecast Endpoint...\n",
      "predicting sequences:  15%|█▌        | 15/100 [00:18<02:18,  1.63s/it]INFO:nixtla.nixtla_client:Validating inputs...\n",
      "INFO:nixtla.nixtla_client:Inferred freq: D\n",
      "INFO:nixtla.nixtla_client:Preprocessing dataframes...\n",
      "INFO:nixtla.nixtla_client:Restricting input...\n",
      "INFO:nixtla.nixtla_client:Calling Forecast Endpoint...\n",
      "predicting sequences:  16%|█▌        | 16/100 [00:19<01:50,  1.32s/it]INFO:nixtla.nixtla_client:Validating inputs...\n",
      "INFO:nixtla.nixtla_client:Inferred freq: D\n",
      "INFO:nixtla.nixtla_client:Preprocessing dataframes...\n",
      "INFO:nixtla.nixtla_client:Restricting input...\n",
      "INFO:nixtla.nixtla_client:Calling Forecast Endpoint...\n",
      "predicting sequences:  17%|█▋        | 17/100 [00:19<01:30,  1.10s/it]INFO:nixtla.nixtla_client:Validating inputs...\n",
      "INFO:nixtla.nixtla_client:Inferred freq: D\n",
      "INFO:nixtla.nixtla_client:Preprocessing dataframes...\n",
      "INFO:nixtla.nixtla_client:Restricting input...\n",
      "INFO:nixtla.nixtla_client:Calling Forecast Endpoint...\n",
      "predicting sequences:  18%|█▊        | 18/100 [00:20<01:18,  1.05it/s]INFO:nixtla.nixtla_client:Validating inputs...\n",
      "INFO:nixtla.nixtla_client:Inferred freq: D\n",
      "INFO:nixtla.nixtla_client:Preprocessing dataframes...\n",
      "INFO:nixtla.nixtla_client:Restricting input...\n",
      "INFO:nixtla.nixtla_client:Calling Forecast Endpoint...\n",
      "predicting sequences:  19%|█▉        | 19/100 [00:20<01:09,  1.17it/s]INFO:nixtla.nixtla_client:Validating inputs...\n",
      "INFO:nixtla.nixtla_client:Inferred freq: D\n",
      "INFO:nixtla.nixtla_client:Preprocessing dataframes...\n",
      "INFO:nixtla.nixtla_client:Restricting input...\n",
      "INFO:nixtla.nixtla_client:Calling Forecast Endpoint...\n",
      "predicting sequences:  20%|██        | 20/100 [00:21<01:02,  1.29it/s]INFO:nixtla.nixtla_client:Validating inputs...\n",
      "INFO:nixtla.nixtla_client:Inferred freq: D\n",
      "INFO:nixtla.nixtla_client:Preprocessing dataframes...\n",
      "INFO:nixtla.nixtla_client:Restricting input...\n",
      "INFO:nixtla.nixtla_client:Calling Forecast Endpoint...\n",
      "predicting sequences:  21%|██        | 21/100 [00:23<01:23,  1.05s/it]INFO:nixtla.nixtla_client:Validating inputs...\n",
      "INFO:nixtla.nixtla_client:Inferred freq: D\n",
      "INFO:nixtla.nixtla_client:Preprocessing dataframes...\n",
      "INFO:nixtla.nixtla_client:Restricting input...\n",
      "INFO:nixtla.nixtla_client:Calling Forecast Endpoint...\n",
      "predicting sequences:  22%|██▏       | 22/100 [00:23<01:11,  1.09it/s]INFO:nixtla.nixtla_client:Validating inputs...\n",
      "INFO:nixtla.nixtla_client:Inferred freq: D\n",
      "INFO:nixtla.nixtla_client:Preprocessing dataframes...\n",
      "INFO:nixtla.nixtla_client:Restricting input...\n",
      "INFO:nixtla.nixtla_client:Calling Forecast Endpoint...\n",
      "predicting sequences:  23%|██▎       | 23/100 [00:24<01:03,  1.22it/s]INFO:nixtla.nixtla_client:Validating inputs...\n",
      "INFO:nixtla.nixtla_client:Inferred freq: D\n",
      "INFO:nixtla.nixtla_client:Preprocessing dataframes...\n",
      "INFO:nixtla.nixtla_client:Restricting input...\n",
      "INFO:nixtla.nixtla_client:Calling Forecast Endpoint...\n",
      "predicting sequences:  24%|██▍       | 24/100 [00:25<00:57,  1.32it/s]INFO:nixtla.nixtla_client:Validating inputs...\n",
      "INFO:nixtla.nixtla_client:Inferred freq: D\n",
      "INFO:nixtla.nixtla_client:Preprocessing dataframes...\n",
      "INFO:nixtla.nixtla_client:Restricting input...\n",
      "INFO:nixtla.nixtla_client:Calling Forecast Endpoint...\n",
      "predicting sequences:  25%|██▌       | 25/100 [00:25<00:53,  1.41it/s]INFO:nixtla.nixtla_client:Validating inputs...\n",
      "INFO:nixtla.nixtla_client:Inferred freq: D\n",
      "INFO:nixtla.nixtla_client:Preprocessing dataframes...\n",
      "INFO:nixtla.nixtla_client:Restricting input...\n",
      "INFO:nixtla.nixtla_client:Calling Forecast Endpoint...\n",
      "predicting sequences:  26%|██▌       | 26/100 [00:26<00:52,  1.42it/s]INFO:nixtla.nixtla_client:Validating inputs...\n",
      "INFO:nixtla.nixtla_client:Inferred freq: D\n",
      "INFO:nixtla.nixtla_client:Preprocessing dataframes...\n",
      "INFO:nixtla.nixtla_client:Restricting input...\n",
      "INFO:nixtla.nixtla_client:Calling Forecast Endpoint...\n",
      "predicting sequences:  27%|██▋       | 27/100 [00:26<00:49,  1.49it/s]INFO:nixtla.nixtla_client:Validating inputs...\n",
      "INFO:nixtla.nixtla_client:Inferred freq: D\n",
      "INFO:nixtla.nixtla_client:Preprocessing dataframes...\n",
      "INFO:nixtla.nixtla_client:Restricting input...\n",
      "INFO:nixtla.nixtla_client:Calling Forecast Endpoint...\n",
      "predicting sequences:  28%|██▊       | 28/100 [00:27<00:47,  1.52it/s]INFO:nixtla.nixtla_client:Validating inputs...\n",
      "INFO:nixtla.nixtla_client:Inferred freq: D\n",
      "INFO:nixtla.nixtla_client:Preprocessing dataframes...\n",
      "INFO:nixtla.nixtla_client:Restricting input...\n",
      "INFO:nixtla.nixtla_client:Calling Forecast Endpoint...\n",
      "predicting sequences:  29%|██▉       | 29/100 [00:28<00:46,  1.51it/s]INFO:nixtla.nixtla_client:Validating inputs...\n",
      "INFO:nixtla.nixtla_client:Inferred freq: D\n",
      "INFO:nixtla.nixtla_client:Preprocessing dataframes...\n",
      "INFO:nixtla.nixtla_client:Restricting input...\n",
      "INFO:nixtla.nixtla_client:Calling Forecast Endpoint...\n",
      "predicting sequences:  30%|███       | 30/100 [00:31<01:47,  1.54s/it]INFO:nixtla.nixtla_client:Validating inputs...\n",
      "INFO:nixtla.nixtla_client:Inferred freq: D\n",
      "INFO:nixtla.nixtla_client:Preprocessing dataframes...\n",
      "INFO:nixtla.nixtla_client:Restricting input...\n",
      "INFO:nixtla.nixtla_client:Calling Forecast Endpoint...\n",
      "predicting sequences:  31%|███       | 31/100 [00:32<01:26,  1.25s/it]INFO:nixtla.nixtla_client:Validating inputs...\n",
      "INFO:nixtla.nixtla_client:Inferred freq: D\n",
      "INFO:nixtla.nixtla_client:Preprocessing dataframes...\n",
      "INFO:nixtla.nixtla_client:Restricting input...\n",
      "INFO:nixtla.nixtla_client:Calling Forecast Endpoint...\n",
      "predicting sequences:  32%|███▏      | 32/100 [00:33<01:11,  1.06s/it]INFO:nixtla.nixtla_client:Validating inputs...\n",
      "INFO:nixtla.nixtla_client:Inferred freq: D\n",
      "INFO:nixtla.nixtla_client:Preprocessing dataframes...\n",
      "INFO:nixtla.nixtla_client:Restricting input...\n",
      "INFO:nixtla.nixtla_client:Calling Forecast Endpoint...\n",
      "predicting sequences:  33%|███▎      | 33/100 [00:33<01:02,  1.08it/s]INFO:nixtla.nixtla_client:Validating inputs...\n",
      "INFO:nixtla.nixtla_client:Inferred freq: D\n",
      "INFO:nixtla.nixtla_client:Preprocessing dataframes...\n",
      "INFO:nixtla.nixtla_client:Restricting input...\n",
      "INFO:nixtla.nixtla_client:Calling Forecast Endpoint...\n",
      "predicting sequences:  34%|███▍      | 34/100 [00:34<00:55,  1.19it/s]INFO:nixtla.nixtla_client:Validating inputs...\n",
      "INFO:nixtla.nixtla_client:Inferred freq: D\n",
      "INFO:nixtla.nixtla_client:Preprocessing dataframes...\n",
      "INFO:nixtla.nixtla_client:Restricting input...\n",
      "INFO:nixtla.nixtla_client:Calling Forecast Endpoint...\n",
      "predicting sequences:  35%|███▌      | 35/100 [00:35<00:53,  1.21it/s]INFO:nixtla.nixtla_client:Validating inputs...\n",
      "INFO:nixtla.nixtla_client:Inferred freq: D\n",
      "INFO:nixtla.nixtla_client:Preprocessing dataframes...\n",
      "INFO:nixtla.nixtla_client:Restricting input...\n",
      "INFO:nixtla.nixtla_client:Calling Forecast Endpoint...\n",
      "predicting sequences:  36%|███▌      | 36/100 [00:35<00:49,  1.29it/s]INFO:nixtla.nixtla_client:Validating inputs...\n",
      "INFO:nixtla.nixtla_client:Inferred freq: D\n",
      "INFO:nixtla.nixtla_client:Preprocessing dataframes...\n",
      "INFO:nixtla.nixtla_client:Restricting input...\n",
      "INFO:nixtla.nixtla_client:Calling Forecast Endpoint...\n",
      "predicting sequences:  37%|███▋      | 37/100 [00:36<00:45,  1.38it/s]INFO:nixtla.nixtla_client:Validating inputs...\n",
      "INFO:nixtla.nixtla_client:Inferred freq: D\n",
      "INFO:nixtla.nixtla_client:Preprocessing dataframes...\n",
      "INFO:nixtla.nixtla_client:Restricting input...\n",
      "INFO:nixtla.nixtla_client:Calling Forecast Endpoint...\n",
      "predicting sequences:  38%|███▊      | 38/100 [00:37<00:43,  1.42it/s]INFO:nixtla.nixtla_client:Validating inputs...\n",
      "INFO:nixtla.nixtla_client:Inferred freq: D\n",
      "INFO:nixtla.nixtla_client:Preprocessing dataframes...\n",
      "INFO:nixtla.nixtla_client:Restricting input...\n",
      "INFO:nixtla.nixtla_client:Calling Forecast Endpoint...\n",
      "predicting sequences:  39%|███▉      | 39/100 [00:37<00:41,  1.48it/s]INFO:nixtla.nixtla_client:Validating inputs...\n",
      "INFO:nixtla.nixtla_client:Inferred freq: D\n",
      "INFO:nixtla.nixtla_client:Preprocessing dataframes...\n",
      "INFO:nixtla.nixtla_client:Restricting input...\n",
      "INFO:nixtla.nixtla_client:Calling Forecast Endpoint...\n",
      "predicting sequences:  40%|████      | 40/100 [00:38<00:39,  1.51it/s]INFO:nixtla.nixtla_client:Validating inputs...\n",
      "INFO:nixtla.nixtla_client:Inferred freq: D\n",
      "INFO:nixtla.nixtla_client:Preprocessing dataframes...\n",
      "INFO:nixtla.nixtla_client:Restricting input...\n",
      "INFO:nixtla.nixtla_client:Calling Forecast Endpoint...\n",
      "predicting sequences:  41%|████      | 41/100 [00:38<00:37,  1.58it/s]INFO:nixtla.nixtla_client:Validating inputs...\n",
      "INFO:nixtla.nixtla_client:Inferred freq: D\n",
      "INFO:nixtla.nixtla_client:Preprocessing dataframes...\n",
      "INFO:nixtla.nixtla_client:Restricting input...\n",
      "INFO:nixtla.nixtla_client:Calling Forecast Endpoint...\n",
      "predicting sequences:  42%|████▏     | 42/100 [00:39<00:37,  1.54it/s]INFO:nixtla.nixtla_client:Validating inputs...\n",
      "INFO:nixtla.nixtla_client:Inferred freq: D\n",
      "INFO:nixtla.nixtla_client:Preprocessing dataframes...\n",
      "INFO:nixtla.nixtla_client:Restricting input...\n",
      "INFO:nixtla.nixtla_client:Calling Forecast Endpoint...\n",
      "predicting sequences:  43%|████▎     | 43/100 [00:40<00:37,  1.51it/s]INFO:nixtla.nixtla_client:Validating inputs...\n",
      "INFO:nixtla.nixtla_client:Inferred freq: D\n",
      "INFO:nixtla.nixtla_client:Preprocessing dataframes...\n",
      "INFO:nixtla.nixtla_client:Restricting input...\n",
      "INFO:nixtla.nixtla_client:Calling Forecast Endpoint...\n",
      "predicting sequences:  44%|████▍     | 44/100 [00:40<00:35,  1.57it/s]INFO:nixtla.nixtla_client:Validating inputs...\n",
      "INFO:nixtla.nixtla_client:Inferred freq: D\n",
      "INFO:nixtla.nixtla_client:Preprocessing dataframes...\n",
      "INFO:nixtla.nixtla_client:Restricting input...\n",
      "INFO:nixtla.nixtla_client:Calling Forecast Endpoint...\n",
      "predicting sequences:  45%|████▌     | 45/100 [00:41<00:35,  1.56it/s]INFO:nixtla.nixtla_client:Validating inputs...\n",
      "INFO:nixtla.nixtla_client:Inferred freq: D\n",
      "INFO:nixtla.nixtla_client:Preprocessing dataframes...\n",
      "INFO:nixtla.nixtla_client:Restricting input...\n",
      "INFO:nixtla.nixtla_client:Calling Forecast Endpoint...\n",
      "predicting sequences:  46%|████▌     | 46/100 [00:42<00:33,  1.62it/s]INFO:nixtla.nixtla_client:Validating inputs...\n",
      "INFO:nixtla.nixtla_client:Inferred freq: D\n",
      "INFO:nixtla.nixtla_client:Preprocessing dataframes...\n",
      "INFO:nixtla.nixtla_client:Restricting input...\n",
      "INFO:nixtla.nixtla_client:Calling Forecast Endpoint...\n",
      "predicting sequences:  47%|████▋     | 47/100 [00:42<00:32,  1.65it/s]INFO:nixtla.nixtla_client:Validating inputs...\n",
      "INFO:nixtla.nixtla_client:Inferred freq: D\n",
      "INFO:nixtla.nixtla_client:Preprocessing dataframes...\n",
      "INFO:nixtla.nixtla_client:Restricting input...\n",
      "INFO:nixtla.nixtla_client:Calling Forecast Endpoint...\n",
      "predicting sequences:  48%|████▊     | 48/100 [00:43<00:31,  1.66it/s]INFO:nixtla.nixtla_client:Validating inputs...\n",
      "INFO:nixtla.nixtla_client:Inferred freq: D\n",
      "INFO:nixtla.nixtla_client:Preprocessing dataframes...\n",
      "INFO:nixtla.nixtla_client:Restricting input...\n",
      "INFO:nixtla.nixtla_client:Calling Forecast Endpoint...\n",
      "predicting sequences:  49%|████▉     | 49/100 [00:43<00:31,  1.62it/s]INFO:nixtla.nixtla_client:Validating inputs...\n",
      "INFO:nixtla.nixtla_client:Inferred freq: D\n",
      "INFO:nixtla.nixtla_client:Preprocessing dataframes...\n",
      "INFO:nixtla.nixtla_client:Restricting input...\n",
      "INFO:nixtla.nixtla_client:Calling Forecast Endpoint...\n",
      "predicting sequences:  50%|█████     | 50/100 [00:44<00:31,  1.61it/s]INFO:nixtla.nixtla_client:Validating inputs...\n",
      "INFO:nixtla.nixtla_client:Inferred freq: D\n",
      "INFO:nixtla.nixtla_client:Preprocessing dataframes...\n",
      "INFO:nixtla.nixtla_client:Restricting input...\n",
      "INFO:nixtla.nixtla_client:Calling Forecast Endpoint...\n",
      "predicting sequences:  51%|█████     | 51/100 [00:45<00:30,  1.62it/s]INFO:nixtla.nixtla_client:Validating inputs...\n",
      "INFO:nixtla.nixtla_client:Inferred freq: D\n",
      "INFO:nixtla.nixtla_client:Preprocessing dataframes...\n",
      "INFO:nixtla.nixtla_client:Restricting input...\n",
      "INFO:nixtla.nixtla_client:Calling Forecast Endpoint...\n",
      "predicting sequences:  52%|█████▏    | 52/100 [00:45<00:29,  1.65it/s]INFO:nixtla.nixtla_client:Validating inputs...\n",
      "INFO:nixtla.nixtla_client:Inferred freq: D\n",
      "INFO:nixtla.nixtla_client:Preprocessing dataframes...\n",
      "INFO:nixtla.nixtla_client:Restricting input...\n",
      "INFO:nixtla.nixtla_client:Calling Forecast Endpoint...\n",
      "predicting sequences:  53%|█████▎    | 53/100 [00:46<00:28,  1.62it/s]INFO:nixtla.nixtla_client:Validating inputs...\n",
      "INFO:nixtla.nixtla_client:Inferred freq: D\n",
      "INFO:nixtla.nixtla_client:Preprocessing dataframes...\n",
      "INFO:nixtla.nixtla_client:Restricting input...\n",
      "INFO:nixtla.nixtla_client:Calling Forecast Endpoint...\n",
      "predicting sequences:  54%|█████▍    | 54/100 [00:46<00:28,  1.59it/s]INFO:nixtla.nixtla_client:Validating inputs...\n",
      "INFO:nixtla.nixtla_client:Inferred freq: D\n",
      "INFO:nixtla.nixtla_client:Preprocessing dataframes...\n",
      "INFO:nixtla.nixtla_client:Restricting input...\n",
      "INFO:nixtla.nixtla_client:Calling Forecast Endpoint...\n",
      "predicting sequences:  55%|█████▌    | 55/100 [00:47<00:28,  1.57it/s]INFO:nixtla.nixtla_client:Validating inputs...\n",
      "INFO:nixtla.nixtla_client:Inferred freq: D\n",
      "INFO:nixtla.nixtla_client:Preprocessing dataframes...\n",
      "INFO:nixtla.nixtla_client:Restricting input...\n",
      "INFO:nixtla.nixtla_client:Calling Forecast Endpoint...\n",
      "predicting sequences:  56%|█████▌    | 56/100 [00:48<00:27,  1.59it/s]INFO:nixtla.nixtla_client:Validating inputs...\n",
      "INFO:nixtla.nixtla_client:Inferred freq: D\n",
      "INFO:nixtla.nixtla_client:Preprocessing dataframes...\n",
      "INFO:nixtla.nixtla_client:Restricting input...\n",
      "INFO:nixtla.nixtla_client:Calling Forecast Endpoint...\n",
      "predicting sequences:  57%|█████▋    | 57/100 [00:48<00:27,  1.55it/s]INFO:nixtla.nixtla_client:Validating inputs...\n",
      "INFO:nixtla.nixtla_client:Inferred freq: D\n",
      "INFO:nixtla.nixtla_client:Preprocessing dataframes...\n",
      "INFO:nixtla.nixtla_client:Restricting input...\n",
      "INFO:nixtla.nixtla_client:Calling Forecast Endpoint...\n",
      "predicting sequences:  58%|█████▊    | 58/100 [00:49<00:26,  1.60it/s]INFO:nixtla.nixtla_client:Validating inputs...\n",
      "INFO:nixtla.nixtla_client:Inferred freq: D\n",
      "INFO:nixtla.nixtla_client:Preprocessing dataframes...\n",
      "INFO:nixtla.nixtla_client:Restricting input...\n",
      "INFO:nixtla.nixtla_client:Calling Forecast Endpoint...\n",
      "predicting sequences:  59%|█████▉    | 59/100 [00:50<00:26,  1.55it/s]INFO:nixtla.nixtla_client:Validating inputs...\n",
      "INFO:nixtla.nixtla_client:Inferred freq: D\n",
      "INFO:nixtla.nixtla_client:Preprocessing dataframes...\n",
      "INFO:nixtla.nixtla_client:Restricting input...\n",
      "INFO:nixtla.nixtla_client:Calling Forecast Endpoint...\n",
      "predicting sequences:  60%|██████    | 60/100 [00:50<00:25,  1.60it/s]INFO:nixtla.nixtla_client:Validating inputs...\n",
      "INFO:nixtla.nixtla_client:Inferred freq: D\n",
      "INFO:nixtla.nixtla_client:Preprocessing dataframes...\n",
      "INFO:nixtla.nixtla_client:Restricting input...\n",
      "INFO:nixtla.nixtla_client:Calling Forecast Endpoint...\n",
      "predicting sequences:  61%|██████    | 61/100 [00:51<00:24,  1.58it/s]INFO:nixtla.nixtla_client:Validating inputs...\n",
      "INFO:nixtla.nixtla_client:Inferred freq: D\n",
      "INFO:nixtla.nixtla_client:Preprocessing dataframes...\n",
      "INFO:nixtla.nixtla_client:Restricting input...\n",
      "INFO:nixtla.nixtla_client:Calling Forecast Endpoint...\n",
      "predicting sequences:  62%|██████▏   | 62/100 [00:51<00:23,  1.60it/s]INFO:nixtla.nixtla_client:Validating inputs...\n",
      "INFO:nixtla.nixtla_client:Inferred freq: D\n",
      "INFO:nixtla.nixtla_client:Preprocessing dataframes...\n",
      "INFO:nixtla.nixtla_client:Restricting input...\n",
      "INFO:nixtla.nixtla_client:Calling Forecast Endpoint...\n",
      "predicting sequences:  63%|██████▎   | 63/100 [00:52<00:24,  1.53it/s]INFO:nixtla.nixtla_client:Validating inputs...\n",
      "INFO:nixtla.nixtla_client:Inferred freq: D\n",
      "INFO:nixtla.nixtla_client:Preprocessing dataframes...\n",
      "INFO:nixtla.nixtla_client:Restricting input...\n",
      "INFO:nixtla.nixtla_client:Calling Forecast Endpoint...\n",
      "predicting sequences:  64%|██████▍   | 64/100 [00:53<00:22,  1.57it/s]INFO:nixtla.nixtla_client:Validating inputs...\n",
      "INFO:nixtla.nixtla_client:Inferred freq: D\n",
      "INFO:nixtla.nixtla_client:Preprocessing dataframes...\n",
      "INFO:nixtla.nixtla_client:Restricting input...\n",
      "INFO:nixtla.nixtla_client:Calling Forecast Endpoint...\n",
      "predicting sequences:  65%|██████▌   | 65/100 [00:53<00:21,  1.63it/s]INFO:nixtla.nixtla_client:Validating inputs...\n",
      "INFO:nixtla.nixtla_client:Inferred freq: D\n",
      "INFO:nixtla.nixtla_client:Preprocessing dataframes...\n",
      "INFO:nixtla.nixtla_client:Restricting input...\n",
      "INFO:nixtla.nixtla_client:Calling Forecast Endpoint...\n",
      "predicting sequences:  66%|██████▌   | 66/100 [00:54<00:21,  1.57it/s]INFO:nixtla.nixtla_client:Validating inputs...\n",
      "INFO:nixtla.nixtla_client:Inferred freq: D\n",
      "INFO:nixtla.nixtla_client:Preprocessing dataframes...\n",
      "INFO:nixtla.nixtla_client:Restricting input...\n",
      "INFO:nixtla.nixtla_client:Calling Forecast Endpoint...\n",
      "predicting sequences:  67%|██████▋   | 67/100 [00:55<00:20,  1.59it/s]INFO:nixtla.nixtla_client:Validating inputs...\n",
      "INFO:nixtla.nixtla_client:Inferred freq: D\n",
      "INFO:nixtla.nixtla_client:Preprocessing dataframes...\n",
      "INFO:nixtla.nixtla_client:Restricting input...\n",
      "INFO:nixtla.nixtla_client:Calling Forecast Endpoint...\n",
      "predicting sequences:  68%|██████▊   | 68/100 [00:55<00:21,  1.52it/s]INFO:nixtla.nixtla_client:Validating inputs...\n",
      "INFO:nixtla.nixtla_client:Inferred freq: D\n",
      "INFO:nixtla.nixtla_client:Preprocessing dataframes...\n",
      "INFO:nixtla.nixtla_client:Restricting input...\n",
      "INFO:nixtla.nixtla_client:Calling Forecast Endpoint...\n",
      "predicting sequences:  69%|██████▉   | 69/100 [00:56<00:20,  1.49it/s]INFO:nixtla.nixtla_client:Validating inputs...\n",
      "INFO:nixtla.nixtla_client:Inferred freq: D\n",
      "INFO:nixtla.nixtla_client:Preprocessing dataframes...\n",
      "INFO:nixtla.nixtla_client:Restricting input...\n",
      "INFO:nixtla.nixtla_client:Calling Forecast Endpoint...\n",
      "predicting sequences:  70%|███████   | 70/100 [00:57<00:19,  1.53it/s]INFO:nixtla.nixtla_client:Validating inputs...\n",
      "INFO:nixtla.nixtla_client:Inferred freq: D\n",
      "INFO:nixtla.nixtla_client:Preprocessing dataframes...\n",
      "INFO:nixtla.nixtla_client:Restricting input...\n",
      "INFO:nixtla.nixtla_client:Calling Forecast Endpoint...\n",
      "predicting sequences:  71%|███████   | 71/100 [00:57<00:19,  1.51it/s]INFO:nixtla.nixtla_client:Validating inputs...\n",
      "INFO:nixtla.nixtla_client:Inferred freq: D\n",
      "INFO:nixtla.nixtla_client:Preprocessing dataframes...\n",
      "INFO:nixtla.nixtla_client:Restricting input...\n",
      "INFO:nixtla.nixtla_client:Calling Forecast Endpoint...\n",
      "predicting sequences:  72%|███████▏  | 72/100 [00:58<00:19,  1.45it/s]INFO:nixtla.nixtla_client:Validating inputs...\n",
      "INFO:nixtla.nixtla_client:Inferred freq: D\n",
      "INFO:nixtla.nixtla_client:Preprocessing dataframes...\n",
      "INFO:nixtla.nixtla_client:Restricting input...\n",
      "INFO:nixtla.nixtla_client:Calling Forecast Endpoint...\n",
      "predicting sequences:  73%|███████▎  | 73/100 [00:59<00:18,  1.43it/s]INFO:nixtla.nixtla_client:Validating inputs...\n",
      "INFO:nixtla.nixtla_client:Inferred freq: D\n",
      "INFO:nixtla.nixtla_client:Preprocessing dataframes...\n",
      "INFO:nixtla.nixtla_client:Restricting input...\n",
      "INFO:nixtla.nixtla_client:Calling Forecast Endpoint...\n",
      "predicting sequences:  74%|███████▍  | 74/100 [00:59<00:17,  1.50it/s]INFO:nixtla.nixtla_client:Validating inputs...\n",
      "INFO:nixtla.nixtla_client:Inferred freq: D\n",
      "INFO:nixtla.nixtla_client:Preprocessing dataframes...\n",
      "INFO:nixtla.nixtla_client:Restricting input...\n",
      "INFO:nixtla.nixtla_client:Calling Forecast Endpoint...\n",
      "predicting sequences:  75%|███████▌  | 75/100 [01:00<00:17,  1.43it/s]INFO:nixtla.nixtla_client:Validating inputs...\n",
      "INFO:nixtla.nixtla_client:Inferred freq: D\n",
      "INFO:nixtla.nixtla_client:Preprocessing dataframes...\n",
      "INFO:nixtla.nixtla_client:Restricting input...\n",
      "INFO:nixtla.nixtla_client:Calling Forecast Endpoint...\n",
      "predicting sequences:  76%|███████▌  | 76/100 [01:01<00:15,  1.50it/s]INFO:nixtla.nixtla_client:Validating inputs...\n",
      "INFO:nixtla.nixtla_client:Inferred freq: D\n",
      "INFO:nixtla.nixtla_client:Preprocessing dataframes...\n",
      "INFO:nixtla.nixtla_client:Restricting input...\n",
      "INFO:nixtla.nixtla_client:Calling Forecast Endpoint...\n",
      "predicting sequences:  77%|███████▋  | 77/100 [01:02<00:15,  1.47it/s]INFO:nixtla.nixtla_client:Validating inputs...\n",
      "INFO:nixtla.nixtla_client:Inferred freq: D\n",
      "INFO:nixtla.nixtla_client:Preprocessing dataframes...\n",
      "INFO:nixtla.nixtla_client:Restricting input...\n",
      "INFO:nixtla.nixtla_client:Calling Forecast Endpoint...\n",
      "predicting sequences:  78%|███████▊  | 78/100 [01:02<00:14,  1.48it/s]INFO:nixtla.nixtla_client:Validating inputs...\n",
      "INFO:nixtla.nixtla_client:Inferred freq: D\n",
      "INFO:nixtla.nixtla_client:Preprocessing dataframes...\n",
      "INFO:nixtla.nixtla_client:Restricting input...\n",
      "INFO:nixtla.nixtla_client:Calling Forecast Endpoint...\n",
      "predicting sequences:  79%|███████▉  | 79/100 [01:03<00:14,  1.43it/s]INFO:nixtla.nixtla_client:Validating inputs...\n",
      "INFO:nixtla.nixtla_client:Inferred freq: D\n",
      "INFO:nixtla.nixtla_client:Preprocessing dataframes...\n",
      "INFO:nixtla.nixtla_client:Restricting input...\n",
      "INFO:nixtla.nixtla_client:Calling Forecast Endpoint...\n",
      "predicting sequences:  80%|████████  | 80/100 [01:04<00:14,  1.42it/s]INFO:nixtla.nixtla_client:Validating inputs...\n",
      "INFO:nixtla.nixtla_client:Inferred freq: D\n",
      "INFO:nixtla.nixtla_client:Preprocessing dataframes...\n",
      "INFO:nixtla.nixtla_client:Restricting input...\n",
      "INFO:nixtla.nixtla_client:Calling Forecast Endpoint...\n",
      "predicting sequences:  81%|████████  | 81/100 [01:04<00:13,  1.44it/s]INFO:nixtla.nixtla_client:Validating inputs...\n",
      "INFO:nixtla.nixtla_client:Inferred freq: D\n",
      "INFO:nixtla.nixtla_client:Preprocessing dataframes...\n",
      "INFO:nixtla.nixtla_client:Restricting input...\n",
      "INFO:nixtla.nixtla_client:Calling Forecast Endpoint...\n",
      "predicting sequences:  82%|████████▏ | 82/100 [01:05<00:12,  1.49it/s]INFO:nixtla.nixtla_client:Validating inputs...\n",
      "INFO:nixtla.nixtla_client:Inferred freq: D\n",
      "INFO:nixtla.nixtla_client:Preprocessing dataframes...\n",
      "INFO:nixtla.nixtla_client:Restricting input...\n",
      "INFO:nixtla.nixtla_client:Calling Forecast Endpoint...\n",
      "predicting sequences:  83%|████████▎ | 83/100 [01:06<00:11,  1.49it/s]INFO:nixtla.nixtla_client:Validating inputs...\n",
      "INFO:nixtla.nixtla_client:Inferred freq: D\n",
      "INFO:nixtla.nixtla_client:Preprocessing dataframes...\n",
      "INFO:nixtla.nixtla_client:Restricting input...\n",
      "INFO:nixtla.nixtla_client:Calling Forecast Endpoint...\n",
      "predicting sequences:  84%|████████▍ | 84/100 [01:06<00:10,  1.47it/s]INFO:nixtla.nixtla_client:Validating inputs...\n",
      "INFO:nixtla.nixtla_client:Inferred freq: D\n",
      "INFO:nixtla.nixtla_client:Preprocessing dataframes...\n",
      "INFO:nixtla.nixtla_client:Restricting input...\n",
      "INFO:nixtla.nixtla_client:Calling Forecast Endpoint...\n",
      "predicting sequences:  85%|████████▌ | 85/100 [01:07<00:09,  1.53it/s]INFO:nixtla.nixtla_client:Validating inputs...\n",
      "INFO:nixtla.nixtla_client:Inferred freq: D\n",
      "INFO:nixtla.nixtla_client:Preprocessing dataframes...\n",
      "INFO:nixtla.nixtla_client:Restricting input...\n",
      "INFO:nixtla.nixtla_client:Calling Forecast Endpoint...\n",
      "predicting sequences:  86%|████████▌ | 86/100 [01:08<00:09,  1.54it/s]INFO:nixtla.nixtla_client:Validating inputs...\n",
      "INFO:nixtla.nixtla_client:Inferred freq: D\n",
      "INFO:nixtla.nixtla_client:Preprocessing dataframes...\n",
      "INFO:nixtla.nixtla_client:Restricting input...\n",
      "INFO:nixtla.nixtla_client:Calling Forecast Endpoint...\n",
      "predicting sequences:  87%|████████▋ | 87/100 [01:08<00:08,  1.57it/s]INFO:nixtla.nixtla_client:Validating inputs...\n",
      "INFO:nixtla.nixtla_client:Inferred freq: D\n",
      "INFO:nixtla.nixtla_client:Preprocessing dataframes...\n",
      "INFO:nixtla.nixtla_client:Restricting input...\n",
      "INFO:nixtla.nixtla_client:Calling Forecast Endpoint...\n",
      "predicting sequences:  88%|████████▊ | 88/100 [01:09<00:07,  1.61it/s]INFO:nixtla.nixtla_client:Validating inputs...\n",
      "INFO:nixtla.nixtla_client:Inferred freq: D\n",
      "INFO:nixtla.nixtla_client:Preprocessing dataframes...\n",
      "INFO:nixtla.nixtla_client:Restricting input...\n",
      "INFO:nixtla.nixtla_client:Calling Forecast Endpoint...\n",
      "predicting sequences:  89%|████████▉ | 89/100 [01:10<00:07,  1.38it/s]INFO:nixtla.nixtla_client:Validating inputs...\n",
      "INFO:nixtla.nixtla_client:Inferred freq: D\n",
      "INFO:nixtla.nixtla_client:Preprocessing dataframes...\n",
      "INFO:nixtla.nixtla_client:Restricting input...\n",
      "INFO:nixtla.nixtla_client:Calling Forecast Endpoint...\n",
      "predicting sequences:  90%|█████████ | 90/100 [01:10<00:06,  1.44it/s]INFO:nixtla.nixtla_client:Validating inputs...\n",
      "INFO:nixtla.nixtla_client:Inferred freq: D\n",
      "INFO:nixtla.nixtla_client:Preprocessing dataframes...\n",
      "INFO:nixtla.nixtla_client:Restricting input...\n",
      "INFO:nixtla.nixtla_client:Calling Forecast Endpoint...\n",
      "predicting sequences:  91%|█████████ | 91/100 [01:11<00:05,  1.50it/s]INFO:nixtla.nixtla_client:Validating inputs...\n",
      "INFO:nixtla.nixtla_client:Inferred freq: D\n",
      "INFO:nixtla.nixtla_client:Preprocessing dataframes...\n",
      "INFO:nixtla.nixtla_client:Restricting input...\n",
      "INFO:nixtla.nixtla_client:Calling Forecast Endpoint...\n",
      "predicting sequences:  92%|█████████▏| 92/100 [01:12<00:05,  1.47it/s]INFO:nixtla.nixtla_client:Validating inputs...\n",
      "INFO:nixtla.nixtla_client:Inferred freq: D\n",
      "INFO:nixtla.nixtla_client:Preprocessing dataframes...\n",
      "INFO:nixtla.nixtla_client:Restricting input...\n",
      "INFO:nixtla.nixtla_client:Calling Forecast Endpoint...\n",
      "predicting sequences:  93%|█████████▎| 93/100 [01:12<00:04,  1.47it/s]INFO:nixtla.nixtla_client:Validating inputs...\n",
      "INFO:nixtla.nixtla_client:Inferred freq: D\n",
      "INFO:nixtla.nixtla_client:Preprocessing dataframes...\n",
      "INFO:nixtla.nixtla_client:Restricting input...\n",
      "INFO:nixtla.nixtla_client:Calling Forecast Endpoint...\n",
      "predicting sequences:  94%|█████████▍| 94/100 [01:13<00:03,  1.57it/s]INFO:nixtla.nixtla_client:Validating inputs...\n",
      "INFO:nixtla.nixtla_client:Inferred freq: D\n",
      "INFO:nixtla.nixtla_client:Preprocessing dataframes...\n",
      "INFO:nixtla.nixtla_client:Restricting input...\n",
      "INFO:nixtla.nixtla_client:Calling Forecast Endpoint...\n",
      "predicting sequences:  95%|█████████▌| 95/100 [01:14<00:03,  1.50it/s]INFO:nixtla.nixtla_client:Validating inputs...\n",
      "INFO:nixtla.nixtla_client:Inferred freq: D\n",
      "INFO:nixtla.nixtla_client:Preprocessing dataframes...\n",
      "INFO:nixtla.nixtla_client:Restricting input...\n",
      "INFO:nixtla.nixtla_client:Calling Forecast Endpoint...\n",
      "predicting sequences:  96%|█████████▌| 96/100 [01:14<00:02,  1.54it/s]INFO:nixtla.nixtla_client:Validating inputs...\n",
      "INFO:nixtla.nixtla_client:Inferred freq: D\n",
      "INFO:nixtla.nixtla_client:Preprocessing dataframes...\n",
      "INFO:nixtla.nixtla_client:Restricting input...\n",
      "INFO:nixtla.nixtla_client:Calling Forecast Endpoint...\n",
      "predicting sequences:  97%|█████████▋| 97/100 [01:15<00:02,  1.49it/s]INFO:nixtla.nixtla_client:Validating inputs...\n",
      "INFO:nixtla.nixtla_client:Inferred freq: D\n",
      "INFO:nixtla.nixtla_client:Preprocessing dataframes...\n",
      "INFO:nixtla.nixtla_client:Restricting input...\n",
      "INFO:nixtla.nixtla_client:Calling Forecast Endpoint...\n",
      "predicting sequences:  98%|█████████▊| 98/100 [01:16<00:01,  1.53it/s]INFO:nixtla.nixtla_client:Validating inputs...\n",
      "INFO:nixtla.nixtla_client:Inferred freq: D\n",
      "INFO:nixtla.nixtla_client:Preprocessing dataframes...\n",
      "INFO:nixtla.nixtla_client:Restricting input...\n",
      "INFO:nixtla.nixtla_client:Calling Forecast Endpoint...\n",
      "predicting sequences:  99%|█████████▉| 99/100 [01:16<00:00,  1.56it/s]INFO:nixtla.nixtla_client:Validating inputs...\n",
      "INFO:nixtla.nixtla_client:Inferred freq: D\n",
      "INFO:nixtla.nixtla_client:Preprocessing dataframes...\n",
      "INFO:nixtla.nixtla_client:Restricting input...\n",
      "INFO:nixtla.nixtla_client:Calling Forecast Endpoint...\n",
      "predicting sequences: 100%|██████████| 100/100 [01:17<00:00,  1.29it/s]\n"
     ]
    },
    {
     "data": {
      "text/html": [
       "<div>\n",
       "<style scoped>\n",
       "    .dataframe tbody tr th:only-of-type {\n",
       "        vertical-align: middle;\n",
       "    }\n",
       "\n",
       "    .dataframe tbody tr th {\n",
       "        vertical-align: top;\n",
       "    }\n",
       "\n",
       "    .dataframe thead th {\n",
       "        text-align: right;\n",
       "    }\n",
       "</style>\n",
       "<table border=\"1\" class=\"dataframe\">\n",
       "  <thead>\n",
       "    <tr style=\"text-align: right;\">\n",
       "      <th></th>\n",
       "      <th>root</th>\n",
       "      <th>to_be_predicted</th>\n",
       "      <th>forecasted</th>\n",
       "      <th>success</th>\n",
       "    </tr>\n",
       "  </thead>\n",
       "  <tbody>\n",
       "    <tr>\n",
       "      <th>0</th>\n",
       "      <td>[1, 1, 0, 0, 0, 1, 0, 0, 0, 0, 1]</td>\n",
       "      <td>[0]</td>\n",
       "      <td>[0]</td>\n",
       "      <td>1</td>\n",
       "    </tr>\n",
       "    <tr>\n",
       "      <th>1</th>\n",
       "      <td>[0, 0, 0, 1, 0, 1, 1, 0, 1, 0, 1]</td>\n",
       "      <td>[1]</td>\n",
       "      <td>[1]</td>\n",
       "      <td>1</td>\n",
       "    </tr>\n",
       "    <tr>\n",
       "      <th>2</th>\n",
       "      <td>[1, 0, 0, 0, 0, 1, 1, 1, 1, 0, 0]</td>\n",
       "      <td>[1]</td>\n",
       "      <td>[0]</td>\n",
       "      <td>0</td>\n",
       "    </tr>\n",
       "    <tr>\n",
       "      <th>3</th>\n",
       "      <td>[1, 1, 1, 1, 1, 1, 1, 1, 0, 1, 0]</td>\n",
       "      <td>[0]</td>\n",
       "      <td>[0]</td>\n",
       "      <td>1</td>\n",
       "    </tr>\n",
       "    <tr>\n",
       "      <th>4</th>\n",
       "      <td>[1, 0, 1, 1, 0, 1, 0, 1, 0, 1, 0]</td>\n",
       "      <td>[0]</td>\n",
       "      <td>[0]</td>\n",
       "      <td>1</td>\n",
       "    </tr>\n",
       "    <tr>\n",
       "      <th>...</th>\n",
       "      <td>...</td>\n",
       "      <td>...</td>\n",
       "      <td>...</td>\n",
       "      <td>...</td>\n",
       "    </tr>\n",
       "    <tr>\n",
       "      <th>95</th>\n",
       "      <td>[1, 0, 1, 1, 1, 1, 1, 0, 1, 1, 1]</td>\n",
       "      <td>[0]</td>\n",
       "      <td>[1]</td>\n",
       "      <td>0</td>\n",
       "    </tr>\n",
       "    <tr>\n",
       "      <th>96</th>\n",
       "      <td>[0, 1, 0, 1, 0, 0, 1, 1, 0, 1, 0]</td>\n",
       "      <td>[1]</td>\n",
       "      <td>[0]</td>\n",
       "      <td>0</td>\n",
       "    </tr>\n",
       "    <tr>\n",
       "      <th>97</th>\n",
       "      <td>[0, 0, 0, 1, 0, 1, 0, 0, 1, 1, 1]</td>\n",
       "      <td>[1]</td>\n",
       "      <td>[1]</td>\n",
       "      <td>1</td>\n",
       "    </tr>\n",
       "    <tr>\n",
       "      <th>98</th>\n",
       "      <td>[1, 1, 1, 0, 0, 0, 1, 1, 1, 1, 1]</td>\n",
       "      <td>[1]</td>\n",
       "      <td>[0]</td>\n",
       "      <td>0</td>\n",
       "    </tr>\n",
       "    <tr>\n",
       "      <th>99</th>\n",
       "      <td>[1, 0, 0, 0, 1, 1, 1, 0, 1, 1, 0]</td>\n",
       "      <td>[1]</td>\n",
       "      <td>[1]</td>\n",
       "      <td>1</td>\n",
       "    </tr>\n",
       "  </tbody>\n",
       "</table>\n",
       "<p>100 rows × 4 columns</p>\n",
       "</div>"
      ],
      "text/plain": [
       "                                 root to_be_predicted forecasted success\n",
       "0   [1, 1, 0, 0, 0, 1, 0, 0, 0, 0, 1]             [0]        [0]       1\n",
       "1   [0, 0, 0, 1, 0, 1, 1, 0, 1, 0, 1]             [1]        [1]       1\n",
       "2   [1, 0, 0, 0, 0, 1, 1, 1, 1, 0, 0]             [1]        [0]       0\n",
       "3   [1, 1, 1, 1, 1, 1, 1, 1, 0, 1, 0]             [0]        [0]       1\n",
       "4   [1, 0, 1, 1, 0, 1, 0, 1, 0, 1, 0]             [0]        [0]       1\n",
       "..                                ...             ...        ...     ...\n",
       "95  [1, 0, 1, 1, 1, 1, 1, 0, 1, 1, 1]             [0]        [1]       0\n",
       "96  [0, 1, 0, 1, 0, 0, 1, 1, 0, 1, 0]             [1]        [0]       0\n",
       "97  [0, 0, 0, 1, 0, 1, 0, 0, 1, 1, 1]             [1]        [1]       1\n",
       "98  [1, 1, 1, 0, 0, 0, 1, 1, 1, 1, 1]             [1]        [0]       0\n",
       "99  [1, 0, 0, 0, 1, 1, 1, 0, 1, 1, 0]             [1]        [1]       1\n",
       "\n",
       "[100 rows x 4 columns]"
      ]
     },
     "execution_count": 3,
     "metadata": {},
     "output_type": "execute_result"
    }
   ],
   "source": [
    "bin_r_df = list_predictions_last_binary(r_seq, forecast_algo=\"timeGPT\")\n",
    "bin_r_df"
   ]
  },
  {
   "cell_type": "code",
   "execution_count": 4,
   "metadata": {},
   "outputs": [],
   "source": [
    "bin_r_df.to_csv(\"bin_seq_last_digit_pred_timeGPT_random.csv\", index=False)\n"
   ]
  },
  {
   "cell_type": "code",
   "execution_count": 5,
   "metadata": {},
   "outputs": [
    {
     "name": "stderr",
     "output_type": "stream",
     "text": [
      "predicting sequences: 100%|██████████| 100/100 [00:02<00:00, 33.72it/s]"
     ]
    },
    {
     "name": "stdout",
     "output_type": "stream",
     "text": [
      "                                 root to_be_predicted forecasted success\n",
      "0   [1, 1, 0, 0, 0, 1, 0, 0, 0, 0, 1]             [0]        [0]       1\n",
      "1   [0, 0, 0, 1, 0, 1, 1, 0, 1, 0, 1]             [1]        [0]       0\n",
      "2   [1, 0, 0, 0, 0, 1, 1, 1, 1, 0, 0]             [1]        [0]       0\n",
      "3   [1, 1, 1, 1, 1, 1, 1, 1, 0, 1, 0]             [0]        [1]       0\n",
      "4   [1, 0, 1, 1, 0, 1, 0, 1, 0, 1, 0]             [0]        [1]       0\n",
      "..                                ...             ...        ...     ...\n",
      "95  [1, 0, 1, 1, 1, 1, 1, 0, 1, 1, 1]             [0]        [1]       0\n",
      "96  [0, 1, 0, 1, 0, 0, 1, 1, 0, 1, 0]             [1]        [1]       1\n",
      "97  [0, 0, 0, 1, 0, 1, 0, 0, 1, 1, 1]             [1]        [0]       0\n",
      "98  [1, 1, 1, 0, 0, 0, 1, 1, 1, 1, 1]             [1]        [1]       1\n",
      "99  [1, 0, 0, 0, 1, 1, 1, 0, 1, 1, 0]             [1]        [1]       1\n",
      "\n",
      "[100 rows x 4 columns]\n"
     ]
    },
    {
     "name": "stderr",
     "output_type": "stream",
     "text": [
      "\n"
     ]
    }
   ],
   "source": [
    "bin_r_df = list_predictions_last_binary(r_seq, forecast_algo=\"chronos\")\n",
    "print(bin_r_df)\n",
    "bin_r_df.to_csv(\"bin_seq_last_digit_pred_chronos_random.csv\", index=False)\n",
    "\n"
   ]
  },
  {
   "cell_type": "markdown",
   "metadata": {},
   "source": [
    "# Analyzing random binary sequences"
   ]
  },
  {
   "cell_type": "code",
   "execution_count": 31,
   "metadata": {},
   "outputs": [
    {
     "data": {
      "text/html": [
       "<div>\n",
       "<style scoped>\n",
       "    .dataframe tbody tr th:only-of-type {\n",
       "        vertical-align: middle;\n",
       "    }\n",
       "\n",
       "    .dataframe tbody tr th {\n",
       "        vertical-align: top;\n",
       "    }\n",
       "\n",
       "    .dataframe thead th {\n",
       "        text-align: right;\n",
       "    }\n",
       "</style>\n",
       "<table border=\"1\" class=\"dataframe\">\n",
       "  <thead>\n",
       "    <tr style=\"text-align: right;\">\n",
       "      <th></th>\n",
       "      <th>model</th>\n",
       "      <th>root</th>\n",
       "      <th>to_be_predicted</th>\n",
       "      <th>forecasted</th>\n",
       "      <th>success</th>\n",
       "    </tr>\n",
       "  </thead>\n",
       "  <tbody>\n",
       "    <tr>\n",
       "      <th>0</th>\n",
       "      <td>timeGPT</td>\n",
       "      <td>[1, 1, 0, 0, 0, 1, 0, 0, 0, 0, 1]</td>\n",
       "      <td>[0]</td>\n",
       "      <td>[0]</td>\n",
       "      <td>1</td>\n",
       "    </tr>\n",
       "    <tr>\n",
       "      <th>1</th>\n",
       "      <td>timeGPT</td>\n",
       "      <td>[0, 0, 0, 1, 0, 1, 1, 0, 1, 0, 1]</td>\n",
       "      <td>[1]</td>\n",
       "      <td>[1]</td>\n",
       "      <td>1</td>\n",
       "    </tr>\n",
       "    <tr>\n",
       "      <th>2</th>\n",
       "      <td>timeGPT</td>\n",
       "      <td>[1, 0, 0, 0, 0, 1, 1, 1, 1, 0, 0]</td>\n",
       "      <td>[1]</td>\n",
       "      <td>[0]</td>\n",
       "      <td>0</td>\n",
       "    </tr>\n",
       "    <tr>\n",
       "      <th>3</th>\n",
       "      <td>timeGPT</td>\n",
       "      <td>[1, 1, 1, 1, 1, 1, 1, 1, 0, 1, 0]</td>\n",
       "      <td>[0]</td>\n",
       "      <td>[0]</td>\n",
       "      <td>1</td>\n",
       "    </tr>\n",
       "    <tr>\n",
       "      <th>4</th>\n",
       "      <td>timeGPT</td>\n",
       "      <td>[1, 0, 1, 1, 0, 1, 0, 1, 0, 1, 0]</td>\n",
       "      <td>[0]</td>\n",
       "      <td>[0]</td>\n",
       "      <td>1</td>\n",
       "    </tr>\n",
       "    <tr>\n",
       "      <th>...</th>\n",
       "      <td>...</td>\n",
       "      <td>...</td>\n",
       "      <td>...</td>\n",
       "      <td>...</td>\n",
       "      <td>...</td>\n",
       "    </tr>\n",
       "    <tr>\n",
       "      <th>95</th>\n",
       "      <td>lag-llama</td>\n",
       "      <td>[1, 0, 1, 1, 1, 1, 1, 0, 1, 1, 1]</td>\n",
       "      <td>[0]</td>\n",
       "      <td>[1]</td>\n",
       "      <td>0</td>\n",
       "    </tr>\n",
       "    <tr>\n",
       "      <th>96</th>\n",
       "      <td>lag-llama</td>\n",
       "      <td>[0, 1, 0, 1, 0, 0, 1, 1, 0, 1, 0]</td>\n",
       "      <td>[1]</td>\n",
       "      <td>[1]</td>\n",
       "      <td>1</td>\n",
       "    </tr>\n",
       "    <tr>\n",
       "      <th>97</th>\n",
       "      <td>lag-llama</td>\n",
       "      <td>[0, 0, 0, 1, 0, 1, 0, 0, 1, 1, 1]</td>\n",
       "      <td>[1]</td>\n",
       "      <td>[0]</td>\n",
       "      <td>0</td>\n",
       "    </tr>\n",
       "    <tr>\n",
       "      <th>98</th>\n",
       "      <td>lag-llama</td>\n",
       "      <td>[1, 1, 1, 0, 0, 0, 1, 1, 1, 1, 1]</td>\n",
       "      <td>[1]</td>\n",
       "      <td>[1]</td>\n",
       "      <td>1</td>\n",
       "    </tr>\n",
       "    <tr>\n",
       "      <th>99</th>\n",
       "      <td>lag-llama</td>\n",
       "      <td>[1, 0, 0, 0, 1, 1, 1, 0, 1, 1, 0]</td>\n",
       "      <td>[1]</td>\n",
       "      <td>[1]</td>\n",
       "      <td>1</td>\n",
       "    </tr>\n",
       "  </tbody>\n",
       "</table>\n",
       "<p>300 rows × 5 columns</p>\n",
       "</div>"
      ],
      "text/plain": [
       "        model                               root to_be_predicted forecasted  \\\n",
       "0     timeGPT  [1, 1, 0, 0, 0, 1, 0, 0, 0, 0, 1]             [0]        [0]   \n",
       "1     timeGPT  [0, 0, 0, 1, 0, 1, 1, 0, 1, 0, 1]             [1]        [1]   \n",
       "2     timeGPT  [1, 0, 0, 0, 0, 1, 1, 1, 1, 0, 0]             [1]        [0]   \n",
       "3     timeGPT  [1, 1, 1, 1, 1, 1, 1, 1, 0, 1, 0]             [0]        [0]   \n",
       "4     timeGPT  [1, 0, 1, 1, 0, 1, 0, 1, 0, 1, 0]             [0]        [0]   \n",
       "..        ...                                ...             ...        ...   \n",
       "95  lag-llama  [1, 0, 1, 1, 1, 1, 1, 0, 1, 1, 1]             [0]        [1]   \n",
       "96  lag-llama  [0, 1, 0, 1, 0, 0, 1, 1, 0, 1, 0]             [1]        [1]   \n",
       "97  lag-llama  [0, 0, 0, 1, 0, 1, 0, 0, 1, 1, 1]             [1]        [0]   \n",
       "98  lag-llama  [1, 1, 1, 0, 0, 0, 1, 1, 1, 1, 1]             [1]        [1]   \n",
       "99  lag-llama  [1, 0, 0, 0, 1, 1, 1, 0, 1, 1, 0]             [1]        [1]   \n",
       "\n",
       "    success  \n",
       "0         1  \n",
       "1         1  \n",
       "2         0  \n",
       "3         1  \n",
       "4         1  \n",
       "..      ...  \n",
       "95        0  \n",
       "96        1  \n",
       "97        0  \n",
       "98        1  \n",
       "99        1  \n",
       "\n",
       "[300 rows x 5 columns]"
      ]
     },
     "execution_count": 31,
     "metadata": {},
     "output_type": "execute_result"
    }
   ],
   "source": [
    "timeGPT_bin_df = pd.read_csv(\"bin_seq_last_digit_pred_timeGPT_random.csv\")\n",
    "chronos_bin_df = pd.read_csv(\"bin_seq_last_digit_pred_chronos_random.csv\")\n",
    "llama_bin_df = pd.read_csv(\"bin_seq_last_digit_pred_lag_llama_random.csv\")\n",
    "\n",
    "total_df = pd.concat(\n",
    "    [timeGPT_bin_df, chronos_bin_df, llama_bin_df]\n",
    ")\n",
    "total_df"
   ]
  },
  {
   "cell_type": "code",
   "execution_count": 33,
   "metadata": {},
   "outputs": [
    {
     "name": "stdout",
     "output_type": "stream",
     "text": [
      "model:  timeGPT\n",
      "sum:  57\n",
      "len:  100\n",
      "model:  chronos\n",
      "sum:  53\n",
      "len:  100\n",
      "model:  lag-llama\n",
      "sum:  58\n",
      "len:  100\n"
     ]
    },
    {
     "data": {
      "image/png": "[encoded data removed]",
      "text/plain": [
       "<Figure size 1000x600 with 1 Axes>"
      ]
     },
     "metadata": {},
     "output_type": "display_data"
    },
    {
     "name": "stdout",
     "output_type": "stream",
     "text": [
      "\n",
      "Success Rates by Model:\n",
      "           Success Rate (%)\n",
      "timeGPT                57.0\n",
      "chronos                53.0\n",
      "lag-llama              58.0\n"
     ]
    }
   ],
   "source": [
    "# Calculate success percentage by model step by step\n",
    "models = total_df['model'].unique()\n",
    "success_rates = []\n",
    "\n",
    "for model in models:\n",
    "    # Get data for this model\n",
    "    model_data = total_df[total_df['model'] == model]\n",
    "    \n",
    "    # Calculate success rate\n",
    "    success_rate = (model_data['success'].sum() / len(model_data)) * 100\n",
    "    print(\"model: \", model)\n",
    "    print(\"sum: \", model_data['success'].sum())\n",
    "    print(\"len: \", len(model_data))\n",
    "    success_rates.append(success_rate)\n",
    "\n",
    "# Create bar plot with different colors\n",
    "plt.figure(figsize=(10,6))\n",
    "plt.bar(models, success_rates, color=['#800000', '#000080', '#004000'])\n",
    "\n",
    "# Increase font sizes\n",
    "plt.title('Success Rate by Model - Random Binary Sequences', fontsize=24)\n",
    "plt.xlabel('Model', fontsize=20)\n",
    "plt.ylabel('Success Rate (%)', fontsize=20)\n",
    "plt.xticks(fontsize=16, rotation=0)\n",
    "plt.yticks(fontsize=16)\n",
    "\n",
    "# Set y-axis limits from 0 to 100\n",
    "plt.ylim(0, 100)\n",
    "\n",
    "plt.tight_layout()\n",
    "plt.show()\n",
    "\n",
    "# Print success percentages as dataframe\n",
    "success_df = pd.DataFrame({'Success Rate (%)': success_rates}, index=models)\n",
    "print(\"\\nSuccess Rates by Model:\")\n",
    "print(success_df)\n"
   ]
  },
  {
   "cell_type": "code",
   "execution_count": null,
   "metadata": {},
   "outputs": [],
   "source": []
  }
 ],
 "metadata": {
  "kernelspec": {
   "display_name": "venv",
   "language": "python",
   "name": "python3"
  },
  "language_info": {
   "codemirror_mode": {
    "name": "ipython",
    "version": 3
   },
   "file_extension": ".py",
   "mimetype": "text/x-python",
   "name": "python",
   "nbconvert_exporter": "python",
   "pygments_lexer": "ipython3",
   "version": "3.10.11"
  }
 },
 "nbformat": 4,
 "nbformat_minor": 2
}
